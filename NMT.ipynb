{
  "nbformat": 4,
  "nbformat_minor": 0,
  "metadata": {
    "kernelspec": {
      "display_name": "Python 3",
      "language": "python",
      "name": "python3"
    },
    "language_info": {
      "codemirror_mode": {
        "name": "ipython",
        "version": 3
      },
      "file_extension": ".py",
      "mimetype": "text/x-python",
      "name": "python",
      "nbconvert_exporter": "python",
      "pygments_lexer": "ipython3",
      "version": "3.8.8"
    },
    "colab": {
      "name": "NMT.ipynb",
      "provenance": [],
      "collapsed_sections": []
    },
    "accelerator": "GPU"
  },
  "cells": [
    {
      "cell_type": "markdown",
      "metadata": {
        "id": "FTy8I3wnP5m3"
      },
      "source": [
        "## 机器翻译作业"
      ]
    },
    {
      "cell_type": "code",
      "metadata": {
        "colab": {
          "base_uri": "https://localhost:8080/"
        },
        "id": "_mbm9ECaQ0PP",
        "outputId": "b65650ec-c106-4989-8511-1ed15e5cfbbd"
      },
      "source": [
        "# 因在colab进行，设置可访问drive里文件\n",
        "from google.colab import drive\n",
        "drive.mount('/content/drive')"
      ],
      "execution_count": 1,
      "outputs": [
        {
          "output_type": "stream",
          "text": [
            "Mounted at /content/drive\n"
          ],
          "name": "stdout"
        }
      ]
    },
    {
      "cell_type": "markdown",
      "metadata": {
        "id": "8YH-5sTmP5m9"
      },
      "source": [
        "本次作业使用 seq2seq模型完成英文到中文的机器翻译任务，请补充缺失部分的代码"
      ]
    },
    {
      "cell_type": "code",
      "metadata": {
        "id": "icnP7ZaYP5m_"
      },
      "source": [
        "#导入常用软件包\n",
        "import torch\n",
        "import sys\n",
        "from torch import nn, optim\n",
        "import random\n",
        "from torch.nn.functional import softmax\n",
        "import re\n",
        "import os\n",
        "\n",
        "from torchtext.legacy import data\n",
        "# from torchtext.data import Iterator, BucketIterator\n",
        "from torchtext.legacy.data import Iterator, BucketIterator\n",
        "import torch.nn.functional as F\n",
        "from collections import defaultdict\n",
        "import string\n",
        "import dill\n",
        "\n",
        "from tqdm import tqdm"
      ],
      "execution_count": 2,
      "outputs": []
    },
    {
      "cell_type": "markdown",
      "metadata": {
        "id": "wS9toKu8P5nB"
      },
      "source": [
        "## 1.数据加载\n",
        "\n",
        "数据：包含六个文件：\n",
        "1. 训练集：train.seg.en.txt train.seg.zh.txt （11743条）\n",
        "2. 验证集：dev.seg.en.txt dev.seg.zh.txt （2936条）\n",
        "3. 测试集：test.seg.en.txt test.seg.zh.txt （5194条）\n",
        "\n",
        "使用torchtext完成数据的加载，主要使用以下三个组件：\n",
        "\n",
        "1. Field :主要包含以下数据预处理的配置信息，比如指定分词方法，是否转成小写，起始字符，结束字符，补全字符以及词典等等\n",
        "\n",
        "2. Dataset :继承自pytorch的Dataset，用于加载数据，提供了TabularDataset可以指点路径，格式，Field信息就可以方便的完成数据加载。同时torchtext还提供预先构建的常用数据集的Dataset对象，可以直接加载使用，splits方法可以同时加载训练集，验证集和测试集。\n",
        "\n",
        "3. Iterator : 主要是数据输出的模型的迭代器，可以支持batch定制\n",
        "\n",
        "具体可以参照：https://pytorch.org/text/stable/index.html\n",
        "关于torchtext的安装可以参照：https://github.com/pytorch/text"
      ]
    },
    {
      "cell_type": "code",
      "metadata": {
        "id": "AvRKoPesP5nC"
      },
      "source": [
        "class Dataloader:\n",
        "    def __init__(self, batch_size, device, eval=False):\n",
        "        raw_data = self.read_data(\"/content/drive/MyDrive/Colab Notebooks/python/data/\", test=eval)\n",
        "        ## 训练模式\n",
        "        if not eval:\n",
        "            train_data, dev_data = raw_data\n",
        "            ##定义数据字段\n",
        "            self.id_field = data.Field(sequential=False, use_vocab=False)\n",
        "            self.en_field = data.Field(init_token='<sos>', eos_token='<eos>', lower=True, include_lengths=True)\n",
        "            self.zh_field = data.Field(init_token='<sos>', eos_token='<eos>', lower=True)\n",
        "            self.fields = [(\"id\", self.id_field), (\"en\", self.en_field), (\"zh\", self.zh_field)]\n",
        "\n",
        "            ##构建数据集\n",
        "            train_dataset = data.Dataset([data.Example.fromlist([idx, item[0], item[1]], self.fields) for idx, item in enumerate(train_data)], self.fields)\n",
        "            dev_dataset =  data.Dataset([data.Example.fromlist([idx, item[0], item[1]], self.fields) for idx, item in enumerate(dev_data)], self.fields)\n",
        "            \n",
        "            ##构建数据迭代器\n",
        "            self.train_iterator= BucketIterator(train_dataset, batch_size=batch_size, device=device, sort_key=lambda x: len(x.en), sort_within_batch=True)\n",
        "            self.dev_iterator= BucketIterator(dev_dataset, batch_size=batch_size, device=device, sort_key=lambda x: len(x.en), sort_within_batch=True)\n",
        "            \n",
        "            ##构建词典\n",
        "            self.en_field.build_vocab(train_dataset, min_freq=2)\n",
        "            self.zh_field.build_vocab(train_dataset, min_freq=2)\n",
        "            \n",
        "            ##存储字段\n",
        "            dill.dump(self.en_field, open(\"/content/drive/MyDrive/Colab Notebooks/python/model/EN.Field\", \"wb\"))\n",
        "            dill.dump(self.zh_field, open(\"/content/drive/MyDrive/Colab Notebooks/python/model/ZH.Field\", \"wb\"))\n",
        "\n",
        "            print(\"en vocab size:\", len(self.en_field.vocab.itos),\"zh vocab size:\", len(self.zh_field.vocab.itos))\n",
        "        \n",
        "        ## 测试模式  \n",
        "        else:\n",
        "            test_data = raw_data[-1]\n",
        "            ##加载存储的字段\n",
        "            self.id_field = data.Field(sequential=False, use_vocab=False)\n",
        "            self.en_field = dill.load(open(\"/content/drive/MyDrive/Colab Notebooks/python/model/EN.Field\", \"rb\"))\n",
        "            self.zh_field = dill.load(open(\"/content/drive/MyDrive/Colab Notebooks/python/model/ZH.Field\", \"rb\"))\n",
        "            self.fields = [(\"id\", self.id_field), (\"en\", self.en_field), (\"zh\", self.zh_field)]\n",
        "            \n",
        "            ##构建测试集 & 迭代器\n",
        "            test_data = data.Dataset([data.Example.fromlist([idx, item[0], item[1]], self.fields) for idx, item in enumerate(test_data)], self.fields)\n",
        "            self.test_iterator= BucketIterator(test_data, batch_size=batch_size, device=device, train = False, sort_key=lambda x: len(x.en), sort_within_batch = True)   \n",
        "        \n",
        "    ##从文件中读取数据\n",
        "    def read_data(self, path, test=True, lang1='en', lang2 = 'zh'):\n",
        "        data = []\n",
        "        types = ['test'] if test else ['train', 'dev']\n",
        "        # print(types)\n",
        "        for type in types:\n",
        "            sub_data = []\n",
        "            with open(f\"{path}/{type}.seg.{lang1}.txt\", encoding='utf-8') as f1, open(f\"{path}/{type}.seg.{lang2}.txt\", encoding='utf-8') as f2:\n",
        "                for src, trg in zip(f1, f2):\n",
        "                    if len(src) > MAX_LEN and len(trg) > MAX_LEN:\n",
        "                        continue\n",
        "                    sub_data.append((src.strip(), trg.strip()))\n",
        "            data.append(sub_data)\n",
        "\n",
        "        return data\n"
      ],
      "execution_count": 3,
      "outputs": []
    },
    {
      "cell_type": "markdown",
      "metadata": {
        "id": "j_K5mXHOP5nH"
      },
      "source": [
        "## 2.模型构建\n",
        "使用seq2seq模型完成机器翻译模型的搭建,可以参考 pytorch tutorials https://pytorch.org/tutorials/intermediate/seq2seq_translation_tutorial.html\n",
        "\n",
        "这里需要完成的是一个seq2seq+attention的基础模型，有余力的可以进行更多的尝试\n",
        "相关的论文：\n",
        "1. attention:https://arxiv.org/abs/1409.0473\n",
        "2. copy:https://arxiv.org/abs/1603.06393\n",
        "3. coverage:https://arxiv.org/abs/1601.04811"
      ]
    },
    {
      "cell_type": "markdown",
      "metadata": {
        "id": "RNOkrmOTP5nI"
      },
      "source": [
        "### 2.1 Encoder\n",
        "这里为了简化代码，embedding_size和hidden_size使用相同大小，均为传入的hid_dim。RNN模块可以采用双向GRU实现。"
      ]
    },
    {
      "cell_type": "code",
      "metadata": {
        "id": "05_B10dYP5nJ"
      },
      "source": [
        "class Encoder(nn.Module):\n",
        "    def __init__(self, input_dim, emb_dim, enc_hid_dim, dec_hid_dim, dropout):\n",
        "        super().__init__()\n",
        "        self.vocab_size = input_dim\n",
        "        ##构建embedding\n",
        "        self.embedding = nn.Embedding(input_dim, emb_dim)\n",
        "        ##构建rnn模块\n",
        "        self.rnn = nn.GRU(emb_dim, enc_hid_dim, bidirectional = True)\n",
        "        ##构建dropout层\n",
        "        self.dropout = nn.Dropout(dropout)\n",
        "        ##构建linear层\n",
        "        self.fc = nn.Linear(enc_hid_dim*2, dec_hid_dim)\n",
        "        \n",
        "        \n",
        "    def forward(self, src_info):\n",
        "        src, src_len = src_info\n",
        "       \n",
        "        ## 补充embedding层（+dropout）代码\n",
        "        embedded = self.dropout(self.embedding(src))\n",
        "        ## 补充rnn层代码\n",
        "        outputs, hidden = self.rnn(embedded)\n",
        "        hidden = torch.tanh(self.fc(torch.cat((hidden[-2,:,:], hidden[-1,:,:]),dim = 1)))\n",
        "        \n",
        "        return outputs, hidden"
      ],
      "execution_count": 4,
      "outputs": []
    },
    {
      "cell_type": "markdown",
      "metadata": {
        "id": "zuSHLRkmP5nL"
      },
      "source": [
        "### 2.2 Attention模块\n",
        "Attention 机制的 Encoder-Decoder 模型则是要从序列中学习到每一个元素的重要程度，然后按重要程度将元素合并。因此，注意力机制可以看作是 Encoder 和 Decoder 之间的接口，它向 Decoder 提供来自每个 Encoder 隐藏状态的信息。通过该设置，模型能够选择性地关注输入序列的有用部分，从而学习它们之间的“对齐”。这就表明，在 Encoder 将输入的序列元素进行编码时，得到的不在是一个固定的语义编码 C ，而是存在多个语义编码，且不同的语义编码由不同的序列元素以不同的权重参数组合而成。\n",
        "\n",
        "在 Attention 机制下，语义编码 C 是各个元素按其重要程度加权求和得到的，即：\n",
        "\n",
        "$C_i=\\sum_{i=1}^{n}{a}_{ij}*{h_i}$\n",
        "\n",
        "参数 𝑖 表示时刻， 𝑗 表示序列中的第 𝑗 个元素， 𝑇𝑥 表示序列的长度， 𝑓(⋅) 表示对元素 𝑥𝑗 的编码。𝑎𝑖𝑗 可以看作是一个概率，反映了元素 ℎ𝑗 对 𝐶𝑖 的重要性，可以使用 softmax 来表示：\n",
        "\n",
        "${a}_{ij}= \\frac{exp(e_{ij})}{\\sum_{k=1}^{T_x}exp(e_{ik})}$\n",
        "\n",
        "where $e_{ij}=a(s_{i-1}, h_j)$\n",
        "\n",
        "![image.png](attachment:image.png)"
      ]
    },
    {
      "cell_type": "markdown",
      "metadata": {
        "id": "zw1vVEM-P5nM"
      },
      "source": [
        "请实现Attention模块：\n",
        "（也可以不使用单独的Attention模块，在decoder部分的代码中整合Attention机制）"
      ]
    },
    {
      "cell_type": "code",
      "metadata": {
        "id": "VwcyrWgLP5nN"
      },
      "source": [
        "class Attention(nn.Module):\n",
        "    def __init__(self, enc_hid_dim, dec_hid_dim):\n",
        "        super().__init__()\n",
        "        self.enc_hid_dim = enc_hid_dim\n",
        "        self.dec_hid_dim = dec_hid_dim\n",
        "        self.attn = nn.Linear((enc_hid_dim*2)+ dec_hid_dim, dec_hid_dim)\n",
        "        self.v = nn.Parameter(torch.rand(dec_hid_dim))\n",
        "\n",
        "    def forward(self, hidden, encoder_outputs, mask):\n",
        "        #hidden = [batch size, dec hid dim]\n",
        "        #encoder_outputs = [src len, batch size, enc hid dim * 2]\n",
        "        batch_size = encoder_outputs.shape[1]\n",
        "        src_len = encoder_outputs.shape[0]\n",
        "        \n",
        "        #将decoder的隐状态重复src_len次\n",
        "        hidden = hidden.unsqueeze(1).repeat(1, src_len, 1)\n",
        "        encoder_outputs = encoder_outputs.permute(1, 0, 2)\n",
        "        #hidden = [batch size, src len, dec hid dim]\n",
        "        #encoder_outputs = [batch size, src len, enc hid dim * 2]\n",
        "        \n",
        "        ##请补充计算attention score的代码\n",
        "        energy = torch.tanh(self.attn(torch.cat((hidden, encoder_outputs), dim = 2)))\n",
        "        energy = energy.permute(0, 2, 1)\n",
        "        #energy = [batch size, dec hid dim, src sent len]\n",
        "        #v = [dec hid dim]\n",
        "        \n",
        "        ##mask掉padding部分，计算softmax\n",
        "        v = self.v.repeat(batch_size, 1).unsqueeze(1)\n",
        "        attn = torch.bmm(v,energy).squeeze(1)\n",
        "        attn = attn.masked_fill(mask, -1e6)\n",
        "        output = F.softmax(attn, dim=1)\n",
        "        return output    \n"
      ],
      "execution_count": 5,
      "outputs": []
    },
    {
      "cell_type": "markdown",
      "metadata": {
        "id": "ofMA_h0VP5nN"
      },
      "source": [
        "### 2.3 Decoder\n",
        "请实现带attention机制的decoder："
      ]
    },
    {
      "cell_type": "code",
      "metadata": {
        "id": "oyWbNLBZP5nO"
      },
      "source": [
        "class Decoder(nn.Module):\n",
        "    def __init__(self, output_dim,emb_dim, enc_hid_dim, dec_hid_dim, dropout, attention):\n",
        "        super().__init__()\n",
        "        self.output_dim = output_dim\n",
        "        self.attention = attention\n",
        "        ## 继续补充\n",
        "        self.embedding = nn.Embedding(output_dim, emb_dim)\n",
        "        self.rnn = nn.GRU((enc_hid_dim * 2)+emb_dim, dec_hid_dim)\n",
        "        self.out = nn.Linear((enc_hid_dim * 2) + dec_hid_dim + emb_dim, output_dim)\n",
        "        self.dropout = nn.Dropout(dropout)\n",
        "\n",
        "    def forward(self, input_, hidden, encoder_outputs, mask):\n",
        "        # input = [batch_size]\n",
        "        # hidden = [batch_size, dec_hid_dim]\n",
        "        # encoder_outputs = [src_sent_len, batch_size, enc_hid_dim * 2]\n",
        "        input_ = input_.unsqueeze(1)\n",
        "        \n",
        "        ##embedding层\n",
        "        embedded = self.dropout(self.embedding(input_))\n",
        "        \n",
        "        ##计算attention score\n",
        "        attn = self.attention(hidden, encoder_outputs, mask)\n",
        "        attn = attn.unsqueeze(1)\n",
        "        encoder_outputs = encoder_outputs.permute(1, 0, 2)\n",
        "        \n",
        "        ##根据attention score计算weighted的context向量\n",
        "        weight = torch.bmm(attn, encoder_outputs)\n",
        "        weight = weight.permute(1, 0, 2)\n",
        "        embedded = embedded.permute(1, 0, 2)\n",
        "        rnn_input = torch.cat((embedded, weight), dim = 2)\n",
        "        output, hidden = self.rnn(rnn_input, hidden.unsqueeze(0))\n",
        "        \n",
        "        assert (output == hidden).all()\n",
        "        \n",
        "        embedded = embedded.squeeze(0)\n",
        "        output = output.squeeze(0)\n",
        "        weight = weight.squeeze(0)\n",
        "        \n",
        "        output = self.out(torch.cat((output, weight, embedded), dim = 1))\n",
        "        \n",
        "        #output = [bsz, output dim]\n",
        "        \n",
        "        return output, hidden.squeeze(0), attn.squeeze(0)"
      ],
      "execution_count": 6,
      "outputs": []
    },
    {
      "cell_type": "markdown",
      "metadata": {
        "id": "NyGu63ojP5nP"
      },
      "source": [
        "## 2.4 Seq2seq模型"
      ]
    },
    {
      "cell_type": "code",
      "metadata": {
        "id": "cscKrEY8P5nQ"
      },
      "source": [
        "class Seq2Seq(nn.Module):\n",
        "    def __init__(self, encoder, decoder, device, pad_idx):\n",
        "        super().__init__()\n",
        "        self.encoder = encoder\n",
        "        self.decoder = decoder\n",
        "        self.device = device\n",
        "        self.pad_idx = pad_idx\n",
        "\n",
        "    def forward(self, src_info, trg = None):\n",
        "                \n",
        "        src, src_len = src_info\n",
        "        batch_size = src.shape[1]\n",
        "        max_len = trg.shape[0] if trg is not None else MAX_LEN\n",
        "        trg_vocab_size = self.decoder.output_dim\n",
        "        \n",
        "        ##存储所有decoder输出的结果\n",
        "        outputs = torch.zeros(max_len, batch_size, trg_vocab_size).to(self.device)\n",
        "        attn_scores = []\n",
        "        \n",
        "        ## encoder\n",
        "        encoder_outputs, hidden = self.encoder(src_info)\n",
        "\n",
        "        ##初始化decoder的输入是<sos>token\n",
        "        input = trg[0, :] if trg is not None else src[0, :]\n",
        "        #mask = [batch size, src len]\n",
        "        mask = self.create_mask(src)\n",
        "\n",
        "        \n",
        "        ## decode过程，每个step decode出一个token \n",
        "        for t in range(1, max_len):\n",
        "            ## 请补全decoder的代码，得到output, hidden, atten_score\n",
        "            output, hidden, atten_score = self.decoder(input, hidden, encoder_outputs,mask)\n",
        "            outputs[t] = output\n",
        "            input = output.argmax(1)\n",
        "            attn_scores.append(atten_score)\n",
        "            \n",
        "        return outputs, torch.cat(attn_scores, dim = 1).to(self.device)\n",
        "\n",
        "    def create_mask(self, src):\n",
        "        mask = (src != self.pad_idx).permute(1, 0)\n",
        "        return mask"
      ],
      "execution_count": 7,
      "outputs": []
    },
    {
      "cell_type": "markdown",
      "metadata": {
        "id": "TbjUeQSFP5nR"
      },
      "source": [
        "## 3.训练模块代码\n",
        "包括BLEU的计算：BLEU是一种评价机器翻译的指标，NLTK中包含了计算BLEU值的工具。"
      ]
    },
    {
      "cell_type": "code",
      "metadata": {
        "id": "8toBuNiAP5nS"
      },
      "source": [
        "## bleu计算\n",
        "import jieba\n",
        "from nltk.translate.bleu_score import corpus_bleu\n",
        "from nltk.translate.bleu_score import sentence_bleu\n",
        "from nltk.translate.bleu_score import SmoothingFunction\n",
        "\n",
        "def calculate_bleu(hypothesis, targets, cut=True, verbose=False):\n",
        "    bleu_scores = []\n",
        "    for sent, trg in zip(hypothesis, targets):\n",
        "        trg = trg.strip().lower().split()\n",
        "        sent = sent.strip()\n",
        "        if cut:\n",
        "            trg = list(jieba.cut(''.join(trg).replace(\"-\", \"\")))\n",
        "            sent = list(jieba.cut(''.join(sent).replace(\"-\", \"\")))\n",
        " \n",
        "        bleu = sentence_bleu([trg], sent, weights=(0.5, 0.5, 0., 0.),smoothing_function = SmoothingFunction().method1)\n",
        "        if verbose:\n",
        "            print(f\"src:{sent.strip()}\\ntrg:{trg}\\npredict:{sent}\\n{bleu}\\n\")\n",
        "        bleu_scores.append(bleu)         \n",
        "    return sum(bleu_scores) / len(bleu_scores)"
      ],
      "execution_count": 8,
      "outputs": []
    },
    {
      "cell_type": "markdown",
      "metadata": {
        "id": "CQQIR2QKP5nT"
      },
      "source": [
        "请补充train_iter的代码:\n",
        "（在train函数中将调用train_iter，或者直接将这部分整合到train函数中）"
      ]
    },
    {
      "cell_type": "code",
      "metadata": {
        "id": "8MFZDQ6FP5nU"
      },
      "source": [
        "def train_iter(model, iterator, optimizer, criterion, clip, nl_field = None):\n",
        "    model.train()\n",
        "    optimizer.zero_grad()\n",
        "    epoch_loss = 0\n",
        "    for i, batch in enumerate(tqdm(iterator)):\n",
        "        src = batch.en\n",
        "        trg = batch.zh\n",
        "        \n",
        "        ##补充训练部分的代码\n",
        "        pred, _ = model(src,trg)\n",
        "        pred_dim = pred.shape[-1]\n",
        "        trg = trg[1:].view(-1)\n",
        "        pred = pred[1:].view(-1, pred_dim)\n",
        "        \n",
        "        loss = criterion(pred, trg)\n",
        "        optimizer.zero_grad()\n",
        "        loss.backward()\n",
        "        optimizer.step()\n",
        "        epoch_loss += loss.item()         \n",
        "        \n",
        "    return epoch_loss / len(iterator)"
      ],
      "execution_count": 9,
      "outputs": []
    },
    {
      "cell_type": "markdown",
      "metadata": {
        "id": "bK2YymsAP5nU"
      },
      "source": [
        "请补充完成evaluate_iter的代码：\n",
        "该函数用于评测模型在验证集上的效果。\n",
        "生成时可以采用greedy search，即每次直接选择概率最大的词作为输出，直到出现终结符eos或达到最大句子长度，有余力的同学可以尝试用beam search生成。"
      ]
    },
    {
      "cell_type": "code",
      "metadata": {
        "id": "rv_ClFaCP5nV"
      },
      "source": [
        "def evaluate_iter(model, iterator, en_field, zh_field, criterion):\n",
        "    model.eval()\n",
        "\n",
        "    hypothesis, targets = [], []\n",
        "    eval_loss = 0\n",
        "    with torch.no_grad():\n",
        "        for _, batch in enumerate(iterator):\n",
        "            src = batch.en\n",
        "            trg = batch.zh\n",
        "\n",
        "            length = len(trg)\n",
        "            ## 得到decoder的输出结果并计算loss，同时获取batch_size\n",
        "            pred, _ = model(src,trg)\n",
        "            \n",
        "            src, src_len = batch.en\n",
        "            batch_size = len(src[0])\n",
        "\n",
        "            ##解码每个句子，采用greedy search，每一步选择概率最大的词，可以改进为beam search\n",
        "            for sent in range(batch_size):\n",
        "                predicts = []  # 模型生成的文本  \n",
        "                \n",
        "                for i in range(1,length): \n",
        "                ## 请补充生成部分的代码\n",
        "                    tmp = pred[i][sent]\n",
        "                    tmp = tmp.argmax()\n",
        "                    if tmp == zh_field.vocab.stoi['<eos>'] or tmp == zh_field.vocab.stoi['<pad>']:\n",
        "                        break\n",
        "                    predicts.append(zh_field.vocab.itos[tmp])\n",
        "                hypothesis.append(' '.join(predicts))\n",
        "                \n",
        "                trg_index = [x.item() for x in trg[:, sent]]\n",
        "                trg_index = trg_index.index(zh_field.vocab.stoi['<eos>']) # 去掉<eos>token\n",
        "                trg_str = ' '.join([zh_field.vocab.itos[x.item()] for x in trg[1: trg_index, sent]])\n",
        "                targets.append(trg_str) # 参考文本（ground truth）\n",
        "                \n",
        "            # 根据模型生成的文本和参考文本计算BLEU值\n",
        "            bleu = calculate_bleu(hypothesis, targets)\n",
        "\n",
        "            pred_dim = pred.shape[-1]\n",
        "            pred = pred[1:].view(-1, pred_dim)\n",
        "            trg = trg[1:].view(-1)\n",
        "\n",
        "            loss = criterion(pred, trg)\n",
        "            eval_loss += loss.item()\n",
        "  \n",
        "    return bleu, eval_loss / len(iterator)"
      ],
      "execution_count": 10,
      "outputs": []
    },
    {
      "cell_type": "markdown",
      "metadata": {
        "id": "E5BkQ2DEP5nW"
      },
      "source": [
        "## 训练模型"
      ]
    },
    {
      "cell_type": "code",
      "metadata": {
        "id": "0aJ2KYiVP5nW"
      },
      "source": [
        "def train(dataloader, model, model_output_path):\n",
        "    print('Start training...')\n",
        "    \n",
        "    ## 补充训练部分的代码，optimizer，计算损失函数的criterion等\n",
        "    criterion = nn.CrossEntropyLoss()\n",
        "    optimizer = optim.Adam(model.parameters(), lr = 1e-3)\n",
        "    best_loss = float('inf')\n",
        "    best_bleu = float(0)\n",
        "    for epoch in range(N_EPOCHS):\n",
        "        \n",
        "        ## 调用train_iter函数\n",
        "        train_loss = train_iter(model, dataloader.train_iterator, optimizer, criterion, CLIP)\n",
        "        bleu, valid_loss = evaluate_iter(model, dataloader.dev_iterator, dataloader.en_field, dataloader.zh_field,criterion)\n",
        "\n",
        "        ## 每5个epoch保存一次模型\n",
        "        if epoch%5 == 0:\n",
        "            torch.save(model, f'model_{epoch}.pt')\n",
        "            \n",
        "        ## 计算当前模型在验证集上的效果，如果损失比之前的更小，将当前模型保存为'model_best.pt'\n",
        "        if valid_loss < best_loss:\n",
        "            best_loss = valid_loss\n",
        "            best_bleu = bleu\n",
        "            torch.save(model, 'model_best.pt')\n",
        "            \n",
        "        print(f'Best BLEU: {best_bleu:.3f} | Best Loss:{best_loss:.3f} |  Epoch: {epoch:d} |  BLeu： {bleu:.3f} | Loss:{valid_loss}', flush=True)\n"
      ],
      "execution_count": 11,
      "outputs": []
    },
    {
      "cell_type": "code",
      "metadata": {
        "id": "rkorSX3_SGTi",
        "colab": {
          "base_uri": "https://localhost:8080/",
          "height": 34
        },
        "outputId": "740ffa62-26d4-43d3-8b71-2c0859d81c41"
      },
      "source": [
        "torch.cuda.get_device_name(0)"
      ],
      "execution_count": 12,
      "outputs": [
        {
          "output_type": "execute_result",
          "data": {
            "application/vnd.google.colaboratory.intrinsic+json": {
              "type": "string"
            },
            "text/plain": [
              "'Tesla T4'"
            ]
          },
          "metadata": {
            "tags": []
          },
          "execution_count": 12
        }
      ]
    },
    {
      "cell_type": "code",
      "metadata": {
        "id": "MgyGlXhQP5nX"
      },
      "source": [
        "## 参数设定(可以自己修改)\n",
        "MAX_LEN = 256 \n",
        "TRAIN_BATCH_SIZE = 256\n",
        "INFERENCE_BATCH_SIZE = 256\n",
        "HID_DIM = 256\n",
        "DROPOUT=0.1\n",
        "N_EPOCHS = 35\n",
        "CLIP = 1\n",
        "# device = torch.cuda.get_device_name(0)\n",
        "device = torch.device('cuda')\n",
        "# device = torch.device('cuda' if torch.cuda.is_available() else 'cpu')\n",
        "MODEL_PATH='./model/'"
      ],
      "execution_count": 13,
      "outputs": []
    },
    {
      "cell_type": "code",
      "metadata": {
        "id": "nHX6EIu2P5nX"
      },
      "source": [
        "#if out of memory\n",
        "torch.cuda.empty_cache()"
      ],
      "execution_count": 14,
      "outputs": []
    },
    {
      "cell_type": "code",
      "metadata": {
        "id": "-RKc_CYnP5nY",
        "colab": {
          "base_uri": "https://localhost:8080/"
        },
        "outputId": "20ef2ddd-0a03-4686-a46c-e895465c9fbc"
      },
      "source": [
        "##定义各个模块\n",
        "dataloader = Dataloader(TRAIN_BATCH_SIZE, device)\n",
        "attn = Attention(HID_DIM, HID_DIM)\n",
        "INPUT_DIM = len(dataloader.en_field.vocab)\n",
        "OUTPUT_DIM = len(dataloader.zh_field.vocab)\n",
        "encoder = Encoder(INPUT_DIM, HID_DIM, HID_DIM, HID_DIM, DROPOUT)\n",
        "decoder = Decoder(OUTPUT_DIM, HID_DIM, HID_DIM, HID_DIM, DROPOUT, attn)\n",
        "model = Seq2Seq(encoder, decoder, device, dataloader.zh_field.vocab.stoi['<pad>']).to(device)"
      ],
      "execution_count": 15,
      "outputs": [
        {
          "output_type": "stream",
          "text": [
            "en vocab size: 6786 zh vocab size: 5261\n"
          ],
          "name": "stdout"
        }
      ]
    },
    {
      "cell_type": "code",
      "metadata": {
        "colab": {
          "base_uri": "https://localhost:8080/"
        },
        "id": "K0fLeatre-l1",
        "outputId": "4e0a9b7a-1279-44f5-87c5-3bb0aef99009"
      },
      "source": [
        "print(f\"Train dataset : {len(dataloader.train_iterator)}\")\n",
        "print(f\"Validation dataset : {len(dataloader.dev_iterator)}\")"
      ],
      "execution_count": 16,
      "outputs": [
        {
          "output_type": "stream",
          "text": [
            "Train dataset : 46\n",
            "Validation dataset : 12\n"
          ],
          "name": "stdout"
        }
      ]
    },
    {
      "cell_type": "code",
      "metadata": {
        "colab": {
          "base_uri": "https://localhost:8080/"
        },
        "id": "VPywrytLi1in",
        "outputId": "6b15db94-03e0-4c2d-e497-dfce8cf8c987"
      },
      "source": [
        "## 开始训练 BATCH_SIZE = 256, HID = 256, MAX_LEN = 256, dropout = 0.1, epoch = 35\n",
        "train(dataloader, model, model_output_path= MODEL_PATH)"
      ],
      "execution_count": 17,
      "outputs": [
        {
          "output_type": "stream",
          "text": [
            "\r  0%|          | 0/46 [00:00<?, ?it/s]"
          ],
          "name": "stderr"
        },
        {
          "output_type": "stream",
          "text": [
            "Start training...\n"
          ],
          "name": "stdout"
        },
        {
          "output_type": "stream",
          "text": [
            "100%|██████████| 46/46 [00:22<00:00,  2.04it/s]\n",
            "Building prefix dict from the default dictionary ...\n",
            "Dumping model to file cache /tmp/jieba.cache\n",
            "Loading model cost 0.819 seconds.\n",
            "Prefix dict has been built successfully.\n"
          ],
          "name": "stderr"
        },
        {
          "output_type": "stream",
          "text": [
            "Best BLEU: 0.001 | Best Loss:2.884 |  Epoch: 0 |  BLeu： 0.001 | Loss:2.88370951016744\n"
          ],
          "name": "stdout"
        },
        {
          "output_type": "stream",
          "text": [
            "100%|██████████| 46/46 [00:21<00:00,  2.11it/s]\n"
          ],
          "name": "stderr"
        },
        {
          "output_type": "stream",
          "text": [
            "Best BLEU: 0.021 | Best Loss:2.299 |  Epoch: 1 |  BLeu： 0.021 | Loss:2.298826684554418\n"
          ],
          "name": "stdout"
        },
        {
          "output_type": "stream",
          "text": [
            "100%|██████████| 46/46 [00:21<00:00,  2.12it/s]\n"
          ],
          "name": "stderr"
        },
        {
          "output_type": "stream",
          "text": [
            "Best BLEU: 0.021 | Best Loss:2.299 |  Epoch: 2 |  BLeu： 0.009 | Loss:2.3112124701340995\n"
          ],
          "name": "stdout"
        },
        {
          "output_type": "stream",
          "text": [
            "100%|██████████| 46/46 [00:21<00:00,  2.10it/s]\n"
          ],
          "name": "stderr"
        },
        {
          "output_type": "stream",
          "text": [
            "Best BLEU: 0.021 | Best Loss:2.299 |  Epoch: 3 |  BLeu： 0.019 | Loss:2.3079055547714233\n"
          ],
          "name": "stdout"
        },
        {
          "output_type": "stream",
          "text": [
            "100%|██████████| 46/46 [00:22<00:00,  2.06it/s]\n"
          ],
          "name": "stderr"
        },
        {
          "output_type": "stream",
          "text": [
            "Best BLEU: 0.035 | Best Loss:2.122 |  Epoch: 4 |  BLeu： 0.035 | Loss:2.121891568104426\n"
          ],
          "name": "stdout"
        },
        {
          "output_type": "stream",
          "text": [
            "100%|██████████| 46/46 [00:21<00:00,  2.10it/s]\n"
          ],
          "name": "stderr"
        },
        {
          "output_type": "stream",
          "text": [
            "Best BLEU: 0.035 | Best Loss:2.122 |  Epoch: 5 |  BLeu： 0.036 | Loss:2.2850318948427835\n"
          ],
          "name": "stdout"
        },
        {
          "output_type": "stream",
          "text": [
            "100%|██████████| 46/46 [00:22<00:00,  2.06it/s]\n"
          ],
          "name": "stderr"
        },
        {
          "output_type": "stream",
          "text": [
            "Best BLEU: 0.033 | Best Loss:2.081 |  Epoch: 6 |  BLeu： 0.033 | Loss:2.0810148318608603\n"
          ],
          "name": "stdout"
        },
        {
          "output_type": "stream",
          "text": [
            "100%|██████████| 46/46 [00:22<00:00,  2.06it/s]\n"
          ],
          "name": "stderr"
        },
        {
          "output_type": "stream",
          "text": [
            "Best BLEU: 0.043 | Best Loss:2.013 |  Epoch: 7 |  BLeu： 0.043 | Loss:2.0129402776559195\n"
          ],
          "name": "stdout"
        },
        {
          "output_type": "stream",
          "text": [
            "100%|██████████| 46/46 [00:21<00:00,  2.09it/s]\n"
          ],
          "name": "stderr"
        },
        {
          "output_type": "stream",
          "text": [
            "Best BLEU: 0.047 | Best Loss:1.962 |  Epoch: 8 |  BLeu： 0.047 | Loss:1.9621246059735615\n"
          ],
          "name": "stdout"
        },
        {
          "output_type": "stream",
          "text": [
            "100%|██████████| 46/46 [00:22<00:00,  2.04it/s]\n"
          ],
          "name": "stderr"
        },
        {
          "output_type": "stream",
          "text": [
            "Best BLEU: 0.046 | Best Loss:1.921 |  Epoch: 9 |  BLeu： 0.046 | Loss:1.9205033133427303\n"
          ],
          "name": "stdout"
        },
        {
          "output_type": "stream",
          "text": [
            "100%|██████████| 46/46 [00:22<00:00,  2.07it/s]\n"
          ],
          "name": "stderr"
        },
        {
          "output_type": "stream",
          "text": [
            "Best BLEU: 0.052 | Best Loss:1.915 |  Epoch: 10 |  BLeu： 0.052 | Loss:1.9147737224896748\n"
          ],
          "name": "stdout"
        },
        {
          "output_type": "stream",
          "text": [
            "100%|██████████| 46/46 [00:22<00:00,  2.07it/s]\n"
          ],
          "name": "stderr"
        },
        {
          "output_type": "stream",
          "text": [
            "Best BLEU: 0.052 | Best Loss:1.915 |  Epoch: 11 |  BLeu： 0.048 | Loss:1.927826037009557\n"
          ],
          "name": "stdout"
        },
        {
          "output_type": "stream",
          "text": [
            "100%|██████████| 46/46 [00:21<00:00,  2.10it/s]\n"
          ],
          "name": "stderr"
        },
        {
          "output_type": "stream",
          "text": [
            "Best BLEU: 0.052 | Best Loss:1.915 |  Epoch: 12 |  BLeu： 0.051 | Loss:1.9465919335683186\n"
          ],
          "name": "stdout"
        },
        {
          "output_type": "stream",
          "text": [
            "100%|██████████| 46/46 [00:22<00:00,  2.07it/s]\n"
          ],
          "name": "stderr"
        },
        {
          "output_type": "stream",
          "text": [
            "Best BLEU: 0.052 | Best Loss:1.915 |  Epoch: 13 |  BLeu： 0.047 | Loss:2.0136609623829522\n"
          ],
          "name": "stdout"
        },
        {
          "output_type": "stream",
          "text": [
            "100%|██████████| 46/46 [00:22<00:00,  2.06it/s]\n"
          ],
          "name": "stderr"
        },
        {
          "output_type": "stream",
          "text": [
            "Best BLEU: 0.056 | Best Loss:1.809 |  Epoch: 14 |  BLeu： 0.056 | Loss:1.808561344941457\n"
          ],
          "name": "stdout"
        },
        {
          "output_type": "stream",
          "text": [
            "100%|██████████| 46/46 [00:21<00:00,  2.10it/s]\n"
          ],
          "name": "stderr"
        },
        {
          "output_type": "stream",
          "text": [
            "Best BLEU: 0.056 | Best Loss:1.809 |  Epoch: 15 |  BLeu： 0.052 | Loss:1.8684666653474171\n"
          ],
          "name": "stdout"
        },
        {
          "output_type": "stream",
          "text": [
            "100%|██████████| 46/46 [00:21<00:00,  2.11it/s]\n"
          ],
          "name": "stderr"
        },
        {
          "output_type": "stream",
          "text": [
            "Best BLEU: 0.056 | Best Loss:1.809 |  Epoch: 16 |  BLeu： 0.057 | Loss:1.8925818453232448\n"
          ],
          "name": "stdout"
        },
        {
          "output_type": "stream",
          "text": [
            "100%|██████████| 46/46 [00:21<00:00,  2.12it/s]\n"
          ],
          "name": "stderr"
        },
        {
          "output_type": "stream",
          "text": [
            "Best BLEU: 0.054 | Best Loss:1.767 |  Epoch: 17 |  BLeu： 0.054 | Loss:1.7669639190038045\n"
          ],
          "name": "stdout"
        },
        {
          "output_type": "stream",
          "text": [
            "100%|██████████| 46/46 [00:22<00:00,  2.07it/s]\n"
          ],
          "name": "stderr"
        },
        {
          "output_type": "stream",
          "text": [
            "Best BLEU: 0.054 | Best Loss:1.767 |  Epoch: 18 |  BLeu： 0.065 | Loss:1.8142983416716258\n"
          ],
          "name": "stdout"
        },
        {
          "output_type": "stream",
          "text": [
            "100%|██████████| 46/46 [00:21<00:00,  2.10it/s]\n"
          ],
          "name": "stderr"
        },
        {
          "output_type": "stream",
          "text": [
            "Best BLEU: 0.054 | Best Loss:1.767 |  Epoch: 19 |  BLeu： 0.055 | Loss:1.8105014661947887\n"
          ],
          "name": "stdout"
        },
        {
          "output_type": "stream",
          "text": [
            "100%|██████████| 46/46 [00:22<00:00,  2.06it/s]\n"
          ],
          "name": "stderr"
        },
        {
          "output_type": "stream",
          "text": [
            "Best BLEU: 0.059 | Best Loss:1.761 |  Epoch: 20 |  BLeu： 0.059 | Loss:1.7605027457078297\n"
          ],
          "name": "stdout"
        },
        {
          "output_type": "stream",
          "text": [
            "100%|██████████| 46/46 [00:22<00:00,  2.05it/s]\n"
          ],
          "name": "stderr"
        },
        {
          "output_type": "stream",
          "text": [
            "Best BLEU: 0.059 | Best Loss:1.761 |  Epoch: 21 |  BLeu： 0.064 | Loss:1.8160927246014278\n"
          ],
          "name": "stdout"
        },
        {
          "output_type": "stream",
          "text": [
            "100%|██████████| 46/46 [00:22<00:00,  2.09it/s]\n"
          ],
          "name": "stderr"
        },
        {
          "output_type": "stream",
          "text": [
            "Best BLEU: 0.059 | Best Loss:1.761 |  Epoch: 22 |  BLeu： 0.051 | Loss:1.9594118495782216\n"
          ],
          "name": "stdout"
        },
        {
          "output_type": "stream",
          "text": [
            "100%|██████████| 46/46 [00:22<00:00,  2.08it/s]\n"
          ],
          "name": "stderr"
        },
        {
          "output_type": "stream",
          "text": [
            "Best BLEU: 0.060 | Best Loss:1.750 |  Epoch: 23 |  BLeu： 0.060 | Loss:1.7504143714904785\n"
          ],
          "name": "stdout"
        },
        {
          "output_type": "stream",
          "text": [
            "100%|██████████| 46/46 [00:21<00:00,  2.09it/s]\n"
          ],
          "name": "stderr"
        },
        {
          "output_type": "stream",
          "text": [
            "Best BLEU: 0.060 | Best Loss:1.750 |  Epoch: 24 |  BLeu： 0.064 | Loss:1.7933811396360397\n"
          ],
          "name": "stdout"
        },
        {
          "output_type": "stream",
          "text": [
            "100%|██████████| 46/46 [00:22<00:00,  2.06it/s]\n"
          ],
          "name": "stderr"
        },
        {
          "output_type": "stream",
          "text": [
            "Best BLEU: 0.061 | Best Loss:1.736 |  Epoch: 25 |  BLeu： 0.061 | Loss:1.7364511837561925\n"
          ],
          "name": "stdout"
        },
        {
          "output_type": "stream",
          "text": [
            "100%|██████████| 46/46 [00:22<00:00,  2.05it/s]\n"
          ],
          "name": "stderr"
        },
        {
          "output_type": "stream",
          "text": [
            "Best BLEU: 0.061 | Best Loss:1.736 |  Epoch: 26 |  BLeu： 0.065 | Loss:1.8023030658562977\n"
          ],
          "name": "stdout"
        },
        {
          "output_type": "stream",
          "text": [
            "100%|██████████| 46/46 [00:21<00:00,  2.12it/s]\n"
          ],
          "name": "stderr"
        },
        {
          "output_type": "stream",
          "text": [
            "Best BLEU: 0.061 | Best Loss:1.736 |  Epoch: 27 |  BLeu： 0.063 | Loss:1.7450094670057297\n"
          ],
          "name": "stdout"
        },
        {
          "output_type": "stream",
          "text": [
            "100%|██████████| 46/46 [00:22<00:00,  2.06it/s]\n"
          ],
          "name": "stderr"
        },
        {
          "output_type": "stream",
          "text": [
            "Best BLEU: 0.062 | Best Loss:1.695 |  Epoch: 28 |  BLeu： 0.062 | Loss:1.6945851941903431\n"
          ],
          "name": "stdout"
        },
        {
          "output_type": "stream",
          "text": [
            "100%|██████████| 46/46 [00:22<00:00,  2.06it/s]\n"
          ],
          "name": "stderr"
        },
        {
          "output_type": "stream",
          "text": [
            "Best BLEU: 0.062 | Best Loss:1.695 |  Epoch: 29 |  BLeu： 0.061 | Loss:1.7235580881436665\n"
          ],
          "name": "stdout"
        },
        {
          "output_type": "stream",
          "text": [
            "100%|██████████| 46/46 [00:22<00:00,  2.07it/s]\n"
          ],
          "name": "stderr"
        },
        {
          "output_type": "stream",
          "text": [
            "Best BLEU: 0.062 | Best Loss:1.695 |  Epoch: 30 |  BLeu： 0.058 | Loss:1.7548922896385193\n"
          ],
          "name": "stdout"
        },
        {
          "output_type": "stream",
          "text": [
            "100%|██████████| 46/46 [00:22<00:00,  2.07it/s]\n"
          ],
          "name": "stderr"
        },
        {
          "output_type": "stream",
          "text": [
            "Best BLEU: 0.062 | Best Loss:1.695 |  Epoch: 31 |  BLeu： 0.066 | Loss:1.7338055968284607\n"
          ],
          "name": "stdout"
        },
        {
          "output_type": "stream",
          "text": [
            "100%|██████████| 46/46 [00:22<00:00,  2.07it/s]\n"
          ],
          "name": "stderr"
        },
        {
          "output_type": "stream",
          "text": [
            "Best BLEU: 0.062 | Best Loss:1.695 |  Epoch: 32 |  BLeu： 0.062 | Loss:1.7400171011686325\n"
          ],
          "name": "stdout"
        },
        {
          "output_type": "stream",
          "text": [
            "100%|██████████| 46/46 [00:22<00:00,  2.07it/s]\n"
          ],
          "name": "stderr"
        },
        {
          "output_type": "stream",
          "text": [
            "Best BLEU: 0.062 | Best Loss:1.695 |  Epoch: 33 |  BLeu： 0.063 | Loss:1.7193938692410786\n"
          ],
          "name": "stdout"
        },
        {
          "output_type": "stream",
          "text": [
            "100%|██████████| 46/46 [00:22<00:00,  2.07it/s]\n"
          ],
          "name": "stderr"
        },
        {
          "output_type": "stream",
          "text": [
            "Best BLEU: 0.062 | Best Loss:1.695 |  Epoch: 34 |  BLeu： 0.063 | Loss:1.753219371040662\n"
          ],
          "name": "stdout"
        }
      ]
    },
    {
      "cell_type": "markdown",
      "metadata": {
        "id": "xkGNLvvdP5nd"
      },
      "source": [
        "## 推理部分\n",
        "请补充完成推理（inference）部分的代码，用于在测试集上生成翻译后的文本（该部分与evaluate_iter比较类似）。"
      ]
    },
    {
      "cell_type": "code",
      "metadata": {
        "id": "5XFzSq7nP5ne"
      },
      "source": [
        "def inference(model, iterator, en_field, zh_field):\n",
        "    model.eval()\n",
        "\n",
        "    with torch.no_grad():\n",
        "        predict_res = []\n",
        "        for _, batch in enumerate(iterator):\n",
        "            src = batch.en\n",
        "            id, trg = batch.id, batch.zh\n",
        "            length = len(trg)\n",
        "            \n",
        "            ## 得到decoder的输出结果\n",
        "            pred, _ = model(src,trg)\n",
        "\n",
        "            src, src_len = batch.en\n",
        "            batch_size = len(src[0])\n",
        "            idx = 0\n",
        "            for sent in range(batch_size):\n",
        "                if en_field is not None:\n",
        "\n",
        "                    eos_index = [x.item() for x in src[:, sent]]\n",
        "                    \n",
        "                    eos_index = eos_index.index(en_field.vocab.stoi['<eos>'])\n",
        "                    src_str = ' '.join([en_field.vocab.itos[x.item()] for x in src[1: eos_index, sent]])\n",
        "                    sent_id = id[sent]\n",
        "                predicts = []\n",
        "                grounds = []\n",
        "                trg_index = [x.item() for x in trg[:, sent]]\n",
        "                    \n",
        "                trg_index = trg_index.index(zh_field.vocab.stoi['<eos>'])\n",
        "                trg_str = ' '.join([zh_field.vocab.itos[x.item()] for x in trg[1: trg_index, sent]])\n",
        "                for i in range(1,length): \n",
        "                ## 请补充生成部分的代码\n",
        "                    tmp = pred[i][sent]\n",
        "                    tmp = tmp.argmax()\n",
        "\n",
        "                    # 去掉<eos>token\n",
        "                    if tmp == zh_field.vocab.stoi['<eos>'] or tmp == zh_field.vocab.stoi['<pad>'] :\n",
        "                        break               \n",
        "                \n",
        "                    predicts.append(zh_field.vocab.itos[tmp])\n",
        "                grounds.append(trg_str)\n",
        "                \n",
        "                predict_res.append((int(sent_id), src_str, ' '.join(predicts), \" \".join(grounds)))\n",
        "                idx += length\n",
        "    predict_res = [(item[1],item[2], item[3] ) for item in sorted(predict_res, key=lambda x: x[0])]\n",
        "\n",
        "    bleu = calculate_bleu([i[1] for i in predict_res], [i[2] for i in predict_res])\n",
        "    return bleu, predict_res"
      ],
      "execution_count": 18,
      "outputs": []
    },
    {
      "cell_type": "markdown",
      "metadata": {
        "id": "fxsqdQveP5nf"
      },
      "source": [
        "读取效果最好的模型，在测试集上进行生成："
      ]
    },
    {
      "cell_type": "code",
      "metadata": {
        "id": "cgyswa7xP5nf",
        "colab": {
          "base_uri": "https://localhost:8080/"
        },
        "outputId": "bef6f4b6-e8c9-431d-8813-907a4cbb4144"
      },
      "source": [
        "dataloader = Dataloader(INFERENCE_BATCH_SIZE, device, eval=True)\n",
        "model_init_path = f\"model_best.pt\"\n",
        "# model = Seq2Seq(encoder, decoder, device, dataloader.zh_field.vocab.stoi['<pad>']).to(device)\n",
        "# model.load_state_dict(torch.load(model_init_path))\n",
        "model = torch.load(model_init_path)\n",
        "bleu, predict_output = inference(model, dataloader.test_iterator, dataloader.en_field, dataloader.zh_field)\n",
        "for item in predict_output:\n",
        "    src, pred, trg = item\n",
        "    print(f\"src:{src}\\ntrg:{trg}\\npred:{pred}\\n\")\n",
        "print(bleu)"
      ],
      "execution_count": 19,
      "outputs": [
        {
          "output_type": "stream",
          "text": [
            "\u001b[1;30;43mStreaming output truncated to the last 5000 lines.\u001b[0m\n",
            "trg:\" html \" 超文本 标记 语言 支持\n",
            "pred:\" 支持 \" 支持 支持 支持 支持\n",
            "\n",
            "src:changed in version 3.4: <unk> parameter was added.\n",
            "trg:在 3.4 版 更改 : 添加 了 <unk> 形参\n",
            "pred:在 3.4 版 更改 : 添加 了 _ _ _ _ 形参\n",
            "\n",
            "src:in interactive mode, if the value is not \"none\", it is converted to a string using the built in \"repr()\" function and the resulting string is written to standard output on a line by itself (except if the result is \"none\", so that procedure calls do not cause any <unk>\n",
            "trg:在 交互 模式 下 ， 如果 结果 <unk> \" none \" ， 它会 通过 内置 的 \" repr ( ) \" 函数 转换 为 一个 字符串 ， 该 结果 字符串 将 以 单独 一行 的 形式 写入 标准 输出 （ <unk> 是 如果 结果 为 \" none \" ， 则 该 过程 调用 不 产生 任何 输出 。 ）\n",
            "pred:如果 ， ， ， ， ， ， ， ， ， ， ， ， ， ， ， ， ， ， ， ， ， ， ， ， ， ， ， ， ， ， ， ， ， ， \" ， \" \" \"\n",
            "\n",
            "src:it is an error to call this function if the <unk> on the input bytes object is not one\n",
            "trg:如果 输入 字节 串 对象 的 引用 计数 不 为 <unk> 调用 此 函数 将 报错\n",
            "pred:如果 在 ， ， ， ， ， ， ， ， ， ， 被 将\n",
            "\n",
            "src:<unk> is a list of names to <unk> and defaults to <unk> <unk>\n",
            "trg:<unk> 是 需要 隐藏 的 文件名 列表 ， 且 默认 为 \" [ os . <unk> , os . <unk> ] \"\n",
            "pred:\" 为 \" 为 \" \" \" \" \" \" \" \" \" \" \" \"\n",
            "\n",
            "src:as <unk> to the <unk> <unk> method:\n",
            "trg:而 相应 的 更 简洁 更 <unk> 的 方法 是 这样 的 :\n",
            "pred:\" \" \" \" \" \" \" \" \" \" \" \"\n",
            "\n",
            "src:if seed is given, creates a new instance of the underlying random number generator\n",
            "trg:当 给定 seed 时 ， 创建 一个 新 的 底层 随机数 生成器 实例\n",
            "pred:如果 一个 新 的 的 的 的 的 的 的 的 的\n",
            "\n",
            "src:\"argumentparser\" objects allow the help formatting to be customized by specifying an alternate formatting class\n",
            "trg:\" argumentparser \" 对象 允许 通过 指定 备用 格式化 类 来自 定义 帮助 格式\n",
            "pred:\" argumentparser 的 的 的 的 的 的 的 的 的 的 的\n",
            "\n",
            "src:a string <unk> <unk> the reason this error occurred, for example <unk>\n",
            "trg:一个 字符串 形式 的 <unk> ， 用来 指明 发生 错误 的 原因 ， 例如 \" <unk> _ verify _ <unk> \"\n",
            "pred:此 <unk> <unk> 的 的 的 的 的 <unk> <unk> <unk>\n",
            "\n",
            "src:when both mapping and <unk> are given and there are duplicates, the placeholders from <unk> take <unk>\n",
            "trg:当 同时 给出 mapping 和 <unk> 并且 存在 重复 时 ， 则 以 <unk> 中 的 占位 <unk> 优先\n",
            "pred:当 <unk> <unk> <unk> <unk> <unk> <unk> <unk> <unk> \" 的 的 的 的 的 <unk> <unk> <unk> <unk>\n",
            "\n",
            "src:new in version 3.8: \" <unk> argument enhanced to support ipv6\n",
            "trg:3.8 新版 功能 : \" bind \" argument <unk> to support ipv6\n",
            "pred:3.8 新版 功能 : 增加 了 对 replace \" \" \" \"\n",
            "\n",
            "src:new in version 3.8.\n",
            "trg:3.8 新版 功能 .\n",
            "pred:3.8 新版 功能 .\n",
            "\n",
            "src:replacing \"os.popen()\", \"os.popen2()\", \"os.popen3()\"\n",
            "trg:替代 \" os . popen ( ) \" , \" os . popen2 ( ) \" , \" os . popen3 ( ) \"\n",
            "pred:\" \" \" \" \" \" \" \" \" \" \" \" \" \" \" \" \" \" \" \"\n",
            "\n",
            "src:\"ctypes\" will create descriptor s which allow reading and writing the fields by direct attribute accesses\n",
            "trg:\" ctypes \" 将 创建 <unk> ， 它 允许 通过 直接 属性 访问 来 读取 和 写入 字 段\n",
            "pred:\" \" \" \" \" \" \" \" \" \" \" \" \" \" \" 的 的 的 的 的 的\n",
            "\n",
            "src:if you want to parse python code into its ast representation, see <unk>\n",
            "trg:如果 您 想 分析 python 代码 的 ast 表示 ， 请参阅 \" ast . parse ( ) \"\n",
            "pred:如果 你 没有 python ， ， ， ， ， <unk> <unk>\n",
            "\n",
            "src:the <unk> structure got a new <unk> field\n",
            "trg:\" <unk> \" 结构 体 添加 了 一个 新 的 cf _ feature _ version 字 段\n",
            "pred:\" \" \" \" \" \" \" \" \" \" \" \" 新 的\n",
            "\n",
            "src:when you have done this, you can <unk> your application without requiring your users to install python.\n",
            "trg:完成 此 操作 后 ， 您 可以 分发 应用程序 ， 而 无需 用户 安装 python\n",
            "pred:你 你 你 你 你 你 ， 你 ， 你 ， 你 ， 的\n",
            "\n",
            "src:so, if that data is needed later, it should be stored as a <unk>\n",
            "trg:因此 如果 稍后 还 需要 返回 结果 ， 可 保存 为 列表 ：\n",
            "pred:如果 ， ， ， ， ， ， ， ， ， ， ，\n",
            "\n",
            "src:a comprehension in an \"async def\" function may <unk> of either a \"for\" or \"async for\" clause following the leading expression, may contain additional \"for\" or \"async for\" <unk> and may also use \"await\" expressions\n",
            "trg:在 \" async def \" 函数 中 构建 推导 式 可以 通过 在 打头 的 表达式 后 加上 \" for \" 或 \" async for \" 子句 ， 也 可能 包含 额外 的 \" for \" 或 \" async for \" 子句 ， 还 可能 使用 \" await \" 表达式\n",
            "pred:在 的 的 的 的 的 的 的 的 的 的 的 的 的 的 的 的 的 的 的 的 的 的 的 的 的 的 的 的 的 的 的 的 的\n",
            "\n",
            "src:changed in version 3.3: in version 3.2, \"strftime()\" method was restricted to years > <unk>\n",
            "trg:在 3.3 版 更改 : 在 版本 3.2 中 ， \" strftime ( ) \" 方法 只 限于 <unk> > 1000\n",
            "pred:在 3.3 版 更改 : \" \" \" \" \" \" \" \" \" \" \" \" \" \" \" \" \"\n",
            "\n",
            "src:subclasses of this class are documented in section <unk> subclasses and <unk> operation with web <unk>\n",
            "trg:子类 的 文档 位于 段落 <unk> <unk> and co <unk> with web <unk>\n",
            "pred:这 <unk> <unk> 的 的 的 的 的 的 的 的 的 的 的 <unk> <unk>\n",
            "\n",
            "src:allows opening for read or write, text or binary through supported <unk> <unk> <unk> <unk> <unk>\n",
            "trg:允许 通过 支持 的 模式 打开 用于 读取 或 写入 文本 或 二进制 数据 : ' r ' , ' w ' , ' rb ' , ' <unk> '\n",
            "pred:例如 ， 的 \" \" \" \" \" \" \" \" \" \" \" \" \" \" \" \"\n",
            "\n",
            "src:for example, the code, \"if key in mapping: return <unk> can fail if another thread removes key from mapping after the <unk> but before the lookup\n",
            "trg:例如 ， 以下 代码 \" if key in mapping : return mapping [ key ] \" 可能 由于 在 检查 操作 之后 其他 线程 从 mapping <unk> 除了 key 而 出错\n",
            "pred:在 ， ， ， ， ， ， ， ， ， ， ， ， ， ， ， ， ， ， ， ， ， \" \" \" \" \" \" \" 返回 \"\n",
            "\n",
            "src:\"abc\" abstract base classes\n",
            "trg:\" abc \" 抽象 基类\n",
            "pred:\" abc \" 基类 基类\n",
            "\n",
            "src:a generator expression is a compact generator notation in <unk>\n",
            "trg:生成器 表达式 是 用 圆括号 括 起来 的 紧凑 形式 生成器 标注\n",
            "pred:\" 生成器 表达式 \" 生成器 表达式 \" 的 的 的\n",
            "\n",
            "src:new in version 3.5.\n",
            "trg:3.5 新版 功能 .\n",
            "pred:3.5 新版 功能 .\n",
            "\n",
            "src:(contributed by <unk> j\n",
            "trg:（ 由 <unk> j\n",
            "pred:（ 由 <unk> <unk> <unk> <unk> <unk>\n",
            "\n",
            "src:class that <unk> a string object\n",
            "trg:模拟 一个 字符串 对象\n",
            "pred:字符串 对象 一个 字符串 的 字符串\n",
            "\n",
            "src:instances of this exception provide three interesting attributes: \"msg\" is a textual explanation of the error, \"filename\" is the name of the source file, and <unk> gives the line number on which the error was found.\n",
            "trg:此 异常 的 实例 提供 了 三个 有用 属性 : \" msg \" 为 错误 的 文本 说明 ， \" filename \" 为 源文件 的 名称 ， 而 \" lineno \" 给出 了 错误 所在 的 行号\n",
            "pred:如果 的 的 的 的 的 的 的 的 的 的 的 的 的 的 的 的 的 的 的 的 的 的 的\n",
            "\n",
            "src:implicitly continued lines can carry comments\n",
            "trg:隐式 的 行 拼接 可以 带有 注释\n",
            "pred:\" 可以 可 \" 的\n",
            "\n",
            "src:the <unk> is the type used for dictionaries that are read from the plist file.\n",
            "trg:dict _ type 为 字典 用来 从 plist 文件 读取 的 类型\n",
            "pred:从 是 的 的 的 的 的 的 的 的\n",
            "\n",
            "src:creating a struct object once and calling its methods is more efficient than calling the \"struct\" functions with the same format since the format string only needs to be compiled once.\n",
            "trg:一次性 地 创建 struct 对象 并 调用 其 方法 相比 使用 同样 的 格式 调用 \" struct \" 函数 更为 高效 ， 因为 这样 格式 字符串 只 需 被 编译 一次\n",
            "pred:当 一个 的 的 的 的 的 的 的 的 的 的 的 的 的 的 的 的 的 的 的 的 的 的 的 的 的 的 的\n",
            "\n",
            "src:changes in the c api\n",
            "trg:c api 中 的 改变\n",
            "pred:c api 的 改变\n",
            "\n",
            "src:for example: \"(x y for x in <unk> for y in <unk> <unk>\n",
            "trg:例如 : \" ( x y for x in range ( 10 ) for y in range ( x , x + 10 ) ) \" .\n",
            "pred:例如 ， \" \" \" \" y \" y \" y \" y \" y in in \"\n",
            "\n",
            "src:a complete python program is executed in a <unk> initialized <unk> all built in and standard modules are available, but none have been initialized, except for \"sys\" <unk> system <unk> \"builtins\" <unk> in functions, exceptions and \"none\") and \"__main__\"\n",
            "trg:一个 完整 的 python 程序 会 在 最小 初始化 环境 中 被 执行 ： 所有 内置 和 标准 模块 均 为 可用 ， 但 均 处于 未 初始化 状态 ， 只有 \" sys \" ( 各种 系统 服务 ) , \" builtins \" ( 内置 函数 、 异常 以及 \" none \" ) 和 \" __ main __ \" 除外\n",
            "pred:在 python python python ， ， ， ， ， ， ， ， ， ， ， ， ， ， ， \" ， \" \" \" \" \" \" \" \" \" \"\n",
            "\n",
            "src:receive a message, calculate the digest of the message using <unk> as the key, and then send the digest <unk>\n",
            "trg:接收 一条 信息 ， 使用 authkey 作为 键 计算 信息 摘要 ， 然后 将 摘要 发送 <unk>\n",
            "pred:\" \" \" \" \" \" \" \" \" \" \" \" \" \" \" \" \" \" \" \" \" \" \" \"\n",
            "\n",
            "src:new in version 3.7.\n",
            "trg:3.7 新版 功能 .\n",
            "pred:3.7 新版 功能 .\n",
            "\n",
            "src:key is an already open key, or one of the predefined hkey_ constants.\n",
            "trg:key 为 某个 已经 打开 的 键 ， 或者 预定 义 的 hkey _ 常量 之一\n",
            "pred:或者 ， 的 的 的 之一 ， 之一 的 之一 的 之一 的 之一\n",
            "\n",
            "src:this <unk> that most <unk> of a long sequence can never be generated\n",
            "trg:这 意味着 长 序列 的 大多数 排列 永远 不会 产生\n",
            "pred:这 可以 可以 是 可以 的 的 的 的 的 的\n",
            "\n",
            "src:this function does not check whether the data points are at least interval <unk>\n",
            "trg:此 函数 不会 <unk> 点 之间 是否 至少 <unk> <unk> 的 距离\n",
            "pred:这 <unk> <unk> <unk> <unk> <unk> <unk> <unk> <unk>\n",
            "\n",
            "src:to change it for all <unk> for example if you want all logging times to be shown in <unk> set the <unk> attribute in the \"formatter\" class.\n",
            "trg:要 为 所有 格式化 程序 更改 此项 ， 例如 当 你 希望 所有 日志 时间 都 显示 为 <unk> ， 请 在 \" formatter \" 类中 设置 \" converter \" 属性\n",
            "pred:如果 你 ， 的 \" \" \" \" \" \" \" \" \" \" \" \" \" \" \" \" \" \" \" \"\n",
            "\n",
            "src:using python on unix platforms\n",
            "trg:在 unix 平台 中 使用 python\n",
            "pred:在 unix 平台 unix 平台\n",
            "\n",
            "src:returns \"false\" for broken symbolic links\n",
            "trg:对于 失效 的 符号 链接 ， 返回 \" false \"\n",
            "pred:返回 \" \" \" \"\n",
            "\n",
            "src:determine whether code is in <unk> <unk> ascii control <unk>\n",
            "trg:确定 code 是否 属于 <unk> . 2 ( 非 ascii 控制字符 )\n",
            "pred:我 的 的 的 的 的 的 的 <unk> <unk> 中\n",
            "\n",
            "src:errors is an optional string that specifies how encoding and decoding errors are to be <unk> cannot be used in binary mode\n",
            "trg:errors 是 一个 可选 的 字符串 参数 ， 用于 指定 如何 处理 编码 和 解码 错误 这 不能 在 二进制 模式 下 使用\n",
            "pred:在 编码 字符串 编码 字符串 编码 字符串 编码 字符串 编码 字符串 编码 字符串 编码 字符串\n",
            "\n",
            "src:end of lines are automatically included in the string, but it's possible to prevent this by adding a \"\\\" at the end of the line\n",
            "trg:字符串 中 的 回车 换行 会 自动 包含 到 字符串 中 ， 如果 <unk> 包含 ， 在 行尾 添加 一个 \" \\ \" 即可\n",
            "pred:在 前 的 的 行 ， ， ， ， 的 行 ， 的 行 <unk> 到达 的\n",
            "\n",
            "src:the first four lines correspond to the arguments of the <unk> method.\n",
            "trg:开头 的 <unk> 对应 \" screen . setup ( ) \" 方法 的 参数\n",
            "pred:\" \" \" \" \" \" \" \" \" \" \" \" \" \"\n",
            "\n",
            "src:the object must not be \"null\"; if you aren't sure that it isn't \"null\", use <unk>\n",
            "trg:对象 必须 不 为 \" null \" ； 如果 你 不 确定 它 不 为 \" null \" ， 可 使用 \" py _ <unk> ( ) \"\n",
            "pred:如果 你 必须 必须 必须 必须 必须 ， ， 必须 ， 必须 ， \" \" \" \" \" \" \"\n",
            "\n",
            "src:the flags parameter should be a bitwise or of <unk> <unk> and <unk>\n",
            "trg:flags 形参 应当 \" os . o _ append \" , \" os . o _ <unk> \" 和 \" os . o _ text \" 按位 or 的 结果\n",
            "pred:\" \" \" \" \" \" \" \" \" \" \" \" \" \" \" \" \" \" \" \" \" \" \" \"\n",
            "\n",
            "src:when maxsplit is nonzero, at most maxsplit <unk> will be made, and the remainder of the string is returned as the final element of the list\n",
            "trg:当 maxsplit 非 零时 ， 将 最 多 进行 maxsplit 次 拆分 ， 并且 字符串 的 其余部分 将 作为 列表 的 最后 一个 元素 返回\n",
            "pred:当 列表 列表 列表 列表 列表 列表 ， 列表 ， 列表 ， 列表 列表 列表 列表 列表 列表 列表 列表\n",
            "\n",
            "src:in order to correctly <unk> with the abstract base class <unk> the descriptor must identify itself as abstract using <unk>\n",
            "trg:为了 能 正确 地 与 抽象 基类 机制 实现 <unk> ， 描述符 必须 使用 \" __ <unk> __ \" 将 自身 标识 为 抽象 的\n",
            "pred:此外 ， 的 的 的 的 的 ， ， ， ， 的 的 ， ， 的 的 的 的 的 的 的 的 的 的 的 的\n",
            "\n",
            "src:if, after 10 <unk> the bytes cannot be <unk> \"oserror\" is raised.\n",
            "trg:如果 在 10 次 尝试 后 字节 数据 仍 无法 被 锁定 ， 则 会 引发 \" oserror \"\n",
            "pred:在 ， 的 的 ， ， ， ， ， ， ， 的 的 的 的\n",
            "\n",
            "src:using lists as queues\n",
            "trg:列表 作为 队列 使用\n",
            "pred:使用 作为 栈 使用\n",
            "\n",
            "src:the \"fractions\" and \"decimal\" modules make these calculations <unk>\n",
            "trg:\" fractions \" 和 \" decimal \" 模块 <unk> 进行 此类 计算 更加 容易 :\n",
            "pred:模块 的 模块 的 模块 的 模块 的 的 <unk>\n",
            "\n",
            "src:to allow users to easily install a <unk> copy of python without the test <unk> you could provide a shortcut with the following command\n",
            "trg:要 允许 用户 在 没有 测试 套件 的 情况 下 轻松 安装 python 的 <unk> 副本 ， 可以 使用 以下 命令 提供 快捷方式\n",
            "pred:这 使用 脚本 使用 脚本 ， ， ， ， ， ， ， 的 命令 命令 命令\n",
            "\n",
            "src:changed in version 3.7: default value of repeat changed from 3 to <unk>\n",
            "trg:在 3.7 版 更改 : repeat 的 默认值 由 3 更 改为 5\n",
            "pred:在 3.2 版 更改 : 从 \" <unk> <unk> <unk> <unk> <unk>\n",
            "\n",
            "src:most functions that return a reference to an object pass on ownership with the reference\n",
            "trg:大多数 函数 返回 一个 对象 的 引用 ， 并 传递 引用 拥有 关系\n",
            "pred:在 的 的 的 的 引用 的 引用 的 引用 的 的 的 的\n",
            "\n",
            "src:\"\\w\" matches any non alphanumeric <unk> this is equivalent to the class <unk> <unk> <unk> <unk>\n",
            "trg:\" \\ w \" 匹配 任何 非 字母 与 数字 字符 ； 这 相当于 类 \" [ ^ a <unk> <unk> 9 _ ] \"\n",
            "pred:这 相当于 于 \" \" \" \" \" \" \" \" \" \" \" \" \" \" \" \" \" \" \" \"\n",
            "\n",
            "src:reserved classes of identifiers\n",
            "trg:保留 的 标识符 类\n",
            "pred:标识符 类 标识符 类\n",
            "\n",
            "src:the frame argument must not be \"null\".\n",
            "trg:frame 参数 必须 不 为 \" null \"\n",
            "pred:不 必须 为 \" 必须 为 \"\n",
            "\n",
            "src:the class which implements the sequence behavior provided by the module is available for subclassing as <unk>\n",
            "trg:此 模块 所 提供 的 实现 了 序列 行为 的 类 同样 也 可 用于 子 类化 ：\n",
            "pred:\" 模块 \" 模块 \" \" \" \" \" \" \" \" \" \" \" \" \"\n",
            "\n",
            "src:\"shutil\" high level file operations\n",
            "trg:\" shutil \" 高阶 文件 操作\n",
            "pred:\" 高阶 文件 操作 \" 高阶 文件\n",
            "\n",
            "src:the line number, for the first instruction of each line\n",
            "trg:行号 ， 用于 每行 的 <unk> 指令\n",
            "pred:行 <unk> 行 第一个 行 第一个 的\n",
            "\n",
            "src:changed in version 3.8: previously, zip archives with an archive comment were not supported.\n",
            "trg:在 3.8 版 更改 : 以前 ， 不 支持 带有 档案 注释 的 zip 档案\n",
            "pred:在 3.8 版 更改 : \" \" \" \" \" \" 的\n",
            "\n",
            "src:returns the o converted to an integer object on success, or \"null\" on failure\n",
            "trg:成功 时 返回 o 转换 为 整数 对象 后 的 结果 ， 失败 时 返回 \" null \"\n",
            "pred:返回 一个 返回 返回 一个 返回 ， ， 返回 返回 ， 返回 \" null 返回 \" null \" null \"\n",
            "\n",
            "src:(contributed by <unk> <unk> in bpo <unk>\n",
            "trg:（ 由 <unk> <unk> 在 bpo <unk> 中 贡献 。 ）\n",
            "pred:（ 由 <unk> <unk> <unk> 在 bpo <unk> 中 贡献 。 ）\n",
            "\n",
            "src:the following functions are available for instances of \"set\" or its <unk> but not for instances of \"frozenset\" or its <unk>\n",
            "trg:下列 函数 适用 于 \" set \" 或 其子 类型 的 实例 ， 但 不可 用于 \" frozenset \" 或 其子 类型 的 实例\n",
            "pred:对于 的 的 的 的 的 的 的 的 的 的 的 的 的 的 的 的 的 的 的 的\n",
            "\n",
            "src:new in version 3.4.\n",
            "trg:3.4 新版 功能 .\n",
            "pred:3.4 新版 功能 .\n",
            "\n",
            "src:a non <unk> html file listing all valid identifier characters for unicode <unk> can be found at <unk>\n",
            "trg:unicode <unk> 中 所有 可用 的 标识符 字符 列表 可 参见 以下 非正式 html 文件 https : / / www . unicode . org / <unk> / 13.0 . 0 / <unk> / <unk> . txt\n",
            "pred:所有 的 的 的 的 （ 的 （ ， （ 的 （ 的 （ 的 ） ） ） ）\n",
            "\n",
            "src:also, a strict reading of the original <unk> rfc <unk> standard calls for a two digit year <unk> rather than <unk> but practice moved to 4 digit years long before the year <unk>\n",
            "trg:此外 ， 严格 的 <unk> 年 原始 rfc <unk> 标准 要求 <unk> 的 年份 （ % y 而 不是 % y ） ， 但是 实际 在 2000 年 之前 <unk> 就 <unk> 到 了 4 位数 年\n",
            "pred:在 一个 年 ， 的 的 \" \" \" \" \" ， \" ， \" ， \" \" \" ， \" \" \" \" \" \" \" 的\n",
            "\n",
            "src:the memory could be a <unk> constant array in a c extension, it could be a raw block of memory for manipulation before passing to an operating system library, or it could be used to pass around structured data in its <unk> in memory format.\n",
            "trg:内存 可以 是 c 扩展 中 的 一个 大 的 常量 数组 ， 也 可以 是 在 传递 到 操作系统 库 之前 用于 操作 的 原始 内存 块 ， 或者 可以 用来 传递 本 机 内存 格式 的 结构化 数据\n",
            "pred:在 \" \" \" \" \" \" \" \" \" \" \" \" \" \" \" \" \" \" \" \" \" \" \" \" \" \" \" 的 的 的 的 的 的\n",
            "\n",
            "src:if an instance's dictionary has an entry with the same name as a non data descriptor, the dictionary entry takes <unk>\n",
            "trg:如果 实例 的 字典 具有 与非 数据 描述 器 同名 的 条目 ， 则 该 字典 条目 优先\n",
            "pred:如果 字典 字典 字典 字典 字典 字典 字典 字典 字典 的 字典 字典 的 字典 的 字典 字典\n",
            "\n",
            "src:in that case, <unk> will add \"__setattr__()\" and \"__delattr__()\" methods to the class\n",
            "trg:在 这种 情况 下 ， 数据 类 将 向 类 添加 \" __ setattr __ ( ) \" 和 \" __ delattr __ ( ) \" 方法\n",
            "pred:\" \" \" \" \" \" \" \" \" \" \" \" \" 方法 方法 方法 方法 方法 方法\n",
            "\n",
            "src:if you choose to use these attributes in logged messages, you need to <unk> some care\n",
            "trg:如果 在 已 记录 的 消息 中 使用 这些 属性 ， 则 需要 <unk> 小心\n",
            "pred:如果 你 你 <unk> 你 ， <unk> <unk> <unk> <unk> <unk> <unk> <unk> <unk>\n",
            "\n",
            "src:changed in version 3.2: the creation of a \"logrecord\" has been made more <unk> by providing a factory which is used to create the record\n",
            "trg:在 3.2 版 更改 : 通过 提供 用于 创建 记录 的 工厂 方法 已 使得 \" logrecord \" 的 创建 更 易于 配置\n",
            "pred:在 3.2 版 更改 : the <unk> <unk> <unk> <unk> the <unk> the <unk> the <unk> <unk> <unk> <unk> <unk>\n",
            "\n",
            "src:port specific changes: freebsd\n",
            "trg:特定 于 freebsd 的 更改 ：\n",
            "pred:不 的 的 的 的\n",
            "\n",
            "src:<unk> general calendar related functions\n",
            "trg:\" calendar \" 日历 相关 函数\n",
            "pred:\" \" \" \" 函数 函数 函数\n",
            "\n",
            "src:<unk> http protocol client\n",
            "trg:\" http . client \" http 协议 客户端\n",
            "pred:\" http \" http \" http\n",
            "\n",
            "src:the normal form <unk> <unk> will apply the compatibility <unk> i.e. replace all compatibility characters with their equivalents\n",
            "trg:正规 形式 <unk> （ <unk> ） 将 应用 兼容性 分解 ， <unk> 其 等价 项 替换 所有 兼容性 字符\n",
            "pred:\" \" \" \" \" \" \" \" \" \" \" \" \" \" \" \" \" \" \" \" \" \" \" \"\n",
            "\n",
            "src:it should yield a mutable sequence object (such as a list)\n",
            "trg:它 应当 产生 一个 可变 序列 对象 （ 例如 列表 ）\n",
            "pred:它 应当 一个 一个 一个 对象 一个 对象\n",
            "\n",
            "src:return a bytes object which is a printable representation of the character ch\n",
            "trg:返回 一个 字节 串 对象 作为 字符 ch 的 可 打印 表示 形式\n",
            "pred:返回 一个 返回 一个 返回 一个 的 的 的 的 的 的\n",
            "\n",
            "src:these strings may contain replacement fields, which are expressions delimited by <unk> braces <unk>\n",
            "trg:这种 字符串 可 包含 替换 字 段 ， <unk> \" { } \" 标示 的 表达式\n",
            "pred:这 可能 字符串 的 的 的 的 的 的 的 的 的\n",
            "\n",
            "src:raise an exception and return \" 1\" on <unk> return \"0\" on success\n",
            "trg:失败 时会 引发 异常 并 返回 \" 1 \" ； 成功 时 返回 \" 0 \"\n",
            "pred:成功 时 返回 \" \" \" \" \" \" \" \" \" \" \" \"\n",
            "\n",
            "src:create a shared <unk> object and return a proxy for it.\n",
            "trg:创建 一个 共享 的 \" threading . semaphore \" 对象 并 返回 它 的 代理\n",
            "pred:\" \" \" \" \" \" \" \" \" \" \" \" 返回 一个 返回 一个\n",
            "\n",
            "src:what's new in python 2.0\n",
            "trg:python 2.0 有 什么 新 变化\n",
            "pred:python 有 什么 新 变化\n",
            "\n",
            "src:tk widget <unk> support a document introducing <unk> support for tk\n",
            "trg:tk widget <unk> support 一份 文档 介绍 tk 支持 的 主题\n",
            "pred:\" tkinter \" tkinter \" \" \" 支持 的 的 的\n",
            "\n",
            "src:note that the global side effect on \"sys.stdout\" means that this context manager is not suitable for use in library code and most threaded applications\n",
            "trg:需要 注意 的 点 在于 ， \" sys . stdout \" 的 全局 副作用 意味着 此 上下文 管理器 不 适合 在 库 代码 和 大多数 多线程 应用程序 中 使用\n",
            "pred:请 注意 注意 ， 的 的 的 的 的 的 的 的 的 的 的 的 的 的 的\n",
            "\n",
            "src:it is simple to write a function that returns a list of the numbers of the fibonacci <unk> instead of printing it:\n",
            "trg:写 一个 返回 斐波 那契 数列 的 列表 （ 而 不是 把 它 打印 出来 ） 的 函数 ， 非常简单 :\n",
            "pred:它 列表 的 的 的 的 的 的 的 的 的 的 的 的 的 列表 的\n",
            "\n",
            "src:the argument may be a floating point number to indicate a more precise sleep time\n",
            "trg:参数 可以 是 浮点数 ， 以 指示 更 精确 的 <unk> 时间\n",
            "pred:第二个 操作数 的 一个 的 的 的 的 的\n",
            "\n",
            "src:make \"\\w\", \"\\w\", \"\\b\", \"\\b\" and case insensitive matching dependent on the current locale instead of the unicode <unk>\n",
            "trg:使 \" \\ w \" 、 \" \\ w \" 、 \" \\ b \" 、 \" \\ b \" 和 大小写 敏感 匹配 依赖于 当前 区域 而 不是 unicode 数据库\n",
            "pred:对于 ， \" \" \" \" \" \" \" \" \" \" \" \" \" \" \" \" \" \" \" \" \" \" \" \" \" \" \" \" \" \" \"\n",
            "\n",
            "src:<unk> is <unk> to 0\n",
            "trg:\" <unk> _ <unk> \" 会 强制 设 为 0\n",
            "pred:\" 0 0 0 0 0\n",
            "\n",
            "src:<unk> style bytes formatting\n",
            "trg:\" printf \" 风格 的 字节 串 格式化\n",
            "pred:\" \" \" \" \" 的 的 格式\n",
            "\n",
            "src:an <unk> literal yields a complex number with a real part of <unk>\n",
            "trg:一个 虚 数字 面值 将 生成 一个 <unk> 为 0.0 的 复数\n",
            "pred:一个 的 的 的 的 的 的 的 的 的 的 的 的 的\n",
            "\n",
            "src:the non date components of the datetime are populated with their normal default values\n",
            "trg:该 datetime 对象 的 非 日期 部分 将 使用 其 标准 默认值 来 填充\n",
            "pred:默认 的 的 的 的 的 的 的 的 的 的 的 的 的\n",
            "\n",
            "src:resize the stream to the given size in bytes (or the current position if size is not <unk>\n",
            "trg:将流 的 大小 调整 为 给定 的 size 个 字节 （ 如果 未指定 size 则 调整 至 当前 位置 ）\n",
            "pred:如果 未 的 的 （ 字符 ， （ 字符 个 个 个\n",
            "\n",
            "src:useful when the object is created by a call to an object constructor in the argument list.\n",
            "trg:当 通过 调用 参数 列表 中 的 对象 构造 器 <unk> 时 很 实用\n",
            "pred:当 参数 对象 对象 对象 对象 对象 的 参数 对象 \" \" \" 对象 \" 对象 对象 对象 的\n",
            "\n",
            "src:to support <unk> the python api <unk> programmers <unk> defines a set of functions, macros and variables that provide access to most aspects of the python run time system\n",
            "trg:为了 支持 扩展 ， python api （ 应用程序 编程 接口 ） 定义 了 一系列 函数 、 宏 和 变量 ， 可以 访问 python 运行 时 系统 的 大部分 内容\n",
            "pred:python python python 的 的 python 的 的 的 ， python ， ， ， 的 的 的 的 的 的 的 的 的 的 的 的 的 的 的 的\n",
            "\n",
            "src:(contributed by dong hee na in bpo <unk>\n",
            "trg:（ 由 dong hee na 在 bpo <unk> 中 贡献 。 ）\n",
            "pred:（ 由 victor stinner 在 bpo <unk> 中 贡献 。 ）\n",
            "\n",
            "src:this is the equivalent of the python statement \"o1 <unk> o2\".\n",
            "trg:等价 于 python 语句 \" o1 / / o2 \"\n",
            "pred:这 python python python python 语句 \" \" \"\n",
            "\n",
            "src:the default is the mode of fileobj if <unk> otherwise, the default is \"'rb'\"\n",
            "trg:如果 可 识别 则 默认 为 fileobj 的 模式 ； 否则 默认 为 \" ' rb ' \"\n",
            "pred:默认 为 \" 默认值 \" 默认值 \" 默认值 \" 默认值 \" 默认值 \" 默认值 \" 默认值\n",
            "\n",
            "src:the file may not be <unk> or deleted.\n",
            "trg:文件 不能 重命名 或 删除\n",
            "pred:zip 文件 或 文件 或 \" \" \" \" \" \" \"\n",
            "\n",
            "src:a default implementation for <unk> is provided which returns \"self\" while <unk> is an abstract method which by default returns \"none\"\n",
            "trg:为 \" object .__ enter __ ( ) \" 提供 的 一个 默认 实现 是 返回 \" self \" 而 \" object .__ exit __ ( ) \" 是 一个 默认 返回 \" none \" 的 抽象 方法\n",
            "pred:默认 情况 下 \" \" \" \" \" \" \" \" \" \" \" \" \" \" \" \" \" \" \"\n",
            "\n",
            "src:parameters: size an integer or \"none\"\n",
            "trg:参数 : size 一个 整型 数值 或 \" none \"\n",
            "pred:\" none none none 或 none none none none\n",
            "\n",
            "src:to get <unk> style linked lists, you can emulate <unk> <unk> using <unk>\n",
            "trg:要 获取 <unk> 样式 的 列表 ， 可以 使用 元组 模拟 <unk> 单元 ：\n",
            "pred:使用 使用 使用 使用 使用 使用 使用 使用 使用 使用 使用 使用 \" 使用 \" 使用 \"\n",
            "\n",
            "src:new in version 3.8.\n",
            "trg:3.8 新版 功能 .\n",
            "pred:3.8 新版 功能 .\n",
            "\n",
            "src:(contributed by kyle <unk> in bpo <unk>\n",
            "trg:（ 由 kyle stanley 在 bpo <unk> 中 贡献 。 ）\n",
            "pred:（ 由 <unk> 在 bpo <unk> 中 贡献 。 ）\n",
            "\n",
            "src:make an iterator that filters elements from iterable returning only those for which the predicate is \"false\"\n",
            "trg:创建 一个 迭代 器 ， 只 返回 iterable 中 predicate 为 \" false \" 的 元素\n",
            "pred:返回 一个 是 \" 的 的 的 ， ， 的 的 的 的 的 的\n",
            "\n",
            "src:examples of working with \"datetime\" objects:\n",
            "trg:使用 \" datetime \" 对象 的 例子 ：\n",
            "pred:\" \" \" \" \" \" \" \" \"\n",
            "\n",
            "src:one can also suppress the normal shell main module restart\n",
            "trg:用户 也 可以 禁用 通常 的 shell 主 模块 重启\n",
            "pred:模块 可以 模块 的 模块 的 模块\n",
            "\n",
            "src:the initial expression in a list comprehension can be any arbitrary expression, including another list comprehension.\n",
            "trg:列表 推导 式 中 的 初始 表达式 可以 是 任何 表达式 ， 包括 另 一个 列表 推导 式\n",
            "pred:列表 列表 列表 列表 列表 列表 列表 列表 列表 列表 列表 列表 列表 列表 列表 列表\n",
            "\n",
            "src:python defines two types of packages, regular packages and namespace packages\n",
            "trg:python 定义 了 两种 类型 的 包 ， 常规 包 和 命名 空间 包\n",
            "pred:python python 模块 \" \" \" \" \" \" 包 \" 包 空间 和 空间\n",
            "\n",
            "src:the install command ensures that the build commands have been run and then runs the <unk> <unk> , <unk> and <unk> .\n",
            "trg:install 命令 会 确保 build 命令 已经 运行 ， 然后 运行 子 命令 install _ lib , install _ data 和 install _ scripts\n",
            "pred:要 <unk> <unk> <unk> ， 的 的 和 ， 和 ， 和 <unk> <unk> <unk>\n",
            "\n",
            "src:allocates n bytes and returns a pointer of type \"void \" to the allocated memory, or \"null\" if the request fails.\n",
            "trg:分配 n 个 字节 并 返回 一个 指向 分配 的 内存 的 \" void \" 类型 指针 ， 如果 请求 失败 则 返回 \" null \"\n",
            "pred:如果 请求 \" \" \" \" \" \" 返回 \" \" \" \" \" 返回 \" \" \" \" \" 返回 \" \"\n",
            "\n",
            "src:returns the current value of the <unk>\n",
            "trg:返回 <unk> 当前 值\n",
            "pred:返回 当前 的 的\n",
            "\n",
            "src:<unk> bytecode counter by delta .\n",
            "trg:将 字节 码 计数器 的 值 增加 <unk>\n",
            "pred:\" \" \" \" \" \" 由 \"\n",
            "\n",
            "src:when an event <unk> other events for execution, they are scheduled into the future, so they can easily go into the heap\n",
            "trg:当 一个 事件 将 其他 事件 排入 执行 计划 时 ， 它们 的 调试 时间 向 未来 方向 <unk> ， 这样 它们 可 方便 <unk> 堆\n",
            "pred:当 ， ， ， ， ， ， ， ， ， ， ， 的 的\n",
            "\n",
            "src:this method is called when an unrecognized declaration is read by the parser.\n",
            "trg:当 解析器 读 到 无法 识别 的 声明 时 ， 此 方法 被 调用\n",
            "pred:此 由 被 由 被 被 被 被 的 的 的\n",
            "\n",
            "src:to improve <unk> with import statements, <unk> now raises \"importerror\" instead of \"valueerror\" for invalid relative import attempts\n",
            "trg:为 提升 与 import 语句 的 一致性 ， 现在 \" importlib . util . <unk> _ name ( ) \" 对于 无效 的 相对 导入 尝试 会 引发 \" importerror \" 而 不是 \" valueerror \"\n",
            "pred:\" 导入 \" \" \" \" \" \" \" \" \" \" \" \" \" \" \" \" \" \" \" \" \" \" 导入 \"\n",
            "\n",
            "src:they are deprecated in python 3.2 or older\n",
            "trg:这些 函数 自 python 3.2 或 更 <unk> 已 被 弃用\n",
            "pred:python python python python 或 python 或 或\n",
            "\n",
            "src:changed in version 3.7: start and end are now <unk> to behave like <unk>\n",
            "trg:在 3.7 版 更改 : start and end are now <unk> to <unk> like \" str [ start : end ] \" .\n",
            "pred:在 3.2 版 更改 : added the \" \" \" \" \" \" \" \" 和 \" \" \"\n",
            "\n",
            "src:the bottom 8 bits are the character <unk> and upper bits are the attributes.\n",
            "trg:下面 的 8 个 比特 <unk> 字符 本身 ， 上面 的 比特 <unk> 为 属性\n",
            "pred:<unk> <unk> <unk> <unk> <unk> <unk> 的 的 的\n",
            "\n",
            "src:return the current <unk> object, corresponding to the <unk> thread of control\n",
            "trg:返回 当前 对应 调用者 的 控制线 程 的 \" thread \" 对象\n",
            "pred:返回 当前 线程 的 的 的 的 的 的 的 的 的 的\n",
            "\n",
            "src:if empty, the package <unk> something which is almost equivalent to specifying the date format string <unk> <unk> <unk> <unk>\n",
            "trg:如果 为空 ， <unk> 将 替换 任何 接近 于 日期 格式 字符串 \" ' % y % m % d % h : % m : % s ' \" 的 内容\n",
            "pred:如果 <unk> string ， ， ， \" <unk> \" \" ( \" ( \" ( \" \" \" \" \" \" \" \"\n",
            "\n",
            "src:avoiding side effects means not using data structures that get updated as a program <unk> every function's output must only depend on its input.\n",
            "trg:消除 副作用 意味着 不能 使用 随 <unk> 而 更新 的 数据结构 ； 每个 函数 的 输出 必须 只 依赖于 输入\n",
            "pred:虽然 ， 的 的 的 的 的 ， ， 的 的 的 的 的 的 的 的 的\n",
            "\n",
            "src:the \"string\" module includes a <unk> <unk> class with a simplified syntax suitable for editing by end users\n",
            "trg:\" string \" 模块 包含 一个 通用 的 \" template \" 类 ， 具有 适用 于 最终用户 的 简化 语法\n",
            "pred:\" \" \" \" \" \" \" \" \" \" \" \" \" \" \" \" \" \" \"\n",
            "\n",
            "src:used to <unk> wall times during a repeated interval\n",
            "trg:用于 在 重复 的 <unk> 中 消除 边界 时间 歧义\n",
            "pred:<unk> <unk> <unk> <unk> <unk> <unk> <unk>\n",
            "\n",
            "src:a <unk> of this is that although the \" expression\" syntax may appear after explicit keyword arguments, it is processed before the keyword arguments (and any \" expression\" arguments see <unk>\n",
            "trg:这样 做 的 一个 <unk> 是 虽然 \" expression \" 句法 可能 出现 于 显式 的 关键字 参数 之后 ， 但 它 会 在 关键字 参数 （ 以及 任何 \" expression \" 参数 见下文 ） 之前 被 处理\n",
            "pred:在 这种 情况 下 ， \" \" \" \" \" \" \" \" \" \" \" \" \" \" \" \" \" \" \" \" \" \" \" \"\n",
            "\n",
            "src:a dictionary display is a possibly empty series of <unk> pairs enclosed in <unk> <unk>\n",
            "trg:字典 显示 是 一个 <unk> 括号 括 起来 的 可能 为空 的 键 / 数据 对 系列 :\n",
            "pred:（ 由 <unk> 是 字典 的 的 （ 由 <unk> 中 的 中 中 中 的\n",
            "\n",
            "src:return successive r length <unk> of elements in the iterable .\n",
            "trg:连续 返回 由 iterable 元素 生成 长度 为 r 的 排列\n",
            "pred:返回 一个 迭代 的 的 的 元素 iterable 的\n",
            "\n",
            "src:create a <unk> object from v , or \"null\" on failure.\n",
            "trg:根据 v 创建 一个 \" <unk> \" 对象 ， 失败 时 返回 \" null \"\n",
            "pred:\" \" \" \" \" \" \" \" \" \" \" \" \" \"\n",
            "\n",
            "src:look up the codec for the given encoding and return its \"streamreader\" class or factory function.\n",
            "trg:查找 给定 编码 的 编解码器 并 返回 其 \" streamreader \" 类 或 工厂 函数\n",
            "pred:返回 给定 的 的 的 的 或 并 返回 并 返回 并 返回 并 返回 并\n",
            "\n",
            "src:the default implementation <unk> to <unk> and <unk>\n",
            "trg:默认 实现 会 <unk> \" <unk> ( ) \" 和 \" readinto ( ) \"\n",
            "pred:默认 实现 \" \" \" \" \" \" \" \" \" \" \" \" \" \" \" \" \"\n",
            "\n",
            "src:these documents are generated from <unk> sources by <unk> a document processor specifically written for the python documentation.\n",
            "trg:这些 文档 生成 自 <unk> 原 文档 ， 由 <unk> （ 一个 专门 为 python 文档 写 的 文档 生成器 ） 创建\n",
            "pred:请 通过 的 的 的 的 的 的 的 的 的 的 的 的 的\n",
            "\n",
            "src:if called for a dotted name, it will try to evaluate anything without obvious side effects <unk> will not be evaluated, but it can generate calls to <unk> up to the last <unk> and find matches for the rest via the \"dir()\" function\n",
            "trg:如果 为 带有 <unk> 的 名称 执行 调用 ， 它 将 尝试 尽量 求值 直到 最后 一部分 为止 而 不 产生 附带 影响 （ 函数 不会 被 求值 ， 但 它 可以 生成 对 \" __ getattr __ ( ) \" 的 调用 ） ， 并 通过 \" dir ( ) \" 函数 来 匹配 剩余 部分\n",
            "pred:如果 你 如果 你 ， ， ， ， ， ， ， ， ， ， ， ， ， ， ， ， ， ， ， ， ， ， ， ， ， ， \" ， \" \" \" \" \" \" \"\n",
            "\n",
            "src:note that the default <unk> method can be overridden in a \"tzinfo\" subclass to affect the result returned by <unk>\n",
            "trg:请 注意 默认 的 \" tzinfo . <unk> ( ) \" 方法 在 \" tzinfo \" 的 子类 中 可以 被 重载 ， 从而 影响 \" astimezone ( ) \" 的 返回 结果\n",
            "pred:请 注意 注意 \" \" \" \" \" \" \" \" \" \" \" \" \" \" \" \" \" \" \" \" \" \" \" \" \" \" \" \"\n",
            "\n",
            "src:<unk> is an optional sequence of file descriptors to keep open between the parent and child\n",
            "trg:pass _ fds 是 一个 可选 的 在 <unk> 进程 间 保持 打开 的 文件 描述符 序列\n",
            "pred:每个 \" 的 文件 的 文件 的 的 文件 的 的 文件 的 的 的 文件 的 的\n",
            "\n",
            "src:this is a measure of the power in an audio <unk>\n",
            "trg:测量 音频 信号 的 <unk>\n",
            "pred:这 是 的 的 的 的 的 的\n",
            "\n",
            "src:the coroutine then has a chance to clean up or even <unk> the request by <unk> the exception with a \"try\" ... ... \"except <unk> ... \"finally\" block\n",
            "trg:协程 在 之后 有 <unk> 进行 清理 甚至 使用 \" try \" ... ... \" except cancellederror \" ... \" finally \" 代码 块 <unk> 异常 来 <unk>\n",
            "pred:\" 一个 \" \" \" \" \" \" \" \" \" \" \" \" \" \" \" \" \" \" \" \" \" \" \" \" \" \" \" \" \" \" \"\n",
            "\n",
            "src:replacing /bin/sh shell command substitution\n",
            "trg:替代 / bin / sh shell 命令 替换\n",
            "pred:替代 \" <unk> \" shell bin /\n",
            "\n",
            "src:after all exit handlers have had a chance to run the last exception to be raised is re raised.\n",
            "trg:在 所有 exit 处理程序 获得 运行 <unk> 之后 ， 所 引发 的 最后 一个 异常 会 被 重新 引发\n",
            "pred:当 在 被 被 被 被 被 被 被 被 被 引发 引发 引发 引发 引发 引发\n",
            "\n",
            "src:set class that keeps weak references to its elements\n",
            "trg:保持 对 其 元素 弱 引用 的 集合 类\n",
            "pred:它 引用 的 弱 引用 的 的 引用 的 的\n",
            "\n",
            "src:a call to <unk> <unk> is <unk> to <unk> <unk> which <unk> the instance dictionary when <unk> for the <unk> <unk> method\n",
            "trg:调用 \" format ( value , format _ spec ) \" 会 转换成 \" type ( value ) .__ format __ ( value , format _ spec ) \" ， 所以 实例 字典 中 的 \" __ format __ ( ) \" 方法 将 不会 调用\n",
            "pred:为了 方法 方法 \" \" ( \" ( \" ( \" ( \" ( \" ( \" ( 方法 方法 方法 方法 方法\n",
            "\n",
            "src:a future is done if it was cancelled or if it has a result or an exception set with <unk> or <unk> calls.\n",
            "trg:如果 future 为 取消 或 调用 \" set _ result ( ) \" 设置 了 结果 或 调用 \" set _ exception ( ) \" 设置 了 异常 ， 那么 它 就是 完成\n",
            "pred:如果 一个 \" \" \" \" \" \" \" \" \" \" \" \" \" \" \" \" \" \" \" \" \" \" \" \" \" \" \"\n",
            "\n",
            "src:where t is the total number of elements in both sequences, and m is the number of matches, this is 2.0 m / t\n",
            "trg:其中 t 是 两个 序列 中 元素 的 总 数量 ， m 是 匹配 的 数量 ， 即 2.0 m / t\n",
            "pred:\" 是 是 ， ， ， ， ， ， 的 的 的 的 的 的\n",
            "\n",
            "src:disable the import of the module \"site\" and the site dependent <unk> of \"sys.path\" that it <unk>\n",
            "trg:禁用 \" site \" 的 导入 及其 所 附带 的 基于 <unk> 对 \" sys . path \" 的 操作\n",
            "pred:\" 模块 \" \" \" \" \" \" \" \" \" \" \" \" \" \" \" \" \" \"\n",
            "\n",
            "src:font font specifier tuple <unk> size, <unk> name unique font name exists self points to existing named font if true\n",
            "trg:font 字体 指示 符 元组 ( family , size , <unk> ) name 唯一 的 字体 名 <unk> 指向 现有 命名 字体 （ 如果 有 ）\n",
            "pred:如果 \" \" \" \" \" \" ， \" ， \" ， \" ， \" \" \" \" \" \"\n",
            "\n",
            "src:once the file is closed, any operation on the file (e.g. reading or <unk> will raise a \"valueerror\".\n",
            "trg:文件 关闭 后 ， 对 文件 的 任何 操作 （ 例如 读取 或 写入 ） 都 会 引发 \" valueerror \"\n",
            "pred:如果 文件 文件 文件 文件 文件 文件 文件 文件 文件 文件 \" 文件 \" 文件 \" 文件 \" \" \" \" \"\n",
            "\n",
            "src:it returns the filename of the library file.\n",
            "trg:返回 库 文件 的 文件名\n",
            "pred:返回 库 的 的\n",
            "\n",
            "src:compute the inverse cumulative distribution function, also known as the <unk> function or the <unk> point function\n",
            "trg:计算 反向 累积 分布 函数 ， 也 称为 分 位数 函数 或 <unk> 函数\n",
            "pred:\" 函数 \" \" \" \" \" 函数 \" \" 函数 \" 函数 \" 函数 \" 函数 \"\n",
            "\n",
            "src:using it with arguments for changing the selection was deprecated in python 3.6\n",
            "trg:带 参数 调用 该 方法 来 改变 选择 在 python 3.6 中 已弃 用\n",
            "pred:在 python 使用 python ， 的 的 ， 用 的 的\n",
            "\n",
            "src:if the destination is an existing directory, then src is moved inside that directory\n",
            "trg:如果 目标 是 已 存在 的 目录 ， 则 src 会 被 移至 该 目录 下\n",
            "pred:如果 目录 是 \" ， 目录 ， ， \" ， \" \" \" \" \" \"\n",
            "\n",
            "src:return \"0\" on success or \" 1\" on failure\n",
            "trg:成功 时 返回 \" 0 \" ， 失败 时 返回 \" 1 \"\n",
            "pred:成功 时 返回 \" \" \" \" \" \" \" \"\n",
            "\n",
            "src:most of the examples in this section refer to a turtlescreen instance called <unk>\n",
            "trg:本节 中 的 大部分 示例 都 使用 turtlescreen 类 的 一个 实例 ， 命名 为 \" screen \"\n",
            "pred:此 模块 的 的 的 的 的 的 的 的 的 的 的 的\n",
            "\n",
            "src:it is not possible to change the encoding or newline if some data has already been read from the stream\n",
            "trg:如果 已经 有 数据 从流 中 被 读取 则 将 无法 再 改变 编码 格式 <unk> 结束符\n",
            "pred:如果 流 来自 ， ， ， ， ， ， ， ， ， ， 的\n",
            "\n",
            "src:<unk> <unk> is a <unk> wrapped binding to the qt toolkit\n",
            "trg:<unk> <unk> 是 一个 针对 qt 工具集 通过 <unk> 包装 的 绑定\n",
            "pred:\" \" \" \" \" \" \" \" \" \" \" \" \" \" \" <unk> <unk>\n",
            "\n",
            "src:changed in version 3.5: added support for passing file descriptor to this function.\n",
            "trg:在 3.5 版 更改 : added support for <unk> file <unk> to this function .\n",
            "pred:在 3.3 版 更改 : 添加 了 对 文件 支持 文件 支持 文件 支持\n",
            "\n",
            "src:instead of nested entities it repeats one large entity with a couple of <unk> <unk> over and over again\n",
            "trg:它 不是 嵌套 实体 ， 而是 <unk> 又 <unk> 地 重复 一个 具有 <unk> 字符 的 大型 实体\n",
            "pred:\" \" \" \" \" \" \" \" \" \" \" ， \" ， \" ， 的 的 的 的 的 的\n",
            "\n",
            "src:returns non zero if the object implements the garbage collector protocol, otherwise returns 0.\n",
            "trg:如果 对象 实现 了 垃圾 回收 器 协议 则 返回 非零值 ， 否则 返回 0\n",
            "pred:如果 返回 如果 返回 ， 返回 ， 返回 ， 返回 返回 返回 \" 否则 返回 \" 返回 \"\n",
            "\n",
            "src:use <unk> when using pipes to avoid that.\n",
            "trg:当 使用 管道 <unk> \" popen . communicate ( ) \" 来 <unk> 它\n",
            "pred:使用 使用 \" 使用 \" 使用 \" 使用 \" 使用 \"\n",
            "\n",
            "src:others of a more general utility are defined here\n",
            "trg:其他 更为 通用 的 则 定义 在 这里\n",
            "pred:定义 定义 定义 定义 定义 定义 的 的 的\n",
            "\n",
            "src:new in version 3.8.\n",
            "trg:3.8 新版 功能 .\n",
            "pred:3.8 新版 功能 .\n",
            "\n",
            "src:exchanging objects between processes\n",
            "trg:在 进程 之间 交换 对象\n",
            "pred:在 <unk> 对象 之间 之间\n",
            "\n",
            "src:indicates the exponent is larger than <unk> after rounding has occurred\n",
            "trg:表明 在 发生 舍入 之后 的 指数 大于 \" emax \"\n",
            "pred:之后 的 \" \" \" \" \" \" \" \" \" \" \" \" \" \"\n",
            "\n",
            "src:if denominator is \"0\", it raises a <unk>\n",
            "trg:如果 denominator 为 \" 0 \" 将会 引发 \" zerodivisionerror \"\n",
            "pred:如果 一个 是 \" \" \" \" \" \" \" \"\n",
            "\n",
            "src:either 0 or 1 in the native or standard <unk> representation will be <unk> and any non zero value will be \"true\" when unpacking.\n",
            "trg:<unk> 或 标准 bool 类型 表示 的 0 或 1 将 被 打包 ， 任何 非零值 在 解包 时 将 为 \" true \"\n",
            "pred:在 ， \" \" \" \" \" \" \" \" \" ， \" \" \" 将 \" 将 \" \" 将 \" \"\n",
            "\n",
            "src:this can be useful for comparison to json inputs during <unk>\n",
            "trg:这 在 调试 期间 与 json 输入 进行 比较 时会 很 有用\n",
            "pred:这 这 有时 这 <unk> 的 的 的 的 <unk>\n",
            "\n",
            "src:\"pprint\" data pretty printer\n",
            "trg:\" pprint \" 数据 美化 输出\n",
            "pred:\" \" \" \"\n",
            "\n",
            "src:\"str\" is the built in string class\n",
            "trg:\" str \" 是 内置 字符串 class\n",
            "pred:\" \" \" \" \" \" \" \"\n",
            "\n",
            "src:<unk> <unk> file handle\n",
            "trg:<unk> 的 <unk> 文件 句柄\n",
            "pred:\" 文件 <unk> 文件 文件 文件 文件\n",
            "\n",
            "src:all unary arithmetic and bitwise operations have the same <unk>\n",
            "trg:所有 算术 和 位 运算 具有 相同 的 优先级 :\n",
            "pred:具有 有 具有 的 的 的 的 运算 运算 运算\n",
            "\n",
            "src:in cpython, generator based coroutines <unk> decorated with <unk> or <unk> are awaitables , even though they do not have an <unk> method\n",
            "trg:在 cpython 里 ， 基于 生成器 的 协程 （ 使用 \" types . coroutine ( ) \" 或 \" asyncio . coroutine ( ) \" 包装 的 生成器 ） 都 是 可 等待 对象 ， 即使 他们 不 含有 \" __ await __ ( ) \" 方法\n",
            "pred:在 \" \" \" \" \" \" \" \" \" ( \" ( \" \" \" \" \" \" \" \" \" \" \" \" \" \" \" \" \" \" \" \" \"\n",
            "\n",
            "src:the func will be passed to <unk> for each <unk> before its \"run()\" method is called.\n",
            "trg:在 每个 线程 的 \" run ( ) \" 方法 被 调用 前 ， func 会 被 传递 给 \" sys . <unk> ( ) \"\n",
            "pred:对于 方法 被 的 被 被 被 被 将 的 的 \" \" \" \" \" \" \"\n",
            "\n",
            "src:see <unk> for more information.\n",
            "trg:查看 \" <unk> . < protocol > _ response ( ) \" 以 获取 更 多 信息\n",
            "pred:请参阅 多 多 更 多 多\n",
            "\n",
            "src:the \"try\" ... \"except\" statement has an optional else clause , which, when present, must follow all except clauses\n",
            "trg:\" try \" ... \" except \" 语句 有 一个 可选 的 else 子句 ， 在 使用 时 必须 放在 所有 的 except 子句 后面\n",
            "pred:当 \" \" \" \" \" \" \" \" \" 所有 ， ， ， 所有 的 所有 的 的\n",
            "\n",
            "src:optimized <unk> for the case when the other set is much larger than the base set\n",
            "trg:当 另 一 集合 <unk> 基础 集合 的 情况 下 优化 了 \" <unk> _ update ( ) \" 的 性能\n",
            "pred:当 在 ， ， ， ， ， ， ， ， ， ， 时 ， 时 ，\n",
            "\n",
            "src:wrap the <unk> coroutine into a <unk> and <unk> its execution\n",
            "trg:将 coro 协程 打包 为 一个 \" task \" 排入 <unk> 准备 执行\n",
            "pred:\" \" \" \" \" \" \" \" \" \" \" \" \" \" \" \" \"\n",
            "\n",
            "src:add a section named section to the instance\n",
            "trg:向 实例 添加 一个 名为 section 的 节\n",
            "pred:\" 的 的 的 的 的 的\n",
            "\n",
            "src:this is useful if you want to match an arbitrary literal string that may have special characters in it\n",
            "trg:这 适用 于 当 你 想要 匹配 可能 带有 特殊字符 的 任意 字符串 字 面值 的 情况\n",
            "pred:如果 你 在 字符串 ， 在 ， 字符串 ， 在 ， 字符串 ， 字符串 的\n",
            "\n",
            "src:if you need more control over the formatting of the <unk> provide a <unk> argument to <unk> as in this example:\n",
            "trg:如果 你 需要 更多地 控制 日期 / 时间 的 格式 ， 请 为 \" basicconfig \" 提供 <unk> 参数 ， 如下 <unk> 所示 :\n",
            "pred:如果 给出 的 的 的 的 的 的 的 的 的 的 的 的 的 的 的 的\n",
            "\n",
            "src:if follow_symlinks is false, and both src and dst are symbolic <unk> <unk> will attempt to modify the mode of dst itself <unk> than the file it points to)\n",
            "trg:如果 follow _ symlinks 为 假值 ， 并且 src 和 dst 均 为 符号 链接 ， \" <unk> ( ) \" 将 尝试 修改 dst 本身 的 模式 （ 而 非 它 所 指向 的 文件 ）\n",
            "pred:如果 文件 的 ， ， ， ， ， ， ， ， ， ， ， ， ， ， ， ， ， ， ， ， 的 的 的 的 的\n",
            "\n",
            "src:for example, given the function definition:\n",
            "trg:例如 ， 对于 以下 函数 定义 :\n",
            "pred:例如 定义 函数 定义 函数\n",
            "\n",
            "src:that is determined <unk> by the number of digits in value\n",
            "trg:这 完全 由 value 中 的 位数 决定\n",
            "pred:值 的 的 的 的 值 的 值 的\n",
            "\n",
            "src:outputs the record to the file.\n",
            "trg:将 记录 输出 到 文件\n",
            "pred:将 记录 记录 记录\n",
            "\n",
            "src:new in version 3.1: the <unk> class.\n",
            "trg:3.1 新版 功能 : \" nullhandler \" 类\n",
            "pred:3.1 新版 功能 : the <unk> :\n",
            "\n",
            "src:objects can contain arbitrary <unk> and <unk> of data\n",
            "trg:对象 可以 包含 任意 数量 和 类型 的 数据\n",
            "pred:data 的 的 的 的 的 的 的 的\n",
            "\n",
            "src:execute the init line provided in the string argument\n",
            "trg:执行 在 string 参数 中 提供 的 初始化 行\n",
            "pred:在 参数 参数 的 参数 的\n",
            "\n",
            "src:<unk> function has been removed, it was deprecated since python 3.5 <unk> <unk> use <unk> instead\n",
            "trg:\" fractions . <unk> ( ) \" 函数 已 被 移除 ， 它 自 python 3.5 起 被 弃用 ( bpo <unk> ) ： 请 改用 \" math . <unk> ( ) \"\n",
            "pred:\" . \" . \" . \" . \" . \" \" \" \" \" \" \" \" \" \" \" \" \" \" \" \" \" \" \"\n",
            "\n",
            "src:this copy is <unk> which means that the current background character overwrites the old contents of <unk> .\n",
            "trg:此 复制 是 <unk> 的 ， 这 意味着 当前 背景 字符 会 覆盖 掉 <unk> 的 旧 内容\n",
            "pred:这是 <unk> <unk> <unk> ， 的 的 的 <unk> <unk> <unk> 内容\n",
            "\n",
            "src:note that leading <unk> in a non zero decimal number are not allowed\n",
            "trg:注意 非零 的 十进制 数 开头 不 允许 有 额外 的 零\n",
            "pred:请 注意 ， ， ， ， \" \" \" \" \" \" \"\n",
            "\n",
            "src:read and return one line from the stream\n",
            "trg:从流 中 读取 并 返回 一行\n",
            "pred:从 读取 读取 读取 末尾 读取\n",
            "\n",
            "src:the current namespace is not <unk> for a proper import statement, a subsequent <unk> instruction <unk> the namespace.\n",
            "trg:当前 命名 空间 不 受 影响 ： 对于 一条 标准 import 语句 ， 会 执行 后续 的 \" store _ fast \" 指令 来 修改 命名 空间\n",
            "pred:\" \" \" \" \" \" \" \" \" \" \" \" \" \" \" \" \" \" \"\n",
            "\n",
            "src:python also includes a data type for sets\n",
            "trg:python 也 包含 有 集合 类型\n",
            "pred:\" \" 类型 \" 类型 \" 类型 的 类型 的 类型 类型\n",
            "\n",
            "src:a enumeration of possible methods the interpreter can use to determine whether a bytecode file is up to date with a source file\n",
            "trg:一个 由 可用 方法 组成 的 枚举 ， 解释器 可以 用来 确定 字节 码 文件 是否 与 源文件 保持一致\n",
            "pred:在 文件 文件 的 文件 文件 文件 文件 的 文件 文件 的 文件 文件 的 文件 文件 文件 的\n",
            "\n",
            "src:if the class already defines any of <unk> <unk> <unk> or <unk> then \"typeerror\" is raised.\n",
            "trg:如果 类 已经 定义 了 \" __ lt __ ( ) \" 、 \" __ <unk> __ ( ) \" 、 \" __ gt __ ( ) \" 或者 \" __ <unk> __ ( ) \" 中 的 任意 一个 ， 将 引发 \" typeerror \"\n",
            "pred:如果 \" \" \" \" \" \" \" \" \" \" \" \" \" \" \" \" \" \" \" \" \" \" \" \" \" \" \" \" \"\n",
            "\n",
            "src:round away from zero.\n",
            "trg:舍入 到 零 的 反 方向\n",
            "pred:从 用来 的\n",
            "\n",
            "src:if the bytes cannot be <unk> the program immediately tries again after 1 second\n",
            "trg:如果 字节 数据 无法 被 锁定 ， 程序 会 在 1 秒 之后 立即 <unk>\n",
            "pred:如果 你 ， ， ， ， ， 将 ， 将\n",
            "\n",
            "src:though there is one python implementation which is by far the most <unk> there are some alternate implementations which are of particular interest to different <unk>\n",
            "trg:虽然 官方 python 实现 <unk> 得到 最 广泛 的 <unk> ， 但 也 有 一些 其他 实现 对 特定 <unk> 的 用户 来说 <unk> <unk>\n",
            "pred:python 是 的 的 不同 是 不同 的 不同 的 不同 的 不同 的 不同 的 不同 的 不同 的 不同 的 的 的\n",
            "\n",
            "src:<unk> locale's full weekday name\n",
            "trg:\" % a \" 本地化 的 星期 中 <unk> 的 完整 名称\n",
            "pred:name : name 的 名称\n",
            "\n",
            "src:in short, before <unk> to the \"re\" module, consider whether your problem can be <unk> with a faster and simpler string method.\n",
            "trg:简而言之 ， 在 <unk> \" re \" 模块 之前 ， 请 考虑 是否 可以 使用 <unk> 更 简单 的 字符串 方法 <unk>\n",
            "pred:在 在 在 \" \" \" \" \" \" \" \" \" \" \" \" \" \" \" \" \" \" \" \" \" \" \" \" \"\n",
            "\n",
            "src:changed in version 3.3: if <unk> is \"none\", then \"notimplementederror\" is raised.\n",
            "trg:在 3.3 版 更改 : if \" sys . implementation . cache _ tag \" is \" none \" , <unk> \" notimplementederror \" is raised .\n",
            "pred:在 3.3 版 更改 : 如果 \" \" \" \" \" \" \" \" \" \" \" \" \" \" \" \" \" \" \"\n",
            "\n",
            "src:changed in version 3.7: the size argument is now <unk>\n",
            "trg:在 3.7 版 更改 : size 参数 现在 是 可选 的\n",
            "pred:在 3.7 版 更改 : the 现在 现在 现在 \" \" \" \"\n",
            "\n",
            "src:the primary must evaluate to a callable object <unk> defined functions, built in functions, methods of built in objects, class objects, methods of class <unk> and all objects having a <unk> method are <unk>\n",
            "trg:此 原型 必须 求值 为 一个 可 调用 对象 （ 用户 定义 的 函数 ， 内置 函数 ， 内置 对象 的 方法 ， 类 对象 ， 类 实例 的 方法 以及 任何 具有 \" __ call __ ( ) \" 方法 的 对象 都 是 可 调用 对象 ）\n",
            "pred:这 方法 的 的 的 的 的 的 的 的 的 的 的 的 的 的 的 的 的 的 的 的 的 的 的 的 的 的 的 的 的 的 的 的 的 的 的\n",
            "\n",
            "src:it's suggested that you use a prefix for the method names, such as <unk> in this example\n",
            "trg:建议 对 方法 名 使用 前缀 ， 例如 <unk> 中 的 \" visit _ \"\n",
            "pred:此 方法 使用 使用 使用 在 使用 的 的 的 ， 使用 \" 的 的 的\n",
            "\n",
            "src:use 4 space <unk> and no <unk>\n",
            "trg:使用 4 个 空格 缩进 ， 不要 使用 制表符\n",
            "pred:使用 使用 \" 使用 \" \" \" \" \" \" \" \"\n",
            "\n",
            "src:for applications that embed python:\n",
            "trg:对于 嵌入 python 的 应用程序 ：\n",
            "pred:对于 ， 的 的 的\n",
            "\n",
            "src:when most everything in \"optparse\" had either been copy <unk> over or <unk> <unk> it no longer <unk> practical to try to maintain the backwards <unk>\n",
            "trg:当 when most <unk> in \" optparse \" 中 几乎 所有 内容 都 已 被 <unk> 或 <unk> 上 补丁 时 ， 维持 向下兼容 <unk> 已 是 <unk> 的\n",
            "pred:当 在 <unk> <unk> ， \" \" \" \" \" ， \" \" \" \" \" \" \" \" \" \" \" \" \" \" \" \" \" \" \" \"\n",
            "\n",
            "src:\"strftime()\" and \"strptime()\" format codes\n",
            "trg:\" strftime ( ) \" 和 \" strptime ( ) \" format <unk>\n",
            "pred:\" \" \" \" \" \" \" \" \" \"\n",
            "\n",
            "src:type hint an annotation that specifies the expected type for a variable, a class attribute, or a function parameter or return value.\n",
            "trg:type <unk> 类型 提示 annotation 为 变量 、 类 属性 、 函数 的 形参 或 返回值 指定 预期 的 类型\n",
            "pred:返回 一个 的 类型 的 类型 的 类型 的 类型 的 类型 的 类型 的 类型 的 类型\n",
            "\n",
            "src:the preamble attribute contains this leading extra <unk> text for mime documents\n",
            "trg:preamble 属性 包含 mime 文档 开头 部分 的 这些 处于 保护 范围 之外 的 文本\n",
            "pred:此 \" 的 \" \" 的 的 的 的 的 的 的 的\n",
            "\n",
            "src:return the smallest item in an iterable or the smallest of two or more arguments.\n",
            "trg:返回 可 迭代 对象 中 最小 的 元素 ， 或者 返回 两个 及 以上 实参 中 最小 的\n",
            "pred:返回 一个 迭代 的 或 迭代 的 或 的 或 的 的 的 的 迭代 的\n",
            "\n",
            "src:implements in place \"tos tos1 <unk> tos\".\n",
            "trg:就 地 实现 \" tos tos1 / / tos \"\n",
            "pred:\" tos tos tos tos tos tos tos tos\n",
            "\n",
            "src:<unk> description <unk> default <unk> for <unk> <unk> <unk> <unk> <unk> <unk> <unk> <unk> audio (at 16 <unk> and 2 <unk> <unk> <unk> <unk> audio (at 24 <unk>\n",
            "trg:<unk> 描述 <unk> \" / dev / <unk> \" 的 默认 <unk> <unk> <unk> <unk> <unk> <unk> <unk> <unk> 的 音频 （ 16 位 采样 和 2 通道 ） <unk> <unk> <unk> 的 音频 （ 24 位 采样 ）\n",
            "pred:\" \" \" \" \" \" \" \" \" , , \" , , \" , \" , \" , \" , \" , \" , \" \" , \" \" \" \" \" \" \" \"\n",
            "\n",
            "src:in the augmented version, \"x\" is only evaluated once\n",
            "trg:在 增强 赋值 的 版本 中 ， \" x \" 仅会 被 求值 一次\n",
            "pred:在 \" 是 \" ， 的 ， 的 的 的\n",
            "\n",
            "src:formats the specified stack information (a string as returned by <unk> but with the last newline <unk> as a string\n",
            "trg:将 指定 的 堆栈 信息 （ 由 \" traceback . print _ stack ( ) \" 返回 的 字符串 ， 但 移除 末尾 的 换行符 ） 格式化 为 字符串\n",
            "pred:返回 一个 的 字符串 的 字符串 的 字符串 的 字符串 的 字符串 的 字符串 的 \" 字符串 的 \" 字符串 的\n",
            "\n",
            "src:if it is missing or \"none\" (the default), the arithmetic mean is automatically <unk>\n",
            "trg:如果 该 参数 省略 或 为 \" none \" ( 默认值 ) ， 则 会 自动 进行 算术 均值 的 计算\n",
            "pred:如果 <unk> 为 省略 或 ， ， ， 则 ， \" \" \" \" \" \" \"\n",
            "\n",
            "src:changed in version 3.3: argument can be omitted or \"none\".\n",
            "trg:在 3.3 版 更改 : argument can be <unk> or \" none \" .\n",
            "pred:在 3.3 版 更改 : added the \" \" \" \" \"\n",
            "\n",
            "src:changed in version 3.2: <unk> is now \"false\" by default.\n",
            "trg:在 3.2 版 更改 : <unk> is now \" false \" by default .\n",
            "pred:在 3.2 版 更改 : 现在 \" \" \" \" \" \" \" \" \"\n",
            "\n",
            "src:<unk> license <unk> for python 2.0\n",
            "trg:用于 python 2.0 的 beopen . com 许可 协议\n",
            "pred:python python python \" \" python 的 的\n",
            "\n",
            "src:\"dbm\" is a generic interface to variants of the <unk> database <unk> or <unk>\n",
            "trg:\" dbm \" 是 一种 <unk> 接口 ， 针对 各种 dbm 数据库 包括 \" dbm . gnu \" 或 \" dbm . ndbm \"\n",
            "pred:\" \" \" \" \" \" \" \" \" \" \" \" \" \" \" \" \" \" \"\n",
            "\n",
            "src:<unk> this returns the real url of the page fetched\n",
            "trg:<unk> 返回 所 获取 页面 的 真实 url\n",
            "pred:此 \" <unk> \" 的 的 的 的\n",
            "\n",
            "src:generator expressions are more compact but less <unk> than full generator definitions and tend to be more memory <unk> than equivalent list comprehensions.\n",
            "trg:生成器 表达式 相比 完整 的 生成器 更 紧凑 但 较 不 灵活 ， 相比 等效 的 列表 推导 式 则 更为 节省 内存\n",
            "pred:这 于 ， 的 的 ， 列表 的 ， ， 的 的 的 的\n",
            "\n",
            "src:instead, <unk> will raise a \"typeerror\" if it detects a default parameter of type \"list\", \"dict\", or \"set\"\n",
            "trg:相反 ， 如果 数据 类 检测 到 类型 为 \" list \" 、 \" dict \" 或 \" set \" 的 默认 参数 ， 则 会 引发 \" typeerror \"\n",
            "pred:如果 \" \" \" \" \" \" \" \" \" \" \" \" \" \" \" \" \" \" \" \" \" \" \" \" \" \"\n",
            "\n",
            "src:<unk> <unk> base class\n",
            "trg:\" distutils . ccompiler \" ccompiler 基类\n",
            "pred:\" 类 基类 : 类 基类\n",
            "\n",
            "src:this is <unk> by this example:\n",
            "trg:这个 例子 说明 了 这 一点 ：\n",
            "pred:这 示例 : 示例 :\n",
            "\n",
            "src:cpython implementation detail: other <unk> command line schemes may differ\n",
            "trg:cpython implementation detail : 其他 实现 的 命令行 方案 可能 有所不同\n",
            "pred:\" \" \" \" \" \" \" \" 命令行 cpython 命令行 cpython\n",
            "\n",
            "src:these structures may have been returned by <unk> <unk> or \"os.stat()\"\n",
            "trg:这些 stat 元组 可能 是 由 \" os . <unk> ( ) \" 、 \" os . <unk> ( ) \" 或 \" os . stat ( ) \" 返回 的\n",
            "pred:或者 <unk> 或 或 或 或 或 \" \" \" \" \" \" \" \" \" \" \"\n",
            "\n",
            "src:methods of different types may have the same name without <unk> <unk>\n",
            "trg:不同 类型 的 方法 可以 有 相同 的 名称 而 不会 引起 歧义\n",
            "pred:在 的 的 的 的 的 的 的 的 的 的\n",
            "\n",
            "src:return true if the object obj is a memoryview object\n",
            "trg:如果 对象 obj 是 memoryview 对象 ， 则 返回 true\n",
            "pred:如果 对象 对象 对象 对象 对象 对象 对象\n",
            "\n",
            "src:some <unk> were even able to read <unk> and this was also used to avoid the <unk> time\n",
            "trg:有些 <unk> 甚至 能够 反向 读取 ， 这 也 被 用来 避免 <unk> 带 的 耗时\n",
            "pred:此 也 <unk> 也 ， 也 ， ， 也 ， 也 ， 也 <unk> 也 <unk> 也 <unk>\n",
            "\n",
            "src:a replacement field ends with a closing <unk> <unk> <unk>\n",
            "trg:替换 字段 以 一个 <unk> 括号 \" ' } ' \" 作为 结束\n",
            "pred:<unk> <unk> <unk> <unk> <unk> <unk> <unk> <unk> <unk> <unk> <unk>\n",
            "\n",
            "src:changed in version 3.5: writable bytes like object is now accepted.\n",
            "trg:在 3.5 版 更改 : 现在 支持 可写 的 字节 类 对象\n",
            "pred:在 3.5 版 更改 : 现在 现在 现在 接受 可写 类\n",
            "\n",
            "src:return the value (in fractional <unk> of the sum of the system and user cpu time of the current process\n",
            "trg:返回 当前 进程 的 系统 和 用户 cpu 时间 总和 的 值 （ <unk> <unk> 为 单位 ）\n",
            "pred:返回 当前 的 当前 的 的 时间 的 的 时间 的 的 的\n",
            "\n",
            "src:this means that no subdirectory paths should be included in the resource argument\n",
            "trg:这 意味着 任何 子目录 的 路径 都 <unk> 出现 在 <unk> 参数值 内\n",
            "pred:这 意味着 应当 在 这 在 的 的\n",
            "\n",
            "src:instead, use the db <unk> parameter substitution\n",
            "trg:推荐 另外 一种 方法 ： 使用 db api 的 参数 替换\n",
            "pred:使用 使用 使用 使用 \" 使用 \" _ 使用 \" 使用 \"\n",
            "\n",
            "src:build and c api changes\n",
            "trg:构建 和 c api 的 改变\n",
            "pred:构建 和 c api 的 改变\n",
            "\n",
            "src:this must be set to a positive integer and specifies the maximum alignment for the fields\n",
            "trg:它 必须 设置 为 一个 正整数 ， 表示 字段 的 最大 对齐 字节\n",
            "pred:这 一个 一个 为 一个 为 ， ， ， ， 一个 为\n",
            "\n",
            "src:\"join()\" raises a \"runtimeerror\" if an attempt is made to <unk> the current thread as that would cause a deadlock\n",
            "trg:如果 尝试 加入 当前 线程 会 导致 死锁 ， \" join ( ) \" 会 引起 \" runtimeerror \" 异常\n",
            "pred:如果 一个 一个 \" ， \" ， ， ， ， \" ， \" \" \" \" \" \"\n",
            "\n",
            "src:new in version 3.4.\n",
            "trg:3.4 新版 功能 .\n",
            "pred:3.4 新版 功能 .\n",
            "\n",
            "src:the details of this operation are equivalent to:\n",
            "trg:此 操作 在 细节 上 相当于 :\n",
            "pred:这 相当于 于 的 的 的 的\n",
            "\n",
            "src:in the example above you can access the outer scope variable by <unk> it <unk>\n",
            "trg:在 上面 的 示例 中 ， 你 可以 通过 将 其 声明 为 全局 来 访问 外部 作用域 变量 ：\n",
            "pred:在 可以 通过 的 \" \" \" \" \" \" \" \" \" \" \"\n",
            "\n",
            "src:the <unk> function no longer raises an exception when given <unk> data\n",
            "trg:当 传入 <unk> 数据 时 \" statistics . mode ( ) \" 函数 不会 再 引发 异常\n",
            "pred:在 \" \" \" \" \" 数据 \" 数据 \" 数据 \"\n",
            "\n",
            "src:return a context manager that <unk> any of the specified exceptions if they occur in the body of a with statement and then resumes execution with the first statement following the end of the with statement.\n",
            "trg:返回 一个 上下文 管理器 ， 如果 任何 一个 指定 的 异常 发生 在 使用 该 上下文 管理器 的 with 语句 中 ， 该 异常 将 被 它 <unk> ， 然后 程序 将 从 with 语句 结束 后 的 第一个 语句 开始 恢复 执行\n",
            "pred:如果 语句 的 的 的 的 的 ， ， ， ， ， ， ， ， ， ， 的 的 的 的 的 的 的 的 的 的 的 的 的\n",
            "\n",
            "src:context precision and rounding only come into <unk> during arithmetic operations.\n",
            "trg:上下文 精度 和 舍入 仅 在 算术 运算 期间 <unk>\n",
            "pred:<unk> <unk> <unk> <unk> 的 的 的 的 的 的 的 的\n",
            "\n",
            "src:changed in version 3.9: no longer called before the module state is <unk>\n",
            "trg:在 3.9 版 更改 : no longer called <unk> the module state is <unk> .\n",
            "pred:在 3.3 版 更改 : the \" \" \" \" \" \" \" \" \" \" \"\n",
            "\n",
            "src:pep 328: absolute and relative imports\n",
            "trg:pep 328 : 绝对 导入 和 相对 导入\n",
            "pred:pep 328 : 绝对 导入 相对 导入\n",
            "\n",
            "src:note that on non posix systems that include leap seconds in their notion of a timestamp, leap seconds are ignored by <unk> and then it's possible to have two timestamps <unk> by a second that yield identical \"datetime\" objects\n",
            "trg:请 注意 在 时间 戳 概念 包含 闰秒 的 非 posix 系统 上 ， 闰秒 会 被 \" fromtimestamp ( ) \" 所 忽略 ， 结果 可能 导致 两个 <unk> <unk> 的 时间 戳 产生 相同 的 \" datetime \" 对象\n",
            "pred:请 注意 ， 的 的 的 的 的 \" \" \" \" \" \" \" \" \" \" \" \" \" \" \" \" \" \" \" \" \" \"\n",
            "\n",
            "src:hash based <unk> a bytecode cache file that uses the hash rather than the last modified time of the corresponding source file to determine its <unk>\n",
            "trg:hash based pyc 基于 哈希 的 pyc 使用 对应 源文件 的 哈希 值 而 非 最后 修改 时间 来 确定 其 有效性 的 字节 码 缓存 文件\n",
            "pred:\" 的 的 文件 的 的 的 文件 的 的 文件 的 的 文件 的 的 文件 的 的 文件 的 的 的\n",
            "\n",
            "src:this means that the subsequent inputs are not tested for <unk>\n",
            "trg:这 意味着 不会 测试 后续 输入 的 有效性\n",
            "pred:这 于 的 的 的 的 <unk>\n",
            "\n",
            "src:get a wide character\n",
            "trg:获取 一个 宽 字符\n",
            "pred:字符 字符 字符 字符\n",
            "\n",
            "src:it needs two functions to actually <unk> with the <unk> <unk> <unk> should be callable without arguments, and return a number (the \"time\", in any units <unk>\n",
            "trg:它 需要 两个 函数 来 实际 处理 “ 外部 <unk> ” — — <unk> 应当 不带 参数 地 调用 ， 并 返回 一个 数字 （ “ 时间 ” ， 可以 为 任意 单位 ）\n",
            "pred:它 具有 <unk> ， 的 的 ， ， ， ， ， ， ， ， ， ， ， <unk> <unk> <unk> <unk> <unk> <unk> <unk> <unk>\n",
            "\n",
            "src:the term <unk> to the <unk> means that if a logger has a level of <unk> its chain of <unk> loggers is traversed until either an <unk> with a level other than <unk> is found, or the root is reached.\n",
            "trg:<unk> 给 <unk> 的 意思 是 如果 一个 记录器 的 级别 设置 为 notset ， 将 遍历 其 <unk> 记录器 ， 直到 找到 级别 不是 notset 的 记录器 ， 或者 到 根 记录器 为止\n",
            "pred:\" <unk> \" \" \" \" \" \" \" \" \" ， \" ， ， ， ， ， ， ， ， ， ， ， 的 记录器 ， 的 记录器 ， 的 记录器 的\n",
            "\n",
            "src:<unk> a breakpoint means it cannot cause the program to stop execution, but unlike <unk> a breakpoint, it remains in the list of <unk> and can be <unk> <unk>\n",
            "trg:禁用 断点 表示 它 不会 导致 程序 停止 执行 ， 但是 与 清除 断点 不同 ， 禁用 的 断点 将 保留 在 断点 列表 中 并且 可以 （ 重新 ） 启用\n",
            "pred:它 可以 是 \" 是 \" ， ， ， ， ， ， ， ， ， ， ， ， ， ， 的 的 的 ， ， 的 的 的\n",
            "\n",
            "src:(contributed by <unk> <unk> in bpo <unk>\n",
            "trg:（ 由 c é <unk> <unk> 在 bpo <unk> 中 贡献 。 ）\n",
            "pred:（ 由 <unk> <unk> <unk> 在 bpo <unk> 中 贡献 。 ）\n",
            "\n",
            "src:wraps the single paragraph in text , and returns a single string containing the wrapped <unk>\n",
            "trg:对 text 中 的 单独 段落 自动 换行 并 返回 包含 被 自动 换行 段落 的 单独 字符串\n",
            "pred:返回 包含 的 的 的 字符串 的 \" \" \" \" \" \" \" \"\n",
            "\n",
            "src:most programs go into a <unk> of <unk> and then pause waiting for a keypress or some other action on the part of the user\n",
            "trg:大部分 程序 会 显示 一堆 内容 然后 等待 按键 或者 其他 某些 用户 <unk> 动作\n",
            "pred:在 ， ， ， ， ， ， ， ， ， ， ， ， ， 的 的 的 的 <unk> <unk> <unk>\n",
            "\n",
            "src:for example, in a dictionary there are no duplicate keys, but here there may be duplicate message headers\n",
            "trg:举个 例子 ， 在 一个 字典 当中 ， 键 之间 不可 重复 ， 但是 信息 头字 段 是 可以 重复 的\n",
            "pred:在 ， 字典 的 ， 字典 ， 字典 的 ， 字典 的 的 字典 的\n",
            "\n",
            "src:the context manager's \"__exit__()\" is loaded for later use.\n",
            "trg:载入 上下文 管理器 的 \" __ exit __ ( ) \" 以便 后续 使用\n",
            "pred:对于 是 的 的 的 的 的 的 的\n",
            "\n",
            "src:when decompressing a stream, the window size must not be smaller than the size originally used to compress the <unk> using a too small value may result in an \"error\" exception\n",
            "trg:当 解压缩 一个 数据流 时 ， 窗口 大小 必须 不 小于 用于 压缩 数据流 的 原始 窗口 大小 ； 使用 太小 的 值 可能 导致 \" error \" 异常\n",
            "pred:当 一个 在 ， ， 的 的 ， ， ， ， ， ， ， ， 的 的 的 的 的 的 的\n",
            "\n",
            "src:to iterate over the indices of a sequence, you can combine \"range()\" and \"len()\" as follows:\n",
            "trg:要 以 序列 的 索引 来 迭代 ， 您 可以 将 \" range ( ) \" 和 \" len ( ) \" 组合 如下 :\n",
            "pred:这 可以 可以 \" \" \" \" \" \" \" \" \" \" \" \" \" \"\n",
            "\n",
            "src:future statements how the compiler <unk> future <unk>\n",
            "trg:future 语句 编译器 怎样 处理 future import\n",
            "pred:future future future future future future future future\n",
            "\n",
            "src:if you want to convert an integer number to octal string either with prefix <unk> or not, you can use either of the following ways.\n",
            "trg:如果 要 将 整数 转换 为 八进制 字符串 ， 并 可 选择 <unk> “ 0o ” 前缀 ， 则 可以 使用 如下 方法 ：\n",
            "pred:如果 你 可以 你 可以 的 或者 ， ， ， ， ， ， ， 的 或者 ， 的 或者 ， 的 的\n",
            "\n",
            "src:for each line of code, you then show that if invariants x and y are true before the line is executed, the slightly different invariants <unk> and <unk> are true after the line is executed\n",
            "trg:然后 对 每行 代码 ， 你 说明 这 行 代码执行 前 的 不 变量 x 和 y 以及 执行 后 <unk> 有 不同 的 不 变量 x ' 和 y ' 为 真\n",
            "pred:如果 ， ， ， ， ， ， ， ， ， ， ， ， ， ， ， ， ， ， ， ， ， ， ， ， ， ， ，\n",
            "\n",
            "src:a shared object gets deleted from the manager process when there are no longer any proxies referring to it.\n",
            "trg:当 共享 对象 没有 被 任何 代理 器 引用 时 ， 会 被 管理器 进程 删除\n",
            "pred:当 一个 的 到 到 到 到 到 到 到 到 到 到 的 的\n",
            "\n",
            "src:pep <unk> , fast access to module state from methods of c extension <unk>\n",
            "trg:pep <unk> ， 从 c 扩展 类型 的 方法 <unk> 模块 状态 ；\n",
            "pred:\" \" \" \" \" \" \" \" \" \" \" \" \" \" \" \" \"\n",
            "\n",
            "src:in non interactive mode, an expression statement is terminated with <unk>\n",
            "trg:在 非 交互 模式 下 ， 表达式 语句 以 \" pop _ top \" 终止\n",
            "pred:在 语句 表达式 语句 \" 语句 \" 语句 \" 语句 \" 语句 \" 语句\n",
            "\n",
            "src:pep <unk> csv file api the python <unk> proposal which proposed this addition to python.\n",
            "trg:该 实现 在 “ python 增强 提议 ” pep 305 ( csv 文件 api ) 中 被 提出 <unk> python 增强 提议 <unk> 提出 了 对 python 的 这 一 补充\n",
            "pred:pep <unk> python python python 的 的 的 的 的 的 的 的 的 的 的\n",
            "\n",
            "src:on platforms without <unk> the <unk> class defined by this module can still be used for custom <unk>\n",
            "trg:在 没有 \" readline \" 的 平台 , 此 模块 定义 的 \" completer \" 类 仍然 可以 用于 自定义 行为 .\n",
            "pred:在 平台 上 ， 平台 上 ， （ 由 \" 平台 （ 由 \" 平台 （ 由 \" 的 ） ）\n",
            "\n",
            "src:their disadvantage is that if e.g. you use \"utf 32 <unk> on a little endian machine you will always have to <unk> bytes on encoding and decoding\n",
            "trg:它们 的 缺点 可以 <unk> ： 如果 你 在 <unk> 小端序 的 机器 上 使用 \" utf 32 be \" 则 你 将 必须 在 编码 和 解码 时 <unk> 字节\n",
            "pred:如果 你 你 你 ， 你 ， ， ， ， ， ， ， ， ， ， ， 的 的 ， ， 的\n",
            "\n",
            "src:this asks the thread to <unk> and then <unk> for it to do so\n",
            "trg:此 方法 要求 线程 终止 ， 然后 等待 它 完成 终止 操作\n",
            "pred:这 于 ， \" \" \" \" \" \" \" \" \" \" \"\n",
            "\n",
            "src:remove the mapping for the object key from the object o\n",
            "trg:从 对象 o 中 移除 对象 key 的 映射\n",
            "pred:\" 对象 o 对象 的 的 的\n",
            "\n",
            "src:see also <unk> and \"__anext__()\" for details.\n",
            "trg:另 请参阅 \" __ aiter __ ( ) \" 和 \" __ anext __ ( ) \" 了解 详情\n",
            "pred:\" \" \" \" \" \" \" \" \" \" \" \" \" \" \" \" \" \" \"\n",
            "\n",
            "src:bpo <unk> fix a possible reference leak in <unk>\n",
            "trg:bpo <unk> : 修复 了 函数 \" itertools . count ( ) \" 中 的 潜在 引用 对象 <unk>\n",
            "pred:bpo <unk> : 修复 了 \" \" \" \" \" \" \" \" \" \"\n",
            "\n",
            "src:this method <unk> the current transaction\n",
            "trg:这个 方法 提交 当前 事务\n",
            "pred:此 方法 当前 的 当前\n",
            "\n",
            "src:append the object item at the end of list list\n",
            "trg:将 对象 item 添加 到 列表 list 的 末尾\n",
            "pred:列表 列表 列表 列表 列表 列表 列表 列表 列表\n",
            "\n",
            "src:the <unk> and <unk> functions are now always available\n",
            "trg:现在 \" os . <unk> ( ) \" 和 \" os . <unk> ( ) \" 函数 将 总是 可用\n",
            "pred:现在 \" \" \" \" \" \" \" \" \" \" \" \" \" \"\n",
            "\n",
            "src:this is a non negative integer\n",
            "trg:这是 一个 <unk> 整数\n",
            "pred:这 整数 整数 整数\n",
            "\n",
            "src:return the number input\n",
            "trg:返回 输入 的 数值\n",
            "pred:返回 输入\n",
            "\n",
            "src:if the call hasn't yet completed then this method will wait up to timeout seconds\n",
            "trg:如果 调用 还 没 完成 那么 这个 方法 将 等待 timeout 秒\n",
            "pred:如果 此 方法 将 \" 将 \" 将 \" 将 将 \" 将 \" 将\n",
            "\n",
            "src:this class is used to declare a new context variable, e.g.:\n",
            "trg:此类 用于 声明 一个 新 的 上下文 变量 ， 如 :\n",
            "pred:此 上下文 一个 新 上下文 的 上下文 的 的 的\n",
            "\n",
            "src:python combines <unk> power with very clear syntax\n",
            "trg:python 结合 了 <unk> 的 功能 和 <unk> <unk> 的 语法\n",
            "pred:python python python 的 的 的 语法 特性\n",
            "\n",
            "src:this function should be used when the intent is to treat the contents as executable code.\n",
            "trg:如果 目的 是 将 文件 内容 做 为 可 执行 代码 ， 则 应 使用 此 函数\n",
            "pred:此 将 被 被 被 被 被 被 被 被 被\n",
            "\n",
            "src:set the name inside capsule to name\n",
            "trg:将 capsule 内部 的 名称 设 为 name\n",
            "pred:名称 名称 名称 名称 名称 名称\n",
            "\n",
            "src:raises an auditing event <unk> with arguments <unk> <unk> <unk> <unk>\n",
            "trg:引发 一个 审计 事件 \" shutil . make _ archive \" 并 附带 参数 \" base _ name \" , \" format \" , \" <unk> _ dir \" , \" base _ dir \"\n",
            "pred:引发 一个 审计 事件 \" \" \" \" \" \" \" \" \" \" \" \" \" \" \" \" \" \"\n",
            "\n",
            "src:assign object v to the i th element of o\n",
            "trg:将 对象 v 赋值 给 o 的 第 i 号 元素\n",
            "pred:返回 o o o o o 的 的 的\n",
            "\n",
            "src:and, in many applications, data is converted to \"decimal\" with a single cast inside a loop\n",
            "trg:并且 ， 在 许多 应用程序 中 ， 数据 在 循环 内 单个 强制 转换 为 \" decimal \"\n",
            "pred:在 ， 的 ， ， ， 的 ， ， 的 的 的\n",
            "\n",
            "src:json is a subset of yaml <unk>\n",
            "trg:json 是 yaml 1.2 的 一个 子集\n",
            "pred:<unk> 是 的 的 的 的\n",
            "\n",
            "src:new in version 3.7.\n",
            "trg:3.7 新版 功能 .\n",
            "pred:3.7 新版 功能 .\n",
            "\n",
            "src:\"await\" <unk> start a unix socket server\n",
            "trg:\" await \" \" start _ unix _ server ( ) \" 启动 一个 unix socket 服务\n",
            "pred:\" \" \" socket \" \" socket unix \" socket unix 服务\n",
            "\n",
            "src:if \" h\" or \" help\" is supplied at the command line, the argumentparser help will be <unk>\n",
            "trg:如果 \" h \" or \" help \" 在 命令行 中 被 提供 , 参数 解析器 帮助 信息 会 打印 :\n",
            "pred:如果 \" \" 或 \" 或 或 则 则 则 则 ， \" \" \" \" \" \"\n",
            "\n",
            "src:all gzip compressed streams are required to contain this timestamp field\n",
            "trg:所有 gzip <unk> 压缩 流中 必须 包含 时间 戳 这个 字 段\n",
            "pred:所有 所有 的 所有 的 所有 的 所有 的 所有 的\n",
            "\n",
            "src:for example, the following file system layout defines a top level <unk> package with three <unk>\n",
            "trg:例如 ， 以下 文件系统 布局 定义 了 一个 最高 层级 的 \" parent \" 包 和 三个 子包 :\n",
            "pred:对于 模块 定义 了 的 的 的 的 的 的 的 的 的 的\n",
            "\n",
            "src:the number of items returned is <unk> / <unk> / <unk> <unk> when \"0 < r < n\" or zero when <unk> > <unk>\n",
            "trg:当 \" 0 < r < n \" 时 ， 返回 项 的 个数 是 \" n ! / r ! / ( n r ) ! \" ； 当 \" r > n \" 时 ， 返回 项 个数 为 0\n",
            "pred:当 \" 个数 n 个数 为 个数 \" 个数 \" 个数 \" 个数 \" \" 个数 \" \" \" \" \" \" \" \" \" \" \" \"\n",
            "\n",
            "src:return a c \"double\" representation of the contents of pyfloat , but without error checking.\n",
            "trg:返回 一个 pyfloat 内容 的 c \" double \" 表示 ， 但 没有 错误 检查\n",
            "pred:返回 一个 返回 一个 的 的 的 ， 的 的 的 的 的\n",
            "\n",
            "src:complete the parsing of all previously fed data and return the root message object\n",
            "trg:完成 之前 输入 的 所有 数据 的 解析 并 返回 根 消息 对象\n",
            "pred:返回 消息 \" 消息 \" 消息 的 消息 的 消息 消息\n",
            "\n",
            "src:packages can be installed via the standard python distutils mode <unk> <unk> <unk>\n",
            "trg:可以 通过 标准 的 python distutils 模式 （ \" python setup . py install \" ） 安装 软件包\n",
            "pred:python python python python 包 模式 python 包 模式 python 包 模式 org . <unk> <unk> org .\n",
            "\n",
            "src:(there is also another sub module, <unk> for configuration <unk>\n",
            "trg:（ 还有 另 一个 子 模块 \" logging . config \" ， 用于 配置 功能 ）\n",
            "pred:\" 是 \" \" \" \" \" \" \" \" \" \" \" \"\n",
            "\n",
            "src:a comment starts with a hash character <unk> that is not part of a string literal, and ends at the end of the physical line\n",
            "trg:一条 注释 以 不 包含 在 字符串 字 面值 内 的 <unk> 号 ( \" # \" ) 开头 ， 并 在 物理 行 的 末尾 结束\n",
            "pred:一个 是 一个 字符串 ， 字符串 ， 字符串 ， 字符串 的 字符串 的 字符串 的 字符串\n",
            "\n",
            "src:\"pickle\" python object serialization\n",
            "trg:\" pickle \" python 对象 序列化\n",
            "pred:python python python 对象 的 对象\n",
            "\n",
            "src:the two following opening hooks are provided by this module:\n",
            "trg:此 模块 提供 了 以下 两种 打开 文件 钩子 ：\n",
            "pred:此 模块 由 提供 由 提供 的 模块 的\n",
            "\n",
            "src:update os x installer to use sqlite <unk> and <unk> <unk>\n",
            "trg:更新 os x 安装包 ， 使用 sqlite 3.14 . 1 和 xz <unk> . 2 版本\n",
            "pred:使用 使用 使用 \" 使用 \" . <unk> . <unk> . <unk> \" . <unk> \" \" \"\n",
            "\n",
            "src:<unk> parsing email messages\n",
            "trg:\" email . parser \" : 解析 电子邮件 信息\n",
            "pred:\" \" \" \" \" \" \" \" \" \"\n",
            "\n",
            "src:the generated \"__init__()\" method for \"c\" will look like:\n",
            "trg:为 \" c \" 生成 的 \" __ init __ ( ) \" 方法 看起来 像 :\n",
            "pred:\" \" \" \" \" \" \" \" \" \" \" \"\n",
            "\n",
            "src:you can use the following <unk>\n",
            "trg:你 可以 使用 以下 模式 :\n",
            "pred:你 可以 使用 可以 使用 :\n",
            "\n",
            "src:changed in version 3.4: the <unk> error handlers now works with utf 16 and utf 32 <unk>\n",
            "trg:在 3.4 版 更改 : \" ' <unk> ' \" 错误处理 方案 现在 适用 于 utf 16 和 utf 32 编解码器\n",
            "pred:在 3.4 版 更改 : \" \" \" \" \" \" \" \" \" \" \" \" \" \" \" \" \"\n",
            "\n",
            "src:<unk> objects, as returned by \"open()\", have the following methods:\n",
            "trg:由 \" open ( ) \" 返回 的 wave _ read 对象 ， 有 以下 几种 方法 :\n",
            "pred:\" \" \" \" \" \" \" \" \" \" \" \" \" \" \" \" \"\n",
            "\n",
            "src:the argument is a tuple consisting of the various parameters\n",
            "trg:该 参数 是 由 多个 形参 组成 的 元组\n",
            "pred:参数 参数 参数 参数 的 参数\n",
            "\n",
            "src:return \"0\" on success\n",
            "trg:成功 时 返回 \" 0 \"\n",
            "pred:成功 时 返回 0 \" \"\n",
            "\n",
            "src:\"object\" does not have a <unk> so you can't assign arbitrary attributes to an instance of the \"object\" class.\n",
            "trg:由于 \" object \" 没有 \" __ dict __ \" ， 因此 无法 将 任意 属性 赋给 \" object \" 的 实例\n",
            "pred:你 一个 你 的 的 的 的 的 的 的 的 的 的 的 的 的 的\n",
            "\n",
            "src:however, if you do this, you will not be able to see the events as you intended in the event log <unk> it needs to be able to access the registry to get the <unk> name\n",
            "trg:但是 ， 如果 你 这样 做 ， 你 将 无法 如 你 所 预期 的 那样 在 事件 日志 <unk> 中 看到 这些 事件 — — 它 必须 能 访问 注册表 来 获取 . dll 名称\n",
            "pred:如果 你 ， ， ， ， ， ， ， ， ， ， ， 的 ， ， 的 的 的 的\n",
            "\n",
            "src:<unk> <unk> <unk> of <unk>\n",
            "trg:\" dbm . gnu \" gnu 对 dbm 的 重 解析\n",
            "pred:<unk> : <unk> <unk> <unk> <unk> , <unk>\n",
            "\n",
            "src:the arguments must either both be numbers or both be sequences of the same type\n",
            "trg:两个 参数 或者 必须 都 为 数字 ， 或者 都 为 相同 类型 的 序列\n",
            "pred:或者 类型 类型 类型 类型 类型 类型 类型 类型 类型 类型 类型\n",
            "\n",
            "src:release date: 2017 06 17\n",
            "trg:发布 日期 : 2017 06 17\n",
            "pred:发布 日期 : 2017 03\n",
            "\n",
            "src:the routine takes time <unk> to <unk>\n",
            "trg:本 例程 所 需 的 时间 与 \" len ( fragment ) \" <unk>\n",
            "pred:我们 <unk> 时间 \" 时间 \" \" \" \" \"\n",
            "\n",
            "src:see <unk> in the editing and navigation section below.\n",
            "trg:请参阅 下面 的 “ 编辑 和 导航 ” 部分 中 的 <unk>\n",
            "pred:参见 : \" \" \" \" \" \" \" \" \" \"\n",
            "\n",
            "src:mock for method calls on an object\n",
            "trg:对象 上 的 方法 调用 的 mock\n",
            "pred:在 对象 对象 对象 对象 的 对象 对象 的 对象\n",
            "\n",
            "src:another solution to the problem of non comparable tasks is to create a wrapper class that ignores the task item and only compares the priority <unk>\n",
            "trg:不可 比较 任务 问题 的 另 一种 解决方案 是 创建 一个 忽略 任务 条目 并且 只 比较 优先级 字段 的 包装 <unk> :\n",
            "pred:另 一种 是 的 的 的 的 的 的 的 的 的 的 的 的 的 的 的 的 的 的 的 的 的\n",
            "\n",
            "src:in many use cases one doesn't care what the actual value of an enumeration is\n",
            "trg:在 许多 应用 场景 中 人们 都 不 关心 枚举 的 实际 值 是 什么\n",
            "pred:在 是 是 是 的 是 ， 的 的 的\n",
            "\n",
            "src:return true if ob 's type is <unk> ob must not be \"null\".\n",
            "trg:如果 ob 的 类型 为 \" pygen _ type \" 则 返回 真值 ； ob 必须 不 为 \" null \"\n",
            "pred:如果 ob 为 为 为 \" 为 \" 为 \" \" \" \" \" \"\n",
            "\n",
            "src:this code is actually automatically run when python is run in interactive mode (see readline <unk>\n",
            "trg:此 代码 实际上 会 在 python 运行 于 交互 模式 时 自动 运行 ( 参见 readline <unk> )\n",
            "pred:当 python 运行 时 在 ， 的 运行 时 ， \" \" \" \"\n",
            "\n",
            "src:if typed is set to true, function arguments of different types will be cached separately\n",
            "trg:如果 <unk> 设置 为 true ， 不同 类型 的 函数参数 将 被 分别 缓存\n",
            "pred:如果 设置 为 \" \" \" \" \" \" \" \" \" \" \"\n",
            "\n",
            "src:<unk> or second <unk> about the mean, is a measure of the <unk> <unk> or <unk> of data\n",
            "trg:方差 <unk> 相对 于 均值 的 <unk> <unk> ， 是 对 数据 变化 幅度 （ <unk> <unk> 或 <unk> ） 的 度量\n",
            "pred:<unk> <unk> <unk> <unk> <unk> <unk> <unk> <unk> <unk> <unk> <unk> 或 的 或 <unk> <unk> 或 的 或\n",
            "\n",
            "src:here is the <unk>\n",
            "trg:以下 是 解决方案 ：\n",
            "pred:这是 是 conf conf\n",
            "\n",
            "src:an invalid logger name.\n",
            "trg:无效 的 日志 记录器 名称\n",
            "pred:无效 的 的\n",
            "\n",
            "src:other graphical user interface packages\n",
            "trg:其他 图形用户界面 （ gui ） 包\n",
            "pred:其他 改进 包\n",
            "\n",
            "src:new in version 3.5.\n",
            "trg:3.5 新版 功能 .\n",
            "pred:3.5 新版 功能 .\n",
            "\n",
            "src:<unk> array <unk> algorithm\n",
            "trg:\" bisect \" 数组 <unk> 查找 算法\n",
            "pred:\" \" \" \" \"\n",
            "\n",
            "src:the mtime argument is an optional numeric timestamp to be written to the last modification time field in the stream when compressing\n",
            "trg:mtime 参数 是 一个 可选 的 数字 时间 戳 用于 写入 流 的 最后 修改 字 段 ，\n",
            "pred:在 ， 的 的 的 ， ， ， 的 的 ， 的 的 的 的\n",
            "\n",
            "src:types that modify instance allocation or deallocation may need to be <unk>\n",
            "trg:修改 实例 分配 或 中止 分配 的 类型 可能 需要 进行 调整\n",
            "pred:要 访问 的 的 的 的 的 的 的 的 的\n",
            "\n",
            "src:in this case, <unk> will return a match object, so you should store the result in a variable for later use.\n",
            "trg:在 这个 例子 中 \" match ( ) \" 将 返回 一个 匹配 对象 ， 因此 你 应该 将 结果 储存 到 一个 变量 <unk> 供 稍后 使用\n",
            "pred:在 在 在 ， 的 的 ， ， ， ， ， ， 的 的 的 的 的 的 的\n",
            "\n",
            "src:return an \"ipv4address\" or <unk> object depending on the ip address passed as argument\n",
            "trg:返回 一个 \" ipv4address \" 或 \" ipv6address \" 对象 ， 取决于 作为 参数传递 的 ip 地址\n",
            "pred:返回 \" \" \" \" \" \" \" \" \" \" \" \" \" \" \"\n",
            "\n",
            "src:changed in version 3.9: no longer called before the module state is <unk>\n",
            "trg:在 3.9 版 更改 : no longer called <unk> the module state is <unk> .\n",
            "pred:在 3.3 版 更改 : the \" \" \" \" \" \" \" \" \" \" \"\n",
            "\n",
            "src:not all python object types are <unk> in general, only objects whose value is independent from a particular invocation of python can be written and read by this module\n",
            "trg:不是 所有 python 对象 类型 都 受 支持 ； 一般来说 ， 此 模块 只能 写入 和 读取 不 依赖于 特定 python 调用 的 对象\n",
            "pred:此 通过 通过 通过 的 python python python 的 的 的 的 的 的 的 的 的 的 的 的 的 的 的 的 的\n",
            "\n",
            "src:<unk> <unk> <unk> <unk> can be used to type hint a callable taking any number of arguments and returning <unk>\n",
            "trg:\" callable [ ... , returntype ] \" （ 使用 字面 省略号 ） 能 被 用于 提示 一个 可 调用 对象 ， 接受 任意 数量 的 参数 并且 返回 \" returntype \"\n",
            "pred:\" \" \" \" \" \" \" \" \" \" \" \" \" \" \" \" \" \" \" \" \" \" \" \" \" \" \"\n",
            "\n",
            "src:it has <unk> been <unk> by rfc <unk> .\n",
            "trg:显然 它 已 被 rfc <unk> 所 <unk>\n",
            "pred:它 <unk> <unk> <unk> <unk> <unk> <unk> <unk>\n",
            "\n",
            "src:this example calls both functions with a \"null\" pointer <unk> should be used as the \"null\" <unk>\n",
            "trg:此 函数 中 调用 的 两个 函数 都 使用 了 空 指针 （ 用 \" none \" 作为 空 指针 ） :\n",
            "pred:\" \" \" \" \" \" \" \" \" \" \" \" \" \" \" \" \" \" \" \" \"\n",
            "\n",
            "src:\"x in <unk> evaluates to \"true\" if x is a member of s , and \"false\" otherwise\n",
            "trg:如果 x 是 s 的 成员 则 \" x in s \" 求值 为 \" true \" ， 否则 为 \" false \"\n",
            "pred:\" \" \" \" \" \" \" \" \" \" \" \" \" \" \" \" \" \" \" \" \" \" \" \" \" \" \" \"\n",
            "\n",
            "src:<unk> forces the field to be right aligned within the available space (this is the default for <unk>\n",
            "trg:\" ' > ' \" 强制 字段 在 可用 空间 <unk> 对齐 （ 这是 数字 的 默认值 ）\n",
            "pred:默认 为 \" \" \" \" \" 内 \" 内 \" 的 的 默认值 为\n",
            "\n",
            "src:this <unk> <unk> is <unk> to run on a virtual machine that executes the machine code corresponding to each bytecode\n",
            "trg:这种 \" 中间 语言 \" 运行 在 根据 字节 码 执行 相应 <unk> 的 virtual machine 之上\n",
            "pred:这 <unk> <unk> <unk> 的 的 的 的 的 的 的 的 的 的 的 的\n",
            "\n",
            "src:by default, or when pages is either \"0\" or a negative integer, the entire database is copied in a single <unk> otherwise the method performs a loop copying up to pages pages at a time.\n",
            "trg:默认 情况 下 ， 或者 当 <unk> 为 \" 0 \" <unk> 整数 时 ， 整个 数据库 将 在 一个 步骤 中 复制 ； 否则 该 方法 一次 循环 复制 <unk> 规定 数量 的 页面\n",
            "pred:当 \" 情况 下 ， \" \" \" \" \" \" \" \" ， \" \" ， \" \" \" \" \" \" \" \" \" \" \" \" \" \" \" \"\n",
            "\n",
            "src:the maximum depth for recursive interpolation for \"get()\" when the raw parameter is false\n",
            "trg:当 raw 形参为 假值 时 \" get ( ) \" 所 采用 的 递归 插值 的 最大 深度\n",
            "pred:当 在 \" \" \" ， \" ， ， ， ， ， 时 ，\n",
            "\n",
            "src:this behaviour is to disable any existing non root loggers unless they or their <unk> are explicitly named in the logging configuration.\n",
            "trg:此 行为 是 禁用 任何 现有 的 <unk> 日志 记录器 除非 它们 或 它们 的 上级 在 日志 记录 配置 中 被 显式 地 命名\n",
            "pred:这 在 日志 记录器 日志 中 日志 ， 日志 ， 日志 ， 日志 ， 日志 ， 日志 记录器 <unk> 日志 中 日志 中\n",
            "\n",
            "src:new in version 3.4.\n",
            "trg:3.4 新版 功能 .\n",
            "pred:3.4 新版 功能 .\n",
            "\n",
            "src:the default is <unk>\n",
            "trg:默认值 为 \" 9 \"\n",
            "pred:默认 是 默认值 \" \" \"\n",
            "\n",
            "src:new in version 3.2: the <unk> argument.\n",
            "trg:3.2 新版 功能 : <unk> 参数\n",
            "pred:3.2 新版 功能 : : \" \"\n",
            "\n",
            "src:collect the arguments using the \" \" and \" \" specifiers in the function's parameter list; this gives you the positional arguments as a tuple and the keyword arguments as a dictionary\n",
            "trg:使用 函数参数 列表 中 的 \" \" 和 \" \" 说明符 收集 参数 ; 这会 将 位置 参数 作为 元组 ， 将 关键字 参数 作为 字典\n",
            "pred:\" 参数 \" \" \" \" \" \" \" \" 字典 \" 字典 \" 字典 \" 字典 作为 参数 字典 \" 字典 作为 关键字\n",
            "\n",
            "src:read parsing arguments and building values for detail\n",
            "trg:请参阅 语句 解释 及 变量 编译 了解 详情\n",
            "pred:\" 和 的 和 值 的 的 的\n",
            "\n",
            "src:the \"ipaddress\" module provides factory functions to <unk> create ip addresses, networks and <unk>\n",
            "trg:\" ipaddress \" 模块 提供 来 工厂 函数 来 方便 地 创建 ip 地址 ， 网络 和 接口 ：\n",
            "pred:\" 模块 \" \" \" \" \" \" \" \" \" \" \" \" \" \" \"\n",
            "\n",
            "src:this feature can be used to the module's advantage if it maintains a global table or cache of objects with a \"try\" statement it can test for the <unk> presence and skip its initialization if <unk>\n",
            "trg:这一 特性 可 用于 作为 那个 模块 的 优点 ， 如果 它 维护 一个 全局 表 或者 对象 的 缓存 — — 使用 \" try \" 语句 ， 就 可以 测试 表 的 存在 并且 跳过 它 的 初始化 ， 如果 有 需要的话 :\n",
            "pred:如果 提供 了 可以 的 的 的 的 的 的 ， ， ， ， ， ， 的 的 ， ， ， 的 的 的 的 的 的 的 的 的 的 的\n",
            "\n",
            "src:pep <unk> preserving class attribute definition order pep written and implemented by eric <unk>\n",
            "trg:pep <unk> 保留 类 属性 定义 顺序 pep 由 eric <unk> 撰写 并 实现\n",
            "pred:pep <unk> 由 <unk> 由 <unk> 由 <unk> <unk> <unk> 撰写 并 实现 撰写\n",
            "\n",
            "src:when either is present, the <unk> commands will appear in their own group in the help output\n",
            "trg:当 两者 都 存在 时 ， 子 解析器 的 命令 将 出现 在 输出 帮助 消息 中 它们 自己 的 分组 内\n",
            "pred:在 在 中 中 的 中 时 ， 的 输出 ， 的 输出\n",
            "\n",
            "src:although asyncio queues are not thread safe, they are designed to be used specifically in <unk> code.\n",
            "trg:尽管 asyncio 队列 不是 线程 安全 的 ， 但是 他们 是 被 设计 专用 于 async / await 代码\n",
            "pred:在 记住 ， ， ， ， ， ， ， 在 记住 在 记住 在 记住 的\n",
            "\n",
            "src:some python users <unk> a deep interest in <unk> the relative performance of different <unk> to the same problem\n",
            "trg:一些 python 用户 对 了解 同一 问题 的 不同 方法 的 相对 性能 产生 了 <unk> 的 兴趣\n",
            "pred:在 python 的 的 的 的 的 的 的 的 的 的 的 的 的 的 的 的 的 的 的\n",
            "\n",
            "src:4 input parameter which defaults to the integer zero.\n",
            "trg:4 默认 为 整数 <unk> 的 输入 形参\n",
            "pred:默认 为 \" 为 \" 为 \"\n",
            "\n",
            "src:previously, the <unk> statement would not work correctly if the \"assertionerror\" exception was being <unk>\n",
            "trg:在 之前 的 版本 中 ， 如果 \" assertionerror \" 异常 被 屏蔽 则 assert 语句 将 不能 正常 运作\n",
            "pred:如果 未 \" \" \" ， ， ， ， ， \" ， \" \" \"\n",
            "\n",
            "src:(contributed by giampaolo <unk> in bpo <unk>\n",
            "trg:（ 由 giampaolo rodol à 在 bpo <unk> 中 贡献 。 ）\n",
            "pred:（ 由 giampaolo rodol à 在 bpo <unk> 中 贡献 。 ）\n",
            "\n",
            "src:<unk> is used by <unk> so you get this functionality <unk>\n",
            "trg:\" <unk> \" 被 用 在 \" contextmanager ( ) \" 中 ， 因此 你 自然 获得 了 <unk> 功能\n",
            "pred:你 <unk> <unk> <unk> <unk> <unk> <unk> <unk> <unk> <unk> <unk> <unk> <unk>\n",
            "\n",
            "src:use the built in \"super()\" function:\n",
            "trg:使用 内置 的 \" super ( ) \" 函数 ：\n",
            "pred:使用 \" \" \" \" \" \"\n",
            "\n",
            "src:the final <unk> <unk> a static type checker to restrict <unk> <unk> or <unk>\n",
            "trg:<unk> 限定符 会 指示 静态 类型 检查 器 限制 进行 子 类化 、 重载 或 重新 赋值 :\n",
            "pred:<unk> <unk> <unk> <unk> <unk> <unk> <unk> 或 或 <unk> <unk> <unk> <unk> <unk> <unk> <unk> <unk> <unk> <unk>\n",
            "\n",
            "src:<unk> if \"microsecond\" is not 0\n",
            "trg:\" hh : mm : ss . ffffff \" ， 如果 \" microsecond \" 不 为 0\n",
            "pred:如果 yyyy mm ddthh \" \" \" ss \" ss \"\n",
            "\n",
            "src:<unk> the order in which object's \"__del__()\" methods are executed is arbitrary\n",
            "trg:更 <unk> 的 是 ， 对象 \" __ del __ ( ) \" 的 方法 执行 顺序 是 任意 的\n",
            "pred:在 \" \" \" \" \" \" \" \" \" \" \" 的 的\n",
            "\n",
            "src:also \" e\" can be used to make \"exec()\" a function.\n",
            "trg:也 可以 使用 \" e \" 将 \" exec ( ) \" 解读 为 函数\n",
            "pred:\" \" \" \" \" \" \" \" \" \" \" \" \"\n",
            "\n",
            "src:returns \"1\" if the object o provides numeric <unk> and false otherwise\n",
            "trg:如果 对象 o 提供 数字 的 协议 ， 返回 真 \" 1 \" ， 否则 返回 假\n",
            "pred:如果 提供 \" \" \" \" \" \" \" \" \" \" \" \" \" \" \" \" \" \"\n",
            "\n",
            "src:thread safety of proxies\n",
            "trg:代理 的 线程 安全性\n",
            "pred:返回 的 的\n",
            "\n",
            "src:library and extension faq\n",
            "trg:代码 库 和 插件 faq\n",
            "pred:和 和\n",
            "\n",
            "src:the following example <unk> how coroutines can <unk> the cancellation <unk>\n",
            "trg:以下 示例 演示 了 协程 是 如何 <unk> 取消 请求 的 :\n",
            "pred:下面 的 下面 的 <unk> 了 以下 <unk> :\n",
            "\n",
            "src:\"marshal\" internal python object serialization\n",
            "trg:\" marshal \" 内部 python 对象 序列化\n",
            "pred:\" \" \" \" \" python 的\n",
            "\n",
            "src:reverse the order of the items in the array.\n",
            "trg:反转 数组 中 <unk> 的 顺序\n",
            "pred:结果 的 的 的 的\n",
            "\n",
            "src:this is the inverse of <unk>\n",
            "trg:这是 \" chr ( ) \" 的 <unk>\n",
            "pred:这是 \" \" \" \" \" \" \" \" \" \"\n",
            "\n",
            "src:i can't get key bindings to work in <unk> <unk>\n",
            "trg:在 tkinter <unk> 绑定 不 工作 ： 为什么 ？\n",
            "pred:此 <unk> <unk> <unk> 的 的 的 <unk> <unk> 中 的 中\n",
            "\n",
            "src:the attribute part of the background is combined <unk> with all non blank characters that are written into the window\n",
            "trg:背景 的 属性 部分 会 与 写入 窗口 的 所有 非 空白 字符 合并 （ 即 or 运算 ）\n",
            "pred:所有 的 的 的 的 的 的 所有 的 的 的 的 的 的\n",
            "\n",
            "src:like <unk> but adds counts instead of replacing them\n",
            "trg:像 \" dict . update ( ) \" 但是 是 加上 ， 而 不是 替换\n",
            "pred:\" \" \" \" \" \" \" \" \" \" \" \" \" \" \" \"\n",
            "\n",
            "src:a <unk> <unk> object that runs a python coroutine\n",
            "trg:一个 与 \" future 类似 \" 的 对象 ， 可 运行 python 协程\n",
            "pred:python 一个 python 一个 python 一个 python 一个 python 的\n",
            "\n",
            "src:unlike a unix <unk> python does not do any automatic path <unk>\n",
            "trg:与 unix shell 不同 ， python 不 执行 任何 自动 路径 扩展\n",
            "pred:\" \" \" \" \" \" \" \" \" \" \" \" \" \" \"\n",
            "\n",
            "src:<unk> is the password used for encrypted files.\n",
            "trg:pwd 是 用于 <unk> 文件 的 密码\n",
            "pred:用于 <unk> 用于 的 用于 的\n",
            "\n",
            "src:return the exception raised by the call\n",
            "trg:返回 由 调用 引发 的 异常\n",
            "pred:返回 异常 异常 异常 异常\n",
            "\n",
            "src:<unk> indicates the current file format (currently <unk>\n",
            "trg:\" py _ marshal _ version \" 指明 了 当前 文件 的 格式 （ 当前 取值 为 2 ）\n",
            "pred:文件 的 文件 的 文件 的 文件 的 文件\n",
            "\n",
            "src:without the use of this decorator <unk> the name of the example function would have been <unk> and the docstring of the original <unk> would have been lost.\n",
            "trg:如果 不 使用 这个 装饰 器 工厂 函数 ， 则 example 函数 的 名称 将 变为 \" ' wrapper ' \" ， 并且 \" example ( ) \" 原本 的 文档 字符串 将会 丢失\n",
            "pred:这是 一个 的 的 的 的 的 的 的 ， ， ， 的 的 ， 的 的 的 的 的 的 的\n",
            "\n",
            "src:this is normally called from the <unk> handler specified in the object's type\n",
            "trg:这 通常 由 对象 的 type 字段 定义 的 \" tp _ dealloc \" <unk> 来 调用\n",
            "pred:这个 \" \" \" \" \" \" \" \" \" \" \" \" \" \"\n",
            "\n",
            "src:it accepts the following optional parameters: \" n\" opens the url in a new browser window, if <unk> \" t\" opens the url in a new browser page <unk>\n",
            "trg:还 接受 以下 可 选 参数 ： \" n \" 如果 可能 ， 在 新 的 浏览器 窗口 中 打开 url ； \" t \" 在 新 的 浏览器 页面 （ “ 标签 ” ） 中 打开 url\n",
            "pred:在 一个 新 的 的 的 的 的 的 ， ， ， ， ， 的 的 ， ， 的 的 的 的 的\n",
            "\n",
            "src:the function definition does not execute the function <unk> this gets executed only when the function is called\n",
            "trg:函数 定义 并 不会 执行 函数 体 ； 只有 当 函数 被 调用 时才 会 执行 此 操作\n",
            "pred:函数 函数 函数 函数 函数 函数 函数 函数 函数 函数 函数 函数 函数 函数 函数 函数 函数 函数 函数 函数 函数 函数\n",
            "\n",
            "src:arguments in shebang lines\n",
            "trg:shebang lines 的 参数\n",
            "pred:在 参数 的\n",
            "\n",
            "src:at most one single read on the compressed stream is done to <unk> the call\n",
            "trg:最 多 只有 一个 单独 的 读取 流 来 服务 这个 方法 调用\n",
            "pred:在 调用 调用 调用 调用 调用 会 调用 调用 停止 调用 停止 调用\n",
            "\n",
            "src:writes to the database will not be synchronized\n",
            "trg:写入 数据库 将 不会 同步\n",
            "pred:将 将 将 的 将 ， 将\n",
            "\n",
            "src:while a positional argument could be created like:\n",
            "trg:而 位置 参数 可以 这么 创建 :\n",
            "pred:参数 一个 参数 的 参数 的 参数\n",
            "\n",
            "src:corresponds to \"errno\" <unk> <unk> <unk> and <unk>\n",
            "trg:对应 于 \" errno \" \" <unk> \" , \" <unk> \" , \" <unk> \" 和 \" <unk> \"\n",
            "pred:对应 于 \" errno \" \" \" \" \" \" \" \" \" \" \"\n",
            "\n",
            "src:it is always <unk> instead of <unk> <unk> <unk>\n",
            "trg:它 将 总是 \" ' <unk> ' \" 而 不再 是 \" ' <unk> ' \" .. \" ' <unk> ' \"\n",
            "pred:它 后者 是 \" ( \" ( \" ( \" ( \" ) \" \"\n",
            "\n",
            "src:remove the event from the queue\n",
            "trg:从 队列 中 删除 事件\n",
            "pred:从 队列 中 的\n",
            "\n",
            "src:new in version 3.4.\n",
            "trg:3.4 新版 功能 .\n",
            "pred:3.4 新版 功能 .\n",
            "\n",
            "src:<unk> one or more keyword arguments with the below listed keys as keywords\n",
            "trg:<unk> 一个 或 多个 以 下列 <unk> 关键字 的 关键字 参数\n",
            "pred:\" \" \" \" \" \" \" \" \" \" \" \" \" \" 参数 的 的\n",
            "\n",
            "src:this numeric value corresponds to a value found in the dictionary of codes as found in <unk>\n",
            "trg:这个 数字 的 值 对应 于 存放 在 \" http . server . <unk> . <unk> \" 代码 字典 中 的 某个 值\n",
            "pred:这 字典 的 的 的 的 的 \" \" \" \" \" \" \" \" \"\n",
            "\n",
            "src:this is what <unk> <unk> also does in <unk>\n",
            "trg:这 和 msvc 中 的 \" # <unk> pack ( n ) \" 功能 一样\n",
            "pred:这 也 在 <unk> <unk> 中 中 中 中 中\n",
            "\n",
            "src:if you <unk> code like:\n",
            "trg:如果 你 编写 的 代码 就 像 下面 一样 ：\n",
            "pred:如果 你 的 <unk> 代码 的\n",
            "\n",
            "src:various structures for implementing <unk> have been extensively <unk> and heaps are good for this, as they are <unk> <unk> the speed is almost <unk> and the worst case is not much different than the average case\n",
            "trg:用于 实现 调度 器 的 各种 结构 都 得到 了 充分 的 <unk> ， 堆 是 非常 适宜 的 一种 ， 因为 它们 的 速度 相当 快 ， 并且 几乎 是 <unk> 的 ， 最坏 的 情况 与 平均 情况 没有 太 大 差别\n",
            "pred:对于 ， <unk> <unk> ， ， ， ， ， ， ， ， ， ， ， ， ， ， ， <unk> <unk> <unk> <unk> <unk>\n",
            "\n",
            "src:<unk> by giampaolo <unk>\n",
            "trg:( 补丁 由 giampaolo <unk> 提供 )\n",
            "pred:\" <unk> \" \" <unk> <unk> <unk> <unk>\n",
            "\n",
            "src:<unk> and <unk> a <unk> <unk> external padding on each side of the <unk> <unk>\n",
            "trg:<unk> 和 <unk> a <unk> <unk> <unk> <unk> on each <unk> of the <unk> widget .\n",
            "pred:<unk> <unk> <unk> <unk> <unk> <unk> <unk> <unk> <unk> <unk> <unk> <unk> <unk> <unk> <unk>\n",
            "\n",
            "src:supports the following objects and types by <unk>\n",
            "trg:默认 支持 以下 对象 和 类型 ：\n",
            "pred:\" 对象 由 \" \" \" \" \" \"\n",
            "\n",
            "src:changed in version 3.4: added file parameter.\n",
            "trg:在 3.4 版 更改 : 添加 file 形参\n",
            "pred:在 3.4 版 更改 : 添加 file 添加\n",
            "\n",
            "src:(contributed by <unk> <unk> <unk> and antoine pitrou.)\n",
            "trg:（ 由 <unk> <unk> d ' <unk> 和 antoine pitrou 贡献 。 ）\n",
            "pred:（ 由 antoine pitrou 和 antoine pitrou 贡献 。 ）\n",
            "\n",
            "src:it can be used when a statement is required syntactically but the program requires no action\n",
            "trg:当 语法 上 需要 一个 语句 ， 但 程序 需要 什么 动作 也 不 做 时 ， 可以 使用 它\n",
            "pred:当 在 可以 被 时 ， 被 时 ， 被 被 被\n",
            "\n",
            "src:return true if the type of op is <unk>\n",
            "trg:如果 op 的 类型 为 \" <unk> _ type \" 则 返回 true\n",
            "pred:如果 ob 为 类型 为 则 返回 \" \" \"\n",
            "\n",
            "src:for example, expressing <unk> as <unk> keeps the value constant but cannot show the <unk> two place <unk>\n",
            "trg:例如 ， 将 \" <unk> e + 3 \" 表示 为 \" <unk> \" 可以 让 值 保持 <unk> ， 但是 无法 显示 原本 的 <unk> 有效数字\n",
            "pred:例如 ， \" \" \" \" \" \" \" \" \" \" 例如 ， \" \" \" 例如 ， \" 例如 ， \" 例如 ， \"\n",
            "\n",
            "src:for objects with custom \"__hash__()\" methods, note that <unk> <unk> the return value based on the bit width of the host machine\n",
            "trg:如果 对象 实现 了 自己 的 \" __ hash __ ( ) \" 方法 ， 请 注意 ， \" hash ( ) \" 根据 机器 的 <unk> 来 截断 返回值\n",
            "pred:对于 ， 的 的 的 的 的 的 的 的 的 的 的 的 的 的 的 的 的 的 的 的 的\n",
            "\n",
            "src:there are two interfaces provided by this module\n",
            "trg:此 模块 提供 了 两个 接口\n",
            "pred:此 模块 由 提供 由 提供 由 模块 的\n",
            "\n",
            "src:<unk> <unk> of <unk> indentation\n",
            "trg:\" <unk> \" 模糊 缩进 检测\n",
            "pred:\" \" \" \" \" \" <unk>\n",
            "\n",
            "src:changed in version 3.2: result is a structured object rather than a simple 2 tuple.\n",
            "trg:在 3.2 版 更改 : result is a <unk> object rather than a simple 2 tuple .\n",
            "pred:在 3.2 版 更改 : 在 3.2 版 更改 : \" \" 的 的\n",
            "\n",
            "src:logging options of subsequent <unk> calls can be set by calling <unk>\n",
            "trg:后续 \" syslog ( ) \" 调用 的 日志 选项 可以 通过 调用 \" <unk> ( ) \" 来 设置\n",
            "pred:\" \" \" \" \" \" \" \" \" \" \" \" \" \" \" \" \" \" \" \" \"\n",
            "\n",
            "src:therefore, the same rules apply as with <unk> the lock must be held when called and is re acquired on return\n",
            "trg:因此 ， 规则 同样 适用 于 \" wait ( ) \" ： 锁 必须 在 被 调用 时 保持 获取 ， 并 在 返回 时 重新 获取\n",
            "pred:当 在 时 返回 时 返回 时 ， \" \" \" \" \" \" \" \" \" \" 返回 \" \" \" \" \"\n",
            "\n",
            "src:not all <unk> have to come from <unk> you can use a post to <unk> arbitrary data to your own application\n",
            "trg:但 并 不是 所有 的 post 都 来自 表单 ： 你 能 使用 一个 post 来 传输 任何 数据 到 你 自己 的 应用 上\n",
            "pred:你 你 你 尝试 你 ， ， ， ， ， 你 ， 的 的 的\n",
            "\n",
            "src:call \"pyarg_parsetuple()\" (or one of its <unk> with one of the \"y \", <unk> \" or <unk> \" format <unk>\n",
            "trg:调用 \" pyarg _ parsetuple ( ) \" ( 或 其 <unk> 对象 之一 ) 并 传入 \" y \" , \" w \" or \" s \" 格式 代码 中 的 一个\n",
            "pred:\" \" \" \" \" \" \" \" \" \" \" \" \" \" \" \" \" \" \" \" \" \" \" \" \" \" \" \" \"\n",
            "\n",
            "src:if the expansion fails or if the path does not begin with a <unk> the path is returned unchanged.\n",
            "trg:如果 展开 路径 失败 ， 或者 路径 不是 以 <unk> 号 开头 ， 则 路径 将 保持 不变\n",
            "pred:如果 未 一个 为 \" 或 则 则 则 则 则 则 则 ， 则 返回 一个 \" \"\n",
            "\n",
            "src:is there a newsgroup or mailing list <unk> to python?\n",
            "trg:是否 有 专门 针对 python 的 新闻组 或 邮件 列表 ？\n",
            "pred:列表 列表 列表 的 列表 的 列表 的 列表 ？\n",
            "\n",
            "src:a module can <unk> whether or not it is running in the main scope by checking its own <unk> which allows a common idiom for <unk> executing code in a module when it is run as a script or with \"python m\" but not when it is <unk>\n",
            "trg:模块 可以 通过 检查 自己 的 \" __ name __ \" 来 <unk> 是否 运行 在 main 作用域 中 ， 这 使得 模块 可以 在 作为 脚本 或是 通过 \" python m \" 运行 时 <unk> 地 执行 一些 代码 ， 而 在 被 import 时 不会 执行\n",
            "pred:在 模块 \" \" \" \" \" \" \" \" \" \" \" \" \" \" \" \" \" \" \" 在 ， 在 ， \" \" \" \" \" \" \" \" \" \" \" \" \"\n",
            "\n",
            "src:you can, however, subclass the \"connection\" class and make \"connect()\" use your class instead by providing your class for the factory parameter.\n",
            "trg:当然 ， 你 也 可以 创建 \" connection \" 类 的 子类 ， 然后 创建 提供 了 factory 参数 的 \" connect ( ) \" 方法\n",
            "pred:你 你 你 使用 \" 类 \" 类 \" 类 的 的 的 的 的 的 的 的 的 的\n",
            "\n",
            "src:exception classes can be defined which do anything any other class can <unk> but are usually kept <unk> often only offering a number of attributes that allow information about the error to be extracted by handlers for the exception\n",
            "trg:可以 定义 异常 类 ， 它 可以 执行 任何 其他 类 可以 执行 的 任何 操作 ， 但 通常 保持 简单 ， 只 提供 一些 属性 ， 这些 属性 允许 处理程序 为 异常 提取 有关 错误 的 信息\n",
            "pred:\" 的 的 的 的 的 的 的 的 的 的 的 的 的 的 的 的 的 的 的 的 的 的 的 的 的\n",
            "\n",
            "src:operation method name <unk> \"__lt__()\" <unk> \" <unk> \">\" <unk> \"> \" <unk> \" \" \"__eq__()\" \"! \" <unk>\n",
            "trg:运算 方法 名称 \" < \" \" __ lt __ ( ) \" \" < \" \" __ <unk> __ ( ) \" \" > \" \" __ gt __ ( ) \" \" > \" \" __ <unk> __ ( ) \" \" \" \" __ eq __ ( ) \" \" ! \" \" __ <unk> __ ( ) \"\n",
            "pred:\" \" \" \" \" \" \" \" \" \" \" \" \" \" \" \" \" \" \" \" \" \" \" \" \" \" \" \" \" \" \" \" \" \" \" \" \" \" \" \"\n",
            "\n",
            "src:for example, given the following package <unk>\n",
            "trg:例如 ， 给定 以下 的 包 布局 结构 :\n",
            "pred:对于 包 包 包 包 包 包 包 包\n",
            "\n",
            "src:a tuple consists of a number of values separated by <unk> for instance:\n",
            "trg:一个 元组 由 几个 被 逗号 隔开 的 值 组成 ， 例如\n",
            "pred:一个 由 <unk> 的 的 的 的 的 的 的 的\n",
            "\n",
            "src:if the calling thread has not acquired the lock when this method is called, a \"runtimeerror\" is raised.\n",
            "trg:如果 调用 线程 在 没有 获得 锁 的 情况 下 调用 这个 方法 ， 会 引发 \" runtimeerror \" 异常\n",
            "pred:如果 锁 调用 锁 调用 锁 调用 锁 调用 锁 调用 锁 调用 \" 调用 \" 调用 \"\n",
            "\n",
            "src:asyncio also supports legacy generator based coroutines.\n",
            "trg:asyncio 也 支持 旧式 的 基于 生成器 的 协程\n",
            "pred:生成器 生成器 生成器 的 生成器 的 生成器\n",
            "\n",
            "src:the whitespace characters replaced are as follows: <unk> <unk> vertical <unk> <unk> and carriage return <unk>\n",
            "trg:会 被 替换 的 空白 字符 如下 ： 制表 ， 换行 ， 垂直 制表 ， 进纸 和 回车 ( \" ' \\ t \\ n \\ v \\ f \\ r ' \" )\n",
            "pred:\" \" \" \" \" \" \" \" \" \" \" \" \" \" \" \" \" \" \" \" \" \" \" \"\n",
            "\n",
            "src:docstrings are now shown for all special forms and special generic aliases (like <unk> and <unk>\n",
            "trg:现在 将 为 所有 特殊 形式 和 特殊 通用 别名 ( 例如 \" <unk> \" 和 \" list \" ) 显示 文档 字符串\n",
            "pred:所有 所有 的 \" \" \" \" \" \" \" \" \" \" \" \" \" \" \" \" \" \" \" \" \" \"\n",
            "\n",
            "src:if timeout is a float then the call blocks for at most that many seconds\n",
            "trg:如果 timeout 是 一个 浮点 型 ， 该 方法 会 最 多 阻塞 这么 多 秒\n",
            "pred:如果 timeout 是 ， ， 阻塞 ， 阻塞 ， 阻塞 秒数\n",
            "\n",
            "src:<unk> lists are really variable length <unk> not <unk> style linked lists\n",
            "trg:cpython 的 列表 实际上 是 可变 长度 的 数组 ， 而 不是 <unk> 风格 的 <unk>\n",
            "pred:\" \" \" \" \" \" \" \" \" <unk> \" <unk> \" <unk>\n",
            "\n",
            "src:if no display is specified then the main application window is <unk>\n",
            "trg:如果 未指定 显示 ， 则 假定 <unk> 应用程序 窗口\n",
            "pred:如果 未 窗口 ， 则 则 那么 则\n",
            "\n",
            "src:the <unk> project <unk> has many other modules for numerical <unk>\n",
            "trg:<unk> 项目 < https : / / <unk> . org > 有 许多 其他 模块 用于 数值 计算\n",
            "pred:\" 模块 \" \" \" \" \" \" \" \" 的 模块 的 的 的\n",
            "\n",
            "src:applies the logical operation or between each <unk> <unk>\n",
            "trg:在 操作数 的 每个 数位 间 应用 逻辑运算 or\n",
            "pred:或者 ， 的 的 的 的 <unk> <unk>\n",
            "\n",
            "src:this example shows how a subclass of <unk> can be used to store additional information about an object and affect the value that's returned when the referent is <unk>\n",
            "trg:这个 例子 演示 了 如何 将 \" <unk> \" 的 一个 子类 用于 存储 有关 对象 的 附加 信息 并 在 引用 被 访问 时 影响 其所 返回 的 值 :\n",
            "pred:这 可以 一个 可以 一个 的 的 的 的 的 ， ， ， 的 的 的 的 的 的 的 的 的 的\n",
            "\n",
            "src:close the control file descriptor of the kqueue object.\n",
            "trg:关闭 用于 控制 kqueue 对象 的 文件 描述符\n",
            "pred:\" 的 的 的 的 的 的 的\n",
            "\n",
            "src:<unk> is a subclass of <unk> and as such also functions as an example of creating custom threads.\n",
            "trg:\" <unk> \" 类 是 \" thread \" 类 的 子类 ， 因此 可以 像 一个 自定义 线程 一样 工作\n",
            "pred:\" \" \" \" \" \" \" \" \" \" \" \" \" \" \" \" \" \" 的 的 的 的 的 的\n",
            "\n",
            "src:in <unk> numbers like <unk> and <unk> do not have exact representations in binary floating point\n",
            "trg:<unk> ， \" 1.1 \" 和 \" 2.2 \" 这样 的 数字 在 二进制 浮点 中 没有 精确 的 表示\n",
            "pred:在 <unk> <unk> <unk> 二进制 的 <unk> 二进制 的 <unk> 二进制 的 <unk> 二进制 的\n",
            "\n",
            "src:the parameter v must not be \"null\"; it will not be <unk>\n",
            "trg:形参 v 不可 为 \" null \" ； 它 不会 被 检查\n",
            "pred:它 必须 为 不可 被 被 被 被 被 被 被 \"\n",
            "\n",
            "src:same as <unk> but the return value is in bytes.\n",
            "trg:与 \" <unk> ( ) \" 相同 ， 但 返回值 为 字节 类型\n",
            "pred:\" \" \" \" \" \" \" \" \" \" \" \" \" 返回 \" \" \"\n",
            "\n",
            "src:(contributed by <unk> <unk> in bpo <unk>\n",
            "trg:（ 由 <unk> <unk> 在 bpo <unk> 中 贡献 。 ）\n",
            "pred:（ 由 <unk> <unk> <unk> 在 bpo <unk> 中 贡献 。 ）\n",
            "\n",
            "src:the second function <unk> is restricted to only use positional parameters as there is a \"/\" in the function definition:\n",
            "trg:第二个 函数 \" <unk> _ only _ arg \" 在 函数 定义 中 带有 \" / \" ， 限制 仅 使用 位置 形参\n",
            "pred:函数 函数 函数 函数 函数 函数 函数 函数 函数 函数 函数 函数 函数 函数 函数 函数 函数 函数 函数 函数 函数\n",
            "\n",
            "src:the specific date of the epoch and the handling of leap seconds is platform dependent\n",
            "trg:<unk> 的 具体 日期 和 <unk> seconds 的 处理 取决于 平台\n",
            "pred:最 是 的 的 的 的 的 的 的 的\n",
            "\n",
            "src:it supports mapping access by column name and index, <unk> representation, equality testing and <unk>\n",
            "trg:它 支持 使用 列 名称 的 映射 访问 以及 索引 、 迭代 、 文本 表示 、 相等 检测 和 \" len ( ) \" 等 操作\n",
            "pred:它 可以 \" \" \" \" \" \" \" \" \" \" \" \" \" \" 和 \" \"\n",
            "\n",
            "src:the number of threads currently waiting in the <unk>\n",
            "trg:当前 时刻 正在 栅栏 中 阻塞 的 线程 数量\n",
            "pred:在 的 线程 的 线程 的 的\n",
            "\n",
            "src:closes the socket to the remote <unk>\n",
            "trg:关闭 连接 远程 主机 的 套 接字\n",
            "pred:将 的 的 \" \" \" \"\n",
            "\n",
            "src:a dictionary representing the string environment at the time the interpreter was started\n",
            "trg:一个 表示 解释器 启动 时间 点 的 字符串 环境 的 字典\n",
            "pred:在 一个 的 的 的 的 的 的\n",
            "\n",
            "src:the solution for this problem is to create a virtual environment , a self contained directory tree that contains a python installation for a particular version of python, plus a number of additional <unk>\n",
            "trg:这个 问题 的 解决方案 是 创建 一个 virtual <unk> ， 一个 目录 树 ， 其中 安装 有 特定 python 版本 ， 以及 许多 其他 包\n",
            "pred:这 的 的 的 的 的 的 的 的 的 的 的 的 的 的 的 的 的 的 的 的 的 的 的 的 的 的\n",
            "\n",
            "src:(contributed by serhiy storchaka in bpo <unk>\n",
            "trg:（ 由 serhiy storchaka 在 bpo <unk> 中 贡献 。 ）\n",
            "pred:（ 由 serhiy storchaka 在 bpo <unk> 中 贡献 。 ）\n",
            "\n",
            "src:aiff is audio interchange file format, a format for storing digital audio samples in a file\n",
            "trg:aiff 是 音频 交换 文件格式 ( <unk> <unk> file format ) ， 一种 用于 在 文件 中 存储 <unk> 采样 的 格式\n",
            "pred:在 文件 文件 文件 中 文件 文件 文件 的 文件 文件 的 文件\n",
            "\n",
            "src:on error, the debug hooks use the \"tracemalloc\" module to get the traceback where a memory block was allocated\n",
            "trg:在 出错 时 ， 调试 钩子 使用 \" tracemalloc \" 模块 来 回溯 内存 块 被 分配 的 位置\n",
            "pred:请 \" \" \" \" \" \" ， \" ， ， ， \" 请 ， \"\n",
            "\n",
            "src:the random parameter of <unk> has been deprecated\n",
            "trg:\" random . <unk> ( ) \" 的 random 形参 已 被 弃用\n",
            "pred:\" \" \" \" \" \" \" \" \" 已 移除 \" 已 移除\n",
            "\n",
            "src:pep <unk> <unk> long integers and integers\n",
            "trg:pep <unk> : 统一 长 整数 和 整数\n",
            "pred:pep <unk> : 和 和 和 和 和\n",
            "\n",
            "src:return \"1\" if found and removed, \"0\" if not found (no action <unk> and \" 1\" if an error is encountered\n",
            "trg:如果 找到 并 移除 返回 \" 1 \" ， 如果 未找到 （ 无 操作 ） 返回 \" 0 \" ， 如果 遇到 错误 则 返回 \" 1 \"\n",
            "pred:如果 如果 未 为 \" \" 则 则 则 则 则 则 则 则 则 则 \" \" \" \" \" \" \"\n",
            "\n",
            "src:new in version 3.5.\n",
            "trg:3.5 新版 功能 .\n",
            "pred:3.5 新版 功能 .\n",
            "\n",
            "src:the help message is a bit <unk>\n",
            "trg:帮助 信息 <unk> 不同\n",
            "pred:该 是 的 的 的 的\n",
            "\n",
            "src:this makes the <unk> between the index for a node and the <unk> for its children slightly less <unk> but is more suitable since python uses zero based indexing\n",
            "trg:这 使得 节点 和 其 <unk> 节点 索引 之间 的 关系 <unk> 直观 但 更加 适合 ， 因为 python 使用 <unk> 的 索引\n",
            "pred:这 意味着 的 的 的 的 ， ， ， ， ， ， 的 的 ， ， 的 的 的 的 的 的 的\n",
            "\n",
            "src:some ways to invoke foreign function calls may raise an auditing event <unk> with arguments <unk> <unk> and <unk>\n",
            "trg:引发 一个 审计 事件 \" ctypes . call _ function \" ， 附带 参数 \" func _ pointer \" , \" arguments \"\n",
            "pred:要 参数 ， 参数 ， \" \" \" \" \" \" \" \" \" \" \" \" \" \" \" \" \" \" \" \" \" \" \"\n",
            "\n",
            "src:changed in version 3.6: accepts a path like object .\n",
            "trg:在 3.6 版 更改 : 接受 一个 类 路径 对象\n",
            "pred:在 3.6 版 更改 : 接受 一个 类 路径 对象\n",
            "\n",
            "src:changed in version 3.5: added the context argument.\n",
            "trg:在 3.5 版 更改 : added the context argument .\n",
            "pred:在 3.3 版 更改 : the context context context\n",
            "\n",
            "src:if l is given, it specifies the number of lines that each week will use\n",
            "trg:l 指定 了 <unk> 占用 的 行数\n",
            "pred:如果 没有 的 ， ， ， ， ， 的 的 的\n",
            "\n",
            "src:(contributed by kyle <unk> in bpo <unk>\n",
            "trg:（ 由 kyle stanley 在 bpo <unk> 中 贡献 。 ）\n",
            "pred:（ 由 <unk> 在 bpo <unk> 中 贡献 。 ）\n",
            "\n",
            "src:now add the shape to the <unk> <unk> and use it:\n",
            "trg:接下来 将 shape 对象 添加 到 screen 对象 的 形状 列表 并 使用 它 :\n",
            "pred:\" \" \" \" \" \" \" \" \" \" \" \" \" \" \" \" \" \" \" \"\n",
            "\n",
            "src:the \"dialect\" class is a container class <unk> on primarily for its attributes, which are used to define the parameters for a specific <unk> or <unk> instance.\n",
            "trg:\" dialect \" 类 是 主要 依赖于 其 属性 的 容器 类 ， 用于 将 定义 好 的 参数传递 给 特定 的 \" reader \" 或 \" writer \" 实例\n",
            "pred:\" \" \" \" \" \" \" \" \" \" \" \" \" \" \" \" \" \" \" \" \" \" \" \" \" \" \"\n",
            "\n",
            "src:common patterns for working with \"counter\" objects:\n",
            "trg:\" counter \" 对象 的 常用 <unk>\n",
            "pred:\" \" \" \" \" \" \" \" \" 的\n",
            "\n",
            "src:the former is called to implement the shallow copy <unk> no additional arguments are passed\n",
            "trg:调用 <unk> 以 实现 浅层 拷贝 操作 ， 该 方法 <unk> 传入 额外 参数\n",
            "pred:参数 是 \" 的 参数 \" \" ( 的 的 的 的\n",
            "\n",
            "src:it returns a sorted list of strings:\n",
            "trg:它 返回 一个 排序 过 的 字符串 列表 :\n",
            "pred:列表 列表 列表 列表 列表 列表 列表 列表\n",
            "\n",
            "src:positional or keyword arguments\n",
            "trg:位置 或 关键字 参数\n",
            "pred:参数 关键字 参数 关键字\n",
            "\n",
            "src:the \"inspect\" module provides several useful functions to help get information about live objects such as modules, classes, methods, functions, <unk> frame objects, and code objects\n",
            "trg:\" inspect \" 模块 提供 了 一些 有用 的 函数 帮助 获取 对象 的 信息 ， 例如 模块 、 类 、 方法 、 函数 、 回溯 、 帧 对象 以及 代码 对象\n",
            "pred:这些 模块 提供 提供 提供 提供 提供 了 \" 的 的 的 的 的 的 的 的 的 的 的 的 的 的 的 的 的 的\n",
            "\n",
            "src:this is simpler to use than setting up a callback function on a raw weak reference, since the module automatically ensures that the finalizer remains alive until the object is collected.\n",
            "trg:这比 在 原始 弱 引用 上 设置 回调 函数 更 简单 ， 因为 模块 会 自动 确保 对象 被 回收 前 终结 器 一直 保持 存活\n",
            "pred:这个 模块 \" \" \" \" \" \" ， \" ， ， ， ， ， ， ， 对象 的 的 的 的 的 的 的 的 的 的\n",
            "\n",
            "src:1 <unk> <unk> python launcher for windows 1 for all users\n",
            "trg:include _ lib 安装 标准 库 和 扩展 模块 1 include _ pip 安装 捆绑 的 pip 和 setuptools 1 include _ <unk> 安装 调试 符号 ( . pdb ) 0 include _ <unk> 安装 tcl / tk 支持 和 idle 1 include _ test 安装 标准 库 测试 套件 1 include _ tools 安装 实用程序 脚本 1 <unk> 仅 安装 启动器\n",
            "pred:所有 python python <unk> 所有 适用 所有 的 <unk> 所有 的\n",
            "\n",
            "src:a <unk> exception is now raised instead of \"oserror\" for certain types of invalid or <unk> gzip files\n",
            "trg:对于 特定 类型 的 无效 或 已损坏 gzip 文件 现在 将 引发 \" <unk> \" 而 不是 \" oserror \"\n",
            "pred:\" \" \" \" \" \" \" \" \" \" \" \" \" \" \" \" \" \" \" \" \" \" \" \" \"\n",
            "\n",
            "src:file object an object <unk> a file oriented api (with methods such as \"read()\" or <unk> to an underlying resource\n",
            "trg:file object 文件 对象 <unk> 提供 面向 文件 api 以 使用 下层 资源 的 对象 （ 带有 \" read ( ) \" 或 \" write ( ) \" 这样 的 方法 ）\n",
            "pred:\" \" \" \" \" \" \" \" \" \" ( \" ( \" \" \" \" \" \" \" \" \" \" \" \" \" \" \" \"\n",
            "\n",
            "src:please see <unk> for more information about platform support for modifying symbolic link <unk>\n",
            "trg:请参阅 \" <unk> ( ) \" 了解 有关 修改 符号 链接 元 数据 的 平台 支持 的 更 多 信息\n",
            "pred:请参阅 支持 的 的 的 的 的 的 的 <unk> <unk>\n",
            "\n",
            "src:how stable is python?\n",
            "trg:python 有 多 稳定 ？\n",
            "pred:如何 如何 如何 ？ ？\n",
            "\n",
            "src:for the reference documentation on the last two options, see configuration functions\n",
            "trg:有关 最后 两个 选项 的 参考 文档 ， 请参阅 配置 函数\n",
            "pred:有关 的 的 的 的 的 的 的 的 的 函数\n",
            "\n",
            "src:<unk> <unk> a formatter object for this handler to use.\n",
            "trg:\" <unk> ( ) \" 选择 一个 该 处理程序 使用 的 formatter 对象\n",
            "pred:\" \" \" \" \" \" \" \" \" \" 的 的 的\n",
            "\n",
            "src:new in version 3.3.\n",
            "trg:3.3 新版 功能 .\n",
            "pred:3.3 新版 功能 .\n",
            "\n",
            "src:\"hashlib\" secure hashes and message digests\n",
            "trg:\" hashlib \" 安全 哈希 与 消息 摘要\n",
            "pred:\" hashlib \" \" \" 消息 \"\n",
            "\n",
            "src:the <unk> form of shebang line has one further special property\n",
            "trg:shebang line 的 \" / usr / bin / <unk> \" 形式 还有 一个 特殊 属性\n",
            "pred:<unk> 的 的 的 的 的 的 的 的 的\n",
            "\n",
            "src:compared to the built in \"float\" implementation of binary floating point, the class is especially helpful for\n",
            "trg:相比 内置 的 \" float \" 二进制 浮点 实现 ， 该类 特别 适用 于\n",
            "pred:\" 是 \" \" \" \" \" \" \" \" \" 的 的 的 的 的 的\n",
            "\n",
            "src:this module provides utilities for common tasks involving the \"with\" statement\n",
            "trg:此 模块 为 涉及 \" with \" 语句 的 常见 任务 提供 了 实用 的 工具\n",
            "pred:\" 提供 \" \" \" 提供 提供 提供 提供 \" 语句 提供 语句\n",
            "\n",
            "src:options you shouldn't use\n",
            "trg:不 应当 使用 的 选项\n",
            "pred:使用 使用 使用 使用\n",
            "\n",
            "src:this includes the characters space, <unk> <unk> return, <unk> and vertical tab.\n",
            "trg:其中 包括 空格 、 制表 、 换行 、 回车 、 进纸 和 <unk> 制表符\n",
            "pred:这 \" \" \" \" \" \" \" \" \" \" \" \" \" \" \" \"\n",
            "\n",
            "src:this simple serialization technique can handle lists and dictionaries, but serializing arbitrary class instances in json requires a bit of extra <unk>\n",
            "trg:这种 简单 的 序列化 技术 可以 处理 列表 和 字典 ， 但是 在 json 中 序列化 任意 类 的 实例 需要 额外 的 <unk>\n",
            "pred:这 可以 的 的 的 的 的 的 的 的 的 的 的 的 的 的 的 的 的 的\n",
            "\n",
            "src:changed in version 3.5: added the members parameter.\n",
            "trg:在 3.5 版 更改 : 添加 了 <unk> 形参\n",
            "pred:在 3.5 版 更改 : added the parameter parameter parameter\n",
            "\n",
            "src:a tutorial on basic authentication , with examples in python.\n",
            "trg:关于 基本 的 验证 的 入门 指南 ， 带有 一些 python 的 示例\n",
            "pred:在 例子 的 的 的 的 的 的 的 的\n",
            "\n",
            "src:the value may be <unk> in the case of floating point and <unk> <unk> literals\n",
            "trg:对于 浮点数 和 <unk> （ 复数 ） 的 情况 ， 该值 可能 为 近似值\n",
            "pred:<unk> <unk> <unk> 的 的 的 的 数字 面值 \" ' 数字 面值 \"\n",
            "\n",
            "src:in the <unk> all execution is performed by calling the <unk> function\n",
            "trg:在 文件 \" setup . py \" 里 ， 所有 动作 的 入口 通过 \" setup \" 函数\n",
            "pred:所有 函数 _ \" ( \" ( \" ( \" ( \" ( \" ( \"\n",
            "\n",
            "src:use the <unk> <unk> <unk> and <unk> functions\n",
            "trg:请 使用 \" load ( ) \" , \" <unk> ( ) \" , \" dump ( ) \" 和 \" <unk> ( ) \" 等 函数\n",
            "pred:使用 pyunicode _ \" \" \" \" \" \" \" \" \" \" \" \" \" \" \"\n",
            "\n",
            "src:changed in version 3.3: the locking scheme has changed to per module locks for the most part\n",
            "trg:在 3.3 版 更改 : the <unk> <unk> has changed to per module <unk> for the most part\n",
            "pred:在 3.3 版 更改 : the \" \" \" \" \" \" \" \"\n",
            "\n",
            "src:pep <unk> abi version <unk> <unk> files pep written by barry <unk>\n",
            "trg:pep <unk> abi version <unk> . so files pep 由 barry warsaw 撰写\n",
            "pred:pep <unk> : 添加 : 添加 <unk> <unk> <unk> <unk> <unk> <unk> <unk> <unk>\n",
            "\n",
            "src:extensible json encoder for python data <unk>\n",
            "trg:用于 python 数据结构 的 可 扩展 json 编码器\n",
            "pred:python python 数据 的 数据 的 数据 的 数据 的\n",
            "\n",
            "src:the <unk> attribute contains a list of all the problems found when parsing this message\n",
            "trg:<unk> 属性 包含 在 解析 消息 时 发现 的 所有 问题 的 列表\n",
            "pred:\" \" \" \" \" \" \" \" \" \" 包含 \" 的 的\n",
            "\n",
            "src:each logger can have zero, one or more handlers associated with it <unk> the <unk> method of <unk>\n",
            "trg:每个 记录器 可以 有 零个 、 一个 或 多个 与 之 关联 的 处理程序 （ 通过 \" logger \" 的 \" <unk> ( ) \" 方法 ）\n",
            "pred:或者 ， 的 或者 ， 或 的 或者 ， 或者 ， 或者 ， 或者 ， 或者 ， 的 或者 ，\n",
            "\n",
            "src:other module level changes\n",
            "trg:其他 模块 级 更改\n",
            "pred:其他 模块 级 的\n",
            "\n",
            "src:if a conversion is specified, the result of evaluating the expression is converted before formatting\n",
            "trg:如果 指定 了 转换 符 ， 表达式 的 求值 结果 会先 转换 再 格式化\n",
            "pred:如果 表达式 是 在 ， ， ， ， ， 的 的 的\n",
            "\n",
            "src:return the single most common data point from <unk> or <unk> data\n",
            "trg:从 <unk> 或 <unk> 的 data 返回 单个 出现 最多 的 数据 点\n",
            "pred:data 数据 data 数据 数据 数据 数据 数据 数据 数据 数据 数据 数据\n",
            "\n",
            "src:deprecated since version 3.10: python 3.9 will switch to a peg parser (see pep 617 <unk> and python <unk> may include new language syntax that is not <unk> by <unk> ll(1) parser\n",
            "trg:3.10 版后 已 移除 : python 3.9 将 切换 到 peg 解析器 ( 参见 pep 617 ) ， python 3.10 可能 会 包含 lib2to3 的 ll ( 1 ) 解析器 所 不能 解析 的 新 语法\n",
            "pred:在 3.3 版 更改 : python <unk> : python <unk> <unk> <unk> <unk> <unk> <unk> <unk> <unk> <unk> <unk> <unk> <unk> <unk> <unk> <unk> <unk> <unk> <unk> <unk> <unk> <unk> <unk>\n",
            "\n",
            "src:some examples of <unk> literals:\n",
            "trg:一些 虚 数字 面值 的 示例 如下 :\n",
            "pred:\" 示例 \" 示例 \" \" \"\n",
            "\n",
            "src:extract a member from the archive as a file object\n",
            "trg:将 归档 中 的 一个 成员 提取 为 文件 对象\n",
            "pred:从 文件 描述符 的 文件 的 文件\n",
            "\n",
            "src:in either form the input string may also have leading and/or trailing whitespace\n",
            "trg:<unk> 哪 <unk> 形式 的 输入 字符串 也 都 可以 带有 前缀 和 / 或 后缀 的 空格符\n",
            "pred:在 的 的 的 的 的 的 字符串 的 字符串 的 的\n",
            "\n",
            "src:<unk> specifies a name whose value will be used in place of the text option resource\n",
            "trg:文本 变量 specifies a name <unk> value will be used in <unk> of the text option resource\n",
            "pred:\" \" \" \" \" \" \" \" 的 的 的 的 的 的\n",
            "\n",
            "src:using python on windows\n",
            "trg:在 windows 上 使用 python\n",
            "pred:windows 上 windows 上 windows\n",
            "\n",
            "src:normally, multiple threads in the python interpreter can't get in each <unk> way, because there is a global lock <unk> python's entire object space\n",
            "trg:通常 ， python 解释器 里 多个 线程 无法 进入 <unk> 的 路径 ， 因为 <unk> 全局 锁 保护 着 python 整个 对象 空间\n",
            "pred:在 python python 在 python ， 的 的 ， ， ， ， ， 的 的 的 的 的 的 的 的 的 的 的\n",
            "\n",
            "src:one may also define an abstract base class by passing the metaclass keyword and using <unk> directly, for example:\n",
            "trg:当然 你 也 可以 直接 使用 \" abcmeta \" 作为 元类 来 定义 抽象 基类 ， 例如 ：\n",
            "pred:它 定义 了 的 的 的 的 的 的 的 的 的 的 的 的 的 的 的\n",
            "\n",
            "src:parameters: canvas a <unk> a <unk> or a \"turtlescreen\"\n",
            "trg:参数 : canvas 一个 \" tkinter . canvas \" , \" scrolledcanvas \" 或 \" turtlescreen \" 类 对象\n",
            "pred:一个 一个 一个 一个 \" \" 或 \" 或 \" 或 \"\n",
            "\n",
            "src:\"ctypes\" checks for \"null\" when <unk> pointers (but <unk> invalid non \"null\" pointers would crash <unk>\n",
            "trg:<unk> 引用 指针 的 时候 ， \" ctypes \" 会 <unk> 你 检测 是否 指针 为 \" null \" ( 但是 <unk> 引用 无效 的 非 \" null \" 指针 <unk> 导致 python 崩溃 ) :\n",
            "pred:当 \" \" \" \" \" \" \" \" \" \" \" \" \" \" \" \" \" \" \" \" \" \" \" \" \" \"\n",
            "\n",
            "src:changed in version 3.6: added support for the \"'e'\" format.\n",
            "trg:在 3.6 版 更改 : 添加 了 对 \" ' e ' \" 格式 的 支持\n",
            "pred:在 3.3 版 更改 : 添加 了 对 replace \" 支持 的\n",
            "\n",
            "src:let's take an example with a simple script:\n",
            "trg:我们 来 用 单个 脚本 <unk> ：\n",
            "pred:一个 简单 一个 简单 的 一个 简单 的 的 的 例子\n",
            "\n",
            "src:modern tkinter for <unk> python developers book by mark <unk> about building <unk> and modern graphical user interfaces with python and tkinter.\n",
            "trg:为 <unk> 的 python 开发者 所 准备 的 现代 tkinter 由 mark <unk> 所著 的 关于 如何 使用 python 和 tkinter 来 <unk> 有 <unk> 的 和 <unk> 的 图形用户界面 的 书籍\n",
            "pred:python python python python python python python python 的 的 的 的 的 的 和 ， python 的 的 的 的 的\n",
            "\n",
            "src:<unk> return the current <unk> as color specification string, possibly in tuple format (see example)\n",
            "trg:\" fillcolor ( ) \" 返回 以 颜色 描述 字符串 或 元组 ( 见 示例 ) 表示 的 当前 填充 颜色\n",
            "pred:\" \" \" ( \" ( , ( , , , , , , , , \" , \" , \"\n",
            "\n",
            "src:another minor reason is that the colon makes it easier for editors with syntax <unk> they can look for <unk> to decide when indentation needs to be increased instead of having to do a more <unk> parsing of the program text.\n",
            "trg:另 一个 次要 原因 是 冒号 使 带有 语法 <unk> 显示 的 编辑器 更 容易 工作 ； 他们 可以 寻找 冒号 来 决定 何时 需要 增加 缩进 ， 而 不必 对 程序 文本 进行 更 <unk> 的 解析\n",
            "pred:为了 的 的 的 的 ， ， ， ， ， ， ， ， ， 的 的 ， 更 ， 更 ， 更 ， 更 的 的 的 的 的 的\n",
            "\n",
            "src:pop and return the smallest item from the heap , <unk> the heap invariant\n",
            "trg:弹出 并 返回 heap 的 最小 的 元素 ， 保持 堆 的 <unk>\n",
            "pred:返回 \" \" \" \" 返回 \" 返回 \" 返回 \" \" 返回 \"\n",
            "\n",
            "src:\"'r'\" read only mode.\n",
            "trg:\" ' r ' \" 只读 模式\n",
            "pred:\" \" \" \" \" \" \"\n",
            "\n",
            "src:if there is no such parameter or the \"robots.txt\" entry for this parameter has invalid syntax, return \"none\".\n",
            "trg:如果 此形 参 不 存在 或者 此形 参 的 \" robots . txt \" 条目 存在 语法错误 ， 则 返回 \" none \"\n",
            "pred:如果 此形 参 存在 ， none ， ， ， ， none ， none \" \" \" \" \"\n",
            "\n",
            "src:<unk> a labels such as <unk> <unk> <unk> <unk> are still supported, but \"x <unk> no longer matches <unk> <unk>\n",
            "trg:<unk> a 标签 例如 \" www . <unk> <unk> <unk> . org \" 仍然 受 支持 ， 但 \" x . python . org \" 不再 能 匹配 \" <unk> <unk> . python . org \"\n",
            "pred:\" <unk> \" \" \" \" \" \" \" \" \" \" \" \" \" \" \" \" \" <unk> \" \" \" <unk> \"\n",
            "\n",
            "src:(contributed by <unk> <unk> in bpo <unk>\n",
            "trg:（ 由 <unk> <unk> 在 bpo <unk> 中 贡献 。 ）\n",
            "pred:（ 由 <unk> <unk> <unk> 在 bpo <unk> 中 贡献 。 ）\n",
            "\n",
            "src:for an explanation of why the \"if __name__ <unk> part is <unk> see programming <unk>\n",
            "trg:关于 为什么 \" if __ name __ ' __ main __ ' \" 部分 是 必需 的 解释 ， 请 参见 编程 指导\n",
            "pred:对于 ， <unk> <unk> <unk> ， ， ， ， <unk> <unk> <unk> <unk> <unk> <unk> <unk> <unk> <unk> <unk>\n",
            "\n",
            "src:for compound field names, these functions are only called for the first component of the field name; subsequent components are handled through normal attribute and indexing operations.\n",
            "trg:对于 复合 字段名 称 ， 仅会 为 字段名 称 的 第一个 组件 调用 这些 函数 ； 后续 组件 会 通过 普通 属性 和 索引 操作 来 进行 处理\n",
            "pred:\" 是 \" \" \" \" \" \" \" \" \" \" ， \" ， \" ， \" \" \" ， \" \" \" 的 的 的\n",
            "\n",
            "src:<unk> create a tarfile with gzip compression\n",
            "trg:\" ' x : gz ' \" 使用 gzip 压缩 创建 tarfile\n",
            "pred:\" \" \" \" \" \" \" \" \" \" \"\n",
            "\n",
            "src:forkserver when the program starts and <unk> the forkserver start method, a server process is started\n",
            "trg:forkserver 程序 启动 并 选择 forkserver 启动 方法 时 ， 将 启动 服务器 进程\n",
            "pred:当 使用 时 ， 时 ， 启动 ， 时 ， 启动 ， 时 ， 时\n",
            "\n",
            "src:<unk> the python interface hides all these details\n",
            "trg:<unk> 的 是 ， python 接口 隐藏 了 所有 这些 细节\n",
            "pred:所有 所有 所有 所有 所有 所有 所有\n",
            "\n",
            "src:the <unk> class has deprecated the <unk> attribute in favor of the <unk> attribute which has the same information\n",
            "trg:\" typing . namedtuple \" 类 已弃 用 了 \" _ field _ types \" 属性 而 改用 具有 同样 信息 的 \" __ annotations __ \" 属性\n",
            "pred:\" \" \" \" \" \" \" \" \" \" \" \" \" \" \" \" 属性 \" 属性 \" 属性 \"\n",
            "\n",
            "src:the arguments used to <unk> the process\n",
            "trg:被 用作 启动 进程 的 参数\n",
            "pred:进程 参数 进程 参数\n",
            "\n",
            "src:<unk> <unk> b)\" set pencolor to the rgb color represented by r , <unk> , and b\n",
            "trg:\" pencolor ( r , g , b ) \" 设置 画笔 颜色 为 以 r , g , b 表示 的 rgb 颜色\n",
            "pred:\" \" \" \" \" \" \" \" \" \" \" \" \" \" \" \" \" \" \" \" \" \" \" \" \" \"\n",
            "\n",
            "src:others are not supposed to have excess digits and need to be <unk>\n",
            "trg:另 一些 <unk> 不 应 具有 多余 位 ， 需要 验证 有效性\n",
            "pred:要 访问 有 的 的 ， 的 的 <unk>\n",
            "\n",
            "src:the encode and decode arguments must adhere to the \"codec\" interface\n",
            "trg:encode 和 <unk> 参数 必须 遵循 \" codec \" 接口\n",
            "pred:\" \" \" \" \" \" 解码 解码 解码 解码\n",
            "\n",
            "src:(contributed by victor stinner in bpo <unk>\n",
            "trg:（ 由 victor stinner 在 bpo <unk> 上 贡献 。 ）\n",
            "pred:（ 由 victor stinner 在 bpo <unk> 中 贡献 。 ）\n",
            "\n",
            "src:when the main thread exits, it is system defined whether the other threads <unk>\n",
            "trg:当 主线 程 退出 时 ， 由 系统 决定 其他 线程 是否 存活\n",
            "pred:当 锁 其他 ， 线程 的 线程 的 线程 的 线程 的 线程\n",
            "\n",
            "src:i had a number of <unk> about the abc language, but also <unk> many of its features\n",
            "trg:我 对 abc 语言 <unk> 许多 <unk> ， 但 同时 也 很 喜欢 它 的 许多 特性\n",
            "pred:这 <unk> 的 的 的 的 的 的 的 的 的 的 的 的\n",
            "\n",
            "src:the module's method table and initialization function\n",
            "trg:模块 方法 表 和 初始化 函数\n",
            "pred:函数 函数 函数 函数 函数 函数\n",
            "\n",
            "src:\"partial\" objects are callable objects created by \"partial()\"\n",
            "trg:\" partial \" 对象 是 由 \" partial ( ) \" 创建 的 可 调用 对象\n",
            "pred:\" 对象 对象 对象 对象 对象 对象 对象 对象 对象\n",
            "\n",
            "src:changed in version 3.8: new generation parameter.\n",
            "trg:在 3.8 版 更改 : 新 的 <unk> 形参\n",
            "pred:在 3.8 版 更改 : added max _\n",
            "\n",
            "src:before using any of these functions, the header file <unk> must be included in your source (note that this is not included by <unk> and the macro <unk> must be <unk> usually as part of the module <unk> function\n",
            "trg:在 使用 任何 这些 函数 之前 ， 必须 在 你 的 源码 中 包含 头文件 \" datetime . h \" ( 请 注意 此 文件 <unk> 包含 在 \" python . h \" 中 ) ， 并且 宏 \" pydatetime _ import \" 必须 被 发起 调用 ， 通常 是 作为 模块 初始化 函数 的 一部分\n",
            "pred:在 模块 \" \" \" \" \" \" \" \" \" \" \" \" \" \" \" \" \" \" \" \" \" \" \" \" \" \" \" \" \" \" \" \" \" \" \"\n",
            "\n",
            "src:changed in version 3.6: this opcode is used only for calls with positional arguments.\n",
            "trg:在 3.6 版 更改 : 此 操作码 仅 用于 附带 位置 参数 的 调用\n",
            "pred:在 3.6 版 更改 : 此 \" <unk> 参数 \" 参数 的 参数\n",
            "\n",
            "src:the canonical name of this <unk> always lowercase and always suitable as a parameter to <unk> to create another hash of this type.\n",
            "trg:此 哈希 对象 的 规范 名称 ， 总是 为 小写 形式 并且 总是 可以 作为 \" new ( ) \" 的 形参 用来 创建 另 一个 此 类型 的 哈希 对象\n",
            "pred:这个 的 的 的 的 的 ， ， 的 的 ， 的 的 的 的 的 的 的 的\n",
            "\n",
            "src:in this <unk> we explore the various <unk> for sorting data using python.\n",
            "trg:在 本 文档 中 ， 我们 将 探索 使用 python 对 数据 进行 排序 的 各种 技术\n",
            "pred:本节 的 <unk> <unk> <unk> 的 的 的 的 的 的\n",
            "\n",
            "src:the \"textwrapper\" instance attributes (and keyword arguments to the <unk> are as follows:\n",
            "trg:\" textwrapper \" 的 实例 属性 （ 以及 构造 器 的 关键字 参数 ） 如下 所示 ：\n",
            "pred:\" \" \" \" \" \" \" \" \" \" \" \" \" \" \" \" \"\n",
            "\n",
            "src:new in version 3.6.\n",
            "trg:3.6 新版 功能 .\n",
            "pred:3.6 新版 功能 .\n",
            "\n",
            "src:using lists as stacks\n",
            "trg:列表 作为 栈 使用\n",
            "pred:作为 栈 作为\n",
            "\n",
            "src:make an iterator that filters elements from data returning only those that have a corresponding element in <unk> that evaluates to \"true\"\n",
            "trg:创建 一个 迭代 器 ， 它 返回 data 中 经 selectors 真值 测试 为 \" true \" 的 元素\n",
            "pred:\" 的 的 的 的 的 \" \" \" \" 的 的 的 的 的 的 的 的 的 的 的 的 的 的\n",
            "\n",
            "src:to do this, set the <unk> environment variable to the path of the required timezone <unk> relative to the root of the systems <unk> timezone database, usually located at <unk>\n",
            "trg:为此 ， 将 \" tz \" 环境变量 设置 为 所 <unk> <unk> 的 路径 ， 相对 于 系统 ' zoneinfo ' 时 区 数据库 的 根目录 ， 通常 位于 \" / usr / <unk> / zoneinfo \"\n",
            "pred:要 让 要 的 的 的 的 ， ， ， ， ， ， ， 的 <unk> ， 的 <unk> <unk> <unk> <unk> <unk>\n",
            "\n",
            "src:the <unk> conversion code corresponds to the <unk> type defined by <unk>\n",
            "trg:\" ' ? ' \" 转换 码 对应 于 <unk> 定义 的 \" _ bool \" 类型\n",
            "pred:\" \" \" \" \" \" \" \" \" \" \" \" \" \" \" \" \" \" \" \"\n",
            "\n",
            "src:deprecated since version 3.3.\n",
            "trg:3.3 版后 已 移除 .\n",
            "pred:3.3 版后 已 移除 :\n",
            "\n",
            "src:\"getpass\" portable password input\n",
            "trg:\" getpass \" 便携式 密码 输入 工具\n",
            "pred:\" \" \" \" \" \"\n",
            "\n",
            "src:the details of <unk> depend on the operating <unk> some systems use one global namespace for the python interpreter and all extension modules <unk> for <unk> whereas others require an explicit list of imported symbols at module link time <unk> is one <unk> or offer a choice of different strategies <unk> <unk>\n",
            "trg:可见 的 细节 依赖于 操作系统 ， 一些 系统 的 python 解释器 使用 全局 命名 空间 ( 例如 windows ) ， 有些 则 在 链接 时 需要 一个 严格 的 已 导入 符号 列表 ( 一个 例子 是 <unk> ) ， 或者 提供 可选 的 不同 策略 ( 如 unix 系列 )\n",
            "pred:例如 ， python 的 的 的 的 ， ， ， ， ， ， ， ， ， ， ， ， ， ， 的 的 ， ， ， 的 的 的 的 的 ， ， 的 <unk> <unk> <unk> <unk> <unk> <unk> <unk> <unk>\n",
            "\n",
            "src:the preferred way to use a semaphore is an \"async with\" statement:\n",
            "trg:使用 semaphore 的 推荐 方式 是 通过 \" async with \" 语句\n",
            "pred:\" 是 是 \" 是 \" 是 \" \" \" \"\n",
            "\n",
            "src:dictionary view the objects returned from <unk> <unk> and <unk> are called dictionary <unk>\n",
            "trg:dictionary <unk> 字典 视图 从 \" dict . keys ( ) \" , \" dict . values ( ) \" 和 \" dict . items ( ) \" 返回 的 对象 被 称为 字典 视图\n",
            "pred:字典 字典 字典 字典 字典 字典 字典 字典 字典 字典 \" 字典 \" 字典 \" 字典 \" 字典 \" 字典 \"\n",
            "\n",
            "src:if the form \"\" <unk> is present, it is initialized to a new ordered mapping receiving any excess keyword arguments, defaulting to a new empty mapping of the same type\n",
            "trg:如果 存在 \" \" identifier \" \" 这样 的 形式 ， 它会 被 初始化 为 一个 新 的 有序 映射 来 接收 任何 额外 的 关键字 参数 ， 默认 为 一个 相同 类型 的 空 映射\n",
            "pred:如果 ， 如果 \" 的 的 ， ， ， ， ， ， ， ， ， ， ， ， ， ， ， 的 的 的 的 的 的 的 的 的 的 的\n",
            "\n",
            "src:why isn't there a switch or case statement in python?\n",
            "trg:为什么 python 中 没有 <unk> 或 <unk> 语句 ？\n",
            "pred:在 在 在 的 中 或 的 或 的 或 的 的\n",
            "\n",
            "src:creating a source distribution: the sdist command\n",
            "trg:创建 源码 发行 包 : sdist 命令\n",
            "pred:命令行 一个 命令行 与 命令 命令 命令\n",
            "\n",
            "src:a list of ids of the filters for this handler.\n",
            "trg:由 处理程序 所 对应 过滤器 的 id 组成 的 列表\n",
            "pred:这个 的 的 的 的 的\n",
            "\n",
            "src:shape values are restricted to <unk> > 0\"\n",
            "trg:shape 形状 数组 中 的 值 被 限定 在 \" shape [ n ] > 0 \"\n",
            "pred:\" \" \" \" \" \" \" \" \" \" \" \" \" \" \"\n",
            "\n",
            "src:look up character by name\n",
            "trg:按 名称 查找 字符\n",
            "pred:名称 名称 名称 名称 名称\n",
            "\n",
            "src:if c is <unk> this string is the character itself\n",
            "trg:如果 c 是 可 打印 字符 ， 则 字符串 为 字符 本身\n",
            "pred:如果 字符串 字符 字符串 ， 字符串 字符 字符串 字符 字符串 字符\n",
            "\n",
            "src:the record is <unk> and then sent to the syslog server\n",
            "trg:记录 会 被 格式化 ， 然后 发送到 syslog 服务器\n",
            "pred:\" <unk> \" \" \" \" \" 和 的 的\n",
            "\n",
            "src:<unk> always <unk> the current task, allowing other tasks to <unk>\n",
            "trg:\" sleep ( ) \" 总是 会 挂 起 <unk> ， 以 允许 其他 任务 运行\n",
            "pred:\" \" \" \" \" \" \" \" \" \" \" \" \" \" \" \"\n",
            "\n",
            "src:there's also a method to retrieve an entire string, <unk>\n",
            "trg:还有 一个 可以 提取 整个 字符串 的 方法 \" <unk> ( ) \"\n",
            "pred:此 方法 一个 一个 一个 方法 \" \" \" \" \" \"\n",
            "\n",
            "src:you can also use pydoc to start an http server on the local machine that will serve documentation to <unk> web browsers\n",
            "trg:你 还 可以 使用 pydoc 在 本 <unk> 启动 一个 http 服务 ， 这 将 向 <unk> 的 web 浏览器 提供 文档 服务\n",
            "pred:在 windows 上 ， 你 可以 通过 的 的 的 的 的 的 的 在 windows 上 的\n",
            "\n",
            "src:on linux, for example, the python 3.7 suffix <unk> <unk> <unk> linux <unk> became <unk> <unk> <unk> linux <unk> in python 3.8.\n",
            "trg:以 linux <unk> ， python 3.7 的 后缀 \" . cpython <unk> <unk> _ 64 linux gnu . so \" 在 python 3.8 中 改为 \" . cpython <unk> <unk> _ 64 linux gnu . so \"\n",
            "pred:在 python python <unk> <unk> <unk> <unk> <unk> <unk> <unk> <unk> <unk> <unk> <unk> <unk> <unk> <unk> <unk> <unk> <unk> <unk> <unk> <unk> <unk>\n",
            "\n",
            "src:otherwise you cannot be sure that processes which have put items on the queue will terminate\n",
            "trg:否则 不能 保证 这个 <unk> 队列 的 进程 可以 正常 终止\n",
            "pred:在 在 ， 在 ， ， ， ， ， ， ， 将 在 ，\n",
            "\n",
            "src:(contributed by victor stinner in bpo <unk>\n",
            "trg:（ 由 victor stinner 在 bpo <unk> 中 贡献 。 ）\n",
            "pred:（ 由 victor stinner 在 bpo <unk> 中 贡献 。 ）\n",
            "\n",
            "src:the <unk> module provides functions for implementing heaps based on regular lists\n",
            "trg:\" heapq \" 模块 提供 了 基于 常规 列表 来 实现 堆 的 函数\n",
            "pred:\" \" \" \" \" \" \" \" \" 的 的 的\n",
            "\n",
            "src:<unk> 1: unfortunately, the interpreter pushes at least one c stack frame for each python stack frame\n",
            "trg:<unk> 1 ： 不幸 的 是 ， 解释器 为 每个 python 堆栈 帧 推送 至少 一个 c 堆栈 帧\n",
            "pred:python python python ， 解释器 ， ， ， python ， 解释器 ， python python 的\n",
            "\n",
            "src:note, <unk> does not have access to the nested scopes <unk> <unk> in the enclosing environment.\n",
            "trg:请 注意 ， eval ( ) 并 没有 对 <unk> 环境 下 的 ( 非 局部 ) 嵌套 作用域 的 访问 权限\n",
            "pred:这 <unk> ， 的 的 的 ， ， ， 的 的 的 的 的 的 的\n",
            "\n",
            "src:codec aliases languages ascii <unk> us ascii <unk> <unk> <unk> <unk> <unk> traditional <unk> <unk> <unk> <unk> <unk> traditional <unk> <unk> <unk> <unk> <unk> <unk> <unk> <unk> <unk> <unk> new in version 3.4\n",
            "trg:编码 别名 语言 ascii <unk> , us ascii 英语 <unk> <unk> <unk> , <unk> <unk> <unk> <unk> <unk> , <unk> <unk> <unk> <unk> , <unk> 英语 <unk> 273 , <unk> , <unk> <unk> 3.4 新版 功能\n",
            "pred:在 3.6 . \" \" \" \" \" \" \" \" \" \" \" \" \" \" \" \" \" \" \" \" \" \" \" \" \" \" \" \" \" \"\n",
            "\n",
            "src:<unk> accepts an optional \"msg\" argument, but <unk> does not.\n",
            "trg:\" asyncio . future . cancel ( ) \" 接受 一个 可选 的 \" msg \" 参数 ， 但 \" concurrent . futures . cancel ( ) \" 无 此参数\n",
            "pred:\" \" \" \" \" \" \" \" \" \" \" \" \" \" \" \"\n",
            "\n",
            "src:\"control l\" <unk> screen\n",
            "trg:\" control l \" 刷新 屏幕\n",
            "pred:\" \" \" \" \" \" \"\n",
            "\n",
            "src:module \"base64\" encode and decode mime base64 data\n",
            "trg:模块 \" base64 \" 编码 与 解码 mime base64 数据\n",
            "pred:\" \" \" \" \" \" 数据 解码 数据\n",
            "\n",
            "src:added a new function <unk> for computing <unk> integer square <unk> without conversion to floating point\n",
            "trg:添加 了 一个 新 函数 \" math . <unk> ( ) \" 用于 计算 精确 整数 <unk> 而 无需 转换 为 浮点数\n",
            "pred:\" <unk> _ \" \" \" \" \" _ _ <unk> _ <unk> _ 的 的 的\n",
            "\n",
            "src:new in version <unk>\n",
            "trg:3.5 . 3 新版 功能 .\n",
            "pred:3.4 新版 功能 . 功能 .\n",
            "\n",
            "src:if no file matching \"key\" is found, the constructor will raise <unk>\n",
            "trg:如果 没有 找到 匹配 \" key \" 的 文件 ， 构造 器 将 引发 \" <unk> \"\n",
            "pred:如果 没有 增长 \" \" \" \" \" \" \" \" \" \" \" \" \" \" \" \"\n",
            "\n",
            "src:additional information about using distutils can be found in the distutils <unk>\n",
            "trg:关于 使用 distutils 的 额外 信息 可以 参考 distutils <unk>\n",
            "pred:在 可以 可以 可以 <unk> <unk> <unk> <unk> <unk> 中 <unk> 中\n",
            "\n",
            "src:changed in version 3.8: functions wrapped in <unk> now return \"true\" if the wrapped function is a coroutine function .\n",
            "trg:在 3.8 版 更改 : functions wrapped in \" functools . partial ( ) \" now return \" true \" if the wrapped function is a coroutine function .\n",
            "pred:在 在 3.8 版 更改 : 现在 function \" \" \" \" \" \" \" \" \" \" \" \" \" 函数 返回 \"\n",
            "\n",
            "src:\"ipaddress\" now supports ipv6 <unk> addresses <unk> address with suffix <unk>\n",
            "trg:\" ipaddress \" 现在 支持 ipv6 作用域 地址 （ 即 带有 \" % < <unk> _ id > \" 前缀 的 ipv6 地址 ）\n",
            "pred:\" <unk> \" \" \" \" \" \" \" \" \" \" \" \"\n",
            "\n",
            "src:changed in version 3.1: the positional argument specifiers can be omitted for <unk> so <unk> <unk> b)\" is equivalent to <unk> <unk> <unk>\n",
            "trg:在 3.1 版 更改 : 位置 参数 说明符 对于 \" str . format ( ) \" 可以 省略 ， 因此 \" ' { } { } ' . format ( a , b ) \" 等价 于 \" ' { 0 } { 1 } ' . format ( a , b ) \"\n",
            "pred:在 3.2 版 更改 : utc \" <unk> \" \" \" \" \" \" \" \" \" \" <unk> \" <unk> \" \"\n",
            "\n",
            "src:a \"tarfile\" object can be used as a context manager in a \"with\" statement\n",
            "trg:\" tarfile \" 对象 可 在 \" with \" 语句 中 作为 上下文 管理器 使用\n",
            "pred:\" \" \" \" \" \" \" 语句 上下文 语句 上下文 语句\n",
            "\n",
            "src:new in version 3.4.\n",
            "trg:3.4 新版 功能 .\n",
            "pred:3.4 新版 功能 .\n",
            "\n",
            "src:if replace is \"false\" (the default) the header is moved to the end of the list of headers\n",
            "trg:如果 replace 为 \" false \" （ 默认值 ） ， <unk> 字 段 会 被 移动 到 所有 <unk> 列表 的 末尾\n",
            "pred:如果 是 为 为 ， 的 的 的 ， 的 的 的 的 的 的 的\n",
            "\n",
            "src:although its standard documentation is <unk> good <unk> is available, which <unk> references, <unk> a book and others\n",
            "trg:尽管 官方 文档 <unk> 完整 ， 但 有 其他 资源 可以 参考 ， 比如 tk 手册 ， 教程 等\n",
            "pred:\" 标准 \" 标准 \" \" \" \" \" \" \" \" 标准 ， 文档 错误 ， 文档 错误 和 文档 错误\n",
            "\n",
            "src:connection reset by <unk>\n",
            "trg:连接 被 <unk> 重置\n",
            "pred:默认 由 <unk> <unk> <unk>\n",
            "\n",
            "src:one way to write small functions is to use the \"lambda\" expression\n",
            "trg:一个 编写 小 函数 的 方式 是 使用 \" lambda \" 表达式\n",
            "pred:使用 是 是 \" 使用 \" 使用 \" \" \"\n",
            "\n",
            "src:a list of <unk> classes used for each weekday\n",
            "trg:一个 对应 星期一 到 星期天 的 <unk> class 列表\n",
            "pred:用于 用于 用于 的 用于 的 的\n",
            "\n",
            "src:this guide only covers the basic tools for building and distributing extensions that are provided as part of this version of python\n",
            "trg:本 指南 仅 介绍 构建 和 分发 扩展 的 基本 工具 ， 这些 扩展 是 作为 此 python 版本 的 一部分 提供 的\n",
            "pred:此 python python python 版本 的 版本 的 版本 的 版本 的 版本 的 版本 的 版本 的 版本\n",
            "\n",
            "src:<unk> will be used to sort an array of <unk>\n",
            "trg:\" <unk> ( ) \" 将 用来 给 整数 数组 排序 :\n",
            "pred:\" \" \" \" \" \" \" \" \" \"\n",
            "\n",
            "src:if a keyword is already present (as an explicit keyword argument, or from another <unk> a \"typeerror\" exception is raised.\n",
            "trg:如果 一个 关键字 已 存在 （ 作为 显式 关键字 参数 ， 或 来自 另 一个 拆包 ） ， 则 将 引发 \" typeerror \" 异常\n",
            "pred:如果 一个 一个 一个 一个 一个 一个 一个 的 ， ， 则 引发 一个 \" \" \" \" \" \"\n",
            "\n",
            "src:for unix, the epoch is january 1, <unk> <unk> <unk>\n",
            "trg:对于 unix ， <unk> 是 1970 年 1 月 1 日 00 : 00 : 00 （ utc ）\n",
            "pred:对于 ， \" \" \" \" \" \" \" \" \" \" \" \" \" \" \" \" \" \"\n",
            "\n",
            "src:the \"except\" <unk> specify one or more exception handlers\n",
            "trg:\" except \" 子句 指定 一个 或 多个 异常 处理器\n",
            "pred:\" 或 的 或 或 或 的 异常\n",
            "\n",
            "src:new in version 3.4.\n",
            "trg:3.4 新版 功能 .\n",
            "pred:3.4 新版 功能 .\n",
            "\n",
            "src:changed in version 3.4: <unk> extensions are enabled by default.\n",
            "trg:在 3.4 版 更改 : 默认 启用 <unk> 扩展\n",
            "pred:在 3.4 版 更改 : 现在 \" <unk> \" <unk> \" by\n",
            "\n",
            "src:set the message's envelope header to <unk> , which should be a string\n",
            "trg:将 信息 的 信封 头 设置 为 <unk> ， 这 应当 是 一个 字符串\n",
            "pred:返回 一个 为 字符串 的 为 字符串 的 字符串\n",
            "\n",
            "src:deprecated python modules, functions and methods\n",
            "trg:已弃 用 的 python 模块 、 函数 和 方法\n",
            "pred:已弃 用 的 python 、 和 函数 和 函数\n",
            "\n",
            "src:return \"time\" object with same hour, minute, second, microsecond and <unk>\n",
            "trg:返回 具有 同样 hour , minute , second , microsecond 和 fold 值 的 \" time \" 对象\n",
            "pred:返回 \" \" \" \" \" \" \" \" \" \" \" \" \" \" \" \" \"\n",
            "\n",
            "src:the factory has the following signature:\n",
            "trg:可 调用 对象 factory 具有 如下 签名 :\n",
            "pred:下列 下列 下列 下列\n",
            "\n",
            "src:<unk> the default exception handler implementation.\n",
            "trg:\" loop . default _ exception _ handler ( ) \" 默认 异常 处理器 实现\n",
            "pred:\" \" \" \" 异常\n",
            "\n",
            "src:<unk> returns a 3 tuple consisting of the exception class, the exception instance and a traceback object (see section the standard type <unk> identifying the point in the program where the exception occurred\n",
            "trg:\" sys . exc _ info ( ) \" 返回 一个 3 元组 ， 由 异常 类 、 异常 实例 和 回溯 对象 组成 （ 参见 标准 类型 层级 结构 一节 ） ， 用于 在 程序 中 标识 异常 发生 点\n",
            "pred:\" \" \" \" \" \" \" \" \" \" \" \" \" \" \" \" \" \" \" \" \" \" \" \" \" \" \" \" \" \" \" \" \" \" \"\n",
            "\n",
            "src:op must not be tracked by the collector <unk>\n",
            "trg:op 必须 尚未 被 垃圾 回收 器 追踪\n",
            "pred:\" 必须 为 \" \" \" \" \" \" \" \" \"\n",
            "\n",
            "src:here <unk> is the form of a python floating point literal, described in floating point literals\n",
            "trg:这里 ， \" <unk> \" 是 python 浮点数 的 字符串 形式 ， 详见 浮点 数字 面值\n",
            "pred:python 是 一种 是 的 的 的 的 的 的 的 的 的\n",
            "\n",
            "src:incremental encoding and decoding\n",
            "trg:增量 式 的 编码 和 解码\n",
            "pred:编码 和 编码 和 编码\n",
            "\n",
            "src:weak reference objects have no methods and no attributes besides <unk>\n",
            "trg:弱 引用 对象 没有 \" <unk> .__ callback __ \" 以外 的 方法 和 属性\n",
            "pred:它们 的 的 引用 的 引用 的 引用 的 引用 的 引用 的\n",
            "\n",
            "src:return the minimum normalized positive float <unk> as c <unk>\n",
            "trg:返回 最小 可 表示 <unk> 正 浮点数 <unk> _ min 为 c \" double \"\n",
            "pred:返回 c c \" \" \" \" \" \" \" \"\n",
            "\n",
            "src:generate reports on the data\n",
            "trg:生成 有关 数据 的 报告\n",
            "pred:在 上 上 的 数据\n",
            "\n",
            "src:group should be <unk> reserved for future extension when a <unk> class is implemented.\n",
            "trg:group 应该 为 \" none \" ； 为了 <unk> 扩展 \" <unk> \" 类 实现 而 保留\n",
            "pred:在 ， 是 在 ， 的 的 ， 的 的 的\n",
            "\n",
            "src:a \"runtimeerror\" is now raised when the custom metaclass doesn't provide the <unk> entry in the namespace passed to <unk>\n",
            "trg:现在 当 自定义 元类 未 在 传给 \" type .__ new __ \" 的 命名 空间 中 提供 \" __ <unk> __ \" 入口 时 将 引发 \" runtimeerror \"\n",
            "pred:当 \" \" \" \" \" \" \" \" \" \" \" \" \" \" \" \" \" \" \" \" \" \"\n",
            "\n",
            "src:the author would like to thank the following people for offering suggestions, corrections and assistance with various drafts of this article: <unk> <unk> nick coghlan, nick <unk> raymond hettinger, <unk> <unk> <unk> <unk> <unk> <unk> <unk> <unk> collin <unk> <unk> <unk>\n",
            "trg:作者 要 感谢 以下 人员 对 本文 各种 <unk> 给予 的 建议 ， 更正 和 协助 ： <unk> <unk> , nick coghlan , nick <unk> , raymond hettinger , <unk> <unk> , <unk> <unk> , <unk> <unk> , <unk> <unk> , collin winter , <unk> <unk>\n",
            "pred:这 感谢 感谢 <unk> <unk> <unk> <unk> <unk> <unk> , <unk> , <unk> , <unk> , , , , , , , , , , , , , , <unk> , , <unk> , <unk> , <unk> , <unk> , <unk>\n",
            "\n",
            "src:the arguments shown above are merely some common ones\n",
            "trg:上面 显示 的 参数 只是 常见 的 一些\n",
            "pred:参数 是 一些 的 的 的 的\n",
            "\n",
            "src:version 3 adds support for object <unk> and recursion\n",
            "trg:第 3 版 添加 了 对于 对象 实例 化 和 递归 的 支持\n",
            "pred:\" \" \" \" \" \" \" \" \" \" 支持 \" 支持\n",
            "\n",
            "src:<unk> float, <unk> is a tuple of an int, a float and a string.\n",
            "trg:\" tuple [ int , float , str ] \" 是 一个 由 整数 、 浮点数 和 字符串 组成 的 三元组\n",
            "pred:\" \" \" \" \" \" \" \" \" \" 一个 \" \" \" 一个 一个 一个 一个 一个 一个\n",
            "\n",
            "src:it will raise an exception if the output stream is not seekable and nframes does not match the number of frames actually written.\n",
            "trg:如果 输出 流 不可 查找 且 nframes 与 实际 写入 的 帧 数 不 匹配 时 引发 异常\n",
            "pred:如果 没有 不 ， ， ， ， ， ， ， ， ， ， ， ， 异常 将\n",
            "\n",
            "src:format units for sequences may be <unk>\n",
            "trg:序列 中 的 格式 单元 可能 有 嵌套\n",
            "pred:对于 可能 可以 可能 的 的 格式\n",
            "\n",
            "src:the default filename is the last filename used\n",
            "trg:默认 文件名 为 最近 所 使用 的 文件名\n",
            "pred:文件名 字符串 文件名 字符串 文件名\n",
            "\n",
            "src:by value lookup of the value of a and b will return a\n",
            "trg:<unk> 查找 a 和 b 的 值 将 返回 a\n",
            "pred:将 一个 的 将 的 的 的 并 返回 一个 \"\n",
            "\n",
            "src:return a k length list of unique elements chosen from the population sequence or set\n",
            "trg:返回 从 总体 序列 或 集合 中 选择 的 唯一 元素 的 k 长度 列表\n",
            "pred:返回 一个 列表 列表 元素 返回 一个 列表 元素 ， 元素 返回 一个 列表 元素 返回\n",
            "\n",
            "src:it does so by implementing its own <unk> method for <unk> classes in a <unk> order that supports <unk> multiple inheritance\n",
            "trg:它 做到 这 一点 是 通过 实现 自己 的 \" __ getattribute __ ( ) \" 方法 ， 这样 就 能 以 可 预测 的 <unk> 类 ， 并且 支持 协作 多重 继承\n",
            "pred:在 方法 定义 的 的 的 的 的 的 的 的 的 的 的 的 的 的 的 的 的 的\n",
            "\n",
            "src:this bytes object will be the same length as the <unk> of the digest given to the constructor\n",
            "trg:这个 字节 串 数据 的 长度 将 与 传给 构造 器 的 摘要 的 长度 digest _ size 相同\n",
            "pred:这 将 的 的 的 的 的 的 的 的 的 的 的 的\n",
            "\n",
            "src:the remaining methods will raise \"oserror\" if called after the \"close()\" method has been called\n",
            "trg:在 \" close ( ) \" 方法 已 被 调用 后 其余 方法 将会 引发 \" oserror \"\n",
            "pred:调用 \" 调用 \" 调用 \" 调用 \" 调用 \" 调用 \" 调用 \" 调用 \" 调用 \"\n",
            "\n",
            "src:\"0\" (the default) means only perform absolute imports\n",
            "trg:\" 0 \" ( 默认值 ) 意味着 仅 执行 绝对 导入\n",
            "pred:\" \" \" \" \" \" \" \" 的 的\n",
            "\n",
            "src:changed in version 3.6: the dir parameter now accepts a path like object .\n",
            "trg:在 3.6 版 更改 : dir 参数 现在 可 接受 一个 路径 类 对象 ( path like object )\n",
            "pred:在 3.6 版 更改 : 接受 一个 接受 一个 类 路径 对象\n",
            "\n",
            "src:new in version 3.8.\n",
            "trg:3.8 新版 功能 .\n",
            "pred:3.8 新版 功能 .\n",
            "\n",
            "src:return the data for the specified year ready for formatting <unk> to <unk>\n",
            "trg:返回 可以 用来 <unk> 的 指定 年 月 的 数据 ( 与 \" <unk> ( ) \" 类似 )\n",
            "pred:返回 的 的 的 的 的 的 的 的 的 的\n",
            "\n",
            "src:read data from stdout and stderr , until eof is <unk>\n",
            "trg:从 stdout 和 stderr 读取数据 ， 直至 到达 eof ；\n",
            "pred:如果 data 和 数据 和 直到 和 直到 和 直到 和 直到\n",
            "\n",
            "src:provides a dictionary, based on <unk> which is to be url encoded and sent to the web server\n",
            "trg:基于 \" <unk> \" 提供 一个 字典 ， 它 将 被 执行 url 编码 并 发送至 web 服务器\n",
            "pred:\" \" \" \" \" \" \" \" \" \" \" \" \" \" \" \" 执行 执行\n",
            "\n",
            "src:this is a bytes object of size <unk> which may contain bytes in the whole range from 0 to <unk>\n",
            "trg:这是 一个 大小 为 \" digest _ size \" 的 字节 串 对象 ， 字节 <unk> 可 包含 0 至 255 的 完整 取值 范围\n",
            "pred:这是 一个 字节 的 字节 的 字节 的 字节 的 字节 的 字节 的 字节 的 字节 的 字节\n",
            "\n",
            "src:changed in version 3.8: on windows, \"proactoreventloop\" is now the default event loop.\n",
            "trg:在 3.8 版 更改 : 在 windows 上 ， \" proactoreventloop \" 现在 是 默认 的 事件 循环\n",
            "pred:在 3.8 版 更改 : 现在 现在 现在 现在 现在 默认 现在 默认 \"\n",
            "\n",
            "src:however, this interface is <unk> it's better for the caller to open the file itself, and be sure that, when required, the mode is \"'rb'\" or <unk> on windows.\n",
            "trg:但是 ， 此 接口 已 被 弃用 ； 在 windows 中 调用者 最好 是 自行 打开 文件 ， 并 在 需要 时 确保 模式 为 \" ' rb ' \" or \" ' <unk> ' \"\n",
            "pred:在 ， ， ， ， ， ， ， ， ， ， ， ， ， ， ， ， ， ， ， ， ， ， \" \" \" \" \"\n",
            "\n",
            "src:\"audioop\" manipulate raw audio data\n",
            "trg:\" audioop \" 处理 原始 音频 数据\n",
            "pred:\" 数据 数据 数据 数据 数据\n",
            "\n",
            "src:option description state either <unk> \"disabled\" or <unk>\n",
            "trg:选项 描述 状况 <unk> \" normal \" , \" disabled \" or \" <unk> \"\n",
            "pred:\" \" \" \" \" \" \" \" \" \" \" \" \" \" \" \"\n",
            "\n",
            "src:please note that in the event of an exception an archive opened for writing will not be <unk> only the internally used file object will be closed\n",
            "trg:请 注意 在 发生 异常 事件 时 被 打开 用于 写入 的 归档 将 不会 被 终结 ； 只有 内部 使用 的 文件 对象 将 被 关闭\n",
            "pred:注意 注意 在 \" \" \" \" \" \" \" \" \" \" \" \" \" \" \" \" \" \" \"\n",
            "\n",
            "src:<unk> would be interpreted as a reference to group <unk> not a reference to group 2 followed by the literal character <unk> the following substitutions are all equivalent, but use all three variations of the replacement string.\n",
            "trg:( \" \\ 20 \" 将 被 解释 为 对 组 20 的 引用 ， 而 不是 <unk> 2 的 引用 ， 后 跟 字面 字符 \" ' 0 ' \" 。 ) 以下 替换 都 是 等效 的 ， 但 使用 所有 三种 变体 替换 字符串\n",
            "pred:\" 的 \" \" \" \" \" \" \" \" \" \" \" 的 的 的 的 的 的 的 的 的 的 的 的 的 的\n",
            "\n",
            "src:this method acts like <unk> but <unk> up all waiting tasks.\n",
            "trg:此 方法 的 行为 类似 于 \" notify ( ) \" ， 但会 唤醒 所有 正在 等待 的 任务\n",
            "pred:所有 所有 所有 所有 所有 所有 所有 \" \" \" \" \" \"\n",
            "\n",
            "src:\"__path__\" a list of strings specifying the search path within a package\n",
            "trg:\" __ path __ \" 指定 在 一个包 中 搜索 路径 的 一个 字符串 列表\n",
            "pred:一个 一个 一个 的 的 的 的 的 的\n",
            "\n",
            "src:for example, for a \"context\" instance \"c\" and \"decimal\" instance <unk> <unk> is equivalent to <unk> <unk>\n",
            "trg:例如 ， 对于 一个 \" context \" 的 实例 \" c \" 和 \" decimal \" 的 实例 \" x \" ， \" c . exp ( x ) \" 就 等价 于 \" x . exp ( context c ) \"\n",
            "pred:对于 \" \" \" \" \" \" \" \" \" \" \" \" \" \" \" \" \" \" \" \" \" \" \" \" \" \" \" \" \" \" \" \" \" \" \" \"\n",
            "\n",
            "src:the pointer argument may not be \"null\".\n",
            "trg:pointer 参考 可以 不 为 \" null \"\n",
            "pred:不 参数 是 \" null \" null\n",
            "\n",
            "src:see also the examples <unk>\n",
            "trg:另 请参阅 examples 小节\n",
            "pred:另 请参阅 \" \" \" \" \"\n",
            "\n",
            "src:when omitted, the default is to use the flags that result in the most secure dll load to avoiding issues such as dll <unk>\n",
            "trg:省略 时 ， 默认设置 使用 最 安全 的 dll 加载 的 标志 ， 以 避免 dll <unk> 等 问题\n",
            "pred:当 在 ， ， ， ， ， ， ， ， ， ， ， ， ， ， ， ， 的 的 的 的 的\n",
            "\n",
            "src:sometimes it's useful to access members in enumerations <unk> (i.e. situations where <unk> won't do because the exact color is not known at program writing <unk>\n",
            "trg:有时 对 枚举 中 的 成员 进行 程序化 访问 是 很 有用 的 （ 例如 在 某些 场合 不能 使用 \" color . red \" 因为 在 编程 时 <unk> 要 指定 的 确切 颜色 ）\n",
            "pred:虽然 是 <unk> ， ， ， ， ， ， ， ， ， ， ， ， ， ， ， <unk> <unk> <unk> <unk> <unk> <unk> <unk>\n",
            "\n",
            "src:positive and negative <unk> positive and negative zero, and <unk> are formatted as <unk> \" <unk> \"0\", \" 0\" and \"nan\" respectively, regardless of the precision\n",
            "trg:正负 <unk> ， 正负 零 和 nan 会 分别 被 格式化 为 \" <unk> \" , \" <unk> \" , \" 0 \" , \" 0 \" 和 \" nan \" ， 无论 精度 如何 设定\n",
            "pred:\" \" \" \" \" \" \" \" \" \" \" \" 和 \" 和 \" 和 \" 和 \" 和 和 的 和 的\n",
            "\n",
            "src:if this attribute is accessed before the end of the stream has been reached, its value will be <unk>\n",
            "trg:如果 在 达到 数据流 末尾 之前 访问 此 属性 ， 其值 将 为 \" b ' ' \"\n",
            "pred:如果 被 被 被 被 被 被 被 被 被 将 被 将 被 被 被 \" \" \"\n",
            "\n",
            "src:changed in version 3.3: added the policy keyword.\n",
            "trg:在 3.3 版 更改 : 添加 了 policy 关键字\n",
            "pred:在 3.3 版 更改 : added the 了 charset .\n",
            "\n",
            "src:similar to the \"parse()\" method, except it takes a bytes like object instead of a file like object\n",
            "trg:与 \" parse ( ) \" 方法 类似 ， <unk> 它 要求 输入 为 一个 bytes like object 而 不是 类 文件 对象\n",
            "pred:类似 类似 类似 类似 类似 类似 类似 类似 类似 类似 类似 类似 类似 类似 对象 类似 对象 类似 对象 类似 对象 类似 对象 类似\n",
            "\n",
            "src:the verbose argument is <unk> and deprecated.\n",
            "trg:verbose 参数 已 不再 使用 并 进入 弃用 状态\n",
            "pred:\" \" \" \" \" \" \" \" \" \"\n",
            "\n",
            "src:previously, a \"runtimeerror\" was raised.\n",
            "trg:在 之前 的 版本 中则 将 引发 \" runtimeerror \"\n",
            "pred:在 在 之前 在 之前 \" 引发 \" 引发 runtimeerror \"\n",
            "\n",
            "src:converts a number to a string using scientific <unk>\n",
            "trg:使用 科学 计数法 将 一个 数字 转换 为 字符串\n",
            "pred:使用 使用 \" 使用 \" \" \" ( \" ) \" )\n",
            "\n",
            "src:in order to ensure proper cleanup of <unk> <unk> should be called once (and only <unk> across all processes which have need for the shared memory block\n",
            "trg:为了 执行 必要 的 资源 清理 ， 在 所有 使用 这个 共享内存 块 的 进程 中 ， \" unlink ( ) \" 应该 调用 一次 ( 且 只能 调用 一次 )\n",
            "pred:在 的 的 的 的 的 的 ， ， ， ， 的 的 的 的 的 的 的 的 的 的\n",
            "\n",
            "src:filters provide a <unk> <unk> facility for <unk> which log records to output.\n",
            "trg:过滤器 提供 了 更 <unk> 的 <unk> ， 用于 确定 要 输出 的 日志 记录\n",
            "pred:\" \" \" \" \" \" \" \" \" \" <unk> <unk> <unk> <unk>\n",
            "\n",
            "src:when it is not handled, the python interpreter <unk> no stack traceback is printed\n",
            "trg:如果 它 未 被 处理 ， 则 python 解释器 就 将 退出 ； 不会 打印 任何 栈 回溯 信息\n",
            "pred:当 python ， ， ， ， ， ， ， 解释器 ， python\n",
            "\n",
            "src:<unk> for parsing \"robots.txt\" files\n",
            "trg:\" urllib . <unk> \" 用于 解析 \" robots . txt \" 文件\n",
            "pred:\" \" \" \" \" 文件 文件 的\n",
            "\n",
            "src:refer to the file <unk> in the python distribution for the definitions of the names in the context of the language grammar\n",
            "trg:请参阅 python 发行版 中 的 文件 \" <unk> / <unk> \" ， 以 获取 语言 语法 上下文 中 名称 的 定义\n",
            "pred:python 的 的 的 的 的 的 的 的 的 的 的 的 的\n",
            "\n",
            "src:along with the \"queuehandler\" class, \"queuelistener\" can be used to let handlers do their work on a separate thread from the one which does the logging\n",
            "trg:配合 \" queuehandler \" 类 使用 ， \" queuelistener \" 可用 来 使 处理程序 在 与 执行 日志 记录 的 线程 不同 的 线程 上 完成 工作\n",
            "pred:在 日志 日志 日志 日志 日志 记录 日志 日志 日志 日志 日志 日志 日志 日志 日志 日志 日志\n",
            "\n",
            "src:for more information see configuration functions.\n",
            "trg:for more information see 配置 函数 .\n",
            "pred:请参阅 多 配置 的 配置\n",
            "\n",
            "src:combining members of \"flag\"\n",
            "trg:组合 \" flag \" 的 成员\n",
            "pred:\" \" \" 成员 成员\n",
            "\n",
            "src:b is the minor version number, incremented for less <unk> <unk> changes\n",
            "trg:b 称为 小 版本号 ， 它会 在 语言 特性 发生 较 小 改变 时 递增\n",
            "pred:对于 ， \" \" \" \" \" \" \" \" \" \" \" \" \" \" \" \"\n",
            "\n",
            "src:for the call <unk> <unk> <unk> <unk> <unk> if y evaluates to a sequence <unk> , ..., <unk> , this is equivalent to a call with <unk> positional arguments <unk> , <unk> , <unk> , ..., <unk> , <unk> , <unk> .\n",
            "trg:对于 \" f ( <unk> , <unk> , y , <unk> , <unk> ) \" 调用 ， 如果 y 求值 为 一个 序列 <unk> , ... , <unk> ， 则 它 就 等价 于 一个 带有 m + 4 个 位置 参数 <unk> , <unk> , <unk> , ... , <unk> , <unk> , <unk> 的 调用\n",
            "pred:例如 ， \" \" \" \" \" \" , \" , , , , , , , , , , , , , , , , , , , , , , , , , , , , , , , , , , , \" , \" , \" , \"\n",
            "\n",
            "src:if you want to debug them, you can call this function with flag set to \"true\"\n",
            "trg:如果 要 调试 它们 ， 可以 设置 flag 参数 为 \" true \" 并 调用 此 函数\n",
            "pred:如果 你 你 调用 你 调用 设置 此 函数 \" \" \" \" \" \" \" \"\n",
            "\n",
            "src:note that any python object references which are provided to the caller are borrowed <unk> do not decrement their reference <unk>\n",
            "trg:注意 任何 由 调用者 提供 的 python 对象 引用 是 <unk> 的 引用 ； 不要 递减 它们 的 引用 计数 ！\n",
            "pred:请 注意 的 的 的 的 的 引用 （ 引用 ， 引用 的 的 的 引用 的 的 引用 的\n",
            "\n",
            "src:the following <unk> are supported where <unk>\n",
            "trg:在 可能 的 情况 下 ， 支持 以下 同义词 ：\n",
            "pred:以下 支持 的 的 ： ： ： ：\n",
            "\n",
            "src:compresslevel , if given, must be an integer between \"1\" and \"9\"\n",
            "trg:如果 给定 compresslevel ， 它 必须 为 \" 1 \" 至 \" 9 \" 之间 的 整数\n",
            "pred:如果 \" 为 \" \" \" \" \" \" \" \" \" \" \" \"\n",
            "\n",
            "src:on unix child watchers are used for subprocess <unk> <unk> see process watchers for more <unk>\n",
            "trg:在 unix 上 会 使用 child <unk> 来 让 子 进程 结束 等待 ， 详情 请参阅 进程 监视器\n",
            "pred:对于 大多数 的 \" \" \" \" \" \" \" \" \" \" \" \" \" \" <unk> \"\n",
            "\n",
            "src:unfortunately, what is considered <unk> will necessarily increase as <unk> get more powerful and able to make more <unk> in a shorter period\n",
            "trg:不幸 的 是 ， 对 随机性 是否 足够 的 标准 会 随着 计算机 <unk> 强大 并 能够 在 更 <unk> 内 进行 更 多 猜测 而 不断 提高\n",
            "pred:更 的 的 更 的 更 的 更 ， 更 ， 更 ， 更 的 更 ， 更 的 更 的 更 的\n",
            "\n",
            "src:pep <unk> new subprocess module\n",
            "trg:pep 324 : 新 的 子 进程 模块\n",
            "pred:pep 324 : 新 模块 . module module\n",
            "\n",
            "src:if the input date has a timezone of \" <unk> the \"datetime\" will be a naive <unk> and if the date is <unk> to the <unk> it will represent a time in utc but with no indication of the actual source timezone of the message the date comes from\n",
            "trg:如果 输入 日期 的 <unk> 为 \" <unk> \" ， 则 \" datetime \" 将 为 一个 简单 型 \" datetime \" ， 而 如果 日期 符合 rfc 标准 则 它 将 代表 一个 utc 时间 ， 但是 并 不 指明 日期 所在 消息 的 实际 <unk>\n",
            "pred:如果 <unk> 是 <unk> <unk> ， ， ， ， ， ， ， ， ， ， ， ， ， ， ， ， ， ， ， ， ， ， 的 <unk> <unk> <unk> <unk>\n",
            "\n",
            "src:for example, <unk> is converted to <unk>\n",
            "trg:例如 \" meth . <unk> _ func \" 会 被 转换 为 \" meth .__ func __ \"\n",
            "pred:例如 ， \" \" \" \" \" \" \" \" \" \" \" \"\n",
            "\n",
            "src:used for implementing formatted literal strings <unk> strings)\n",
            "trg:用于 实现 格式化 字 面值 字符串 （ f 字符串 ）\n",
            "pred:字符串 的 字符串 ' 字符串 ' 字符串 ' 字符串\n",
            "\n",
            "src:returns a pointer to a read only memory location usable as character based input\n",
            "trg:返回 一个 指向 可 用作 基于 字符 的 输入 的 只读 内存地址 的 指针\n",
            "pred:返回 一个 的 的 的 的 的 的 的 的\n",
            "\n",
            "src:if the error flag is set, a python exception is raised.\n",
            "trg:如果 错误码 被 设置 ， 会 抛出 一个 python 异常\n",
            "pred:如果 找 不到 ， 错误 ， 引发 错误 异常 引发\n",
            "\n",
            "src:args should be a sequence of program arguments or else a single string or path like object\n",
            "trg:args 应当 是 一个 程序 参数 的 序列 或者 是 一个 单独 的 字符串 或 path like object\n",
            "pred:或者 一个 一个 一个 一个 序列 或 字符串 或 字符串 的 字符串\n",
            "\n",
            "src:<unk> the set free list has been removed in python 3.4.\n",
            "trg:\" <unk> _ <unk> ( ) \" : 集合 自由 列表 已 在 python 3.4 中 被 移除\n",
            "pred:python python python 中 的 中 的 中 的 中\n",
            "\n",
            "src:updated module: <unk> <unk>\n",
            "trg:更新 的 模块 ： elementtree <unk>\n",
            "pred:\" 模块 \" \" \" \" \" \" \"\n",
            "\n",
            "src:among other <unk> this makes it possible to upgrade from default basic authentication to faster session authentication\n",
            "trg:此 特征 的 作用 之一 是 使得 从 默认 的 基础 认证 升级 到 更 快速 的 会 <unk> 认证 成为 可能\n",
            "pred:在 大多数 下 下 ， 的 的 默认 情况 下 ， 它 默认 情况 下 的\n",
            "\n",
            "src:changed in version 3.6: added <unk> parameter.\n",
            "trg:在 3.6 版 更改 : 加入 <unk> 参数\n",
            "pred:在 3.6 版 更改 : added 了 parameter . added parameter .\n",
            "\n",
            "src:the logging functions are named after the level or severity of the events they are used to track\n",
            "trg:日志 功能 <unk> 所 追踪 事件 级别 或 严重性 <unk>\n",
            "pred:在 的 记录 的 记录 的 的 的 的 的 的 的\n",
            "\n",
            "src:in general, when a format sets a pointer to a buffer, the buffer is managed by the corresponding python object, and the buffer <unk> the lifetime of this object\n",
            "trg:一般 的 ， 当 一个 表达式 设置 一个 指针 指向 一个 缓冲区 ， 这个 缓冲区 可以 被 相应 的 python 对象 管理 ， 并且 这个 缓冲区 共享 这个 对象 的 <unk> 周期\n",
            "pred:在 ， 的 的 的 的 的 ， ， ， ， 的 的 ， ， 的 的 的 的 的 的 的 的 的 的\n",
            "\n",
            "src:unless the <unk> flag has been set, this will only match at the beginning of the string\n",
            "trg:除非 设置 了 \" <unk> \" 标志 ， 否则 只会 在 字符串 的 开头 匹配\n",
            "pred:\" \" \" \" \" \" 字符串 \" 字符串 的 字符串 字符串 的 字符串\n",
            "\n",
            "src:excluded time components are <unk> not <unk>\n",
            "trg:排除 掉 的 时间 部分 将 被 截断 ， 而 不是 被 舍入\n",
            "pred:<unk> <unk> <unk> <unk> <unk> <unk> <unk> <unk> <unk> <unk>\n",
            "\n",
            "src:<unk> there is not a <unk> case for arbitrarily <unk> the object graph of loggers, handlers, <unk> formatters at run time, once a configuration is set <unk> the <unk> of loggers and handlers can be controlled just by setting levels <unk> in the case of loggers, <unk> <unk>\n",
            "trg:此外 ， 一旦 完成 了 配置 ， 在 运行 时 任意 改变 日志 记录器 、 处理程序 、 过滤器 、 格式化 器 的 对象 图 就 不是 很 有 必要 ； 日志 记录器 和 处理程序 的 详细 程度 只 需 通过 设置 级别 即可 实现 控制 （ 对于 日志 记录器 则 可 设置 传播 旗标 ）\n",
            "pred:\" 的 的 的 的 的 的 的 的 的 的 的 的 的 的 的 的 的 的 的 的 的 的 的 的 的 的 的 的 的 的 的 的 的 的 的 的 的 的 的 的 的 的 的 的 的 的\n",
            "\n",
            "src:the universal_newlines argument is equivalent to text and is provided for backwards compatibility\n",
            "trg:universal _ newlines 参数 等同于 text 并且 提供 向 后 兼容性\n",
            "pred:文本 i \" \" 文本 i \" 文本 i 的 文本 文本\n",
            "\n",
            "src:<unk> create a tarfile with bzip2 compression\n",
            "trg:\" ' x : bz2 ' \" 使用 bzip2 压缩 创建 tarfile\n",
            "pred:\" \" \" \" \" \" \" \" \" \" 的\n",
            "\n",
            "src:if this is set to a non empty string it is equivalent to specifying the \" i\" option.\n",
            "trg:此 变量 如果 被 设为 一个 非空 字符串 ， 它 就 相当于 指定 \" i \" 选项\n",
            "pred:如果 此 为 此 为 此 ， ， ， 将 \" \" \" \"\n",
            "\n",
            "src:when subclassing <unk> mix in types must appear before \"enum\" itself in the sequence of <unk> as in the <unk> example above.\n",
            "trg:<unk> 类化 \" enum \" 时 ， 在 基类 序列 中 的 混合 类型 必须 出现 于 \" enum \" 本身 之前 ， 如 以上 \" intenum \" 的 例子 所示\n",
            "pred:在 ， 在 ， 的 <unk> ， ， ， ， ， ， ， ， ， \" <unk> \" <unk> \"\n",
            "\n",
            "src:this section shows various <unk> to working with <unk> <unk>\n",
            "trg:这 一节 提供 了 多个 使用 链 映射 的 <unk>\n",
            "pred:这 <unk> <unk> <unk> <unk> <unk> <unk> <unk> <unk> <unk> <unk> <unk>\n",
            "\n",
            "src:meta hooks are registered by adding new finder objects to \"sys.meta_path\", as described below.\n",
            "trg:元 钩子 的 注册 是 通过 向 \" sys . meta _ path \" 添加 新 的 查找 器 对象 ， 具体 如下 所述\n",
            "pred:\" \" \" \" \" \" \" 的 的 的 的 的 的 的 的 的 的 的 的 的 的\n",
            "\n",
            "src:the locked region of the file extends from the current file position for nbytes bytes, and may continue beyond the end of the file\n",
            "trg:锁定 的 文件 区域 从 当前 文件 位置 开始 扩展 nbytes 个 字节 ， 并 可能 持续 到 超出 文件 末尾\n",
            "pred:文件 的 的 的 文件 的 的 的 文件 的 的 的 的 的 的 的 的 文件 的\n",
            "\n",
            "src:\"print()\" can also be used, but is not a debugger command this executes the python \"print()\" function.\n",
            "trg:\" print ( ) \" 也 可以 使用 ， 但 它 不是 一个 调试器 命令 它 执行 python \" print ( ) \" 函数\n",
            "pred:如果 程序 python ， ， ， ， ， ， ， ， ， ， ， ， \"\n",
            "\n",
            "src:changes in the python api\n",
            "trg:更改 的 python api\n",
            "pred:python api 的\n",
            "\n",
            "src:changed in version 3.4: the file is now non inheritable.\n",
            "trg:在 3.4 版 更改 : 文件 现在 禁止 继承\n",
            "pred:在 3.4 版 更改 : 现在 现在 现在 文件 不可\n",
            "\n",
            "src:\"__enter__()\" starts the server process (if it has not already <unk> and then returns the manager object\n",
            "trg:\" __ enter __ ( ) \" 启动 服务 进程 （ 如果 它 还 没有 启动 ） 并且 返回 管理器 对象 ， \" __ exit __ ( ) \" 会 调用 \" shutdown ( ) \"\n",
            "pred:它 \" \" \" \" \" \" \" \" \" ， \" ， ， ， ， ， 并 返回 并 返回 并 返回 并\n",
            "\n",
            "src:the use of decimal floating point <unk> decimal representation error <unk> it possible to represent \"0.1\" <unk> however, some operations can still <unk> round off error when non zero digits <unk> the fixed <unk>\n",
            "trg:使用 十进制 浮点数 可以 消除 十进制 表示 错误 （ 即 能够 完全 精确 地 表示 \" 0.1 \" 这样 的 数 ） ； 然而 ， 某些 运算 在 非 零 数位 超出 给定 的 精度 时 仍然 可能 导致 舍入 错误\n",
            "pred:虽然 的 的 的 的 ， ， ， ， ， ， ， ， 的 的 ， ， 的 的 的 的 的\n",
            "\n",
            "src:the \"csv\" module implements classes to read and write <unk> data in csv format\n",
            "trg:\" csv \" 模块 实现 了 csv 格式 表单 数据 的 读写\n",
            "pred:\" \" \" \" \" \" \" \" 模块 \" 模块 的 的 的\n",
            "\n",
            "src:if the utc argument is true, times in utc will be used; otherwise local time is used.\n",
            "trg:如果 utc 参数 为 真值 ， 将 使用 utc 时间 ； 否则 会 使用 本地 时间\n",
            "pred:如果 timeout 参数 ， ， ， ， ， ， ， ， \" 否则 为 \" 否则 为 \"\n",
            "\n",
            "src:<unk> create a new event loop.\n",
            "trg:\" asyncio . new _ event _ loop ( ) \" 创建 一个 新 的 事件 循环\n",
            "pred:\" 一个 \" \" \" \" \" \" \" \" \" 一个 新 的\n",
            "\n",
            "src:a tuple containing the exceptions that can be raised by each of the supported modules, with a unique exception also named <unk> as the first item the latter is used when <unk> is raised.\n",
            "trg:一个 元组 ， 其中 包含 每个 受 支持 的 模块 可 引发 的 异常 ， 另外 还有 一个 名为 \" dbm . error \" 的 特殊 异常 作为 第一项 后者 最 在 引发 \" dbm . error \" 时 被 使用\n",
            "pred:当 一个 一个 的 的 的 的 的 的 ， ， ， ， ， 的 的 的 的 的 的 的 的 的 的 的 的\n",
            "\n",
            "src:when \"none\" is passed, it's up to the class <unk> to decide the best response\n",
            "trg:当 传入 \" none \" 时 ， 应当 <unk> 的 <unk> 来 决定 最佳 <unk> 方式\n",
            "pred:\" \" \" \" \" \" \" \" \" \" \" \" \" \"\n",
            "\n",
            "src:changed in version 3.3: added <unk> call to the <unk> method.\n",
            "trg:在 3.3 版 更改 : added \" <unk> _ <unk> \" call to the \" <unk> _ forever \" method .\n",
            "pred:在 3.3 版 更改 : \" _ _ _ _ _ _ _ _ _ _ _ _ _ _ _ _\n",
            "\n",
            "src:<unk> fp (a <unk> supporting text file or binary file containing a json <unk> to a python object using this conversion <unk>\n",
            "trg:使用 这个 转换 <unk> fp ( 一个 支持 \" . read ( ) \" 并 包含 一个 json 文档 的 text file 或者 binary file ) 反 序列化 为 一个 python 对象\n",
            "pred:\" \" \" \" \" \" \" \" \" \" \" \" \" \" \" \" \" \" \" \" \" \" python \" \" \" 的\n",
            "\n",
            "src:some types accept other objects as well.\n",
            "trg:某些 类型 也 能 接受 其他 对象\n",
            "pred:其他 对象 对象 的 对象\n",
            "\n",
            "src:\"hashlib\" secure hashes and message digests\n",
            "trg:\" hashlib \" 安全 哈希 与 消息 摘要\n",
            "pred:\" hashlib \" \" \" 消息 \"\n",
            "\n",
            "src:python's support for <unk> and <unk> garbage which involves <unk> references requires support from object types which are <unk> for other objects which may also be containers\n",
            "trg:python 对 循环 引用 的 垃圾 检测 与 回收 需要 “ 容器 ” 对象 类型 的 支持 ， 此 类型 的 容器 对象 中 可能 包含 其它 容器 对象\n",
            "pred:\" <unk> \" \" \" \" \" \" \" \" \" \" 的 的 的 的 的 的 的 的 的 的 的\n",
            "\n",
            "src:allocates <unk> elements each whose size in bytes is <unk> and returns a pointer of type \"void \" to the allocated memory, or \"null\" if the request fails\n",
            "trg:分配 <unk> 个 元素 ， 每个 元素 的 大小 为 <unk> 字节 ， 并 返回 指向 分配 的 内存 的 \" void \" 类型 指针 ， 如果 请求 失败 则 返回 \" null \"\n",
            "pred:如果 \" \" \" \" \" \" \" \" \" \" \" \" \" \" \" \" \" \" \" \" \" \" 大小 \" 大小 返回 大小 \" 大小 \"\n",
            "\n",
            "src:<unk> install standard library and extension 1 modules <unk> install bundled pip and <unk> 1 <unk> install debugging symbols ( <unk> 0 <unk> install tcl/tk support and idle 1 <unk> install standard library test suite 1 <unk> install utility scripts 1 <unk> only <unk> the launcher\n",
            "trg:这 将 覆盖 大多数 其他 选项\n",
            "pred:<unk> <unk> <unk> <unk> <unk> <unk> <unk> <unk> <unk> <unk> <unk> <unk> <unk> <unk> <unk> <unk> <unk> <unk> <unk> <unk> <unk> <unk> <unk> <unk> <unk> <unk> <unk> <unk> <unk> <unk> <unk> <unk> <unk> <unk> <unk> <unk> <unk> <unk> <unk> <unk> <unk> <unk> <unk>\n",
            "\n",
            "src:none of the types defined in this module can be <unk>\n",
            "trg:此 模块 中 所 定义 的 类型 都 不可 被 实例 化\n",
            "pred:可以 可以 模块 定义 的 的 的 的 的 的\n",
            "\n",
            "src:lastly, <unk> you are <unk> about how to get a list from a range\n",
            "trg:最后 ， 也许 你 会 很 <unk> 如何 从 一个 指定 范围 内 获取 一个 列表\n",
            "pred:从 一个 \" ， ， ， ， ， ， 的 的 的 的\n",
            "\n",
            "src:if you need to interface to some c or c++ library for which no python extension currently exists, you can try wrapping the library's data types and functions with a tool such as swig\n",
            "trg:如果 需要 连接 到 某些 当前 不 存在 python 扩展 的 c 或 c ++ 库 ， 可以 尝试 使用 swig 等 工具 包装 库 的 数据类型 和 函数\n",
            "pred:如果 你 你 你 ， ， ， ， ， ， ， ， ， 的 的 的 的 的 的 的 的 的\n",
            "\n",
            "src:programs written in python are typically much shorter than equivalent c, c++, or java programs, for several <unk>\n",
            "trg:python 代码 通常 比 同样 功能 的 c ， c++ ， java 代码 要 短 很多 ， 原因 <unk> ：\n",
            "pred:在 python python python python python python python python python python 在 python python python <unk> 中\n",
            "\n",
            "src:panel objects, as returned by <unk> above, are windows with a <unk> order\n",
            "trg:panel 对象 ， 如 上面 \" new _ panel ( ) \" 所 返回 的 对象 ， 是 带有 栈 顺序 的 多个 窗口\n",
            "pred:返回 一个 <unk> \" \" \" \" \" \" \" \" \" \" \" \" \" \" \"\n",
            "\n",
            "src:for simple byte <unk> <unk> is the preferred function.\n",
            "trg:对于 简单 的 字节 缓冲区 ， \" <unk> _ <unk> ( ) \" 是 首选 函数\n",
            "pred:对于 \" \" \" \" \" \" \" \" \" \" \" \" \" \"\n",
            "\n",
            "src:deprecated since version 3.2: the <unk> aliases listed in the third column have been deprecated.\n",
            "trg:3.2 版后 已 移除 : the assert <unk> <unk> in the <unk> column have been deprecated .\n",
            "pred:在 版后 已 移除 : the \" \" \" \" \" \" \" \" \" \" \" \"\n",
            "\n",
            "src:the data will be strings if streams were opened in text <unk> otherwise, bytes.\n",
            "trg:如果 文件 以 文本 模式 打开 则 为 字符串 ； 否则 字节\n",
            "pred:如果 消息 中 ， ， ， ， ， ， ， \" \" \"\n",
            "\n",
            "src:the numeric constant for an uncompressed archive member.\n",
            "trg:未 被 压缩 的 归档 成员 的 数字 常数\n",
            "pred:\" 的 \" 的 的 的 的 的\n",
            "\n",
            "src:new in version 3.2.\n",
            "trg:3.2 新版 功能 .\n",
            "pred:3.2 新版 功能 .\n",
            "\n",
            "src:new in version 3.3.\n",
            "trg:3.3 新版 功能 .\n",
            "pred:3.3 新版 功能 .\n",
            "\n",
            "src:see pep <unk> for more details.\n",
            "trg:请参阅 pep <unk> 查看 更 多 细节\n",
            "pred:pep <unk> 了解 详情 了解 详情\n",
            "\n",
            "src:don't add the <unk> site packages <unk> to <unk>\n",
            "trg:不要 将 \" 用户 site packages 目录 \" 添加 到 \" sys . path \"\n",
            "pred:在 <unk> <unk> <unk> <unk> <unk> <unk> <unk> <unk> <unk> <unk> <unk>\n",
            "\n",
            "src:alternatives to the interactive interpreter\n",
            "trg:默认 交互式 解释器 的 <unk>\n",
            "pred:交互 解释器 解释器 解释器\n",
            "\n",
            "src:similarly, to get anything other than \"none\" in the result tuple, you need to give \"stdout pipe\" and/or \"stderr pipe\" too.\n",
            "trg:类似 的 ， 要 从 结果 元组 获取 任何 非 \" none \" 值 ， 你 同样 需要 设置 \" stdout pipe \" 或者 \" stderr pipe \"\n",
            "pred:这 类似 必须 为 ， ， ， ， ， ， ， ， ， ， ， ， ， \"\n",
            "\n",
            "src:perform <unk> <unk> between a and b\n",
            "trg:在 a 和 b 之间 进行 全 比较\n",
            "pred:\" 和 和 和 和 和 b <unk>\n",
            "\n",
            "src:what is a <unk>\n",
            "trg:什么 是 方法 ？\n",
            "pred:为什么 是 ？ ？\n",
            "\n",
            "src:the spawn and forkserver start methods\n",
            "trg:spawn 和 forkserver 启动 方式\n",
            "pred:spawn spawn 和 forkserver 启动 方法\n",
            "\n",
            "src:<unk> supports simple test discovery\n",
            "trg:unittest 支持 简单 的 测试 搜索\n",
            "pred:\" \" \" \" \" \" \" \"\n",
            "\n",
            "src:set the contents of the cell object cell to value\n",
            "trg:将 cell 对象 cell 的 内容 设 为 value\n",
            "pred:设置 为 的 的 为 值 的 值\n",
            "\n",
            "src:it demonstrates many of the other functions provided by this module.\n",
            "trg:它 还 展示 了 此 模块 所 提供 的 许多 其他 函数\n",
            "pred:此 模块 函数 函数 的 函数 的 函数 函数\n",
            "\n",
            "src:(note that most users are not explicitly listed as members of the group they are in according to the password database\n",
            "trg:（ 注意 ， 大多数 用户 未 根据 密码 数据库 显式 <unk> 所属 组 的 成员\n",
            "pred:请 注意 ， 的 的 的 的 的 的 的 的 的 的 的 的 的\n",
            "\n",
            "src:this means that the string must be formatted exactly as it would be when typed at the shell prompt\n",
            "trg:这 意味着 字符串 的 格式 必须 和 在 命令提示符 中 所 输入 的 完全相同\n",
            "pred:这 意味着 在 这 将 时 ， 时 ， 时 的\n",
            "\n",
            "src:new in version 3.2.\n",
            "trg:3.2 新版 功能 .\n",
            "pred:3.2 新版 功能 .\n",
            "\n",
            "src:if doraise is false (the default), an error string is written to <unk> but no exception is raised\n",
            "trg:如果 doraise 为 假值 （ 默认 ） ， 则 将 写入 错误信息 到 \" sys . stderr \" ， 但 不会 引发 异常\n",
            "pred:如果 未 是 ， 则 则 则 则 则 则 引发 则 引发 \" 引发 \"\n",
            "\n",
            "src:additional keyword arguments will be passed to the constructor of the class.\n",
            "trg:额外 的 关键词 参数 会 通过 类 的 构造函数 传递\n",
            "pred:将 参数 传给 的 参数 传给 的 参数 的\n",
            "\n",
            "src:return the value (in fractional <unk> of the sum of the system and user cpu time of the current thread\n",
            "trg:返回 当前 线程 的 系统 和 用户 cpu 时间 之 和 的 值 （ <unk> <unk> 为 单位 ）\n",
            "pred:返回 当前 线程 的 当前 线程 的 当前 线程 的 的 的 的\n",
            "\n",
            "src:<unk> is not available on all <unk>\n",
            "trg:( \" os . chflags \" 不是 在 所有 平台 <unk> 可用 。 )\n",
            "pred:所有 所有 所有 所有 所有 所有 的\n",
            "\n",
            "src:returns \"true\" if x is <unk> otherwise returns \"false\".\n",
            "trg:如果 x 是 规范 的 则 返回 \" true \" ； 否则 返回 \" false \"\n",
            "pred:如果 x 为 \" \" \" 返回 \" \" \" \" \" \" \" \"\n",
            "\n",
            "src:the code is executed by calling the <unk> (which also handles run time exceptions, except for <unk>\n",
            "trg:将 通过 调用 \" <unk> ( ) \" 执行 代码 （ 该 方法 也 会 处理 运行 时 异常 ， \" systemexit \" 除外 ）\n",
            "pred:由于 的 的 的 的 的 的 的 的 的 的 的 的 的 的 的 的 的\n",
            "\n",
            "src:to request that the additional bits instead be <unk> to zero, the flag <unk> false\" can be passed to the <unk>\n",
            "trg:要 请求 将 附加 位 强制 为 零 ， 可以 将 标志 ` ` strict false ` ` 传递 给 构造函数 :\n",
            "pred:要 要 可以 可以 ， ， ， ， ， <unk> <unk> <unk> <unk> <unk> <unk> <unk>\n",
            "\n",
            "src:pep <unk> the logging package\n",
            "trg:pep <unk> : logging 包\n",
            "pred:pep <unk> 包 包 包\n",
            "\n",
            "src:the \"numbers\" module ( pep <unk> ) defines a hierarchy of numeric abstract base classes which <unk> define more operations\n",
            "trg:\" numbers \" 模块 ( pep <unk> ) 定义 了 数字 抽象 基类 的 层次结构 ， 其中 <unk> 定义 了 更 多 操作\n",
            "pred:\" \" \" \" \" \" \" \" \" 的 的 的 的 的 的 的 的 的 的 的\n",
            "\n",
            "src:changed in version 3.3: <unk> has been made a subclass of \"oserror\" instead of <unk>\n",
            "trg:在 3.3 版 更改 : \" <unk> \" 已 被 设为 \" oserror \" 而 不是 \" ioerror \" 的 子类\n",
            "pred:在 3.3 版 更改 : \" \" \" \" \" \" \" \" \" \" \" \" \" \" \" \" \" \"\n",
            "\n",
            "src:for all of the <unk> <unk> and <unk> <unk> while the added value or <unk> pair is popped <unk> the container object remains on the stack so that it is available for further <unk> of the loop.\n",
            "trg:对于 所有 \" set _ add \" 、 \" list _ append \" 和 \" map _ add \" 指令 ， <unk> 出 添加 的 值 或 键值 <unk> ， 容器 对象 保留 在 堆栈 上 ， 以便 它 可 用于 循环 的 进一步 迭代\n",
            "pred:对于 \" \" \" \" \" \" \" \" \" \" \" \" \" \" \" \" \" \" \" \" \" \" \" \" \" \" \" \" \" \" \" \" \" \"\n",
            "\n",
            "src:<unk> instances have the following methods:\n",
            "trg:\" prettyprinter \" 的 实例 具有 下列 方法 ：\n",
            "pred:\" httpconnection \" \" \" \" \" \" \"\n",
            "\n",
            "src:takes the logging configuration from a dictionary\n",
            "trg:从 一个 字典 获取 日志 记录 配置\n",
            "pred:字典 字典 字典 字典 字典\n",
            "\n",
            "src:for unix like operating systems python is normally provided as a collection of packages, so it may be necessary to use the <unk> tools provided with the operating system to obtain some or all of the optional <unk>\n",
            "trg:对于 类 unix 操作系统 ， python 通常 会 分成 一系列 的 软件包 ， 因此 可能 需要 使用 操作系统 所 提供 的 包 <unk> 来 获取 部分 或 全部 可 选 组件\n",
            "pred:对于 ， 的 的 的 的 的 的 的 的 ， ， ， ， ， ， 的 的 的 的 的 的 的 的 的 的 的 的 的 的 的 的 的 的\n",
            "\n",
            "src:\"configparser\" configuration file parser\n",
            "trg:\" configparser \" 配置文件 解析器\n",
            "pred:\" \" \" \" \" \" \" \"\n",
            "\n",
            "src:in order to decide when to <unk> the collector keeps track of the number object allocations and <unk> since the last collection\n",
            "trg:为了 确定 何时 要 运行 ， 垃圾 回收 器会 跟踪 <unk> 一次 回收 后 对象 分配 和 释放 的 数量\n",
            "pred:\" \" \" \" \" \" \" \" \" \" \" \" \" \" \" \" \" \" \" \" \" \" \" \" \" \" \" 的 的\n",
            "\n",
            "src:return nonzero and set an exception on failure.\n",
            "trg:失败 时 返回 非零值 并 设置 一个 异常\n",
            "pred:成功 时 返回 时 返回 异常\n",
            "\n",
            "src:the <unk> can be manually configured to use <unk> or <unk> to support character devices on these older versions of macos\n",
            "trg:可以 手工 配置 \" <unk> \" 来 使用 \" <unk> \" 或 \" <unk> \" 以 在 这些 较 老 版本 的 macos 上 支持 字符 设备\n",
            "pred:\" \" \" \" \" \" \" \" \" \" \" \" \" \" \" \" \" \" \" \" \" \" 的 的\n",
            "\n",
            "src:the new class instance is based on fileobj , which can be a regular file, an <unk> object, or any other object which <unk> a file\n",
            "trg:新 的 实例 基于 fileobj ， 它 可以 是 一个 普通 文件 ， 一个 \" io . bytesio \" 对象 ， 或者 任何 一个 与 文件 相似 的 对象\n",
            "pred:\" 一个 类 的 的 的 的 的 的 的 一个 类 的 的 的 的 的 的 的 的 的 的 的\n",
            "\n",
            "src:hint: the built in function \"range()\" returns an iterator of integers suitable to emulate the effect of <unk> \"for i : a to b <unk> e.g., <unk> returns the list <unk> 1, <unk>\n",
            "trg:提示 ： 内置 函数 \" range ( ) \" 会 返回 一个 可 迭代 的 整数 序列 ， 适用 于 模拟 <unk> 中 的 \" for i : a to b do \" 这种 效果 ； 例如 \" list ( range ( 3 ) ) \" 会 返回 列表 \" [ 0 , 1 , 2 ] \"\n",
            "pred:返回 一个 的 的 的 \" \" \" \" \" \" ( \" \" ( \" \" \" \" \" \" \" \" \" \" \" \" \" \" \" \" \" \" \"\n",
            "\n",
            "src:debugger <unk> when <unk> code entered in the shell or run from an editor will run under the debugger\n",
            "trg:调试器 （ 切换 ） 激活 后 ， 在 shell 中 输入 的 代码 或 从 编辑器 中 运行 的 代码 将 在 调试器 下 运行\n",
            "pred:在 在 在 在 在 ， 中 ， 在 ， 在 ， 在 ， 在 ， 的 时 执行 的 的\n",
            "\n",
            "src:before, only <unk> \"> <unk> had an argument.\n",
            "trg:之前 仅限 操作码 \" > have _ argument \" 带有 参数\n",
            "pred:在 只 \" \" \" _ _ \" \"\n",
            "\n",
            "src:python 3.9 was released on <unk> <unk> <unk>\n",
            "trg:python 3.9 发布 于 2020 年 10 月 5 日\n",
            "pred:在 python <unk> <unk> <unk> <unk> <unk> <unk> <unk> <unk>\n",
            "\n",
            "src:deprecated since version 3.9: in the future, the seed must be one of the following types: <unk> , \"int\", \"float\", \"str\", \"bytes\", or \"bytearray\".\n",
            "trg:3.9 版后 已 移除 : 在 将来 ， seed 必须 是 下列 类型 之一 : nonetype , \" int \" , \" float \" , \" str \" , \" bytes \" 或 \" bytearray \"\n",
            "pred:3.9 版后 已 移除 : \" \" \" \" \" \" \" \" \" \" \" \" \" \" \" \" \" \" \" \" \" \" \" \" \" \"\n",
            "\n",
            "src:if <unk> is not \"none\", it indicates the line number that should be reported for the first source line in the <unk> code\n",
            "trg:如果 first _ line 不是 \" none \" ， 则 表示 应该 为 反汇编 代码 中 的 第一个 源代码 行 报告 的 行号\n",
            "pred:如果 <unk> ， ， ， ， ， ， ， ， ， ， ， 代码 <unk> 代码\n",
            "\n",
            "src:the returned data should be concatenated with the output of any previous calls to <unk>\n",
            "trg:返回 的 数据 应当 与 之前 任何 \" compress ( ) \" 调用 的 输出 进行 拼接\n",
            "pred:将 的 的 的 的 \" \" \" \" \" \" \" \" \" \"\n",
            "\n",
            "src:dst and src must be integers or ctypes instances that can be converted to <unk>\n",
            "trg:dst 和 src 必须 为 整数 或 可 被 转换 为 指针 的 ctypes 实例\n",
            "pred:必须 必须 为 必须 为 必须 为 或 必须 为 \" 或 必须 为 \" 或 必须 为\n",
            "\n",
            "src:changed in version 3.5: quiet parameter was changed to a <unk> value.\n",
            "trg:在 3.5 版 更改 : quiet parameter was changed to a <unk> value .\n",
            "pred:在 3.6 版 更改 : 更改 : <unk> <unk> <unk> <unk>\n",
            "\n",
            "src:the compression settings can be specified either as a <unk> compression level (with the <unk> <unk> or in detail as a custom filter chain (with the filters <unk>\n",
            "trg:压缩 设置 可 被 指定 为 一个 预设 的 压缩 等级 （ 通过 <unk> 参数 ） 或 以 自定义 过滤器 <unk> 详细 设置 （ 通过 filters 参数 ）\n",
            "pred:例如 ， 的 的 的 的 的 的 的 的 ， ， 的 的 <unk> 或者 ， ） \" <unk> \"\n",
            "\n",
            "src:storing thread using a custom hook can <unk> it if it is set to an object which is being <unk>\n",
            "trg:使用 定制 钩子 存放 thread 可能 会 在 它 设为 被 终结 对象 时 将 其 <unk>\n",
            "pred:在 一个 可以 一个 ， ， ， ， ， ， ， ， 它 可以 \" \" \" \" \" \" \"\n",
            "\n",
            "src:changed in version 3.6.2: the path parameter accepts a path like object .\n",
            "trg:在 3.6 . 2 版 更改 : path 形参 接受 一个 path like object\n",
            "pred:在 3.6 版 更改 : 接受 一个 接受 一个 接受 一个 类 路径 对象\n",
            "\n",
            "src:converts <unk> to <unk>\n",
            "trg:将 \" <unk> \" 转换 为 \" str \"\n",
            "pred:将 \" \" ( \" ( \" ( \" ( \" ) \"\n",
            "\n",
            "src:for a complete overview of string formatting with <unk> see format string syntax.\n",
            "trg:关于 使用 \" str . format ( ) \" 进行 字符串 格式化 的 完整 概述 ， 请参阅 格式 字符串 语法\n",
            "pred:请参阅 字符串 的 format format format \" 字符串 的 format \" format format format\n",
            "\n",
            "src:for \"time\" objects, the format codes for year, month, and day should not be used, as \"time\" objects have no such values\n",
            "trg:对于 \" time \" 对象 ， 年 、 月 、 日 的 格式 代码 不应 被 使用 ， 因为 \" time \" 对象 没有 这些 值\n",
            "pred:对于 ， \" \" \" \" \" \" ， \" ， \" ， \" ， \" \" 的\n",
            "\n",
            "src:<unk> the start boundary <unk> in the content type header was never found.\n",
            "trg:\" <unk> \" 在 content type 标头 中 宣称 的 开始 边界 无法 被 找到\n",
            "pred:在 的 的 的 的 的 的 的 的 的 的 的 的 的\n",
            "\n",
            "src:the format of the sent byte string is as described in the documentation for <unk>\n",
            "trg:所 发送 字节 串 的 格式 与 \" <unk> ( ) \" 文档 中 的 描述 一致\n",
            "pred:（ 的 的 的 的 的 的 的 的 的 的 的 的 的 的\n",
            "\n",
            "src:the <unk> is available in \"argparse\" and adds support for boolean actions such as \" <unk> and \" no <unk>\n",
            "trg:\" <unk> \" 在 \" argparse \" 中 可用 并会 添加 对 布尔 型 操作 例如 \" foo \" 和 \" no foo \" 的 支持 :\n",
            "pred:\" \" \" \" \" \" \" \" \" \" \" \" \" \" \" \" \" \" \" \" \" \" \" \"\n",
            "\n",
            "src:the parameter must not be \"null\".\n",
            "trg:形参 必须 不 为 \" null \"\n",
            "pred:必须 必须 为 \" 必须 为 \"\n",
            "\n",
            "src:if your data structures contain <unk> links (e.g. a tree where each child has a parent reference and each parent has a list of <unk> the reference counts will never go back to zero\n",
            "trg:如果 数据结构 包含 循环 链接 （ 例如 ， 每个 子级 都 有 一个 <unk> 引用 ， 每个 <unk> 都 有 一个 子级 列表 的 树 ） ， 则 引用 计数 将 永远 不会 返回 零\n",
            "pred:如果 每个 一个 的 的 的 的 的 的 的 ， ， ， ， 的 的 的 的 的 的 的 的 的 的 的 的 的 的 的\n",
            "\n",
            "src:by <unk> <unk> will reuse the same module object, and simply <unk> the module contents by <unk> the module's code.\n",
            "trg:相反 地 ， \" importlib . reload ( ) \" 将 重用 同一个 模块 对象 ， 并 简单 地 通过 重新 运行 模块 的 代码 来 重新 初始化 模块 内容\n",
            "pred:\" <unk> <unk> <unk> <unk> <unk> <unk> <unk> <unk> 模块 由 <unk> <unk> <unk> <unk> <unk> <unk> 模块 <unk>\n",
            "\n",
            "src:however, quite often the command line string should instead be interpreted as another type, like a \"float\" or \"int\"\n",
            "trg:然而 ， 命令行 字符串 经常 需要 被 当作 其它 的 类型 ， 比如 \" float \" 或者 \" int \"\n",
            "pred:或者 ， \" \" \" \" \" \" \" \" \" \" \" \" \" \" \" \" \" \" \" \" \"\n",
            "\n",
            "src:additional utility classes and functions\n",
            "trg:附加 工具 类 和 函数\n",
            "pred:函数 和 和 函数 和\n",
            "\n",
            "src:returns the \"bitwise <unk> of o1 and o2 on success and \"null\" on failure\n",
            "trg:成功 时 返回 o1 和 o2 \" 按位 与 \" 的 结果 ， 失败 时 返回 \" null \"\n",
            "pred:返回 o1 、 o2 做 和 结果 ， \" 返回 \" \" \" \"\n",
            "\n",
            "src:ensure that the arguments to the methods of proxies are <unk>\n",
            "trg:保证 所 代理 的 方法 的 参数 是 可以 序列化 的\n",
            "pred:要 的 的 的 的 的 的 的\n",
            "\n",
            "src:if when is omitted, it defaults to <unk> and is passed to <unk>\n",
            "trg:如果 when 被 省略 ， 则 默认 为 \" termios . <unk> \" ， 并 传递 给 \" termios . <unk> ( ) \"\n",
            "pred:当 allow 为 \" 为 \" 为 \" ， \" \" \" \" \" \" \" \"\n",
            "\n",
            "src:positional argument : an argument that is not a keyword argument\n",
            "trg:位置 参数 : 不 属于 关键字 参数 的 参数\n",
            "pred:参数 参数 参数 参数 参数 参数 参数 参数\n",
            "\n",
            "src:in blake2 the salt is processed as a one time input to the hash function during <unk> rather than as an input to each compression function.\n",
            "trg:在 blake2 中 ， <unk> 会 在 初始化 期间 作为 对 哈希 函数 的 一次性 输入 而 不是 对 每个 压缩 函数 的 输入 来 处理\n",
            "pred:在 的 的 的 的 的 的 的 的 的 的 的 的 的 的 的 的 的 的 的 的 的 的 的\n",
            "\n",
            "src:maximum size of a deque or \"none\" if <unk>\n",
            "trg:deque 的 最大 尺寸 ， 如果 没有 限定 的话 就是 \" none \"\n",
            "pred:如果 \" \" \" \" \" \" \" \" \" \" \" \" \" \"\n",
            "\n",
            "src:while python uses the traditional reference counting implementation, it also offers a cycle detector that works to detect reference cycles\n",
            "trg:python 使用 传统 的 引用 计数 实现 ， 也 提供 了 循环 <unk> ， 用以 检测 引用 循环\n",
            "pred:\" 的 的 的 的 的 的 的 的 的 的 的 的 的 的 的 的 的 的 的 的 的 的\n",
            "\n",
            "src:you can also automatically compile all files in a directory or directories using the <unk> module\n",
            "trg:你 还 可以 使用 \" <unk> \" 模块 自动 编译 一个 目录 或 多个 目录 下 的 所有 文件\n",
            "pred:使用 模块 \" 目录 \" \" \" 目录 \" 目录 \" 目录 \" 目录 \" \" \"\n",
            "\n",
            "src:error output redirection and program termination\n",
            "trg:错误 输出 重定向 和 程序 终止\n",
            "pred:配置 和 输出\n",
            "\n",
            "src:<unk> (\"int\") [unsigned long] convert a c \"unsigned long\" to a python integer object.\n",
            "trg:\" k \" ( \" int \" ) [ unsigned long ] 将 一个 c \" unsigned long \" 无 <unk> 整型 转化成 python 整型 对象\n",
            "pred:\" \" \" \" \" \" \" \" \" \" \" \" unsigned int \" unsigned int 转化成 unsigned \" unsigned 转化成 长长 转化成 长长\n",
            "\n",
            "src:to <unk> the record at the receiving end into a <unk> use the <unk> function.\n",
            "trg:要 在 <unk> 将 记录 解封 并 输出 到 \" logrecord \" ， 请 使用 \" <unk> ( ) \" 函数\n",
            "pred:要 要 要 使用 要 使用 \" 请 \" _ _ _ \" \" \"\n",
            "\n",
            "src:this is the equivalent of the python expression \"o1 + o2\".\n",
            "trg:等价 于 python 表达式 \" o1 + o2 \"\n",
            "pred:这 python python python 表达式 python 表达式 \"\n",
            "\n",
            "src:other cpython implementation changes\n",
            "trg:其他 cpython 实现 的 改变\n",
            "pred:其他 cpython 实现 的 改变\n",
            "\n",
            "src:design and history faq\n",
            "trg:设计 和 历史 常见问题\n",
            "pred:编辑 和 编辑 常见问题\n",
            "\n",
            "src:<unk> is false by default.\n",
            "trg:\" <unk> _ <unk> _ <unk> \" 默认 为 假值\n",
            "pred:由 <unk> 由 \" 由 禁用\n",
            "\n",
            "src:immutable objects do not have to define this method since they can never directly create reference cycles\n",
            "trg:不可 变 对象 不 需要 声明 此 方法 ， 因为 他们 不 可能 直接 产生 循环 引用\n",
            "pred:这个 方法 的 的 的 的 的 的 的 的 的 的 的 的 的 的 的 的\n",
            "\n",
            "src:see command line interface for detailed documentation.\n",
            "trg:详细 文档 请 参见 命令行 界面\n",
            "pred:请参阅 difflib 了解 命令行 界面\n",
            "\n",
            "src:unpacks and returns a list of homogeneous items\n",
            "trg:解包 并 返回 同质 条 目的 列表\n",
            "pred:返回 一个 列表 列表 列表 列表 列表 列表\n",
            "\n",
            "src:changes <unk> to \"key in <unk>\n",
            "trg:将 \" dict . has _ key ( key ) \" 转换 为 \" key in dict \"\n",
            "pred:在 3.8 \" . <unk> . <unk> 中 .\n",
            "\n",
            "src:the canonical way to share information across modules within a single program is to create a special module <unk> called config or <unk>\n",
            "trg:在 单个 程序 中 跨 模块 共享 信息 的 规范 方法 是 创建 一个 特殊 模块 （ 通常 称为 config 或 cfg ）\n",
            "pred:\" 模块 \" 模块 \" \" \" \" \" \" \" \" \" \" \" \" \" \" \" \" \" \" \" \" \" \" \" \"\n",
            "\n",
            "src:if not found, it then searches for a file named <unk> in a list of directories given by the variable \"sys.path\"\n",
            "trg:如果 没有 找到 ， 然后 解释器 从 \" sys . path \" 变量 给出 的 目录 列表 里 寻找 名为 \" spam . py \" 的 文件\n",
            "pred:如果 指定 不到 ， 的 ， ， ， ， ， ， ， 的 的 的 的 的 的 的\n",
            "\n",
            "src:let's say we want to remove all <unk> with a <unk> higher than <unk>\n",
            "trg:假设 我们 要 删除 排名 高于 50 的 所有 <unk> / <unk> :\n",
            "pred:这 <unk> 的 的 的 的 的 的 的 的 的 的 的 <unk> <unk> <unk> <unk>\n",
            "\n",
            "src:there are several possible reasons for this.\n",
            "trg:<unk> 几个 可能 的 原因\n",
            "pred:用于 的 的 的 的 的\n",
            "\n",
            "src:prompt the user for a password without <unk>\n",
            "trg:提示 用户 输入 一个 密码 且 不会 回显\n",
            "pred:请 ， ， ， 的 的 的 的\n",
            "\n",
            "src:to convert to a key function, just wrap the old comparison function:\n",
            "trg:要 转换 为键 函数 ， 只 需 包装 旧 的 比较 函数 ：\n",
            "pred:要 根据 的 的 的 的 ， ， 的 的 的 的 的\n",
            "\n",
            "src:raises an auditing event <unk> with no arguments.\n",
            "trg:没有 参数 会 引发 审计 事件 \" cpython . run _ stdin \"\n",
            "pred:引发 一个 审计 事件 \" \" \" \" \" \" \" \" \" \" \" \"\n",
            "\n",
            "src:new in version 3.9.\n",
            "trg:3.9 新版 功能 .\n",
            "pred:3.9 新版 功能 .\n",
            "\n",
            "src:note that any python object references which are provided to the caller are borrowed <unk> do not decrement their reference <unk>\n",
            "trg:注意 任何 由 调用者 提供 的 python 对象 引用 是 <unk> 的 引用 ； 不要 递减 它们 的 引用 计数 ！\n",
            "pred:请 注意 的 的 的 的 的 引用 （ 引用 ， 引用 的 的 的 引用 的 的 引用 的\n",
            "\n",
            "src:this also <unk> e and s\n",
            "trg:这 将 同时 应用 e 和 s\n",
            "pred:此 \" \" \" \" \" \"\n",
            "\n",
            "src:the module <unk> the following functions, <unk> on those in the standard c library:\n",
            "trg:此 模块 提供 了 下列 函数 ， 对应 于 标准 c 库中 的 函数 :\n",
            "pred:\" \" \" \" \" \" \" 标准 \" \" \" \" \" \" \"\n",
            "\n",
            "src:module <unk> utilities to compile all python source files in a directory tree.\n",
            "trg:模块 \" <unk> \" 编译 一个 目录 <unk> 所有 python 源文件 的 工具\n",
            "pred:\" \" \" \" 目录 \" 目录 \" 目录 目录 目录 目录 目录 目录 目录 目录\n",
            "\n",
            "src:there is a simple way to call the base class method directly: just call <unk> <unk>\n",
            "trg:有 一种 方式 可以 简单 地 直接 调用 基类 方法 ： 即 调用 \" <unk> . methodname ( self , arguments ) \"\n",
            "pred:这个 方法 方法 方法 方法 方法 方法 方法 方法 方法 方法 方法 方法 方法 方法 方法 方法 方法 方法 方法 方法\n",
            "\n",
            "src:changed in version 3.5: suffix , prefix , and dir may now be supplied in bytes in order to obtain a bytes return value\n",
            "trg:在 3.5 版 更改 : 现在 ， suffix 、 prefix 和 dir 可以 以 bytes 类型 按 顺序 提供 ， 以 获得 bytes 类型 的 返回值\n",
            "pred:在 在 3.5 版 更改 : the \" \" \" \" \" \" \" \" \" \" \" \" \"\n",
            "\n",
            "src:bpo <unk> update windows builds and os x <unk> installer to use openssl <unk>\n",
            "trg:bpo <unk> : 更新 windows 构建 和 os x 10.5 安装程序 以 使用 openssl 1.0 . <unk> .\n",
            "pred:bpo <unk> : 更新 windows os . 10.5 安装程序 10.5 安装程序 10.5 . <unk> . <unk>\n",
            "\n",
            "src:all stream readers must provide this constructor interface\n",
            "trg:所有 流式 <unk> 必须 提供 此 构造 器 接口\n",
            "pred:所有 的 所有 的 所有 的 接口\n",
            "\n",
            "src:more details in <unk> cpython with dtrace and <unk>\n",
            "trg:更 多 信息 ， 请 参见 使用 dtrace 和 systemtap 检测 cpython\n",
            "pred:<unk> <unk> <unk> <unk> <unk> <unk> <unk> <unk> <unk> <unk> <unk>\n",
            "\n",
            "src:paint character ch at \"(y, x)\" with attributes attr , <unk> any character previously <unk> at that location\n",
            "trg:将 带有 属性 attr 的 字符 ch 绘制 到 \" ( y , x ) \" ， 覆盖 之前 在 该 位置 上 绘制 的 任何 字符\n",
            "pred:\" \" \" \" \" \" \" \" \" \" \" \" \" \" \" \" \" \" \" \" \" \" \" \" \" \" \" \" \" \"\n",
            "\n",
            "src:is there a way to get a non <unk> <unk>\n",
            "trg:是否 有 办法 得到 一个 非 指数 表示 形式 ？\n",
            "pred:我 是 的 的 的 <unk> <unk>\n",
            "\n",
            "src:changed in version 3.6: now only called for exceptions derived from the <unk> class.\n",
            "trg:在 3.6 版 更改 : now only called for exceptions <unk> from the \" exception \" class .\n",
            "pred:在 3.6 版 更改 : 从 \" \" \" \" \" \" \" \"\n",
            "\n",
            "src:the python core uses several <unk> functions to implement cyclic garbage <unk> it's not expected that users will need to write their own <unk> functions.\n",
            "trg:python 核心 使用 多个 <unk> 函数 实现 循环 引用 的 垃圾 检测 ， 不 需要 用户 自行 实现 <unk> 函数\n",
            "pred:python 的 的 的 \" \" \" \" \" \" \" \" \" \" \" \" \" \" \" 的 的 的 的 的\n",
            "\n",
            "src:the byte <unk> version of this character <unk> is an illegal character that may not appear in a unicode text\n",
            "trg:此 字符 的 字节 <unk> 版本 ( \" <unk> \" ) 是 一个 不可 出现 于 unicode 文本 中 的 非法 字符\n",
            "pred:在 unicode \" unicode \" unicode \" unicode \" unicode \" unicode \" unicode 的 unicode 的 unicode 的\n",
            "\n",
            "src:<unk> number of the mouse <unk> defaults to 1 <unk> mouse <unk>\n",
            "trg:<unk> 鼠标 按钮 编号 ， 默认值 为 1 ( 鼠标 <unk> )\n",
            "pred:<unk> <unk> <unk> <unk> <unk> <unk> <unk> <unk> <unk> <unk> <unk> <unk> <unk> <unk> <unk>\n",
            "\n",
            "src:to run the global interpreter, either <unk> the virtual environment, or explicitly specify the global python version.\n",
            "trg:要 运行 全局 解释器 ， 请 <unk> 虚拟环境 ， 或 显式 指定 全局 python 版本\n",
            "pred:请 python 运行 用户 python 运行 用户 ， ， ， ， ， python 运行 的\n",
            "\n",
            "src:the timeout argument sets the timeout parameter for the appropriate <unk> or \"poll()\" call, measured in <unk> the default is 30 seconds\n",
            "trg:timeout 形参为 适当 的 \" select ( ) \" 或 \" poll ( ) \" 调用 设置 超时 参数 ， 以 秒 为 单位 ; 默认值 为 30 秒\n",
            "pred:在 \" \" \" \" \" \" \" \" \" \" \" \" \" \" \" \" \" \" \" \" \"\n",
            "\n",
            "src:print a short description of all command line <unk>\n",
            "trg:打印 全部 命令行 选项 的 简短 描述\n",
            "pred:所有 命令行 的 命令行 的 命令\n",
            "\n",
            "src:docs for legacy message class moved to <unk> representing an email message using the <unk> api.\n",
            "trg:<unk> 的 文档 被 移动 至 email . message . message : <unk> an email message using the <unk> api\n",
            "pred:对于 消息 的 消息 的 消息 的 消息 的 消息 的 消息 的 消息 的\n",
            "\n",
            "src:with minor variations on that <unk> it is easy to implement forth style stack <unk> such as <unk> <unk> <unk> <unk> <unk> <unk> and <unk>\n",
            "trg:这个 方法 可以 最小 代价 实现 <unk> 的 栈 操作 ， 诸如 \" <unk> \" , \" <unk> \" , \" <unk> \" , \" <unk> \" , \" <unk> \" , \" <unk> \" , 和 \" <unk> \"\n",
            "pred:它 <unk> <unk> <unk> <unk> \" \" \" \" \" \" \" \" \" \" \" \" \" \" \" \" \" \" \" \" \" \" \" \" \"\n",
            "\n",
            "src:changed in version 3.5: added support for the <unk> format.\n",
            "trg:在 3.5 版 更改 : 添加 了 对 xztar 格式 的 支持\n",
            "pred:在 3.3 版 更改 : support for \" \" <unk> \" <unk> <unk> <unk> \"\n",
            "\n",
            "src:because there is only one instance of each module, any changes made to the module object get <unk> <unk>\n",
            "trg:因为 每个 模块 只有 一个 实例 ， 所以 对 模块 对象 所 做 的 任何 更改 都 会 在 任何 地方 反映 出来\n",
            "pred:\" 的 的 的 的 的 的 的 的 的 的 的 的 的 的 的 的 的\n",
            "\n",
            "src:what can be pickled and <unk>\n",
            "trg:可以 被 封存 / 解封 的 对象\n",
            "pred:可以 可以 和 解封 与\n",
            "\n",
            "src:return the length of the list object in list ; this is equivalent to <unk> on a list object.\n",
            "trg:返回 list 中 列表 对象 的 长度 ； 这 等于 在 列表 对象 调用 \" len ( list ) \"\n",
            "pred:返回 list 列表 列表 列表 的 列表 的 列表 的 列表 的 列表 列表 列表 列表\n",
            "\n",
            "src:<unk> <unk> <unk> <unk> <unk> <unk> <unk> <unk> <unk> iso <unk> <unk> iso <unk> <unk> 1, iso <unk> <unk> 2, iso <unk> <unk> 3, iso <unk> <unk> <unk> iso <unk> <unk> <unk> shift <unk> shift <unk> shift <unk> 2004\n",
            "trg:<unk> : <unk> , <unk> <unk> 2004 , <unk> <unk> , <unk> <unk> , iso <unk> <unk> , iso <unk> <unk> 1 , iso <unk> <unk> 2 , iso <unk> <unk> 3 , iso <unk> <unk> <unk> , iso <unk> <unk> 2004 , <unk> <unk> , <unk> <unk> , <unk> <unk> 2004\n",
            "pred:<unk> <unk> <unk> <unk> <unk> <unk> <unk> <unk> , <unk> , <unk> , <unk> , <unk> , <unk> , <unk> <unk> <unk> <unk> <unk> <unk> <unk>\n",
            "\n",
            "src:now what can we do with instance <unk> the only operations <unk> by instance objects are attribute references\n",
            "trg:现在 我们 能 用 实例 对象 做 什么 ？ 实例 对象 理解 的 唯一 操作 是 属性 引用\n",
            "pred:通过 通过 通过 通过 通过 通过 通过 通过 通过 通过 属性 通过 的 \" \" 实例 的 的 的 的\n",
            "\n",
            "src:the return value consists of two <unk> the first is a list of <unk> <unk> <unk> the second is the list of program arguments left after the option list was stripped (this is a trailing slice of args )\n",
            "trg:返回值 由 两个 元素 组成 ： 第一个 是 \" ( option , value ) \" 对 的 列表 ； 第二个 是 在 去除 该 选项 列表 后 <unk> 的 程序 参数 列表 （ 这 也 就是 args 的 尾部 切片 ）\n",
            "pred:返回 是 是 是 是 的 是 的 的 ， ， ， 的 的 的 的 的 的 的 的 的 的\n",
            "\n",
            "src:<unk> heap queue algorithm\n",
            "trg:\" heapq \" 堆 队列 算法\n",
            "pred:\" \" \" \" \"\n",
            "\n",
            "src:since version <unk> the ncurses library <unk> how to interpret non ascii data using the <unk> function\n",
            "trg:从 <unk> 版本 开始 ， ncurses 库 使用 \" nl _ <unk> \" 函数 来 决定 如何 解释 非 ascii 数据\n",
            "pred:\" \" \" \" \" \" \" \" \" \" \" \" \" \" 的 的 的 的 的 的 的 的\n",
            "\n",
            "src:<unk> actually does two things:\n",
            "trg:\" refresh ( ) \" 实际上 做 了 <unk> ：\n",
            "pred:两个 两个 两个 两个 两个 两个 两个 两个 两个\n",
            "\n",
            "src:parsing arguments and building values\n",
            "trg:语句 解释 及 变量 编译\n",
            "pred:创建 和 和 关键字\n",
            "\n",
            "src:returns \"true\" if x is a <unk> <unk> otherwise returns \"false\".\n",
            "trg:如果 x 是 显式 nan 则 返回 \" true \" ； 否则 返回 \" false \"\n",
            "pred:如果 x 是 \" \" \" \" 返回 \" \" \" \" \" \" \" \" \" \"\n",
            "\n",
            "src:other types of objects need to be converted either to a string (in text mode) or a bytes object (in binary mode) before writing them:\n",
            "trg:在 写入 其他 类型 的 对象 之前 ， 需要 先 把 它们 转化 为 字符串 （ 在 文本 模式 下 ） 或者 字节 对象 （ 在 二进制 模式 下 ） :\n",
            "pred:在 一个 的 或 字符串 或 的 或 或 字符串 ， 或 的 或 的 或 的 的 的\n",
            "\n",
            "src:if x is not a python \"int\" object, it has to define an \"__index__()\" method that returns an integer\n",
            "trg:如果 x 不是 python \" int \" 对象 ， 则 必须 定义 返回 整数 的 \" __ index __ ( ) \" 方法\n",
            "pred:如果 一个 一个 一个 一个 \" \" \" \" \" \" \" \" \" \" \" \" \" \" \" \" \" \" \"\n",
            "\n",
            "src:python is a <unk> programming language which has <unk> a <unk> for <unk>\n",
            "trg:python 是 <unk> 以 稳定 <unk> 的 编程语言\n",
            "pred:python 是 <unk> <unk> <unk> <unk> <unk> <unk> <unk> <unk> <unk> <unk> <unk> <unk>\n",
            "\n",
            "src:<unk> documentation and code for the <unk> <unk>\n",
            "trg:<unk> <unk> 工具 链 的 文档 和 代码\n",
            "pred:<unk> <unk> <unk> <unk> <unk> <unk> <unk> <unk>\n",
            "\n",
            "src:changed in version 3.5: the <unk> method was added.\n",
            "trg:在 3.5 版 更改 : the \" sendfile ( ) \" method was added .\n",
            "pred:在 3.5 版 更改 : the method 方法 argument _ 方法 方法 方法\n",
            "\n",
            "src:elements are <unk> from an iterable or from another mapping (or <unk>\n",
            "trg:从 迭代 对象 或 映射 对象 减去 元素\n",
            "pred:从 从 的 的 的 或 的 或 的 的 的 的\n",
            "\n",
            "src:changed in version 3.3: added the policy keyword.\n",
            "trg:在 3.3 版 更改 : 添加 了 policy 关键字\n",
            "pred:在 3.3 版 更改 : added the 了 charset .\n",
            "\n",
            "src:to obtain a valid path, see <unk>\n",
            "trg:要 获取 有效 路径 ， 参见 \" <unk> ( ) \"\n",
            "pred:要 屏蔽 的 \" \" \" \" \" \" \" \"\n",
            "\n",
            "src:module <unk> general calendar related functions\n",
            "trg:模块 \" calendar \" 一般 日历 相关 功能\n",
            "pred:\" \" \" \" \" \" \" \" 函数\n",
            "\n",
            "src:the standard type hierarchy\n",
            "trg:标准 类型 层级 结构\n",
            "pred:type 的 类型 类型\n",
            "\n",
            "src:(contributed by victor stinner in bpo <unk>\n",
            "trg:（ 由 victor stinner 在 bpo <unk> 中 贡献 。 ）\n",
            "pred:（ 由 victor stinner 在 bpo <unk> 中 贡献 。 ）\n",
            "\n",
            "src:<unk> <unk> / <unk> entity expansion the <unk> <unk> attack also known as <unk> entity expansion uses multiple levels of nested entities\n",
            "trg:<unk> <unk> / <unk> <unk> <unk> （ <unk> / 递归 实体 扩展 ） <unk> <unk> 攻击 也 称为 递归 实体 扩展 使用 <unk> 嵌套 实体\n",
            "pred:\" \" \" \" \" \" \" \" \" \" \" \" \" \" \" \" \" \" \" <unk> \" <unk> \" <unk> \" <unk> \" 的 的\n",
            "\n",
            "src:setting the <unk> to \"int\" makes the <unk> useful for counting (like a <unk> or <unk> in other <unk>\n",
            "trg:设置 \" default _ factory \" 为 \" int \" ， 使 \" defaultdict \" 用于 计数 （ 类似 其他 语言 中 的 <unk> 或 <unk> ） ：\n",
            "pred:\" \" \" \" \" \" \" \" \" \" \" \" \" \" \" \" \" \" \" \" \" \" \" \"\n",
            "\n",
            "src:the behavior of a \"zoneinfo\" file depends on how it was <unk>\n",
            "trg:\" zoneinfo \" 文件 的 行为 取决于 它 的 构造 方式 :\n",
            "pred:在 文件 的 的 的 的 在 文件 的\n",
            "\n",
            "src:when used for writing, the file object should be <unk> unless you know <unk> of time how many samples you are going to write in total and use <unk> and <unk>\n",
            "trg:当 文件 用于 写入 时 ， 文件 对象 应该 支持 seek 操作 ， 除非 提前 <unk> 写入 的 采样 总数 ， 并 使用 \" <unk> ( ) \" 和 \" <unk> ( ) \"\n",
            "pred:当 使用 在 使用 \" 使用 \" \" \" \" \" \" \" \" \" \" \" \" \" \" \" \" \" \" \" \" \"\n",
            "\n",
            "src:release date: 2019 02 03\n",
            "trg:发布 日期 : 2019 02 03\n",
            "pred:发布 日期 : 2019\n",
            "\n",
            "src:\"d\" (\"float\") <unk> convert a python floating point number to a c <unk>\n",
            "trg:\" d \" ( \" float \" ) [ double ] 将 一个 python 浮点数 转化成 一个 c \" double \" 双 精度 浮点数\n",
            "pred:\" \" \" \" \" \" \" \" \" \" \" \" \" \" \" \" \" \" \" \"\n",
            "\n",
            "src:the default value is \"true\"\n",
            "trg:默认值 为 \" true \"\n",
            "pred:默认值 为 \" \" \" \"\n",
            "\n",
            "src:a key function is a callable that accepts one argument and returns another value to be used as the sort key.\n",
            "trg:key function 则 是 一个 接受 一个 参数 ， 并 返回 另 一个 用以 排序 的 值 的 可 调用 对象\n",
            "pred:返回 一个 一个 字典 参数 一个 的 参数 ， ， ， 的 的 的 的\n",
            "\n",
            "src:return an iterator that applies function to every item of iterable , <unk> the results\n",
            "trg:返回 一个 将 function 应用 于 iterable 中 <unk> 并 输出 其 结果 的 迭代 器\n",
            "pred:返回 迭代 器 迭代 器 迭代 器 的 迭代 的 迭代 的 迭代 的 迭代 器 迭代\n",
            "\n",
            "src:when the timeout argument is omitted the function blocks until at least one file descriptor is ready\n",
            "trg:当 省略 timeout 参数 时该 函数 将 阻塞 直到 至少 有 一个 文件 描述符 <unk>\n",
            "pred:当 描述符 在 文件 描述符 ， ， 时 ， ， 时 ，\n",
            "\n",
            "src:return the value for var if var has the value in the context object\n",
            "trg:如果 var 在 上下文 对象 中 具有 值则 返回 var 的 值\n",
            "pred:如果 上下文 对象 上下文 上下文 上下文 的 上下文 上下文 上下文 对象 上下文\n",
            "\n",
            "src:how do i make an executable from a python <unk>\n",
            "trg:我 怎样 使用 python 脚本 <unk> 可执行文件 ？\n",
            "pred:从 一个 python 从 从 从 python 从 ？\n",
            "\n",
            "src:the basic idea <unk> both modules is to create one or more network channels , instances of class <unk> and <unk>\n",
            "trg:这 两个 模块 <unk> 的 基本 <unk> 是 创建 一个 或 多个 网络 通道 ， 类 的 实例 \" asyncore . <unk> \" 和 \" asynchat . async _ <unk> \"\n",
            "pred:\" 类 的 的 的 的 的 的 的 的 的 的 的 的 的 的 的 的 的 的 的\n",
            "\n",
            "src:the <unk> algorithm used in python does multiple sorts efficiently because it can take advantage of any ordering already present in a <unk>\n",
            "trg:python 中 使用 的 <unk> 算法 可以 有效 地 进行 多种 排序 ， 因为 它 可以 利用 数据 集中 已 存在 的 任何 排序\n",
            "pred:python 的 的 的 的 的 的 ， ， ， 的 的 的 的 的 的 的 的 的 的\n",
            "\n",
            "src:changed in version 3.4: use <unk> ': ')\" as default if indent is not \"none\".\n",
            "trg:在 3.4 版 更改 : <unk> indent 不是 \" none \" 时 ， 采用 \" ( ' , ' , ' : ' ) \" 作为 默认值\n",
            "pred:在 3.4 版 更改 : 如果 \" \" \" \" \" \" \" \" \" \" \" \" \" \" \"\n",
            "\n",
            "src:typical reference counting implementations are not able to reclaim the memory <unk> to any objects in a reference <unk> or referenced from the objects in the <unk> even though there are no further references to the cycle itself.\n",
            "trg:典型 的 引用 计数 实现 无法 回收 处于 引用 循环 中 的 对象 ， 或者 被 循环 所 引用 的 对象 ， <unk> 没有 循环 以外 的 引用 了\n",
            "pred:根据 <unk> 对象 的 的 的 的 的 的 的 的 的 的 的 的 的 的 的 的 的 的 的 的 的 的 的 的\n",
            "\n",
            "src:the expression \"x or y\" first evaluates x ; if x is true, its value is <unk> otherwise, y is evaluated and the resulting value is returned.\n",
            "trg:表达式 \" x or y \" 首先 对 x 求值 ； 如果 x 为 <unk> 返回 该值 ； 否则 对 y 求值 并 返回 其 结果 值\n",
            "pred:如果 x 为 \" ， ， ， ， ， ， ， ， ， ， ， ， \" \" \" \" \" \" \" \" \"\n",
            "\n",
            "src:this method returns the window contents as a <unk> whether blanks in the window are included is affected by the <unk> attribute.\n",
            "trg:此 方法 会以 字符串 形式 返回 窗口 内容 ； 是否 包括 窗口 中 的 空白 将 受到 \" stripspaces \" 属性 的 影响\n",
            "pred:返回 一个 由 <unk> \" \" \" \" \" \" \" \" \" \" \" \" \" \" \" \" \"\n",
            "\n",
            "src:replaces tos with <unk> <unk>\n",
            "trg:将 tos 替换 为 \" getattr ( tos , co _ names [ namei ] ) \"\n",
            "pred:[ 1 ] \" , , , , , , , \"\n",
            "\n",
            "src:using a custom \"__new__()\"\n",
            "trg:使用 自定义 的 \" __ new __ ( ) \"\n",
            "pred:使用 自定义 \" \" \" \" \" \" \" \"\n",
            "\n",
            "src:there are a number of ides that support python programming language\n",
            "trg:有 很多 支持 python 编程语言 的 集成 开发 环境\n",
            "pred:python 支持 语言 特性 的 语言 特性\n",
            "\n",
            "src:if <unk> this parameter defaults to \"true\"\n",
            "trg:如果 省略 ， 则 此 形参 默认 为 \" true \"\n",
            "pred:如果 设置 此 \" true \" true true true \" true \" true\n",
            "\n",
            "src:for example, <unk> will return \"true\" when the \"emailmessage\" is of type <unk>\n",
            "trg:举个 例子 ， \" is _ multipart \" 在 \" emailmessage \" 是 \" message / rfc822 \" 类型 的 信息 的 情况 下 ， 其 返回值 也 是 \" true \"\n",
            "pred:对于 \" \" \" \" \" \" \" \" \" \" \" \" \" \" \" \" \" \" \" \" \" \" \" \"\n",
            "\n",
            "src:for a literal match, wrap the meta characters in brackets\n",
            "trg:对于 字 面值 匹配 ， 请 将 原 字符 用 方括号 括 起来\n",
            "pred:对于 ， 面值 ， 面值 ， ， 面值 原 原\n",
            "\n",
            "src:remove any common leading whitespace from every line in text .\n",
            "trg:移除 text 中 每 一行 的 任何 相同 前缀 空白符\n",
            "pred:在 中 中 中 的 中 的 中 的 中 的\n",
            "\n",
            "src:these nested fields may include their own conversion fields and format <unk> but may not include more <unk> nested replacement fields\n",
            "trg:这些 嵌套 字段 也 可以 包含 有 它们 自己 的 转换 字段 和 格式 说明符 ， 但 不可 再 包含 更 深层 嵌套 的 替换 字 段\n",
            "pred:这 可能 ， ， ， ， ， ， ， ， ， ， ， 的 的 的 的 的\n",
            "\n",
            "src:supported ini file structure\n",
            "trg:受 支持 的 ini 文件 结构\n",
            "pred:结构 的 结构 文件\n",
            "\n",
            "src:if additional arguments and/or keyword arguments are given, they will be given to the method as well\n",
            "trg:如果 给出 额外 的 参数 和 / 或 关键字 参数 ， 它们 也 将 被 传给 该 方法\n",
            "pred:如果 给出 参数 的 \" ， \" ， \" ， \" ， 将 \" 将 \" \"\n",
            "\n",
            "src:the when argument determines when the attributes are <unk> <unk> to change <unk> <unk> to change after <unk> all <unk> output, or <unk> to change after <unk> all <unk> output and <unk> all <unk> input.\n",
            "trg:when 参数 确定 何时 改变 属性 : \" <unk> \" 表示 立即 改变 ， \" <unk> \" 表示 在 传输 所有 队列 输出 后 再 改变 ， 或 \" <unk> \" 表示 在 传输 所有 队列 输出 并 丢失 所有 队列 输入 后 再 改变\n",
            "pred:所有 所有 所有 所有 所有 所有 所有 所有 所有 所有 所有 所有 所有 所有 \" \" \" \" \" \" \" \" \" \" \" \" \" \" \" \"\n",
            "\n",
            "src:reset the time conversion rules used by the library routines\n",
            "trg:重置 库 例程 使用 的 时间 <unk>\n",
            "pred:\" \" \" \" 的 的 的 的\n",
            "\n",
            "src:pep <unk> qualified name for classes and functions pep written and implemented by antoine <unk>\n",
            "trg:pep <unk> 类 和 函数 的 限定 名称 pep 由 antoine pitrou 撰写 并 实现\n",
            "pred:pep <unk> 由 antoine pitrou pep <unk> 由 antoine pitrou pep <unk> <unk> <unk> 撰写 并 实现 撰写\n",
            "\n",
            "src:return a context manager that returns <unk> from <unk> but otherwise does nothing\n",
            "trg:返回 一个 从 \" __ enter __ \" 返回 enter _ result 的 上下文 管理器 ， 除此之外 不 执行 任何 操作\n",
            "pred:返回 一个 返回 一个 返回 一个 返回 一个 返回 一个 返回 ， 的 的 返回 一个 返回\n",
            "\n",
            "src:if the <unk> thread of control was not created through the \"threading\" module, a dummy thread object with limited functionality is returned.\n",
            "trg:如果 调用者 的 控制线 程 不是 利用 \" threading \" 创建 ， 会 返回 一个 功能 受限 的 虚拟 线程 对象\n",
            "pred:如果 对象 是 一个 ， 对象 ， ， ， ， ， ， ， ， \" ， \" \" \"\n",
            "\n",
            "src:pep <unk> main module explicit relative imports pep written and implemented by nick <unk>\n",
            "trg:pep <unk> main module <unk> <unk> <unk> pep 由 nick coghlan 撰写 并 实现\n",
            "pred:pep <unk> 由 <unk> 由 <unk> 由 <unk> pep <unk> 撰写 并 实现 撰写\n",
            "\n",
            "src:the body of the loop is indented : indentation is python's way of grouping statements\n",
            "trg:<unk> 是 缩进 的 ： 缩进 是 python 组织 语句 的 方式\n",
            "pred:\" 是 \" 是 \" 的 的 的 的\n",
            "\n",
            "src:if specified, default should be a function that gets called for objects that can't otherwise be serialized\n",
            "trg:当 default 被 指定 时 ， 其 应该 是 一个 函数 ， 每当 某个 对象 无法 被 序列化 时 它 会 被 调用\n",
            "pred:如果 对象 对象 的 对象 ， 对象 ， 对象 的 ， 对象 的 的\n",
            "\n",
            "src:\"aifc\" read and write aiff and aifc files\n",
            "trg:\" aifc \" 读写 aiff 和 aifc 文件\n",
            "pred:\" 读写 \" 读写 \" 读写 wav 格式文件\n",
            "\n",
            "src:if the data being <unk> is not a valid json <unk> a <unk> will be raised.\n",
            "trg:如果 反 序列化 的 数据 不是 有效 json 文档 ， 引发 \" <unk> \" 错误\n",
            "pred:如果 <unk> 为 \" ， ， ， ， ， 将 \" \" \" \"\n",
            "\n",
            "src:however, if you are <unk> that you need custom levels, great care should be <unk> when doing this, and it is possibly a very bad idea to define custom levels if you are developing a library\n",
            "trg:但是 ， 如果 你 <unk> 需要 自定义 级别 ， 那么 在 执行 此 操作 时应 特别 小心 ， 如果 你 正在 开发 库 ， 则 定义 自定义 级别 可能 是 一个 非常 <unk> 的 主意\n",
            "pred:如果 你 你 你 ， 你 ， ， ， ， ， ， ， ， ， 你 ， ， ， 的\n",
            "\n",
            "src:pep <unk> format specifier for thousands separator pep written by raymond hettinger and implemented by eric smith and mark <unk>\n",
            "trg:pep <unk> 千位 分隔符 的 格式 说明符 pep 由 raymond hettinger 撰写 ， 并 由 eric smith 和 mark dickinson 实现\n",
            "pred:pep <unk> <unk> <unk> <unk> <unk> <unk> <unk> <unk> <unk> <unk> <unk> <unk> <unk> <unk> <unk> aahz 撰写 并 实现\n",
            "\n",
            "src:writing programs with <unk> a lengthy tutorial for c <unk>\n",
            "trg:使用 ncurses <unk> : <unk> 面向 c 程序员 的 详细 教程\n",
            "pred:\" collections . abc \" 的 c \" 的 c 的 的 的\n",
            "\n",
            "src:the python curses module\n",
            "trg:python 的 curses 模块\n",
            "pred:python 模块 python 模块\n",
            "\n",
            "src:close the cursor now <unk> than whenever <unk> is <unk>\n",
            "trg:立即 关闭 cursor （ 而 不是 在 当 \" __ del __ \" 被 调用 的 时候 ）\n",
            "pred:在 光标 \" <unk> \" 光标 \" \" \" \" \" \" \" \" \" \" \"\n",
            "\n",
            "src:if you need to parse untrusted or unauthenticated data see the xml <unk> and the <unk> package sections.\n",
            "trg:如果 你 需要 解析 不 受 信任 或 未经 身份验证 的 数据 ， 请参阅 xml 漏洞 和 <unk> 包 部分\n",
            "pred:如果 你 ， 的 <unk> ， ， ， ， ， ， ， ， <unk> <unk> <unk> <unk> <unk>\n",
            "\n",
            "src:as is true for modules, classes <unk> of the dynamic nature of python: they are created at <unk> and can be modified further after <unk>\n",
            "trg:和 模块 一样 ， 类 也 拥有 python <unk> 的 动态 特性 ： 它们 在 运行 时 创建 ， 可以 在 创建 后 修改\n",
            "pred:\" <unk> \" \" \" \" \" \" ， \" ， \" ， \" ， \" ， \" <unk> ， 的 的 的\n",
            "\n",
            "src:changed in version 3.3: <unk> bpo <unk> in earlier versions, there was no facility for an <unk> or <unk> prefix to identify the source of the message\n",
            "trg:在 3.3 版 更改 : ( 参见 : bpo <unk> 。 ) 在 较 早 的 版本 中 ， 没有 \" ident \" 或 \" tag \" 前缀 工具 可以 用来 标识 消息 的 来源\n",
            "pred:在 3.3 版 更改 : the <unk> the \" \" \" \" \" \" the \" the \" the \" the \" the <unk> the <unk> <unk> <unk>\n",
            "\n",
            "src:<unk> & <unk> <unk> call <unk> on value before formatting it.\n",
            "trg:\" ( flags & <unk> ) <unk> \" : 在 格式化 value 之前 调用 其 \" ascii ( ) \"\n",
            "pred:在 \" \" \" \" \" \" \" \" \" \" \" \" \" \" \" \" \" \" \" \"\n",
            "\n",
            "src:this is a useful return value when an invalid result needs to interrupt a <unk> for special handling.\n",
            "trg:当 对于 无效 结果 需要 中断 计算 进行 特别 处理 时 ， 这是 一个 很 有用 的 返回值\n",
            "pred:此 此 此 的 的 的 的 的 的 的 的 的 的 的 的 的 的\n",
            "\n",
            "src:changed in version 3.8: the \"bytes\" type is now accepted\n",
            "trg:在 3.8 版 更改 : 现在 可以 接受 \" bytes \" 类型\n",
            "pred:在 3.8 版 更改 : 现在 现在 现在 现在 现在\n",
            "\n",
            "src:new in version 3.6: <unk> <unk> <unk>\n",
            "trg:3.6 新版 功能 : \" flag \" , \" intflag \" , \" auto \"\n",
            "pred:3.6 . _ 3.6 . _ _ _ _ _ _ _ _ _ _ _ _ _ \"\n",
            "\n",
            "src:this is <unk> as the best default behaviour.\n",
            "trg:这 被 认为 是 最好 的 默认 行为\n",
            "pred:这 默认 情况 下 ， 的 默认\n",
            "\n",
            "src:\"sorted(iterable, key <unk> reverse <unk> collects all the elements of the iterable into a list, sorts the list, and returns the sorted result\n",
            "trg:\" sorted ( iterable , key none , reverse false ) \" 会 将 iterable 中 的 元素 收集 到 一个 列表 中 ， 然后 排序 并 返回 结果\n",
            "pred:返回 一个 的 的 的 ， ， ， ， ， 的 ， ， 的 的 的 的 的 的 的 的 的\n",
            "\n",
            "src:constant color <unk> <unk> <unk> blue <unk> <unk> <unk> <unk> <unk> <unk> <unk> <unk> <unk> <unk> <unk> <unk> <unk> <unk> white <unk> <unk>\n",
            "trg:常数 颜色 \" color _ <unk> \" <unk> \" color _ blue \" <unk> \" color _ <unk> \" <unk> （ <unk> <unk> ） \" color _ <unk> \" <unk> \" color _ <unk> \" <unk> （ <unk> ） \" color _ red \" <unk> \" color _ <unk> \" <unk> \" color _ <unk> \" <unk>\n",
            "pred:<unk> <unk> <unk> <unk> <unk> <unk> <unk> <unk> <unk> <unk> <unk> <unk> <unk> <unk> <unk> <unk> <unk> <unk> <unk> <unk> <unk> <unk> <unk>\n",
            "\n",
            "src:new in version 3.3.\n",
            "trg:3.3 新版 功能 .\n",
            "pred:3.3 新版 功能 .\n",
            "\n",
            "src:only run test methods and classes that match the pattern or substring\n",
            "trg:只 运行 匹配 模式 或 子串 的 测试方法 和 类\n",
            "pred:\" 方法 或 或 或 或 或 或 或 方法 或 方法\n",
            "\n",
            "src:this line should begin with a capital letter and end with a <unk>\n",
            "trg:这 一行 应 以 大写字母 开头 ， 以 <unk> 结尾\n",
            "pred:这 一个 一个 一个 一个 和 <unk> 和 <unk> <unk>\n",
            "\n",
            "src:this provides documentation options similar to what we already have for <unk> \"classmethod()\", and <unk>\n",
            "trg:这 提供 了 类似 于 目前 已有 的 \" property ( ) \" , \" classmethod ( ) \" 和 \" staticmethod ( ) \" 等 函数 的 文档 选项 :\n",
            "pred:这 节 \" \" \" \" \" \" \" \" \" \" \" \" \" \" \" \" \"\n",
            "\n",
            "src:displaying the date/time in messages\n",
            "trg:在 消息 中 显示 日期 / 时间\n",
            "pred:显示 的 的 的\n",
            "\n",
            "src:<unk> the appropriate metaclass\n",
            "trg:确定 适当 的 元类\n",
            "pred:\" \" \" \"\n",
            "\n",
            "src:this code is exactly equivalent to the first example\n",
            "trg:上述 代码 与 第一个 例子 完全 等价\n",
            "pred:这 相当于 于 ， 等价 于\n",
            "\n",
            "src:if ob is not a <unk> <unk> object, or if callback is not callable, \"none\", or \"null\", this will return \"null\" and raise \"typeerror\".\n",
            "trg:如果 ob 不是 一个 弱 引用 对象 ， 或者 如果 callback 不是 可 调用 对象 ， \" none \" 或 \" null \" ， 该 函数 将 返回 \" null \" 并且 引发 \" typeerror \"\n",
            "pred:如果 未 \" \" \" \" \" \" \" \" \" \" \" \" \" \" \" \" \" \" \" \" \" \" \" \" \" \" \" \" \" \" \" \" \" \"\n",
            "\n",
            "src:in other cases, you may have to construct a new tuple to pass as the argument list\n",
            "trg:另外 一些 时候 你 要 构造 一个 新 的 tuple 来 传递 参数\n",
            "pred:列表 列表 的 参数 列表 ， 列表 ， ， 列表 ， 列表 的 参数 列表 列表 列表 列表\n",
            "\n",
            "src:other methods must be called with the associated lock held\n",
            "trg:其它 方法 必须 在 持有 关联 的 锁 的 情况 下 调用\n",
            "pred:调用 必须 调用 的 调用 调用 调用 调用 调用 的 调用\n",
            "\n",
            "src:would raise a \"keyerror\" exception because the id of the <unk> <unk> used in the second line differs from that in the first line\n",
            "trg:会 引发 一个 \" keyerror \" 异常 ， 因为 <unk> 中 使用 的 \" [ 1 , 2 ] \" 的 id 与 第一行 中 的 id 不同\n",
            "pred:在 在 第一个 中 中 中 中 中 中 中 中 ， 中 ， 中 第一个 中 中 中\n",
            "\n",
            "src:pep <unk> new generator features\n",
            "trg:pep <unk> : 生成器 的 新 特性\n",
            "pred:pep 新 的 生成器 特性 的 新\n",
            "\n",
            "src:(contributed by <unk> smith in bpo <unk>\n",
            "trg:（ 由 <unk> smith 在 bpo <unk> 中 贡献 ）\n",
            "pred:（ 由 <unk> <unk> 在 bpo <unk> 中 贡献 。 ）\n",
            "\n",
            "src:new in version 3.9.\n",
            "trg:3.9 新版 功能 .\n",
            "pred:3.9 新版 功能 .\n",
            "\n",
            "src:<unk> values contain information specifying whether the function call failed or <unk> together with additional error code\n",
            "trg:\" <unk> \" 的 值 包含 的 信息 说明 函数调用 成功 还是 失败 ， 以及 额外 错误码\n",
            "pred:\" \" \" \" \" \" \" \" \" \" \" \" \" \" \" \" \" \" \" \" \" \" \" \" \"\n",
            "\n",
            "src:returns a \"namedtuple()\" \"(nchannels, sampwidth, framerate, nframes, comptype, compname)\", equivalent to output of the \"get ()\" methods.\n",
            "trg:返回 一个 \" namedtuple ( ) \" \" ( nchannels , sampwidth , framerate , nframes , comptype , compname ) \" ， 与 \" get ( ) \" 方法 的 输出 相同\n",
            "pred:\" nchannels \" sampwidth \" sampwidth \" sampwidth \" sampwidth \" sampwidth \" sampwidth \" sampwidth \" \" , compname , compname , compname , compname , \" \"\n",
            "\n",
            "src:by returning a tuple of the results:\n",
            "trg:通过 返回 一个 结果 元组 :\n",
            "pred:元组 元组 元组 元组 元组 元组\n",
            "\n",
            "src:note however that, although the help display looks nice and all, it currently is not as helpful as it can be\n",
            "trg:然而 请 注意 ， 尽管 显示 的 帮助 看起来 清楚 完整 ， 但 它 可以 比 现在 更 有 帮助\n",
            "pred:注意 注意 ， 只要 ， ， 只要 ， 只要 ， 只要 ， 但 的 的\n",
            "\n",
            "src:as has been mentioned before, all python types except integers, strings, and bytes objects have to be wrapped in their corresponding \"ctypes\" type, so that they can be converted to the required c data type:\n",
            "trg:正如 前面 所 提到 过 的 ， 除了 整数 、 字符串 以及 字节 串 之外 ， 所有 的 python 类型 都 必须 使用 它们 对应 的 \" ctypes \" 类型 包装 ， 才 能够 被 正确 地 转换 为 所 需 的 <unk> 类型\n",
            "pred:\" \" \" \" \" \" \" \" \" \" \" \" \" ， \" ， 的 的 的 的 的 的 的 的 的 的 的 的 的 的 的 的\n",
            "\n",
            "src:return the \"charset\" parameter of the content type header, <unk> to lower case\n",
            "trg:返回 content type 头字 段 中 的 \" charset \" 参数 ， 强制 小写\n",
            "pred:返回 分配 的 的 的 的 的 类型 的 的 类型 的\n",
            "\n",
            "src:there are some exceptions to this <unk> where ctypes accepts other objects\n",
            "trg:也 有 一些 例外\n",
            "pred:这 对象 的 对象 的 对象 的 的 的 的 的 的\n",
            "\n",
            "src:\"time\" has the same format as <unk> except that no leading sign <unk> ' or <unk> is allowed\n",
            "trg:\" time \" 的 格式 与 \" offset \" 的 格式 相同 ， 但 不 允许 使用 前导 符号 （ ' ' 或 ' + ' ）\n",
            "pred:\" \" \" \" \" \" \" \" \" \" \" \" \" \" \" \" \" \" \" \" \" \" \" \" \" \" \" \" \"\n",
            "\n",
            "src:if \"false\", \"read()\" will raise \"oserror\".\n",
            "trg:否则 为 \" false \" ， 且 \" read ( ) \" 将 引发 \" oserror \" 错误\n",
            "pred:如果 \" \" \" \" \" \" \" \" \" \" \" \" \" \"\n",
            "\n",
            "src:the values <unk> <unk> <unk> <unk> <unk> <unk> and <unk> are provided for convenience\n",
            "trg:calendar 还 提供 了 \" <unk> \" , \" <unk> \" , \" <unk> \" , \" <unk> \" , \" <unk> \" , \" <unk> \" 和 \" <unk> \" 几个 常量 <unk>\n",
            "pred:\" \" \" \" \" \" \" \" \" \" \" \" \" \" \" \" \" \" \" \" \" \" \" \" \" \" \"\n",
            "\n",
            "src:it's also used to escape all the metacharacters so you can still match them in <unk> for example, if you need to match a <unk> or <unk> you can precede them with a backslash to remove their special <unk> <unk> or <unk>\n",
            "trg:它 也 用于 转义 所有 元字符 ， 因此 您 仍然 可以 在 模式 中 匹配 它们 ； 例如 ， 如果 你 需要 匹配 \" [ \" 或 \" \\ \" ， 你 可以 在 它们 前面 加 一个 反 斜杠 来 移除 它们 的 特殊 含义 ： \" \\ [ \" 或 \" \\ \\ \"\n",
            "pred:这 可以 你 可以 你 可以 这样 你 可以 这样 你 可以 这样 的 ， ， ， ， ， ， ， ， 他们 ， 他们 可以 这样 的 或者 ， 他们 使用 \" 或者 ， 他们 或者 ， 他们 或者\n",
            "\n",
            "src:the parameter may be \"null\".\n",
            "trg:形参 可以 为 \" null \"\n",
            "pred:\" 形参 \" 形参 \" \"\n",
            "\n",
            "src:string conversion and formatting\n",
            "trg:字符串 转换 与 格式化\n",
            "pred:\" 和 和 和 和\n",
            "\n",
            "src:the typical usage to break into the debugger from a running program is to insert\n",
            "trg:从 正在 运行 的 程序 进入 调试器 的 典型 用法 是 插入\n",
            "pred:从 是 一个 是 到 到 到 到 到 到 到\n",
            "\n",
            "src:for example, <unk> will <unk> if the exact contents of group 1 can be found at the current position, and fails otherwise\n",
            "trg:例如 ， 如果 可以 在 当前 位置 找到 组 1 的 确切 内容 ， 则 \" \\ 1 \" 将 成功 ， 否则 将 失败\n",
            "pred:如果 ， ， ， ， ， ， ， ， ， ， ， ， ， ， ， ， ， ， \" \" \" \"\n",
            "\n",
            "src:programmer's note: functions are first class objects\n",
            "trg:程序员 注意事项 : 函数 属于 <unk> 对象\n",
            "pred:\" 对象 对象 对象 对象 对象 对象\n",
            "\n",
            "src:<unk> <unk> <unk> now returns \"s\" instead of an empty string for all non zero \"n\"\n",
            "trg:\" \" \" . replace ( \" \" , s , n ) \" 对于 所有 非零 的 \" n \" 都 将 返回 \" s \" 而 不是 空 字符串\n",
            "pred:\" \" \" \" \" \" \" \" \" \" \" \" \" \" \" \" \" \" \" \" \" \" \" \" \" \"\n",
            "\n",
            "src:allows <unk> to produce a bytes object containing the serialized message.\n",
            "trg:这 将 让 \" bytes ( msg ) \" 产生 一个 包含 序列化 <unk> 的 字节 序列 对象\n",
            "pred:一个 包含 对象 的 包含 对象 的 的 的 的 的\n",
            "\n",
            "src:the size argument indicates the approximate maximum number of encoded bytes or code points to read for decoding\n",
            "trg:size 参数 指明 要 读取 并 解码 的 已 编码 字节 或 码位 的 最大 数量 近似值\n",
            "pred:\" 的 的 的 或 的 或 的 的 的 的 的\n",
            "\n",
            "src:if facility is not specified, <unk> is used\n",
            "trg:如果 未指定 <unk> ， 则 使用 \" log _ user \"\n",
            "pred:如果 未指定 使用 则 则 使用 \"\n",
            "\n",
            "src:there is also <unk> for setting values in a dictionary just during a scope and restoring the dictionary to its original state when the test <unk>\n",
            "trg:还有 一个 \" <unk> . dict ( ) \" 用于 在 一定 范围 内 设置 字典 中 的 值 ， 并 在 测试 结束 时 将 字典 恢复 为 其 原始 状态 ：\n",
            "pred:在 的 的 的 的 的 的 的 的 的 的 的 的 的 的 的 的 的 的 的 的 的 的 的\n",
            "\n",
            "src:it is <unk> to configure handlers for a top level logger and create child loggers as needed\n",
            "trg:为 <unk> 记录器 配置 处理程序 并 根据 需要 创建 子 记录器 就 足够 了\n",
            "pred:对于 ， 的 的 的 的 的 的 的 的 的 的 的 的 的 的 的\n",
            "\n",
            "src:the exception classes are exported from the <unk> module.\n",
            "trg:异常 类 从 \" urllib . error \" 模块 中 导出\n",
            "pred:模块 的 模块 的 模块 的\n",
            "\n",
            "src:changed in version 3.3: the locking scheme has changed to per module locks for the most part\n",
            "trg:在 3.3 版 更改 : the <unk> <unk> has changed to per module <unk> for the most part\n",
            "pred:在 3.3 版 更改 : the \" \" \" \" \" \" \" \"\n",
            "\n",
            "src:blank lines are ignored, as are <unk> which run from a \"'#'\" character until the end of the line\n",
            "trg:空白行 会 被 忽略 ， 以 一个 \" ' # ' \" 开始 的 注释 行 也 是 如此\n",
            "pred:如果 line 的 <unk> ， ， ， ， ， ， ， ， ， ， 被 出现 的\n",
            "\n",
            "src:if size is specified, it is used as the number of characters of the string, otherwise the string is assumed to be zero <unk>\n",
            "trg:如果 指定 了 size ， 则 将 其 用作 字符串 中 的 字符 数量 ， 否则 将 假定 字符串 <unk> 结尾\n",
            "pred:如果 字符串 为 字符串 为 字符串 为 字符串 字符 字符串 字符 字符串\n",
            "\n",
            "src:reset the encoder to the initial state\n",
            "trg:将 编码器 重置 为 初始状态\n",
            "pred:将 面板 为 为\n",
            "\n",
            "src:it allows you to replace parts of your system under test with mock objects and make assertions about how they have been used.\n",
            "trg:它 允许 使用 mock 对象 替换 受 测试 系统 的 部分 ， 并 对 它们 如何 已经 被 使用 进行 断言\n",
            "pred:你 有 你 有 ， 你 有 ， 的 的\n",
            "\n",
            "src:bpo <unk> raise <unk> if a member variable of a dataclass is of type field, but doesn't have a type <unk>\n",
            "trg:bpo <unk> : 如果 数据 类 的 成员 变量 的 类型 为 field ， 但 没有 类型 注解 ， 则 引发 typeerror\n",
            "pred:如果 找 不到 \" \" \" \" \" \" \" \" \" \" \" \" \" \" \" \" \" \" \" \"\n",
            "\n",
            "src:new in version 3.2.\n",
            "trg:3.2 新版 功能 .\n",
            "pred:3.2 新版 功能 .\n",
            "\n",
            "src:in versions prior to python <unk> and <unk> it <unk> <unk> to \"0\" which was <unk> and allowed short reads\n",
            "trg:在 python 3.2 . 4 和 3.3 . 1 之前 的 版本 中 ， 它 错误 地 将 默认值 设 为了 为 \" 0 \" ， 这 是 无 缓冲 的 并且 允许 短 读取\n",
            "pred:在 python python python ， python ， ， \" \" ， \" <unk> <unk>\n",
            "\n",
            "src:converts the <unk> statement to the \"exec()\" function.\n",
            "trg:将 \" exec \" 语句 转换 为 \" exec ( ) \" 函数调用\n",
            "pred:\" \" \" \" \" \" \" \" \" \" \" \" \" \" \"\n",
            "\n",
            "src:the modules described in this chapter help you write software\n",
            "trg:本章 中 描述 的 各 模块 <unk> 你 编写 python 程序\n",
            "pred:本章 的 模块 的 的 模块 的\n",
            "\n",
            "src:changed in version 3.8: platform specific fast copy <unk> may be used internally in order to copy the file more efficiently\n",
            "trg:在 3.8 版 更改 : 可能 会 在 内部 使用 平台 专属 的 快速 拷贝 系统 调用 以 更 高效 地 拷贝 文件\n",
            "pred:在 在 在 在 在 在 在 更改 : the 之前 文件 \" \" 文件 的 文件系统\n",
            "\n",
            "src:the program is written so as to display something when \" <unk> is specified and display nothing when not.\n",
            "trg:这一 程序 被 设计 为 当 指定 \" <unk> \" 选项 时 显示 某些 东西 ， 否则 不 显示\n",
            "pred:当 程序 将 ， ， ， ， ， ， ， ， ， ， ， ， ， 被 时 ， 被 时\n",
            "\n",
            "src:using logging in multiple modules\n",
            "trg:在 多个 模块 中 使用 日志\n",
            "pred:模块 模块 模块 模块 模块\n",
            "\n",
            "src:the nested contexts <unk> has options to control whether writes and other <unk> apply only to the first mapping or to any mapping in the <unk>\n",
            "trg:<unk> <unk> <unk> 提供 了 是否 对 第一个 映射 或 其他 映射 进行 写 和 其他 修改 的 选项\n",
            "pred:这 改变 的 的 的 的 的 的 的 的 或 的 或 的 的 的 的 的 的 的 的 的 的 的\n",
            "\n",
            "src:raises an auditing event <unk> with no arguments.\n",
            "trg:引发 一个 审计 事件 \" syslog . <unk> \" 不 附带 任何 参数\n",
            "pred:引发 一个 审计 事件 \" \" \" \" \" \" \" \" \" \" \" \"\n",
            "\n",
            "src:stdin , stdout and stderr specify the executed program's standard input, standard output and standard error file <unk> respectively\n",
            "trg:stdin , stdout 和 stderr 分别 指定 被 运行 的 程序 的 标准 输入 、 输出 和 标准 错误 的 文件 句柄\n",
            "pred:标准 编码 的 标准 编码 的 标准 编码 的 标准 ， 标准 编码 和 sys 标准 编码\n",
            "\n",
            "src:raise <unk> as an exception.\n",
            "trg:引发 exc 作为 异常\n",
            "pred:\" \" \" \" \" \" \" \"\n",
            "\n",
            "src:this mapping serves as a cache of all modules that have been previously imported, including the intermediate paths\n",
            "trg:这个 映射 <unk> 缓存 之前 导入 的 所有 模块 的 作用 （ 包括 其中 间 路径 ）\n",
            "pred:这个 模块 所有 模块 所有 所有 的 所有 模块 所有 的 的 的\n",
            "\n",
            "src:this doesn't work because if you construct a new list with the same value it won't be <unk> e.g.:\n",
            "trg:这 不起作用 ， 因为 如果 你 构造 一个 具有 相同 值 的 新 列表 ， 它 将 无法 找到 ； 例如 :\n",
            "pred:如果 你 必须 一个 新 的 ， ， ， ， ， ， ， ， ， ， 的\n",
            "\n",
            "src:how are enums <unk>\n",
            "trg:各种 枚举 <unk> 区别 ？\n",
            "pred:如何 如何 ？ ？\n",
            "\n",
            "src:exceptions raised in the child process, before the new program has started to <unk> will be re raised in the <unk>\n",
            "trg:在子 进程 中 抛出 的 异常 ， 在 新 的 进程 开始 执行 前 ， 将会 被 再次 在 父 进程 中 抛出\n",
            "pred:如果 在 \" 中 \" \" \" \" \" \" \" \" 将 \" 将 \" \" \" \" \"\n",
            "\n",
            "src:<unk> a message <unk> to be a <unk> but had no boundary parameter.\n",
            "trg:\" <unk> \" 一条 消息 宣称 有 多个 部分 ， 但 却 没有 boundary 形参\n",
            "pred:\" <unk> \" \" \" \" \" 但 一个 <unk> 但\n",
            "\n",
            "src:<unk> package extension utility\n",
            "trg:\" pkgutil \" 包 扩展 工具\n",
            "pred:\" pkgutil \" \" \" 包\n",
            "\n",
            "src:they can refer to urls, database <unk> or any other location that can be specified as a string.\n",
            "trg:它们 可以 指向 url 、 数据库 查询 或 可以 用 字符串 指定 的 任何 其他 位置\n",
            "pred:可以 可以 可以 可以 可以 可以 可以 ， ， ， 可以 可以 可以 的\n",
            "\n",
            "src:see pep <unk> for more details.\n",
            "trg:详情 见 pep <unk>\n",
            "pred:pep <unk> 了解 详情 了解 详情\n",
            "\n",
            "src:<unk> <unk> should be inserted at <unk>\n",
            "trg:\" ' insert ' \" \" b [ j1 : j2 ] \" 应 插入 到 \" a [ i1 : i1 ] \"\n",
            "pred:\" <unk> : \" . <unk> . <unk> ) \" <unk> ) \"\n",
            "\n",
            "src:lambda functions can be used <unk> function objects are required\n",
            "trg:lambda 函数 可以 在 需要 函数 对象 的 任何 地方 使用\n",
            "pred:函数 函数 函数 函数 函数 对象 函数 函数 对象\n",
            "\n",
            "src:bpo <unk> update hmac <unk> default to a <unk> <unk> <unk> to 3.8.\n",
            "trg:bpo <unk> : 更新 hmac <unk> 默认 报告 deprecationwarning ， 并 将 在 3.8 移除\n",
            "pred:bpo <unk> : : <unk> : 更新 \" <unk> \" <unk> <unk> <unk> <unk>\n",
            "\n",
            "src:the value for the built in variable is determined when the interpreter <unk>\n",
            "trg:该 内置 变量 的 值会 在 解释器 启动 时 确定\n",
            "pred:当 解释器 解释器 解释器 解释器 解释器 解释器 解释器 解释器 \" 解释器\n",
            "\n",
            "src:new in version 3.5.4.\n",
            "trg:3.5 . 4 新版 功能 .\n",
            "pred:3.7 新版 功能 . 功能 .\n",
            "\n",
            "src:on unix, the configure script will attempt to locate the appropriate header file to simplify building this module.\n",
            "trg:在 unix 上 ， configure 脚本 将 尝试 定位 适当 的 头文件 来 简化 此 模块 的 构建\n",
            "pred:在 \" \" \" \" \" \" \" 文件 的 文件 的 的 文件 的\n",
            "\n",
            "src:if key is not in the dictionary, \"keyerror\" is raised\n",
            "trg:如果 字典 中 没有 key ， 则 会 引发 \" keyerror \"\n",
            "pred:如果 没有 内 \" 则 则 则 \" \" \"\n",
            "\n",
            "src:it can be used for example, for comparing files, and can produce information about file differences in various formats, including html and context and <unk> <unk>\n",
            "trg:例如 ， 它 可 被 用于 比较 文件 ， 并 可 产生 多种 格式 的 不同 文件 差异 信息 ， 包括 html 和 上下文 以及 统一 的 diff 数据\n",
            "pred:对于 ， 可以 可以 可以 使用 ， 和 ， 和 ， 和 ， 和 ， 和 和 的 和 的\n",
            "\n",
            "src:see also the <unk> class.\n",
            "trg:参见 \" <unk> \" 类\n",
            "pred:\" \" \" \" \" \" \" \"\n",
            "\n",
            "src:these modules were deprecated since python 3.7 which requires threading support\n",
            "trg:这些 模块 自 python 3.7 起 已 被 弃用 ， 它们 需要 线程 支持\n",
            "pred:支持 支持 支持 支持 支持 支持 支持 支持 支持 支持\n",
            "\n",
            "src:this method returns a ctypes type instance exported by a shared library\n",
            "trg:此 方法 返回 一个 由 共享 库 导出 的 ctypes 类型\n",
            "pred:此 方法 一个 由 \" ctypes 的 的 的 类型\n",
            "\n",
            "src:the \"nonlocal\" statement causes the listed identifiers to refer to previously bound variables in the nearest enclosing scope excluding globals\n",
            "trg:\" nonlocal \" 语句 会 使得 所 列出 的 名称 指向 之前 在 最近 的 包含 作用域 中 绑定 的 除 全局变量 以外 的 变量\n",
            "pred:在 的 的 的 的 的 的 的 的 的 的 的 的 的 的 的 的 的 的 的\n",
            "\n",
            "src:the <unk> may implement different error handling schemes by providing the errors keyword argument\n",
            "trg:\" <unk> \" 可以 通过 提供 errors 关键字 参数 来 实现 不同 的 错误处理 方案\n",
            "pred:errors 参数 的 参数 错误处理 的 的 错误处理 方案 错误处理 的 错误处理\n",
            "\n",
            "src:when invoked on an unlocked lock, a \"runtimeerror\" is raised.\n",
            "trg:在 未 锁定 的 锁 调用 时 ， 会 引发 \" runtimeerror \" 异常\n",
            "pred:当 在 一个 在 ， ， ， ， ， 引发 一个 引发 runtimeerror\n",
            "\n",
            "src:is <unk> equivalent to:\n",
            "trg:在 <unk> 等价 于 :\n",
            "pred:等价 于 : 于 :\n",
            "\n",
            "src:this document was <unk> and <unk> by <unk> <unk>\n",
            "trg:这篇 文档 由 <unk> <unk> <unk>\n",
            "pred:这 <unk> <unk> <unk> <unk> <unk> <unk> <unk> <unk> <unk>\n",
            "\n",
            "src:as an alternative to using the <unk> method described above, you can also send your request step by <unk> by using the four functions below.\n",
            "trg:作为 对 使用 上述 \" request ( ) \" 方法 的 替代 同 ， 你 也 可以 通过 使用 下面 的 四个 函数 ， 分 步骤 发送 请 的 请求\n",
            "pred:通过 通过 通过 通过 通过 通过 通过 通过 通过 通过 通过 通过 通过 通过 来 使用 来 使用 来 来 来 来\n",
            "\n",
            "src:it will back up until it has <unk> zero matches for \"[bcd] \", and if that <unk> fails, the engine will <unk> that the string doesn't match the re at <unk>\n",
            "trg:它 将 回退 ， 直到 它 为 \" [ bcd ] \" 尝试 零 匹配 ， 如果 随后 失败 ， 引擎 将 <unk> 该 字符串 与 正则 完全 不 匹配\n",
            "pred:如果 <unk> ， ， ， ， ， ， ， ， ， ， ， ， ， ， 匹配 匹配 匹配 匹配 匹配 匹配 匹配 匹配 匹配 匹配 匹配\n",
            "\n",
            "src:the modules <unk> <unk> <unk> <unk> use the openssl library for added performance if made available by the operating system\n",
            "trg:如果 操作系统 可用 ， 则 \" hashlib \" , \" posix \" , \" ssl \" , \" <unk> \" 模块 使用 openssl <unk> 提高 性能\n",
            "pred:\" 模块 \" \" \" \" \" \" \" 模块 \" <unk> ， 模块 <unk> <unk> <unk> <unk> <unk>\n",
            "\n",
            "src:<unk> usage information that will be displayed with sub command <unk> by default the name of the program and any positional arguments before the subparser argument\n",
            "trg:prog 将 与 子 命令 帮助 <unk> 显示 的 用法 信息 ， 默认 为 程序 名称 和子 解析器 参数 之前 的 任何 位置 参数\n",
            "pred:\" ， 参数 ， ， ， ， ， ， ， ， ， ， ， ， ， ， ， ， ， ， 的 的\n",
            "\n",
            "src:changed in version 3.4: namespace packages are also supported\n",
            "trg:在 3.4 版 更改 : 同样 支持 命名 空间 包\n",
            "pred:在 3.4 版 更改 : 支持 支持\n",
            "\n",
            "src:if you code or decode <unk> on non macintosh platforms they will still use the old macintosh newline convention <unk> return as end of <unk>\n",
            "trg:如果 您 在 非 <unk> 平台 上 编码 或 解码 文本文件 ， 它们 仍 将 使用 旧 的 <unk> 换行符 约定 （ 回车符 作为 行尾 ）\n",
            "pred:如果 你 的 的 的 的 \" \" \" \" \" \" \" \" \" \" \" \" \" \" \" \" \" \" \" \" \" \"\n",
            "\n",
            "src:<unk> , if given, is passed as the size argument to the stream's \"read()\" method.\n",
            "trg:如果 给定 了 <unk> ， 则 将 其 作为 size 参数传递 给 流 的 \" read ( ) \" 方法\n",
            "pred:如果 \" \" \" \" \" \" \" \" \" \" \" \" \" \" \" \" \" \" \" \" \" \" \"\n",
            "\n",
            "src:these files are in the <unk> directory.\n",
            "trg:这些 文件 位于 \" <unk> \" 目录 中\n",
            "pred:这些 文件 的 文件 的 文件\n",
            "\n",
            "src:if x is not a python \"int\" object, it has to define an \"__index__()\" method that returns an integer\n",
            "trg:如果 x 不是 python 的 \" int \" 对象 ， 那 它 需要 定义 \" __ index __ ( ) \" 方法 返回 一个 整数\n",
            "pred:如果 一个 一个 一个 一个 \" \" \" \" \" \" \" \" \" \" \" \" \" \" \" \" \" \" \"\n",
            "\n",
            "src:right now, cpython works with anything that implements <unk> and <unk> <unk>\n",
            "trg:现在 ， cpython 可以 正确 地 实现 malloc ( ) 和 free ( )\n",
            "pred:对于 ， <unk> <unk> <unk> <unk> ， ， \" <unk> \" <unk> <unk> <unk> <unk>\n",
            "\n",
            "src:it is recommended that you use <unk> implementations to group tests together according to the features they test\n",
            "trg:建议 你 根据 所 测试 的 功能 ， 将 测试 用 testcase 实现 <unk>\n",
            "pred:你 使用 你 使用 <unk> <unk> ， 的 的 <unk> <unk> <unk> <unk>\n",
            "\n",
            "src:negative position values will be treated as being relative to the end of the input string\n",
            "trg:负 的 位置 值 将 被 视为 相对 于 输入 字符串 的 末尾\n",
            "pred:将 字符串 为 字符串 的 字符串 为 字符串 的 字符串\n",
            "\n",
            "src:this is useful in <unk> catch logical <unk>\n",
            "trg:这 对于 帮助 <unk> 逻辑 错误 非常 有用 :\n",
            "pred:这 <unk> <unk> <unk> <unk> <unk> <unk>\n",
            "\n",
            "src:another capability is that you can specify that portions of the re must be repeated a certain number of times.\n",
            "trg:另 一个 功能 是 你 可以 指定 正则 的 某些 部分 必须 重复 一定 次数\n",
            "pred:这 可以 是 可以 是 的 的 的 的 的\n",
            "\n",
            "src:bind fun to mouse move events on this turtle\n",
            "trg:将 fun 指定 的 函数 绑定 到 在 此 海龟 上 移动 鼠标 事件\n",
            "pred:在 此 方法 在 ， \" \" \" \"\n",
            "\n",
            "src:below is a table showing the mapping of legacy converters into real argument <unk> converters\n",
            "trg:下表 显示 了 传统 转换器 映射 到 实参 转换器 的 情况\n",
            "pred:\" <unk> : \" \" \" \" \" 的 的 的 的 的 的 的 的 的\n",
            "\n",
            "src:use \"false\" to disable the feature again.\n",
            "trg:再次 使用 \" false \" 来 禁用 该 功能\n",
            "pred:使用 使用 使用 使用 \" 使用 \" 使用 \"\n",
            "\n",
            "src:you can specify a destination (such as console or file) by using \"basicconfig()\" as in the tutorial examples\n",
            "trg:你 可以 使用 \" basicconfig ( ) \" 指定 目标 （ 例如 控制台 或 文件 ） ， 如 教程 示例 中 所示\n",
            "pred:例如 ， 可以 通过 的 ， 或 可以 通过 的 或 的 或 的 或 中 或\n",
            "\n",
            "src:the import machinery is <unk> so new finders can be added to extend the range and scope of module <unk>\n",
            "trg:导入 机制 是 可 扩展 的 ， 因此 可以 加入 新 的 查找 <unk> 扩展 模块 搜索 的 范围 和 作用域\n",
            "pred:\" \" \" \" \" \" \" \" \" \" \" 的 的 的 的 的 的 的 的 的 的\n",
            "\n",
            "src:<unk> when the earlier <unk> attempts to print the <unk> local variable and an error <unk>\n",
            "trg:因此 ， 当 先前 的 \" print ( x ) \" 尝试 打印 未 初始化 的 局部变量 时会 导致 错误\n",
            "pred:当 \" \" \" \" \" \" \" \" \" \" \" \" \" \" \" \" \" \" \" \" \"\n",
            "\n",
            "src:changed in version 3.8: use \"__index__()\" if available.\n",
            "trg:在 3.8 版 更改 : 如果 可用 将 使用 \" __ index __ ( ) \"\n",
            "pred:在 3.8 版 更改 : 如果 \" \" \" \" \" \" \" \" \"\n",
            "\n",
            "src:how do i keep editors from <unk> tabs into my python <unk>\n",
            "trg:如何 让 编辑器 不要 在 我 的 python 源代码 中 插入 tab ？\n",
            "pred:我 让 我 让 我 让 python python python ？ ？ ？\n",
            "\n",
            "src:skip the decorated test unless condition is true.\n",
            "trg:跳过 被 装饰 的 测试 ， 除非 condition 为 真\n",
            "pred:它们 是 被 被 被 的\n",
            "\n",
            "src:this should be <unk> or <unk>\n",
            "trg:这 应当 小于 或 等于 273\n",
            "pred:这 应当 或 或 或 <unk>\n",
            "\n",
            "src:mock is based on the <unk> > <unk> pattern instead of <unk> > <unk> used by many <unk> <unk>\n",
            "trg:模拟 基于 ' action > <unk> ' 模式 ， 而 不是 许多 模拟 框架 所 使用 的 ' <unk> > <unk> ' 模式\n",
            "pred:<unk> <unk> <unk> <unk> <unk> <unk> <unk> <unk> \" <unk> \" \" \" <unk> \" \" \" \" \" <unk> \" \" \" <unk> \"\n",
            "\n",
            "src:at least one of fileobj and filename must be given a non trivial value.\n",
            "trg:fileobj 和 filename 至少 有 一个 不为 空\n",
            "pred:这 必须 为 一个 为 ， 的 的 的 的 的\n",
            "\n",
            "src:\"tokenize\" tokenizer for python source\n",
            "trg:\" tokenize \" 对 python 代码 使用 的 标记 解析器\n",
            "pred:\" \" \" \" \" \" \" \"\n",
            "\n",
            "src:(the <unk> module is lower level, used to support compiling a possibly incomplete chunk of python <unk>\n",
            "trg:（ \" <unk> \" 模块 是 低 层级 的 ， 用于 支持 编译 可能 不 完整 的 python 代码 块 。 ）\n",
            "pred:\" \" \" \" \" \" \" \" \" \" 模块 \" 的 的 的 的 的\n",
            "\n",
            "src:added <unk> and <unk> to <unk> to support <unk> for <unk> and <unk>\n",
            "trg:unittest 添加 了 \" <unk> ( ) \" 和 \" <unk> ( ) \" 以 支持 对 \" <unk> ( ) \" 和 \" <unk> ( ) \" 进行 清理\n",
            "pred:添加 了 \" \" \" \" \" \" \" \" \" \" \" \" \" \" \" \" \" \" \" \"\n",
            "\n",
            "src:returns \"null\" on failure\n",
            "trg:如果 失败 ， 返回 \" null \"\n",
            "pred:返回 失败 返回 \" \" \"\n",
            "\n",
            "src:if \"__complex__()\" is not defined then it falls back to \"__float__()\"\n",
            "trg:如果 \" __ complex __ ( ) \" 未定义 则 将 回退 至 \" __ float __ ( ) \"\n",
            "pred:如果 \" \" \" \" \" \" \" \" \" \" \" \" \" \"\n",
            "\n",
            "src:the default for ident was dependent on the system libraries, and often was \"python\" instead of the name of the python program file.\n",
            "trg:ident 的 默认值 依赖于 系统 库 ， 它 往往 为 \" python \" 而 不是 python 程序 文件 的 实际 名称\n",
            "pred:在 支持 的 的 的 的 ， ， 的 的 的 的 的 的\n",
            "\n",
            "src:if a derived class does not wish to <unk> with this <unk> all of the special methods supported by this class will need to be <unk> please consult the sources for information about the methods which need to be provided in that case.\n",
            "trg:如果 一个 分离 的 类 不 希望 <unk> 这个 需求 ， 所有 的 特殊 方法 就 必须 重写 ； 请 <unk> 源代码 进行 修改\n",
            "pred:如果 这些 的 的 的 的 的 的 的 的 的 的 的 的 的 的 的 的 的 的 的 的 的 的 的 的 的 的 的\n",
            "\n",
            "src:the <unk> function transforms option names to a canonical form\n",
            "trg:<unk> 函数 会 将 选项 名称 转换 为 规范 形式\n",
            "pred:\" \" \" \" \" \" \" \" \" \" \" 名称 的\n",
            "\n",
            "src:\"\\s\" matches any non whitespace <unk> this is equivalent to the class <unk> <unk>\n",
            "trg:\" \\ s \" 匹配 任何 非 空白 字符 ； 这 相当于 类 \" [ ^ \\ t \\ n \\ r \\ f \\ v ] \"\n",
            "pred:这 相当于 \" \" \" \" \" \" \" \" \" \" \" \" \" \" \" \" \" \" \"\n",
            "\n",
            "src:(see <unk> for information on how capsule names are <unk>\n",
            "trg:（ 请参阅 \" pycapsule _ <unk> ( ) \" 了解 如何 对 capsule 名称 进行 比较 的 有关 信息 。 ）\n",
            "pred:有关 的 的 的 的 的 的 的 的\n",
            "\n",
            "src:sometimes it is useful to be able to <unk> the sequences given by a pseudo random number generator\n",
            "trg:有时 能够 <unk> 伪 随机数 生成器 给出 的 序列 是 很 有 用处 的\n",
            "pred:这 产生 通过 通过 的 的 的 的 的 的 的\n",
            "\n",
            "src:if a compression method is not supported, <unk> is raised.\n",
            "trg:如果 某种 压缩 方法 不 受 支持 ， 则 会 引发 \" <unk> \"\n",
            "pred:如果 没有 是 \" ， \" ， \" \" \" \" \"\n",
            "\n",
            "src:a string with all available type <unk>\n",
            "trg:包含 所有 可用 类型 码 的 字符串\n",
            "pred:\" \" \" \" \" \" \" \" \" \" \"\n",
            "\n",
            "src:the web installer is a small initial <unk> and it will automatically download the required components as necessary\n",
            "trg:web <unk> （ 网络 安装包 ） 是 一个 小 的 初始化 工具 ， 它 将 在 安装 过程 中 ， 根据 需要 自动 下载 所 需 的 组件\n",
            "pred:它 <unk> <unk> <unk> ， ， ， ， ， ， 它 ， 的 <unk> <unk> <unk>\n",
            "\n",
            "src:named tuple the term <unk> <unk> applies to any type or class that inherits from tuple and whose <unk> elements are also accessible using named attributes\n",
            "trg:named tuple 具名 元组 术语 “ 具名 元组 ” 可 用于 任何 继承 自 元组 ， 并且 其中 的 可 索引 元素 还 能 使用 名称 属性 来 访问 的 类型 或类\n",
            "pred:\" \" \" \" \" \" \" \" \" \" \" \" \" \" \" \" \" \" \" \" \" \" \" \" 的 的 的 的\n",
            "\n",
            "src:new in version 3.4.\n",
            "trg:3.4 新版 功能 .\n",
            "pred:3.4 新版 功能 .\n",
            "\n",
            "src:sqlite natively supports only the types text, integer, <unk> <unk> and null\n",
            "trg:sqlite 原生 只 支持 5 <unk> 类型 ： text ， integer ， real ， <unk> 和 null\n",
            "pred:\" \" \" \" \" \" \" \" \" \" \" \" \" \" \"\n",
            "\n",
            "src:an example consumer of the buffer interface is the \"write()\" method of file objects: any object that can export a series of bytes through the buffer interface can be written to a file\n",
            "trg:缓冲区 接口 的 消费者 的 一个 例子 是 文件 对象 的 \" write ( ) \" 方法 ： 任何 可以 输出 为 一系列 字节 流 的 对象 可以 被 写入 文件\n",
            "pred:\" 可以 的 的 的 文件 的 的 文件 的 的 的 文件 的 的 的 的 的 的 的 的\n",
            "\n",
            "src:this conversion can often require 53 or more digits of precision\n",
            "trg:此 转换 通常 需要 53 位 或 更 <unk> 的 精度\n",
            "pred:这 可以 的 的 的 的 精确\n",
            "\n",
            "src:the output parameter can either be a filename or a file like object <unk> object supporting a \"write()\" and \"close()\" <unk>\n",
            "trg:输出 参数 可以 是 文件名 或类 文件 对象 （ \" write ( ) \" 和 \" close ( ) \" 方法 的 任何 对象 ）\n",
            "pred:\" 可以 \" \" \" \" \" \" \" \" \" \" \" \" \" \" \" \" \" \" \" \"\n",
            "\n",
            "src:after that, you can take a look at the logging <unk>\n",
            "trg:之后 ， 你 可以 看 一下 日志 操作手册\n",
            "pred:在 可以 你 可以 你 记录 在 ， 记录 记录\n",
            "\n",
            "src:<unk> must be <unk> or a tuple of cell objects.\n",
            "trg:<unk> 必须 为 \" py _ none \" 或 cell 对象 的 元组\n",
            "pred:\" 必须 为 \" \" \" \" \" \" \" \" \" \" \"\n",
            "\n",
            "src:<unk> the class has a <unk> even though it is bound to two names and invoked through the name b the created instance is still reported as an instance of class a\n",
            "trg:不 <unk> 地 讲 ， 该类 有 一个 名称 ： 虽然 它 是 绑定 了 两个 名称 并 通过 名称 b 发起 调用 ， 所 创建 的 实例 仍然 被 视为 类 a 的 一个 实例\n",
            "pred:\" 类 一个 类 一个 类 的 的 的 的 的 一个 类 的 的 的 的 的 的 的 的 的 的 的 的 的 的 的 的\n",
            "\n",
            "src:changed in version 3.7: universally <unk> mac addresses are preferred over <unk> <unk> mac addresses, since the former are guaranteed to be <unk> <unk> while the latter are not.\n",
            "trg:在 3.7 版 更改 : <unk> <unk> mac <unk> are <unk> <unk> <unk> <unk> mac <unk> , since the <unk> are <unk> to be <unk> <unk> , while the <unk> are not .\n",
            "pred:在 在 在 3.7 版 更改 : the \" \" \" \" \" \" \" \" \" \" \" \" \" \" \" \" \" \" \" \" \" <unk> are are are are are are are are\n",
            "\n",
            "src:changed in version <unk> require \"py_ssize_t\" for <unk> format characters\n",
            "trg:在 3.8 . 2 版 更改 : <unk> \" py _ ssize _ t \" for \" # \" format characters\n",
            "pred:在 3.6 版 更改 : the \" <unk> \" <unk> <unk> <unk> <unk> <unk> <unk>\n",
            "\n",
            "src:from file <unk> <unk>\n",
            "trg:从文件 关联 ~ ~ ~ ~ ~ ~ ~ ~ ~ ~ ~ ~ ~ ~ ~ ~ ~ ~ ~\n",
            "pred:文件 文件 文件 文件 <unk> 文件\n",
            "\n",
            "src:return a list of all available password database <unk> in arbitrary order.\n",
            "trg:返回 密码 数据库 中 所有 项目 的 列表 ， 顺序 不是 固定 的\n",
            "pred:所有 中 的 的 的 的 的 的 的 的 的\n",
            "\n",
            "src:a new reference to the <unk> object\n",
            "trg:对 导出 对象 的 新 引用\n",
            "pred:根据 新 的 对象 的 对象 的\n",
            "\n",
            "src:common methods of ctypes data types, these are all class methods (to be <unk> they are methods of the metaclass <unk>\n",
            "trg:ctypes 数据类型 的 通用 方法 ， 它们 都 是 类 方法 （ <unk> 地说 ， 它们 是 <unk> 的 方法 ） :\n",
            "pred:这些 方法 方法 方法 的 的 的 方法 方法 方法 的 的 方法 方法 方法 方法 方法 方法 方法\n",
            "\n",
            "src:why are <unk> required for the <unk> statements?\n",
            "trg:为什么 if / while / def / class 语句 需要 冒号 ？\n",
            "pred:为什么 <unk> <unk> <unk> <unk> <unk> <unk>\n",
            "\n",
            "src:which is equivalent to:\n",
            "trg:这 等价 于 :\n",
            "pred:等价 于 : 于\n",
            "\n",
            "src:an \"oserror\" is raised if the io object does not use a file descriptor.\n",
            "trg:如果 io 对象 不 使用 文件 描述符 ， 则 会 引发 \" oserror \"\n",
            "pred:如果 在 一个 file \" file \" ， \" \" \" \" \" \" \"\n",
            "\n",
            "src:another window will be <unk>\n",
            "trg:另 一个 窗口 将 被 激活\n",
            "pred:将 窗口 绘制 窗口 绘制\n",
            "\n",
            "src:<unk> : set to true to strip whitespace before and after text content (default: <unk>\n",
            "trg:<unk> _ text : set to true to <unk> whitespace <unk> and after text content （ 默认值 ： <unk> ）\n",
            "pred:\" \" \" \" \" \" \" \" \" \" ， 文本 启用 \" 将 文本 启用 \" 将 文本 \"\n",
            "\n",
            "src:otherwise, the \"argumentparser\" will see two \" <unk> help\" options (one in the parent and one in the <unk> and raise an error.\n",
            "trg:否则 ， \" <unk> \" 将会 看到 两个 \" h / help \" 选项 （ 一个 在 父 参数 中 一个 在子 参数 中 ） 并且 产生 一个 错误\n",
            "pred:否则 为 \" \" \" \" ， \" ， \" ， \" \" \" \" \" \" \" \" \" \" \" \" \" \" \" \" \"\n",
            "\n",
            "src:<unk> should be used for converting character references to the corresponding unicode characters.\n",
            "trg:应当 使用 \" html . <unk> ( ) \" 来 将 字符 引用 转换 为 对应 的 unicode 字符\n",
            "pred:\" \" \" \" \" \" \" \" \" \" 字符 \" 字符 \"\n",
            "\n",
            "src:if there is no associated file, do save as instead.\n",
            "trg:如果 没有 对应 的 文件 ， 则 使用 “ <unk> ” 代替\n",
            "pred:如果 未 的 ， 则 则 则 ， 则\n",
            "\n",
            "src:new in version 3.2.\n",
            "trg:3.2 新版 功能 .\n",
            "pred:3.2 新版 功能 .\n",
            "\n",
            "src:<unk> <unk> is the only accepted value for <unk> .\n",
            "trg:目前 ， \" clock _ <unk> \" 是 <unk> _ id 唯一 可 接受 的 值\n",
            "pred:\" <unk> <unk> \" \" \" <unk> \" <unk> \" <unk> <unk>\n",
            "\n",
            "src:<unk> , if specified, must be a list of strings with the names of the long options which should be supported\n",
            "trg:如果 指定 了 <unk> ， 则 必须 为 一个 由 应当 被 支持 的 长 选项 名称 组成 的 列表\n",
            "pred:如果 名称 的 ， ， ， ， ， ， 的 ， 名称 的 的 的 的 的\n",
            "\n",
            "src:makes a normal distribution instance with <unk> and <unk> parameters <unk> from the data using <unk> and <unk>\n",
            "trg:传入 使用 \" <unk> ( ) \" 和 \" <unk> ( ) \" 基于 data <unk> 出 的 <unk> 和 <unk> 形参 创建 一个 正态分布 实例\n",
            "pred:\" \" \" \" \" \" \" \" \" \" \" \" \" \" \" \" \" \" \" \" \" \" \"\n",
            "\n",
            "src:the test function should return a string describing the image type if the test <unk> or \"none\" if it <unk>\n",
            "trg:如果 测试 成功 ， 这个 <unk> 应当 返回 一个 描述 图像 类型 的 字符串 ， 否则 返回 \" none \"\n",
            "pred:如果 此 函数 的 或者 ， ， ， ， ， \" 或者 ， \" 或者 ， \" \" \" \" \"\n",
            "\n",
            "src:new in version 3.1.\n",
            "trg:3.1 新版 功能 .\n",
            "pred:3.1 新版 功能 .\n",
            "\n",
            "src:please refer to <unk> in the python source distribution for more detailed information.\n",
            "trg:有关 更 多 详细信息 ， 请参阅 python 源代码 中 的 \" <unk> / <unk> . txt \"\n",
            "pred:python python python 的 python 的 的 的 的 的 的 的 的\n",
            "\n",
            "src:\"json\" json encoder and decoder\n",
            "trg:\" json \" json 编码 和 解码器\n",
            "pred:\" json json json 解码器 解码器 解码器\n",
            "\n",
            "src:<unk> core distutils functionality\n",
            "trg:\" distutils . core \" 分发 包 功能 的 核心\n",
            "pred:\" : distutils \" \"\n",
            "\n",
            "src:opening with flags \"'r'\" and \"'w'\" no longer creates a database if it does not <unk>\n",
            "trg:附带 \" ' r ' \" 和 \" ' w ' \" 旗 标的 打开 操作 不会 再 创建 数据库\n",
            "pred:如果 没有 \" \" \" \" \" \" \" \" \" ， \" ， \" \" \" \" \" \" \" \" \" \" \" \" \" \"\n",
            "\n",
            "src:its methods create and return proxy objects for a number of commonly used data types to be synchronized across processes\n",
            "trg:它 拥有 一系列 方法 ， 可以 为 大部分 常用 数据类型 创建 并 返回 代理 对象 代理 ， 用于 进程 间 同步\n",
            "pred:返回 的 的 的 的 的 的 的 的 的 的 的 的 的 的\n",
            "\n",
            "src:all of the usual math operations and special methods apply\n",
            "trg:所有 常用 的 数学 运算 和 特殊 方法 都 适用\n",
            "pred:所有 start 的 所有 方法 \" \" \" 方法 方法\n",
            "\n",
            "src:phase can be one of two values:\n",
            "trg:<unk> 可 为 以下 <unk> 之一 ：\n",
            "pred:可以 两个 可以 两个 可以 两个 的 两个\n",
            "\n",
            "src:future objects are used to <unk> low level callback based code with high level <unk> code.\n",
            "trg:future 对象 用来 链接 底层 回 <unk> 代码 和 高层 异步 / 等待 式 代码\n",
            "pred:在 <unk> <unk> 的 的 的 的 的 的 的 的 的 的 的 的 的\n",
            "\n",
            "src:when invoked with a timeout other than \"none\", it will block for at most timeout seconds\n",
            "trg:当 发起 调用 时 如果 timeout 不 为 \" none \" ， 则 它 将 阻塞 最 多 timeout 秒\n",
            "pred:当 timeout 阻塞 阻塞 阻塞 ， 阻塞 阻塞 ， 阻塞 阻塞 阻塞 阻塞 阻塞 阻塞 阻塞 阻塞 阻塞 阻塞\n",
            "\n",
            "src:see a command line interface to difflib for a more detailed example.\n",
            "trg:请参阅 difflib 的 命令行 接口 获取 更 详细 的 示例\n",
            "pred:更 difflib 更 命令行 更 命令行 更 接口\n",
            "\n",
            "src:flags is deprecated and completely ignored\n",
            "trg:flags 已经 弃用 且 完全 被 忽略\n",
            "pred:\" \" \" \" \" \" \" \" \" \"\n",
            "\n",
            "src:the function has an o(1) <unk> i.e. works equally fast for contexts with a few context variables and for contexts that have a lot of them.\n",
            "trg:此 函数 复杂度 为 o ( 1 ) ， 也就是说 对于 只 包含 几个 上下文 变量 和 很多 上下文 变量 的 情况 ， 他们 是 一样 快 的\n",
            "pred:一个 的 的 的 的 的 的 的 的 的 的 的 的 的 的 的 的 的 的 的 的 的 的 的 的\n",
            "\n",
            "src:the abc <unk> defines the standard iterable method, <unk> as an abstract method\n",
            "trg:abc \" <unk> \" 定义 了 标准 的 迭代 方法 \" __ iter __ ( ) \" 作为 一个 抽象 方法\n",
            "pred:\" \" \" \" \" \" \" \" \" \" \" \" \" \" \" \" \" \" \" \" \" __ \" __ \"\n",
            "\n",
            "src:in any situation where the size of the resource is <unk> you should use a bounded semaphore\n",
            "trg:在 资源 数量 固定 的 任何 情况 下 ， 都 应该 使用 有 界 信号量\n",
            "pred:在 的 的 的 的 的 的 的 的 的 的 的 的 的\n",
            "\n",
            "src:for example, <unk> calls its \"tzinfo\" <unk> <unk> method to determine how the <unk> flag should be set, and <unk> calls <unk> to <unk> for dst changes when <unk> time <unk>\n",
            "trg:例如 ， \" datetime . timetuple ( ) \" 会 调用 其 \" tzinfo \" 属性 的 \" dst ( ) \" 方法 来 确定 应该 如何 设置 \" <unk> _ <unk> \" 旗标 ， 而 \" tzinfo . <unk> ( ) \" 会 调用 \" dst ( ) \" 来 在 跨越 时区 时 处理 dst 的 改变\n",
            "pred:对于 ， \" \" \" \" \" \" \" \" \" \" \" \" \" \" \" \" \" \" \" \" \" \" \" \" \" \" \" \" \" \" \" \"\n",
            "\n",
            "src:changed in version 3.4: support width and precision formatter for <unk> <unk> <unk> <unk> <unk> <unk> added.\n",
            "trg:在 3.4 版 更改 : support width and precision formatter for \" \" % s \" \" , \" \" % a \" \" , \" \" % u \" \" , \" \" % v \" \" , \" \" % s \" \" , \" \" % r \" \" added .\n",
            "pred:在 3.4 版 更改 : <unk> <unk> <unk> <unk> \" \" <unk> \" <unk> \" <unk> \" <unk> \"\n",
            "\n",
            "src:converts the old metaclass syntax <unk> <unk> in the class <unk> to the new <unk> <unk> <unk>\n",
            "trg:将 老 的 元类 语法 （ <unk> 中 的 \" __ <unk> __ meta \" ） 替换 为 新 的 （ \" class x ( <unk> meta ) \" ）\n",
            "pred:新 的 的 \" \" \" \" \" \" \" \" \" \" \" \" \" \" \" \" \" \"\n",
            "\n",
            "src:a small number of constants live in the built in namespace\n",
            "trg:有 少数 的 常量 存在 于 内置 命名 空间 中\n",
            "pred:内置 命名 的 内置 命名 的 内置 命名 的\n",
            "\n",
            "src:up to this point, we've simply performed searches against a static string\n",
            "trg:到 目前为止 ， 我们 只是 针对 静态 字符串 执行 搜索\n",
            "pred:此 一个 字符串 ， 字符串 ， 字符串 ， 字符串 的 字符串\n",
            "\n",
            "src:new in version 3.5.\n",
            "trg:3.5 新版 功能 .\n",
            "pred:3.5 新版 功能 .\n",
            "\n",
            "src:(en_us); so, <unk> ..., <unk> (de_de) <unk> weekday as locale's full name\n",
            "trg:sun , <unk> , ... , <unk> ( 1 ) ( en _ us ) ; so , <unk> , ... , <unk> ( de _ de ) \" % a \" 本地化 的 星期 中 <unk> 的 完整 名称\n",
            "pred:\" \" \" \" \" ( en \" , en \" , en \" , , , , de , de <unk> , de <unk>\n",
            "\n",
            "src:changed in version 3.2: previously, windows registry settings were ignored.\n",
            "trg:在 3.2 版 更改 : previously , windows registry <unk> were ignored .\n",
            "pred:在 在 在 在 在 windows 版 更改 : windows 的 <unk>\n",
            "\n",
            "src:if a file named in filenames cannot be <unk> that file will be ignored\n",
            "trg:如果 filenames 中 名称 对应 的 某个 文件 无法 被 打开 ， 该 文件 将 被 忽略\n",
            "pred:如果 文件 文件 文件 \" \" 文件 \" \" 文件 \" \" \" \"\n",
            "\n",
            "src:when run with the appropriate arguments, it prints either the sum or the <unk> of the command line <unk>\n",
            "trg:当 使用 适当 的 参数 运行 时 ， 它会 输出 命令行 传入 整数 的 总和 或者 最大值 ：\n",
            "pred:如果 line 命令 ， 命令行 ， ， ， ， ， ， 命令行 ， 命令行 line 命令\n",
            "\n",
            "src:on some platforms, this function may return \"false\" if permission is not <unk> to execute \"os.stat()\" on the requested file, even if the path <unk> <unk>\n",
            "trg:在 某些 平台 上 ， 如果 使用 \" os . stat ( ) \" 查询 到 目标 文件 没有 执行 权限 ， 即使 path 确实 存在 ， 本 函数 也 可能 返回 \" false \"\n",
            "pred:如果 在 此 函数 在 ， ， ， ， ， ， ， ， ， ， ， ， ， ， ， ， 此 函数\n",
            "\n",
            "src:<unk> is the module name, <unk> indicates if module was successfully <unk>\n",
            "trg:\" <unk> \" 是 模块 名称 ， \" arg1 \" 表示 模块 是否 成功 加载\n",
            "pred:\" \" \" \" \" \" \" \" \" \" \" \" \" \" \" \"\n",
            "\n",
            "src:if you used a python dictionary to map names to <unk> or <unk> to names, the image objects would remain alive just because they <unk> as values or keys in the dictionaries\n",
            "trg:如果 您 使用 python 字典 将 名称 映射 到 图像 ， 或 将 图像 映射 到 名称 ， 则 图像 对象 将 保持 <unk> ， 因为 它们 在 字典 中 显示 为值 <unk>\n",
            "pred:如果 你 字典 字典 的 字典 的 字典 的 的 的 的 的 ， 字典 的 ， 字典 的 的 的 的 的 的 的 的 的 的 的 的\n",
            "\n",
            "src:if there is no <unk> in path , head will be empty\n",
            "trg:如果 path 中 没有 斜杠 ， head 将 为 空\n",
            "pred:如果 没有 内 ， ， 则 ， 则 将 \"\n",
            "\n",
            "src:for a list of the files in a tar archive, use the \" l\" <unk>\n",
            "trg:要 获取 一个 tar 归档 中 文件 的 列表 ， 请 使用 \" l \" 选项 :\n",
            "pred:对于 ， \" \" \" \" \" \" \" \" \" \" \" \" \" \" \"\n",
            "\n",
            "src:return \"true\" if the stream can be read from\n",
            "trg:如果 可以 读取 流 ， 则 返回 \" true \"\n",
            "pred:如果 流 来自 \" 读取 则 返回 \" true \"\n",
            "\n",
            "src:complex numbers as python objects\n",
            "trg:表示 复数 的 python 对象\n",
            "pred:python 复数 对象 对象 对象\n",
            "\n",
            "src:these are often useful for test <unk> <unk> tools, and prototypes that will later be wrapped in a more sophisticated interface.\n",
            "trg:这些 通常 对 <unk> ， <unk> 和 原型 有用 ， 这些 工具 随后 将 被 包含 在 更 复杂 的 接口 中\n",
            "pred:这 <unk> <unk> ， ， ， ， 在 ， ， ， 的 <unk> <unk>\n",
            "\n",
            "src:data can be a sequence or iterable.\n",
            "trg:data 可以 是 序列 或 可 迭代 对象\n",
            "pred:data 可以 序列 或 迭代 可\n",
            "\n",
            "src:the \"try\" clause is executed, including any \"except\" and \"else\" clauses\n",
            "trg:\" try \" 子句 会 被 执行 ， 包括 任何 \" except \" 和 \" else \" 子句\n",
            "pred:\" \" \" \" \" \" \" \" \" \" \" \" \" \" \" \" \"\n",
            "\n",
            "src:with <unk> <unk> has no effect.\n",
            "trg:<unk> 对 \" threadpoolexecutor \" 没有 效果\n",
            "pred:\" \" \" \" \" \" \" \" \" \"\n",
            "\n",
            "src:for example, the string value <unk> for a <unk> in a logger or handler will automatically be converted to the value <unk> and the <unk> <unk> and \"formatter\" entries will take an object id and <unk> to the appropriate destination object.\n",
            "trg:例如 ， 在 日志 记录器 或 处理程序 中 表示 \" level \" 的 字符串 值 \" ' debug ' \" 将 被 自动 转换 为值 \" logging . debug \" ， 而 \" handlers \" , \" filters \" 和 \" formatter \" 条目 将 接受 一个 对象 id 并 解析 为 适当 的 目标 对象\n",
            "pred:\" \" \" \" \" \" \" \" \" \" \" \" \" \" \" \" \" \" \" \" \" \" \" \" \" \" \" \" \" \" \" \" \" \" \" \" \" \" \" \" \" \" \" \" \" \"\n",
            "\n",
            "src:return number rounded to ndigits precision after the decimal point\n",
            "trg:返回 number 舍入 到 <unk> 后 ndigits 位 精度 的 值\n",
            "pred:返回 后 后 后 后 后 后 后\n",
            "\n",
            "src:it returns a string similar to that returned by the built in function of the same name, but with limits on most <unk>\n",
            "trg:它会 返回 与 同名 内置 函数 所 返回 字符串 相似 的 字符串 ， 区别 在于 附带 了 对 多数 类型 的 大小 限制\n",
            "pred:返回 一个 的 的 的 的 的 的 \" \" \" \" \" \" \" \" \" \" \" \" \"\n",
            "\n",
            "src:in particular, <unk> is an enhanced alternative to \"distutils\" that <unk>\n",
            "trg:特别 地 ， setuptools 是 一个 对于 \" distutils \" 的 增强 选项 ， 它 能 提供 ：\n",
            "pred:在 <unk> ， 的 的 ， ， ， <unk> <unk> <unk>\n",
            "\n",
            "src:parameters: n <unk> integer\n",
            "trg:参数 : n <unk> 整型 数\n",
            "pred:[ 1 整数 整型 n 整数 \" 整数 \"\n",
            "\n",
            "src:optional keyword parameters linejunk and charjunk are filtering functions (or <unk>\n",
            "trg:可 选 关键 字形 参 linejunk 和 charjunk 均 为 过滤 函数 ( 或 为 \" none \" ) ：\n",
            "pred:可选 的 参数 的 参数 的 的 的 的 的 函数 和 关键字\n",
            "\n",
            "src:for example, <unk> 2\" returns <unk> but <unk> 2\" returns <unk>\n",
            "trg:例如 ， \" 10 2 \" 返回 \" 100 \" ， 而 \" 10 2 \" 返回 \" <unk> \"\n",
            "pred:例如 ， \" \" \" \" \" \" \" \" \" \" \" \" \" \" \" \" \" \" 返回 \" \" \"\n",
            "\n",
            "src:this function does not <unk> a reference to v .\n",
            "trg:此 函数 不会 增加 对 v 的 引用\n",
            "pred:此 函数 引用 的 的 的 的\n",
            "\n",
            "src:if the future is already done when this method is called, the callback is scheduled with <unk>\n",
            "trg:调用 这个 方法 时 future 已经 完成 , 回调 函数 已 被 \" loop . call _ <unk> ( ) \" 调度\n",
            "pred:当 此 方法 被 时 ， ， \" \" \" \" \" \" \" \" \" \"\n",
            "\n",
            "src:names must not be longer than <unk> characters, there is no <unk> name information\n",
            "trg:名称 长度 不能 超过 100 个字符 ， 并且 没有 用户 / 分组 名 信息\n",
            "pred:名称 不是 是 名称 的 名称 不是 名称 的 名称 的 名称\n",
            "\n",
            "src:when used on object types for which they do not <unk> they will raise a python exception.\n",
            "trg:当 使用 对象 类型 并 不 适用 时 ， 他们 会 产生 一个 python 异常\n",
            "pred:当 \" 时 \" \" \" \" \" 时 ， \" \" 时 \" \" \" \"\n",
            "\n",
            "src:define an \"__iter__()\" method which returns an object with a \"__next__()\" method\n",
            "trg:定义 一个 \" __ iter __ ( ) \" 方法 来 返回 一个 带有 \" __ next __ ( ) \" 方法 的 对象\n",
            "pred:\" 方法 方法 方法 方法 方法 \" 方法 方法 方法 方法 方法 方法 方法 方法 方法 方法 方法 方法 方法 方法 方法 方法\n",
            "\n",
            "src:locate the insertion point for x in a to maintain sorted order\n",
            "trg:在 a 中 找到 x 合适 的 插入 <unk> 维持 有序\n",
            "pred:将 的 x 的 到 以 ， x 的 到 以 x\n",
            "\n",
            "src:ordered comparisons between enumeration values are not supported\n",
            "trg:枚举 值 之间 的 排序 比较 不 被 支持\n",
            "pred:支持 支持 支持 支持 支持 支持 支持\n",
            "\n",
            "src:(if you are already familiar with the basic concepts of <unk> you might want to skip to the list of <unk> <unk>\n",
            "trg:（ 如果 你 已经 对 测试 的 概念 比较 熟悉 了 ， 你 可能 想 直接 跳转 到 这 一部分 断言 方法 。 ）\n",
            "pred:你 你 你 你 的 的 ， ， ， 的 的 的 的 的 的 的 的\n",
            "\n",
            "src:this time the character at the current position is <unk> so it succeeds.\n",
            "trg:<unk> 当前 位置 的 字 <unk> \" ' b ' \" ， 所以 它 成功 了\n",
            "pred:这是 一个 的 的 的 ， ， 的 的 的 的 的\n",
            "\n",
            "src:pep <unk> using <unk> as the index type\n",
            "trg:pep <unk> : 使用 ssize _ t 作为 索引 类型\n",
            "pred:pep <unk> : : \" \" \" \" \" \" \"\n",
            "\n",
            "src:interrupt execution stop a running program.\n",
            "trg:中断 执行 停止 正在 运行 的 程序\n",
            "pred:在 一个 是 的 的 的 的\n",
            "\n",
            "src:determine whether code is in <unk> <unk> for plain <unk>\n",
            "trg:确定 code 是否 属于 <unk> ( 不适 用于 纯 文本 )\n",
            "pred:对于 <unk> 是 的 的 的 的 <unk> <unk> <unk> <unk>\n",
            "\n",
            "src:new in version 3.2.\n",
            "trg:3.2 新版 功能 .\n",
            "pred:3.2 新版 功能 .\n",
            "\n",
            "src:the return value is \"true\" unless a given timeout <unk> in which case it is \"false\".\n",
            "trg:返回 \" true \" ， 除非 提供 的 timeout <unk> ， 这种 情况 下 返回 \" false \"\n",
            "pred:它 是 是 是 \" 的 的 ， ， ； ； ； ； ； ； ；\n",
            "\n",
            "src:\"copyreg\" register \"pickle\" support functions\n",
            "trg:\" copyreg \" 注册 配合 \" pickle \" 模块 使用 的 函数\n",
            "pred:\" copyreg \" \" \" \" \" \" \" 函数\n",
            "\n",
            "src:the default is <unk>\n",
            "trg:默认值 为 \" 40 \"\n",
            "pred:默认 是 默认值 \" \" \"\n",
            "\n",
            "src:it is highly recommended to have good code coverage <unk> unit testing or any other <unk> before potentially introducing <unk> hidden in sophisticated <unk>\n",
            "trg:强烈建议 在 可能 引入 隐藏 在 复杂 优化 中 的 <unk> 之前 ， 要 有 良好 的 代码 <unk> （ 通过 单元测试 或 任何 其他 技术 ）\n",
            "pred:虽然 在 ， 的 的 的 的 的 ， ， ， ， ， 的 <unk> <unk> <unk> <unk> <unk> <unk> 中 或 <unk> <unk> 中 的\n",
            "\n",
            "src:this function drops you into the debugger at the call site\n",
            "trg:此 函数 会 在 调用 时 将 你 <unk> 调试器 中\n",
            "pred:此 调用 调用 调用 调用 调用 调用 调用 调用 调用\n",
            "\n",
            "src:the resulting string can be used directly as an attribute value:\n",
            "trg:结果 字符串 可 被 直接 用作 属性 值 :\n",
            "pred:\" \" \" \" \" \" \" \" \" \" \"\n",
            "\n",
            "src:(note that ignoring encoding errors can lead to data <unk> \"'replace'\" causes a replacement marker (such as <unk> to be inserted where there is malformed data\n",
            "trg:( 请 注意 忽略 编码 格式 错误 会 导致 数据 丢失 。 ) \" ' replace ' \" 会 在 出现 错误 数据 时 插入 一个 替换 标记 ( 例如 \" ' ? ' \" )\n",
            "pred:\" \" \" \" \" \" \" \" \" \" \" \" \" \" \" \" \" \" \" \" \" \" \" \" \" \" \" \"\n",
            "\n",
            "src:appends items from the string, <unk> the string as an array of machine values (as if it had been read from a file using the <unk> <unk>\n",
            "trg:添加 来自 字符串 的 项 ， 将 字符串 解读 为 机器 值 的 数组 （ 相当于 使用 \" fromfile ( ) \" 方法 从文件 中 读取数据 ）\n",
            "pred:根据 来自 文件 的 的 的 的 的 文件 的 \" \" \" \" \" \" \" \" \" \" \" \" \"\n",
            "\n",
            "src:return the path of <unk>\n",
            "trg:返回 \" <unk> \" 的 目录\n",
            "pred:返回 path 的 的 的\n",
            "\n",
            "src:on all platforms, the configured value is available as the \"tzpath\" key in <unk>\n",
            "trg:在 所有 平台 上 ， 配置 值会 在 \" <unk> . get _ config _ var ( ) \" <unk> \" tzpath \" 键 的 形式 提供\n",
            "pred:在 的 的 的 的 的 的 的 的 的 的 的 的 的 的\n",
            "\n",
            "src:for more information on static methods, see the standard type <unk>\n",
            "trg:想 了解 更 多 有关 静态方法 的 信息 ， 请参阅 标准 类型 层级 结构\n",
            "pred:有关 标准 的 的 的 的 的 的 的 的 的 的 的 的\n",
            "\n",
            "src:if tos is true, sets the bytecode counter to target and leaves tos on the stack\n",
            "trg:如果 tos 为 真值 ， 则 将 字节 码 计数器 的 值 设为 target 并 将 tos 留在 栈顶\n",
            "pred:如果 \" \" \" \" ， \" ， ， ， 将 \" 将 \" 将 \" 将 \"\n",
            "\n",
            "src:these two fractions have identical values, the only real difference being that the first is written in base 10 fractional notation, and the second in base 2.\n",
            "trg:这 两个 小数 具有 相同 的 值 ， 唯一 真正 的 区别 是 第一个 是 以 10 为 基数 的 小数 表示法 ， 第二个 则 是 2 为 基数\n",
            "pred:在 ， ， ， ， ， ， ， ， ， ， ， ， ， ， ， ， ， ， ， ， ， ， 的\n",
            "\n",
            "src:the python <unk> index is a public repository of open source <unk> packages made available for use by other python users\n",
            "trg:python <unk> index 是 一个 开源 许可 的 软件包 公共 存储 库 ， 可 供 所有 python 用户 使用\n",
            "pred:python python python python python python python python <unk> <unk> <unk> python python <unk> <unk> <unk> <unk> <unk> <unk>\n",
            "\n",
            "src:changed in version 3.5: the <unk> structure was <unk> to <unk> and a new <unk> field was added.\n",
            "trg:在 3.5 版 更改 : the \" <unk> \" structure was <unk> to \" <unk> \" and a new \" calloc \" field was added .\n",
            "pred:在 3.5 版 更改 : the <unk> <unk> <unk> <unk> <unk> <unk> _ to _ <unk> _ <unk> _ <unk> _ <unk> _ <unk> _ <unk>\n",
            "\n",
            "src:the parameters to these classes may also need to include external objects such as \"sys.stderr\"\n",
            "trg:这些 类 的 形参 可能 还 需要 包括 \" sys . stderr \" 这样 的 外部 对象\n",
            "pred:\" \" \" \" \" \" 的 的 的 的 的 的 的 的\n",
            "\n",
            "src:determine whether code is in <unk> <unk> with <unk> property <unk> or <unk>\n",
            "trg:确定 code 是否 属于 <unk> ( 带有 双向 属性 \" r \" 或 \" <unk> \" 的 字符 )\n",
            "pred:在 <unk> 是 的 的 的 或 的 或 的 或 <unk> <unk> 或 <unk> <unk> \" 或\n",
            "\n",
            "src:it returns an instance of the second argument, which references the same memory block as the first argument:\n",
            "trg:返回 第二个 类型 的 一个 实例 ， 该 返回 实例 和 第一个 参数 指向 同 <unk> 内存空间 :\n",
            "pred:返回 一个 的 的 的 的 的 的 的 的 的 的\n",
            "\n",
            "src:it returns a new python object, suitable for returning from a c function called from python.\n",
            "trg:最终 返回 一个 python 对象 适合 于 返回 c 函数调用 给 python 代码\n",
            "pred:从 一个 新 的 从 一个 新 的 从 一个 新 的 的 新 的 的\n",
            "\n",
            "src:<unk> and <unk> objects\n",
            "trg:cookiejar 和 <unk> 对象\n",
            "pred:<unk> 对象 对象\n",
            "\n",
            "src:pep 370: per user \"site packages\" directory\n",
            "trg:pep 370 : 分 用户 的 site packages 目录\n",
            "pred:pep 370 分 分 分 分 目录\n",
            "\n",
            "src:if it can be determined, mode is overridden by fileobj 's mode\n",
            "trg:如果 可以 被 确定 ， 则 mode 会 被 fileobj 的 模式 所 覆盖\n",
            "pred:如果 mode 模式 模式 模式 模式 模式 模式 模式\n",
            "\n",
            "src:get an encoder function for the given encoding .\n",
            "trg:为 给定 的 encoding 获取 一个 编码器 函数\n",
            "pred:返回 函数 的 的 函数 的 函数\n",
            "\n",
            "src:<unk> is used by default now\n",
            "trg:现在 默认 采用 \" select . epoll _ <unk> \" 标志\n",
            "pred:现在 默认 现在 默认 现在 默认 现在 默认\n",
            "\n",
            "src:changed in version 3.4: added support for unseekable files.\n",
            "trg:在 3.4 版 更改 : 添加 了 对 不可 搜索 文件 的 支持\n",
            "pred:在 3.4 版 更改 : 添加 了 对 replace 支持 支持\n",
            "\n",
            "src:this code will then be turned back into the same byte when the <unk> error handler is used when encoding the data\n",
            "trg:当 在 编码数据 时 使用 \" ' <unk> ' \" 错误处理 方案 时 ， 此 代理 将 被 转换 回 相同 的 字节\n",
            "pred:当 此 当 使用 时 ， 时 ， 时 ， 时 ， 时 时 的 时\n",
            "\n",
            "src:the \"binascii\" module contains a number of methods to convert between binary and various ascii encoded binary representations\n",
            "trg:\" binascii \" 模块 包含 很多 在 二进制 和 二进制 表示 的 各种 ascii 码 之间 转换 的 方法\n",
            "pred:\" \" \" 的 的 二进制 的 二进制 的 二进制 的 的 的 的 的\n",
            "\n",
            "src:the default character <unk> \"'utf 8'\" on windows, the value returned by \"sys.getfilesystemencoding()\" otherwise.\n",
            "trg:默认 的 字符 编码 格式 ： 在 windows 上 为 \" ' utf 8 ' \" ， 其他 系统 上 则 为 \" sys . getfilesystemencoding ( ) \" 所 返回 的 值\n",
            "pred:\" \" \" \" \" \" \" \" \" \" \" \" \" \" \" \" \" \" \" \"\n",
            "\n",
            "src:when <unk> is available then backwards compatible functionality is provided.\n",
            "trg:当 \" exec _ module ( ) \" 可用 的 时候 ， 那么 则 提供 了 向 后 兼容 的 功能\n",
            "pred:当 \" \" \" ， \" ， 的 时\n",
            "\n",
            "src:release date: 2016 12 06\n",
            "trg:发布 日期 : 2016 12 06\n",
            "pred:发布 日期 : 2016 06 12\n",
            "\n",
            "src:extending python with c or c++\n",
            "trg:使用 c 或 c++ 扩展 python\n",
            "pred:python python python python python python 或\n",
            "\n",
            "src:for more information about <unk> see the other graphical user interface packages section.\n",
            "trg:更 多 信息 ， 请 参考 其他 图形用户界面 （ gui ） 包 小节\n",
            "pred:有关 的 更 ， 更 的 更 请 查看 的\n",
            "\n",
            "src:<unk> start by looking at a python language feature that's an important foundation for writing functional style <unk> <unk>\n",
            "trg:<unk> 从 python 的 一个 语言 特性 ， 编写 函数 式 风格 程序 的 重要 <unk> 开始 <unk> ： 迭代 器\n",
            "pred:python <unk> <unk> <unk> <unk> <unk> <unk> <unk> <unk> <unk> <unk> <unk> <unk> <unk> <unk> <unk> <unk> <unk> <unk> <unk> <unk> <unk> <unk>\n",
            "\n",
            "src:see the <unk> description for examples.\n",
            "trg:在 nargs 描述 中 查看 <unk>\n",
            "pred:请参阅 的 <unk> <unk> 请参阅 \" <unk> <unk> <unk>\n",
            "\n",
            "src:no <unk> to host\n",
            "trg:没有 到 主机 的 <unk>\n",
            "pred:<unk> <unk> <unk>\n",
            "\n",
            "src:the installer adds this location to your shell path\n",
            "trg:安装程序 将 此 位置 添加 到 shell 路径\n",
            "pred:这 路径 的 路径 的 路径\n",
            "\n",
            "src:path specifies a different directory to extract to\n",
            "trg:path 指定 一个 要 提取 到 的 不同 目录\n",
            "pred:将 path 的 目录 提取 到 目录 提取\n",
            "\n",
            "src:pep <unk> using utf 8 as the default source encoding\n",
            "trg:pep <unk> 使用 utf 8 作为 默认 的 源 编码\n",
            "pred:pep <unk> : \" \" \" \" \" \" \" \" \"\n",
            "\n",
            "src:the value returned is an integer, typically one of <unk> <unk> etc.\n",
            "trg:返回 的 值 是 一个 整数 ， 通常 为 \" logging . debug \" 、 \" logging . info \" 等等\n",
            "pred:\" 是 \" \" \" \" \" \" \" \" \" \" \"\n",
            "\n",
            "src:it is useful for <unk> what subset of the screen windows enclose the location of a mouse <unk>\n",
            "trg:它 适用 于 确定 是 哪个 屏幕 窗口 子集 <unk> 着 某个 鼠标 事件 的 位置\n",
            "pred:它 的 的 的 的 的 的 的 的 的 的 的\n",
            "\n",
            "src:put results in a new output window.\n",
            "trg:将 结果 输出 至 新 的 输出 窗口\n",
            "pred:新 的 新 的 的 的\n",
            "\n",
            "src:if the default value of a field is specified by a call to <unk> then the class attribute for this field will be replaced by the specified \"default\" value\n",
            "trg:如果 通过 调用 \" field ( ) \" 指定 字段 的 默认值 ， 则 该 字 段 的 类 属性 将 替换 为 指定 的 \" default \" 值\n",
            "pred:如果 通过 属性 \" \" \" \" \" \" \" \" \" \" \" \" \" \" \" \" \" \" \" \" \" \" \" 值 \" 值 \"\n",
            "\n",
            "src:logs a message with level <unk> on this logger\n",
            "trg:在 此 记录器 上 记录 \" debug \" 级别 的 消息\n",
            "pred:在 根 日志 记录器 上 记录 \" \" \" \" 级别\n",
            "\n",
            "src:if the wrapped output has no <unk> the returned list is empty.\n",
            "trg:如果 自动 换行 输出 结果 没有 任何 内容 ， 则 返回 空 列表\n",
            "pred:如果 列表 列表 列表 列表 列表 ， 列表 ， 列表 列表 列表 列表 列表 列表 列表\n",
            "\n",
            "src:set the garbage collection <unk> (the collection <unk>\n",
            "trg:设置 垃圾 回收 <unk> （ 收集 <unk> ）\n",
            "pred:设置 回收 设置 回收 回收 回收 回收 回收 回收 回收 回收 回收 回收 回收 回收 回收 \" 回收\n",
            "\n",
            "src:the following error handlers are only applicable to text encodings :\n",
            "trg:以下 错误处理 方案 仅 适用 于 文本 编码 :\n",
            "pred:在 只 的 的 的 的 文本 只 的 文本\n",
            "\n",
            "src:implements <unk> <unk> where <unk> is the index of name in <unk>\n",
            "trg:实现 \" tos . name tos1 \" ， 其中 namei 是 name 在 \" co _ names \" 中 的 索引 号\n",
            "pred:\" \" \" \" \" \" \" \" \" \" \" \" \" \" \" \"\n",
            "\n",
            "src:new in version 3.5.\n",
            "trg:3.5 新版 功能 .\n",
            "pred:3.5 新版 功能 .\n",
            "\n",
            "src:deprecated since version 3.9: deprecated in favor of \"status\".\n",
            "trg:3.9 版后 已 移除 : deprecated in favor of \" status \" .\n",
            "pred:3.9 版后 已 移除 : deprecated in favor of \" status .\n",
            "\n",
            "src:the same as <unk>\n",
            "trg:与 \" self . date ( ) . toordinal ( ) \" 相同\n",
            "pred:\" \" \" \" \" \" \" 相同 相同 相同\n",
            "\n",
            "src:bpo <unk> fix <unk> check <unk> for files containing <unk> <unk>\n",
            "trg:bpo <unk> : 为 包含 \" include \" 指令 的 文件 修复 \" setup . py check <unk> \"\n",
            "pred:bpo <unk> : 修复 了 <unk> : <unk> <unk> <unk> . <unk> <unk> <unk> <unk> <unk> <unk>\n",
            "\n",
            "src:<unk> <unk> <unk> <unk> performs an operation on all the <unk> elements and, therefore, can't be applied to infinite iterables\n",
            "trg:\" functools . reduce ( func , iter , [ <unk> _ value ] ) \" 持续 地 在 可 迭代 对象 的 所有 元素 上 执行 操作 ， 因此 它 不 能够 用 在 无限 的 可 迭代 对象 上\n",
            "pred:在 <unk> <unk> \" \" \" ， \" ， ， ， ， ， 所有 的 的 的\n",
            "\n",
            "src:the <unk> protocol is added to the python/c api\n",
            "trg:将 the vectorcall protocol 添加 到 python / c api\n",
            "pred:\" \" \" \" \" \" \" \" \" api 的\n",
            "\n",
            "src:if <unk> is true, <unk> are represented by <unk> instead of <unk>\n",
            "trg:如果 <unk> 为 真值 ， <unk> \" ' ` ' \" 而 不是 空格 来 表示\n",
            "pred:如果 <unk> 是 <unk> <unk> ， ， <unk> <unk> <unk> \" ) \"\n",
            "\n",
            "src:an example of passing some arguments to an external program as a sequence is:\n",
            "trg:向 外部 函数 传入 序列 <unk> 的 一个 例子 如下 :\n",
            "pred:一个 序列 一个 序列 的 的 的 的 的 的\n",
            "\n",
            "src:\"email\" an email and mime handling package\n",
            "trg:\" email \" 电子邮件 与 mime 处理 包\n",
            "pred:\" \" \" \" 电子邮件 \" 包 \" 包\n",
            "\n",
            "src:choice of these names is entirely up to the developer who is using <unk>\n",
            "trg:这些 名称 的 选择 完全 取决于 使用 logging 的 开发者\n",
            "pred:使用 是 的 的 的 的 的 的 的\n",
            "\n",
            "src:there are special cases for strings where all code points are below <unk> <unk> or <unk> otherwise, code points must be below <unk> (which is the full unicode <unk>\n",
            "trg:对于 所有 代码 点 都 <unk> 128 、 256 或 <unk> 的 字符串 ， 有 一些 特殊 情况 ； 否则 ， 代码 点 必须 <unk> <unk> （ 这是 完整 的 unicode 范围 ）\n",
            "pred:对于 是 的 的 的 的 的 的 的 的 的 的 的 的 的 的 的 的 的 的 的 的 的 的\n",
            "\n",
            "src:changed in version 3.5: <unk> parameter was added.\n",
            "trg:在 3.5 版 更改 : 添加 allow _ <unk> 参数\n",
            "pred:在 3.5 版 更改 : added the parameter was parameter was parameter\n",
            "\n",
            "src:the call to \"basicconfig()\" should come before any calls to \"debug()\", <unk> etc\n",
            "trg:对 \" basicconfig ( ) \" 的 调用 应该 在 \" debug ( ) \" ， \" info ( ) \" 等 的 前面\n",
            "pred:将 调用 调用 \" 调用 ( 调用 ( 调用 ( 调用 ) ( \" ) ( \" ) \"\n",
            "\n",
            "src:when this module is run as a script, the <unk> is used to compile all the files named on the command line\n",
            "trg:当 此 模块 作为 脚本 运行 时 ， 会 使用 \" main ( ) \" 来 编译 命令行 中 指定 的 所有 文件\n",
            "pred:此 命令行 与 命令行 与 命令行 与 命令行 与 命令行 选项 命令行 line 命令行 line\n",
            "\n",
            "src:\"decimal\" decimal fixed point and floating point arithmetic\n",
            "trg:\" decimal \" 十进制 定点 和 浮点运算\n",
            "pred:\" \" \" \" \" \"\n",
            "\n",
            "src:incremental codecs can maintain state.\n",
            "trg:增量 式 编解码器 可以 保持 状态\n",
            "pred:获取 <unk> 屏幕 的\n",
            "\n",
            "src:an easy way in which you can pass contextual information to be output along with logging event information is to use the <unk> class\n",
            "trg:一个 传递 上下文 信息 和 日志 事件 信息 的 简单 办法 是 使用 类 \" loggeradapter \"\n",
            "pred:使用 使用 使用 使用 使用 的 使用 使用 使用 的 的 的 的 使用 使用 使用 的 的 的 的\n",
            "\n",
            "src:terms and conditions for accessing or otherwise using python\n",
            "trg:获取 或 以 其他 方式 使用 python 的 <unk> 和 条件\n",
            "pred:python python python 的 或 、 和 python 或\n",
            "\n",
            "src:if <unk> is \"true\", calls to \"write()\" are guaranteed not to be <unk> any data written on the <unk> object is immediately handled to its underlying binary buffer .\n",
            "trg:如果 write _ through 为 \" true \" ， 对 \" write ( ) \" 的 调用 会 确保 不 被 缓冲 ： 在 \" textiowrapper \" 对象 上 写入 的 任何 数据 会 立即 <unk> 其 下层 的 buffer 来 处理\n",
            "pred:如果 未 为 \" \" \" \" \" \" \" \" \" \" ， \" \" 将 \" 将 \" 将 \" 将 \" 将 \" 将 \"\n",
            "\n",
            "src:when these bytes are read by a cpu with a different <unk> then bytes have to be <unk> though\n",
            "trg:当 这些 字节 被 具有 不同 字节 顺序 的 cpu 读取 时 ， 则 必须 进行 字节 <unk>\n",
            "pred:当 一个 为 \" 的 的 的 ， ， ， 的 的 ， 的 的 的 的 的 的\n",
            "\n",
            "src:<unk> traceback manager for cgi scripts\n",
            "trg:\" <unk> \" 用于 cgi 脚本 的 回溯 管理器\n",
            "pred:\" \" \" \" \" \" \" \" \" 的 的\n",
            "\n",
            "src:base class for all other \"configparser\" exceptions.\n",
            "trg:所有 其他 \" configparser \" 异常 的 基类\n",
            "pred:所有 其他 \" \" 的 的 的 的\n",
            "\n",
            "src:changed in version 3.3: connection objects themselves can now be <unk> between processes using <unk> and <unk>\n",
            "trg:在 3.3 版 更改 : 现在 连接 对象 自身 可以 通过 \" connection . send ( ) \" 和 \" connection . recv ( ) \" 在 进程 之间 传递\n",
            "pred:在 3.3 版 更改 : 在 3.3 版 更改 : \" \" \" \" \" \" \" \" \" \" \" \" \"\n",
            "\n",
            "src:using <unk> to watch an fd for read events.\n",
            "trg:使用 add _ reader ( ) <unk> fd ( 文件 描述符 ) 的 读取 事件 .\n",
            "pred:\" \" \" \" \" \" \" \" \" \" \"\n",
            "\n",
            "src:<unk> section in <unk> corrupted\n",
            "trg:a . out 中 的 . lib 部分 已损坏\n",
            "pred:<unk> <unk> <unk> <unk> <unk> <unk> 中 贡献\n",
            "\n",
            "src:arrays are sequence types and behave very much like lists, except that the type of objects stored in them is constrained\n",
            "trg:数组 属于 序列 类型 ， 其 行为 与 列表 非常 相似 ， 不同之处 在于 其中 存储 的 对象 类型 是 受限 的\n",
            "pred:虽然 是 类型 是 类型 的 类型 类型 的 类型 的 类型 的 类型 的 类型 的 类型 的\n",
            "\n",
            "src:if you're matching a fixed string, or a single character class, and you're not using any \"re\" features such as the <unk> <unk> then the full power of regular expressions may not be required\n",
            "trg:如果 你 匹配 固定 字符串 或 单个 字符 类 ， 并且 你 没有 使用 任何 \" re \" 功能 ， 例如 \" <unk> \" 标志 ， 那么 正则表达式 的 全部 功能 可能 不是 必需 的\n",
            "pred:如果 一个 的 的 的 ， ， ， ， ， ， ， ， ， ， ， ， ， 的 的 的 的 的 的 的 的\n",
            "\n",
            "src:indicates the format that the module uses\n",
            "trg:指明 模块 所 使用 的 格式\n",
            "pred:模块 模块 的 模块\n",
            "\n",
            "src:the remaining arguments must be integers in the following <unk>\n",
            "trg:其余 的 参数 必须 是 在 下面 范围 内 的 整数 ：\n",
            "pred:必须 必须 必须 必须 必须 的 必须 :\n",
            "\n",
            "src:new in version 3.8.\n",
            "trg:3.8 新版 功能 .\n",
            "pred:3.8 新版 功能 .\n",
            "\n",
            "src:if the <unk> fails, the original bytes object at bytes is <unk> bytes is set to \"null\", <unk> is set, and \" 1\" is returned.\n",
            "trg:如果 <unk> 失败 ， 则 bytes 上 的 原 字节 串 对象 将 被 撤销 分配 ， bytes 会 被 设为 \" null \" ， 同时 设置 \" <unk> \" 并 返回 \" 1 \"\n",
            "pred:如果 \" \" \" \" \" \" \" \" \" \" \" \" \" \" \" \" \" \" \" \" \" \" \" \" \" \"\n",
            "\n",
            "src:however, there is nothing in python that tells the interpreter this\n",
            "trg:然而 ， python 中 并 没有 告诉 解释器 这 一点\n",
            "pred:在 解释器 解释器 解释器 解释器 ， 解释器 解释器 解释器\n",
            "\n",
            "src:new in version 3.5.\n",
            "trg:3.5 新版 功能 .\n",
            "pred:3.5 新版 功能 .\n",
            "\n",
            "src:the binary and text transforms provided in the standard library are detailed in binary transforms and text <unk>\n",
            "trg:the binary and text <unk> <unk> in the standard library are <unk> in 二进制 转换 and 文字 转换 .\n",
            "pred:文本 i 的 文本 二进制 的 文本 二进制 的 文本 二进制 的 文本\n",
            "\n",
            "src:where \"/\" and \" \" are optional\n",
            "trg:在 这里 \" / \" 和 \" \" 是 可选 的\n",
            "pred:\" \" \" \" \" \" \"\n",
            "\n",
            "src:an aware object represents a specific <unk> in time that is not open to interpretation\n",
            "trg:感知 型 对象 是 用来 表示 一个 没有 解释 空间 的 固定 时间 点\n",
            "pred:\" \" \" \" \" \" \" \" \" \" 对象 一个 对象 的 对象\n",
            "\n",
            "src:execute the python code in command\n",
            "trg:执行 command 中 的 python 代码\n",
            "pred:在 python 中 中 命令\n",
            "\n",
            "src:protocol family not supported\n",
            "trg:协议 <unk> 不受 支持\n",
            "pred:支持 支持 支持 支持\n",
            "\n",
            "src:writing and reading a bzip2 compressed file in binary mode:\n",
            "trg:用 二进制 模式 写入 和 读取 bzip2 压缩文件 ：\n",
            "pred:二进制 二进制 文件 二进制 的 二进制 二进制 的\n",
            "\n",
            "src:lbyl look before you leap\n",
            "trg:lbyl “ 先 查看 后 <unk> ” 的 <unk> 缩写\n",
            "pred:你 你 的 你 的\n",
            "\n",
            "src:return true if p is a dict object or an instance of a subtype of the dict type.\n",
            "trg:如果 p 是 字典 对象 或者 字典 类型 的 子 类型 的 实例 ， 则 返回 真\n",
            "pred:如果 o 是 \" \" \" \" \" \" \" 返回 一个 \" \" \" \"\n",
            "\n",
            "src:all the variables below are simply symbolic <unk> into the 10 tuple returned by <unk> <unk> or <unk>\n",
            "trg:以下 所有 变量 是 一些 简单 的 符号 索引 ， 用于 访问 \" os . stat ( ) \" , \" os . <unk> ( ) \" 或 \" os . <unk> ( ) \" 所 返回 的 10 条目 元组\n",
            "pred:所有 start 的 的 的 的 \" ( \" ( \" ( \" ( \" ( \" ( \" \" \" \" \" \" \" \"\n",
            "\n",
            "src:better to inherit than <unk>\n",
            "trg:继承 <unk> 序列化 、 反 序列化\n",
            "pred:<unk> <unk> <unk> \" \" \" \" \"\n",
            "\n",
            "src:package <unk> third party library with expanded time zone and parsing support.\n",
            "trg:<unk> 包 具有 扩展 时区 和 解析 支持 的 第三方 库\n",
            "pred:\" \" \" \" \" 和 \" 和 和 的 的 的\n",
            "\n",
            "src:the \"pass\" statement does nothing\n",
            "trg:\" pass \" 语句 什么 也 不 做\n",
            "pred:\" \" \" \" \"\n",
            "\n",
            "src:declares that function should be used as a <unk> function for objects of type type\n",
            "trg:声明 该 function 应当 被 用作 type 类型 对象 的 “ <unk> 函数 ”\n",
            "pred:\" 类型 类型 类型 的 类型 类型 类型 的 类型 类型 类型\n",
            "\n",
            "src:if no maps are specified, a single empty dictionary is provided so that a new chain always has at least one mapping.\n",
            "trg:如果 没有 <unk> 被 指定 ， 就 提供 一个 默认 的 空 字典 ， 这样 一个 <unk> 至少 有 一个 映射\n",
            "pred:如果 一个 新 的 ， ， ， ， ， ， ， ， ， ， ，\n",
            "\n",
            "src:pep 420 implicit namespace packages\n",
            "trg:pep 420 隐式 命名 空间 包\n",
            "pred:pep 空间 : 整型 \" 空间 包 空间\n",
            "\n",
            "src:another advantage is that strings in python are considered as <unk> as numbers\n",
            "trg:另 一个 优点 是 ， python 中 的 字符串 被 视为 与 数字 一样 “ 基本 ”\n",
            "pred:python 是 是 的 是 的 的 的 的 的 的\n",
            "\n",
            "src:here is what is <unk>\n",
            "trg:<unk> 情况 如下 ：\n",
            "pred:这是 是 是 是 是 ：\n",
            "\n",
            "src:new in version 3.2.\n",
            "trg:3.2 新版 功能 .\n",
            "pred:3.2 新版 功能 .\n",
            "\n",
            "src:\"classvar\" does not change python runtime behavior, but it can be used by third party type <unk>\n",
            "trg:\" classvar \" 并 不 改变 python 运行 时 行为 ， 但 它 可以 被 用于 第三方 类型 检查 器\n",
            "pred:虽然 可以 通过 通过 通过 通过 可以 通过 的 ， 但 但 但 的 但 的 但\n",
            "\n",
            "src:the \"__loader__\" attribute must be set to the loader object that the import machinery used when loading the module\n",
            "trg:\" __ loader __ \" 属性 必须 被 设为 导入 系统 在 加载 模块 时 使用 的 加载 器 对象\n",
            "pred:\" \" \" \" \" \" \" \" \" \" 模块 \" 模块 的 模块 的\n",
            "\n",
            "src:the hard coded values <unk> and <unk>\n",
            "trg:硬 编码 的 值 \" utc \" 和 \" <unk> \"\n",
            "pred:值 和 值 和 值 和 值 和 值 和 值 和 值\n",
            "\n",
            "src:set n to 10 for <unk>\n",
            "trg:将 n 设 为 10 以 使用 十分 位\n",
            "pred:设置 n 设 设 设 10 10 10\n",
            "\n",
            "src:plus corresponds to the unary prefix plus operator in python\n",
            "trg:对应 于 python 中 的 单 目前 <unk> <unk> 运算符 执行 <unk> 操作\n",
            "pred:在 python 的 中 的 中 的 的 的 的 的\n",
            "\n",
            "src:under windows, this gives you the native windows error code\n",
            "trg:在 windows 下 ， 此参数 将 给出 原生 的 windows 错误码\n",
            "pred:你 你 在 代码 的 代码 的 代码 的 错误\n",
            "\n",
            "src:you can try to display text with multiple attribute bits set, but curses doesn't guarantee that all the possible combinations are available, or that they're all <unk> distinct\n",
            "trg:你 可以 尝试 以 多种 不 属性 位 组合 来 显示 文本 ， 但 curses 不 保证 所有 的 组合 都 是 有效 的 ， 或者 <unk> 有 明显 不同\n",
            "pred:所有 所有 所有 所有 所有 所有 所有 ， ， ， ， ， ， ， 所有 ， ， \" ， \" \" \" \" \" \" \"\n",
            "\n",
            "src:all examples assume a native byte order, size, and alignment with a big endian <unk>\n",
            "trg:所有 示例 都 假定 使用 <unk> 大 端 机器 的 <unk> 字节 顺序 、 大小 和 对齐 方式\n",
            "pred:所有 一个 的 的 的 的 的 的 的 的 的 的 的 的 的 的\n",
            "\n",
            "src:the structure has three <unk>\n",
            "trg:这个 结构 <unk> 三个 字 段 ：\n",
            "pred:有 三个 三个 三个 :\n",
            "\n",
            "src:return a <unk> object with an <unk> fixed offset represented by the offset argument.\n",
            "trg:返回 一个 \" datetime . timezone \" 对象 ， 该 对象 具有 以 offset 参数 表示 的 <unk> 固定 时差\n",
            "pred:返回 一个 对象 对象 对象 的 对象 的 对象 的 对象 的 对象 的 对象\n",
            "\n",
            "src:<unk> <unk> <unk> go to <unk> of file\n",
            "trg:\" c home \" / \" c end \" 跳转 到 文档 <unk> / <unk>\n",
            "pred:文件 文件 文件 文件 \" 文件 文件 文件 文件 文件\n",
            "\n",
            "src:<unk> is an up and <unk> compiler of python into c++ code, <unk> to support the full python language\n",
            "trg:<unk> 是 一个 将 python <unk> c++ 代码 的 <unk> 编译器 ， 旨在 支持 完整 的 python 语言\n",
            "pred:python python python python 的 的 的 python 的 的 的 的 的 的 python python python\n",
            "\n",
            "src:the <unk> exception can be raised in your extension module using a call to <unk> as shown <unk>\n",
            "trg:\" spam . error \" 异常 可以 在 扩展 模块 中 抛出 ， 通过 \" pyerr _ <unk> ( ) \" 函数调用 ， 如下 ：\n",
            "pred:\" \" \" \" \" \" \" \" \" \" \" \" \" \" \" \" \" \" \" \" \" \" \" \" \" \" \"\n",
            "\n",
            "src:this method, and others that <unk> call this method, raises an auditing event <unk> with argument <unk>\n",
            "trg:引发 一个 审计 事件 \" ctypes . <unk> \" ， 附带 参数 \" address \"\n",
            "pred:这 方法 \" \" \" \" \" \" \" \" \" \" \" \" \" \" \" \" \" \" \" \" \" \" \" \" \"\n",
            "\n",
            "src:this is a class for comparing sequences of lines of text, and producing human readable differences or <unk>\n",
            "trg:这个 类 的 作用 是 比较 由 文本 行 组成 的 序列 ， 并 产生 <unk> 人 阅读 的 差异 或 增量 信息\n",
            "pred:对于 的 的 的 的 的 的 的 的 的 的 的 的 的 的 的 的 的\n",
            "\n",
            "src:to help <unk> modules and provide a naming hierarchy, python has a concept of packages .\n",
            "trg:为了 帮助 组织 模块 并 提供 名称 层次结构 ， python 还 引入 了 包 的 概念\n",
            "pred:\" \" \" \" 的 的 的 的 的 的 的\n",
            "\n",
            "src:thus, calling <unk> with keyword arguments would lead to an error:\n",
            "trg:因此 ， 附带 关键字 参数 调用 \" divmod ( ) \" 将会 导致 报错 :\n",
            "pred:\" \" \" \" \" \" \" \" \" \" \" \" \" \" \" \" \" 参数 \" \" \"\n",
            "\n",
            "src:however, in some cases it is <unk> to force a type to be formatted as a string, overriding its own definition of formatting\n",
            "trg:但是 ， 在 某些 情况 下 最好 强制 将 类型 格式化 为 一个 字符串 ， 覆盖 其 本身 的 格式化 定义\n",
            "pred:在 ， ， ， ， 的 的 ， ， ， 的 的 的 的 的 的\n",
            "\n",
            "src:the first occurrence of a <unk> substring on a line is considered a delimiter\n",
            "trg:在 一行 中 首次 出现 的 分隔 子 字符串 会 被 视为 一个 分隔符\n",
            "pred:在 <unk> 是 一个 是 <unk> ， 的 的 的 的\n",
            "\n",
            "src:changed in version 3.5: added the two tuple form for the address constructor parameter.\n",
            "trg:在 3.5 版 更改 : added the two tuple form for the address constructor parameter .\n",
            "pred:在 3.5 版 更改 : the the the the the the the the <unk> the\n",
            "\n",
            "src:changed in version 3.9: the errors parameter was added.\n",
            "trg:在 3.9 版 更改 : 增加 了 errors 形参\n",
            "pred:在 3.9 版 更改 : the was 形参 形参\n",
            "\n",
            "src:passing <unk> as <unk> \" indicates that description and <unk> are already correctly formatted and should not be line <unk>\n",
            "trg:<unk> \" <unk> \" 给 \" formatter _ class \" 表示 description 和 <unk> 已经 被 正确 的 格式化 了 ， 不能 在 命令行 中 被 自动 换行 :\n",
            "pred:（ <unk> <unk> <unk> <unk> <unk> <unk> <unk> ， ， ， <unk> <unk> <unk> <unk> <unk> <unk> <unk> <unk> <unk>\n",
            "\n",
            "src:note also that updating <unk> will render this dictionary <unk>\n",
            "trg:还要 注意 更新 \" os . <unk> \" 将 导致 此 字典 失效\n",
            "pred:这 字典 显示 ， 字典 的 的 的 的\n",
            "\n",
            "src:the default \"tzpath\" when not otherwise specified can be configured at compile time.\n",
            "trg:默认 的 \" tzpath \" 未 通过 其他 方式 指定 时 可 在 编译 时 进行 配置\n",
            "pred:当 在 ， ， ， ， ， ， ， ， ， \" \"\n",
            "\n",
            "src:if <unk> is false and <unk> is true, each tab character will be replaced by a single space, which is not the same as tab <unk>\n",
            "trg:如果 \" <unk> _ <unk> \" 为 假值 且 \" replace _ whitespace \" 为 真值 ， 每个 制表符 将 被 替换 为 单个 空格 ， 这 与 制表符 扩展 是 不 一样 的\n",
            "pred:如果 <unk> 为 \" 为 \" ， \" ， ， \" ， \" ， \" ， \" \" \" \" \" \" \"\n",
            "\n",
            "src:there are also bindings to <unk>\n",
            "trg:此外 也 有 对 <unk> 的 绑定\n",
            "pred:这 也 是 的 的 的\n",
            "\n",
            "src:status code returned by <unk>\n",
            "trg:由 <unk> 的 状态 码\n",
            "pred:由 由 由 由 \" 由 \" \"\n",
            "\n",
            "src:most extensions of the distutils are made within \"setup.py\" scripts that want to modify existing <unk> many simply add a few file extensions that should be copied into packages in addition to \".py\" files as a <unk>\n",
            "trg:distutils 的 大多数 扩展 都 在 想要 修改 现有 命令 的 \" setup . py \" 脚本 中 编写 ； 其中 许多 只是 简单 地 在 \" . py \" 文件 以外 添加 了 一些 应当 被 拷贝到 包中 的 文件 后缀 以便 使用\n",
            "pred:这 在 ， 的 的 的 的 的 的 的 ， ， 的 的 的 的 ， 的 的 的 的 的 的 的 的 的\n",
            "\n",
            "src:the input source can be given as a string, a file like object, or an <unk> object; parsers will use this function to implement the <unk> source argument to their \"parse()\" method.\n",
            "trg:输入 源 的 给出 形式 可以 为 字符串 、 文件 类 对象 或 \" <unk> \" 对象 ； 解析器 将 使用 此 函数 来 针对 它们 的 \" parse ( ) \" 方法 实现 <unk> source 参数\n",
            "pred:此 函数 \" \" \" \" \" \" \" \" \" \" \" \" \" \" \" \" \" \" \" \" \" \" 的 的 的 的 的 的 的 的\n",
            "\n",
            "src:two common operations on an iterator's output are 1) performing some operation for every element, <unk> selecting a subset of elements that meet some condition\n",
            "trg:迭代 器 的 输出 有 两个 很 常见 的 使用 方式 ， 1 ) 对 每 一个 元素 执行 操作 ， 2 ) 选择 一个 <unk> 的 元素 子集\n",
            "pred:对于 某些 的 的 的 ， ， ， ， ， ， ， 的 的 的 ， ， 的 的 的 的 的\n",
            "\n",
            "src:<unk> call <unk> <unk> <unk> <unk>\n",
            "trg:<unk> call <unk> ( <unk> ) 过滤器 ： \" filter _ <unk> \"\n",
            "pred:<unk> <unk> <unk> <unk> , <unk> , <unk> , <unk> , <unk> , \"\n",
            "\n",
            "src:the module defines the following functions:\n",
            "trg:这个 模块 定义 了 以下 函数 ：\n",
            "pred:\" 定义 了 定义 ： ：\n",
            "\n",
            "src:some way of <unk> <unk> <unk> would be <unk> the <unk> variable is not <unk>\n",
            "trg:一些 可靠 地 检测 <unk> 的 方法 会 很 好 ； 仅 检查 \" <unk> \" 变量 是 不够 的\n",
            "pred:<unk> <unk> <unk> <unk> <unk> <unk> <unk> <unk> <unk> <unk> <unk> <unk> <unk> <unk> <unk> <unk>\n",
            "\n",
            "src:<unk> is also a context manager and therefore supports the \"with\" statement\n",
            "trg:\" iobase \" 也 是 一个 上下文 管理器 ， 因此 支持 \" with \" 语句\n",
            "pred:\" \" \" \" \" \" \" with \" with \" with \" with \" with\n",
            "\n",
            "src:return the negation of the argument\n",
            "trg:回到 参数 的 <unk>\n",
            "pred:返回 参数 的 参数\n",
            "\n",
            "src:\"random\" generate pseudo random numbers\n",
            "trg:\" random \" 生成 伪 随机数\n",
            "pred:\" 随机 生成 数字\n",
            "\n",
            "src:return a new instance method object, with func being any callable object func is the function that will be called when the instance method is called.\n",
            "trg:返回 一个 新 的 实例 方法 对象 ， func 应为 任意 可 调用 对象 ， func 将 在 实例 方法 被 调用 时 作为 函数 被 调用\n",
            "pred:当 一个 新 的 实例 的 实例 的 实例 \" 实例 \" 实例 \" 实例 \" 实例 \" 实例 \" 实例 的 实例 的\n",
            "\n",
            "src:new in version 3.7.\n",
            "trg:3.7 新版 功能 .\n",
            "pred:3.7 新版 功能 .\n",
            "\n",
            "src:<unk> : \"true\" if the clock can be changed automatically (e.g. by a <unk> <unk> or manually by the system <unk> \"false\" otherwise\n",
            "trg:<unk> ： 如果 时钟 可以 自动 更改 （ 例如 通过 <unk> 守护 程序 ） 或 由 系统管理员 手动 更改 ， 则 为 \" true \" ， 否则 为 \" false \"\n",
            "pred:如果 \" \" \" \" \" \" \" \" \" \" \" \" \" \" \" \" \" \" \" \" \" \" \" \" \" \" \" \" \" \" \" \" \" \" \"\n",
            "\n",
            "src:if it is a string, the string is parsed as a suite of python statements which is then executed (unless a syntax error <unk>\n",
            "trg:如果 是 字符串 ， 那么 该 字符串 将 被 解析 为 一系列 python 语句 并 执行 （ 除非 发生 语法错误 ）\n",
            "pred:如果 一个 是 的 的 的 ， ， 的 的 的 的 的 的 的\n",
            "\n",
            "src:the instance will be used as global state for the functions of this module, and is also returned to use during iteration\n",
            "trg:该 实例 将 被 用作 此 模块 中 函数 的 全局 状态 ， 并且 还 将 在 迭代 期间 被 返回 使用\n",
            "pred:此 方法 用于 的 用于 的 用于 的 用于 的 的 的 的 的 的 的 的 的\n",
            "\n",
            "src:this method is useful for finding rational <unk> to a given floating point <unk>\n",
            "trg:此 方法 适用 于 找出 给定 浮点数 的 <unk> 近似值 ：\n",
            "pred:这是 一个 的 的 的 的 的 的 的 的 <unk> <unk> \"\n",
            "\n",
            "src:packs a fixed length string, s\n",
            "trg:打包 固定 长度 字符串 s\n",
            "pred:返回 一个 的 的 的\n",
            "\n",
            "src:using those functions, the above examples become simpler and <unk>\n",
            "trg:使用 这些 函数 ， 上述 示例 变得 更 简单 ， 更 快捷 ：\n",
            "pred:\" \" \" \" \" \" \" \" \" \" \" \" \" \" \" \" \"\n",
            "\n",
            "src:unless explicitly <unk> these functions support \"int\", \"float\", \"decimal\" and \"fraction\"\n",
            "trg:除非 明确 注释 ， 这些 函数 支持 \" int \" ， \" float \" ， \" decimal \" 和 \" fraction \"\n",
            "pred:\" \" \" \" \" \" \" \" \" \" \" \" \" \" \" \"\n",
            "\n",
            "src:the argument to <unk> is wrapped in calls to \"open()\", <unk> and <unk>\n",
            "trg:\" <unk> ( ) \" 的 <unk> 参会 使用 \" open ( ) \" ， \" compile ( ) \" 和 \" exec ( ) \" 包装\n",
            "pred:参数 \" \" \" \" \" \" \" \" \" \" \" \" \" \" \" \" \"\n",
            "\n",
            "src:macros to extract fields from time delta objects\n",
            "trg:一些 用来 从 timedelta 对象 中 提取 字段 的 宏\n",
            "pred:从 用来 从 用来 从 对象 提取 字段 提取\n",
            "\n",
            "src:for loggers other than the root <unk> some additional information is required\n",
            "trg:对于 根 日志 记录器 以外 的 日志 记录器 ， 还 需要 某些 附加 信息\n",
            "pred:对于 信息 其他 对于 ， 信息 信息 信息 信息 信息 信息 信息 信息 信息\n",
            "\n",
            "src:the default message can be overridden with the <unk> \" keyword argument:\n",
            "trg:可以 通过 \" usage \" 关键字 参数 覆盖 这一 默认 消息 ：\n",
            "pred:\" \" \" \" \" \" \" \" \" \" \" \" \" \"\n",
            "\n",
            "src:some semantics have changed since the writing of this document (e.g. redirecting based on \"none\" in <unk>\n",
            "trg:<unk> 编写 这个 文档 开始 ， 一些 语义 已经 发生 改变 了 （ 比如 基于 \" sys . modules \" 中 \" none \" 的 重定向 ）\n",
            "pred:在 某些 的 的 的 的 的 ， ， ， \" \" \" \" \" \" \" \" \" \" \" \" \" \" \"\n",
            "\n",
            "src:constructor for a \"streamwriter\" instance.\n",
            "trg:\" streamwriter \" 实例 的 构造 器\n",
            "pred:\" \" \" \" \" \" \" \"\n",
            "\n",
            "src:sequence of operation names, <unk> using the <unk>\n",
            "trg:操作 名称 的 序列 ， 可 使用 字节 <unk> 索引\n",
            "pred:使用 <unk> <unk> 的 的 的 <unk> <unk> <unk>\n",
            "\n",
            "src:if you're trying to build a pathname for a <unk> command, try e.g. one of\n",
            "trg:如果 您 正在 尝试 为 <unk> 命令 构建 路径名 ， 请 尝试 以下 示例\n",
            "pred:如果 一个 一个 的 的 的 ， ， ， 的 的 的 的 的 的\n",
            "\n",
            "src:see also the <unk> method <unk>\n",
            "trg:另 参见 <unk> / turtle 方法 \" <unk> ( ) \"\n",
            "pred:另 请 \" ( \" ( \" ( \" ( \" ) 方法\n",
            "\n",
            "src:added <unk> and its variants\n",
            "trg:添加 了 \" <unk> ( ) \" 及其 变化 形式\n",
            "pred:添加 了 添加 了 添加 了 添加 了 添加 了 添加\n",
            "\n",
            "src:if you have associated levels with names using <unk> then the name you have associated with level is returned\n",
            "trg:如果 你 使用 \" <unk> ( ) \" 将 级别 关联 到 名称 则 会 返回 你 为 level 所 关联 的 名称\n",
            "pred:如果 你 如果 你 的 的 ， ， ， ， ， 的 的 的 的 的 的 的 的\n",
            "\n",
            "src:\"copy\" shallow and deep copy operations\n",
            "trg:\" copy \" 浅层 ( shallow ) 和 深层 ( deep ) 复制 操作\n",
            "pred:\" copy 浅层 \" shallow ( shallow ( shallow ( shallow 深层 深层 deep deep\n",
            "\n",
            "src:after \"f <unk> the call \"f(b)\" returns <unk>\n",
            "trg:在 \" f <unk> ( ' name ' ) \" 之后 ， 调用 \" f ( b ) \" 将 返回 \" b . name \"\n",
            "pred:\" \" \" \" \" \" \" \" \" \" \" \" \" \" \" \" 返回 \" \" \" \" \"\n",
            "\n",
            "src:return \"true\" if the \"tarinfo\" object is a regular file.\n",
            "trg:如果 \" tarinfo \" 对象 为 普通 文件 则 返回 \" true \"\n",
            "pred:如果 对象 是 \" \" 返回 \" \" \" \" \"\n",
            "\n",
            "src:if compact is false (the default) each item of a long sequence will be formatted on a separate line\n",
            "trg:如果 <unk> 为 假值 （ 默认 ） 则 长 序列 的 <unk> 将 被 格式化 为 单独 的 行\n",
            "pred:如果 指定 一个 ， ， ， ， ， ， ， ， ， 的\n",
            "\n",
            "src:python 3.9 <unk> to a peg parser (see pep 617 <unk> and python <unk> may include new language syntax that is not <unk> by <unk> ll(1) parser\n",
            "trg:python 3.9 已 切换 到 peg 解析器 ( 参见 pep 617 ) ， python 3.10 可以 会 包含 lib2to3 的 ll ( 1 ) 解析器 所 不能 解析 的 新 语法\n",
            "pred:python python python python python <unk> <unk> ， ， 的 的 ， ， 的 的 的 的 <unk> <unk> <unk> <unk> <unk> <unk>\n",
            "\n",
            "src:if the optional argument header is present and true, underscore will be decoded as space\n",
            "trg:如果 提供 了 可选 参数 header 且 为 真值 ， 下划线 将 被 解码 为 空格\n",
            "pred:如果 为 为 为 为 为 ， ， ， ， 为 将 为 \"\n",
            "\n",
            "src:new in version 3.2.\n",
            "trg:3.2 新版 功能 .\n",
            "pred:3.2 新版 功能 .\n",
            "\n",
            "src:owner has read <unk>\n",
            "trg:所有者 具有 读取 权限\n",
            "pred:\" 有 \" \" \"\n",
            "\n",
            "src:the function <unk> does not call the c library function <unk> directly, but a function <unk> which would of course do something more complicated in <unk> (such as adding \"spam\" to every <unk>\n",
            "trg:函数 \" spam . system ( ) \" 不会 直接 调用 c 库函数 \" system ( ) \" ， 但 一个 函数 \" <unk> _ system ( ) \" 会 负责 调用 ， 当然 <unk> <unk> 更 复杂 些 ( 例如 添加 \" spam \" 到 每个 命令 )\n",
            "pred:\" 函数 的 函数 的 的 函数 的 的 的 的 的 的 的 的 的 的 的 函数 的 的 的 的 的 的 的 的 的 的 的 的 函数 的\n",
            "\n",
            "src:return a dictionary of the builtins in the current execution frame, or the interpreter of the thread state if no frame is currently executing.\n",
            "trg:返回 当前 执行 帧 中 内置 函数 的 字典 ， 如果 当前 没有 帧 正在 执行 ， 则 返回 线程 状态 的 解释器\n",
            "pred:返回 一个 返回 一个 返回 ， ， ， ， 返回 返回 ， 返回 返回 \"\n",
            "\n",
            "src:many editors and ides provide syntax <unk> debugging tools, and pep 8 <unk>\n",
            "trg:大多数 编辑器 和 集成 开发 环境 支持 语法 <unk> ， 调试 工具 和 pep 8 检查\n",
            "pred:pep <unk> <unk> 和 和 和 和 <unk> 和 <unk> <unk>\n",
            "\n",
            "src:the cython and <unk> libraries offer <unk> over python's c api\n",
            "trg:cython 和 <unk> 库 提供 了 对于 python 的 c api 的 抽象\n",
            "pred:c c api c api c api c api 的 c api\n",
            "\n",
            "src:for integer and pointer types, it is an integer, for character types, it is a single character bytes object or string, for character pointer types it is a python bytes object or string.\n",
            "trg:对于 整数 和 指针 类型 ， 它 是 一个 整数 ， 对于 字符 类型 ， 它 是 一个 单 字符 字符串 对象 或 字符串 ， 对于 字符 指针 类型 ， 它 是 一个 python 字节 串 对象 或 字符串\n",
            "pred:对于 ， python ， ， ， ， ， ， ， ， ， ， ， ， ， ， ， 一个 是 一个 的\n",
            "\n",
            "0.04148472433742347\n"
          ],
          "name": "stdout"
        }
      ]
    },
    {
      "cell_type": "markdown",
      "metadata": {
        "id": "1-xWFayLXrQC"
      },
      "source": [
        "##下载模型"
      ]
    },
    {
      "cell_type": "code",
      "metadata": {
        "id": "XKupufuy4Ji7",
        "colab": {
          "base_uri": "https://localhost:8080/",
          "height": 16
        },
        "outputId": "abe89f36-55a7-4bf5-a570-b908d88e6d01"
      },
      "source": [
        "from google.colab import files\n",
        "\n",
        "for i in range(35):\n",
        "  if i % 5 == 0:\n",
        "    file = f\"model_{i}.pt\"\n",
        "    files.download(file) \n",
        "files.download('model_best.pt') "
      ],
      "execution_count": 21,
      "outputs": [
        {
          "output_type": "display_data",
          "data": {
            "application/javascript": [
              "\n",
              "    async function download(id, filename, size) {\n",
              "      if (!google.colab.kernel.accessAllowed) {\n",
              "        return;\n",
              "      }\n",
              "      const div = document.createElement('div');\n",
              "      const label = document.createElement('label');\n",
              "      label.textContent = `Downloading \"${filename}\": `;\n",
              "      div.appendChild(label);\n",
              "      const progress = document.createElement('progress');\n",
              "      progress.max = size;\n",
              "      div.appendChild(progress);\n",
              "      document.body.appendChild(div);\n",
              "\n",
              "      const buffers = [];\n",
              "      let downloaded = 0;\n",
              "\n",
              "      const channel = await google.colab.kernel.comms.open(id);\n",
              "      // Send a message to notify the kernel that we're ready.\n",
              "      channel.send({})\n",
              "\n",
              "      for await (const message of channel.messages) {\n",
              "        // Send a message to notify the kernel that we're ready.\n",
              "        channel.send({})\n",
              "        if (message.buffers) {\n",
              "          for (const buffer of message.buffers) {\n",
              "            buffers.push(buffer);\n",
              "            downloaded += buffer.byteLength;\n",
              "            progress.value = downloaded;\n",
              "          }\n",
              "        }\n",
              "      }\n",
              "      const blob = new Blob(buffers, {type: 'application/binary'});\n",
              "      const a = document.createElement('a');\n",
              "      a.href = window.URL.createObjectURL(blob);\n",
              "      a.download = filename;\n",
              "      div.appendChild(a);\n",
              "      a.click();\n",
              "      div.remove();\n",
              "    }\n",
              "  "
            ],
            "text/plain": [
              "<IPython.core.display.Javascript object>"
            ]
          },
          "metadata": {
            "tags": []
          }
        },
        {
          "output_type": "display_data",
          "data": {
            "application/javascript": [
              "download(\"download_387baf28-02ec-48ea-96e9-ac52e52879a5\", \"model_0.pt\", 41537284)"
            ],
            "text/plain": [
              "<IPython.core.display.Javascript object>"
            ]
          },
          "metadata": {
            "tags": []
          }
        },
        {
          "output_type": "display_data",
          "data": {
            "application/javascript": [
              "\n",
              "    async function download(id, filename, size) {\n",
              "      if (!google.colab.kernel.accessAllowed) {\n",
              "        return;\n",
              "      }\n",
              "      const div = document.createElement('div');\n",
              "      const label = document.createElement('label');\n",
              "      label.textContent = `Downloading \"${filename}\": `;\n",
              "      div.appendChild(label);\n",
              "      const progress = document.createElement('progress');\n",
              "      progress.max = size;\n",
              "      div.appendChild(progress);\n",
              "      document.body.appendChild(div);\n",
              "\n",
              "      const buffers = [];\n",
              "      let downloaded = 0;\n",
              "\n",
              "      const channel = await google.colab.kernel.comms.open(id);\n",
              "      // Send a message to notify the kernel that we're ready.\n",
              "      channel.send({})\n",
              "\n",
              "      for await (const message of channel.messages) {\n",
              "        // Send a message to notify the kernel that we're ready.\n",
              "        channel.send({})\n",
              "        if (message.buffers) {\n",
              "          for (const buffer of message.buffers) {\n",
              "            buffers.push(buffer);\n",
              "            downloaded += buffer.byteLength;\n",
              "            progress.value = downloaded;\n",
              "          }\n",
              "        }\n",
              "      }\n",
              "      const blob = new Blob(buffers, {type: 'application/binary'});\n",
              "      const a = document.createElement('a');\n",
              "      a.href = window.URL.createObjectURL(blob);\n",
              "      a.download = filename;\n",
              "      div.appendChild(a);\n",
              "      a.click();\n",
              "      div.remove();\n",
              "    }\n",
              "  "
            ],
            "text/plain": [
              "<IPython.core.display.Javascript object>"
            ]
          },
          "metadata": {
            "tags": []
          }
        },
        {
          "output_type": "display_data",
          "data": {
            "application/javascript": [
              "download(\"download_ff91de6b-a062-4288-9922-4ffe45c7d57a\", \"model_5.pt\", 41537284)"
            ],
            "text/plain": [
              "<IPython.core.display.Javascript object>"
            ]
          },
          "metadata": {
            "tags": []
          }
        },
        {
          "output_type": "display_data",
          "data": {
            "application/javascript": [
              "\n",
              "    async function download(id, filename, size) {\n",
              "      if (!google.colab.kernel.accessAllowed) {\n",
              "        return;\n",
              "      }\n",
              "      const div = document.createElement('div');\n",
              "      const label = document.createElement('label');\n",
              "      label.textContent = `Downloading \"${filename}\": `;\n",
              "      div.appendChild(label);\n",
              "      const progress = document.createElement('progress');\n",
              "      progress.max = size;\n",
              "      div.appendChild(progress);\n",
              "      document.body.appendChild(div);\n",
              "\n",
              "      const buffers = [];\n",
              "      let downloaded = 0;\n",
              "\n",
              "      const channel = await google.colab.kernel.comms.open(id);\n",
              "      // Send a message to notify the kernel that we're ready.\n",
              "      channel.send({})\n",
              "\n",
              "      for await (const message of channel.messages) {\n",
              "        // Send a message to notify the kernel that we're ready.\n",
              "        channel.send({})\n",
              "        if (message.buffers) {\n",
              "          for (const buffer of message.buffers) {\n",
              "            buffers.push(buffer);\n",
              "            downloaded += buffer.byteLength;\n",
              "            progress.value = downloaded;\n",
              "          }\n",
              "        }\n",
              "      }\n",
              "      const blob = new Blob(buffers, {type: 'application/binary'});\n",
              "      const a = document.createElement('a');\n",
              "      a.href = window.URL.createObjectURL(blob);\n",
              "      a.download = filename;\n",
              "      div.appendChild(a);\n",
              "      a.click();\n",
              "      div.remove();\n",
              "    }\n",
              "  "
            ],
            "text/plain": [
              "<IPython.core.display.Javascript object>"
            ]
          },
          "metadata": {
            "tags": []
          }
        },
        {
          "output_type": "display_data",
          "data": {
            "application/javascript": [
              "download(\"download_83d040d1-1e58-4de1-b431-22cd5499bb1a\", \"model_10.pt\", 41537284)"
            ],
            "text/plain": [
              "<IPython.core.display.Javascript object>"
            ]
          },
          "metadata": {
            "tags": []
          }
        },
        {
          "output_type": "display_data",
          "data": {
            "application/javascript": [
              "\n",
              "    async function download(id, filename, size) {\n",
              "      if (!google.colab.kernel.accessAllowed) {\n",
              "        return;\n",
              "      }\n",
              "      const div = document.createElement('div');\n",
              "      const label = document.createElement('label');\n",
              "      label.textContent = `Downloading \"${filename}\": `;\n",
              "      div.appendChild(label);\n",
              "      const progress = document.createElement('progress');\n",
              "      progress.max = size;\n",
              "      div.appendChild(progress);\n",
              "      document.body.appendChild(div);\n",
              "\n",
              "      const buffers = [];\n",
              "      let downloaded = 0;\n",
              "\n",
              "      const channel = await google.colab.kernel.comms.open(id);\n",
              "      // Send a message to notify the kernel that we're ready.\n",
              "      channel.send({})\n",
              "\n",
              "      for await (const message of channel.messages) {\n",
              "        // Send a message to notify the kernel that we're ready.\n",
              "        channel.send({})\n",
              "        if (message.buffers) {\n",
              "          for (const buffer of message.buffers) {\n",
              "            buffers.push(buffer);\n",
              "            downloaded += buffer.byteLength;\n",
              "            progress.value = downloaded;\n",
              "          }\n",
              "        }\n",
              "      }\n",
              "      const blob = new Blob(buffers, {type: 'application/binary'});\n",
              "      const a = document.createElement('a');\n",
              "      a.href = window.URL.createObjectURL(blob);\n",
              "      a.download = filename;\n",
              "      div.appendChild(a);\n",
              "      a.click();\n",
              "      div.remove();\n",
              "    }\n",
              "  "
            ],
            "text/plain": [
              "<IPython.core.display.Javascript object>"
            ]
          },
          "metadata": {
            "tags": []
          }
        },
        {
          "output_type": "display_data",
          "data": {
            "application/javascript": [
              "download(\"download_3027c51a-0aa1-4b68-ae56-f05e29e41872\", \"model_15.pt\", 41537284)"
            ],
            "text/plain": [
              "<IPython.core.display.Javascript object>"
            ]
          },
          "metadata": {
            "tags": []
          }
        },
        {
          "output_type": "display_data",
          "data": {
            "application/javascript": [
              "\n",
              "    async function download(id, filename, size) {\n",
              "      if (!google.colab.kernel.accessAllowed) {\n",
              "        return;\n",
              "      }\n",
              "      const div = document.createElement('div');\n",
              "      const label = document.createElement('label');\n",
              "      label.textContent = `Downloading \"${filename}\": `;\n",
              "      div.appendChild(label);\n",
              "      const progress = document.createElement('progress');\n",
              "      progress.max = size;\n",
              "      div.appendChild(progress);\n",
              "      document.body.appendChild(div);\n",
              "\n",
              "      const buffers = [];\n",
              "      let downloaded = 0;\n",
              "\n",
              "      const channel = await google.colab.kernel.comms.open(id);\n",
              "      // Send a message to notify the kernel that we're ready.\n",
              "      channel.send({})\n",
              "\n",
              "      for await (const message of channel.messages) {\n",
              "        // Send a message to notify the kernel that we're ready.\n",
              "        channel.send({})\n",
              "        if (message.buffers) {\n",
              "          for (const buffer of message.buffers) {\n",
              "            buffers.push(buffer);\n",
              "            downloaded += buffer.byteLength;\n",
              "            progress.value = downloaded;\n",
              "          }\n",
              "        }\n",
              "      }\n",
              "      const blob = new Blob(buffers, {type: 'application/binary'});\n",
              "      const a = document.createElement('a');\n",
              "      a.href = window.URL.createObjectURL(blob);\n",
              "      a.download = filename;\n",
              "      div.appendChild(a);\n",
              "      a.click();\n",
              "      div.remove();\n",
              "    }\n",
              "  "
            ],
            "text/plain": [
              "<IPython.core.display.Javascript object>"
            ]
          },
          "metadata": {
            "tags": []
          }
        },
        {
          "output_type": "display_data",
          "data": {
            "application/javascript": [
              "download(\"download_21d9f76a-8115-4a82-96fe-dc1f831710ae\", \"model_20.pt\", 41537284)"
            ],
            "text/plain": [
              "<IPython.core.display.Javascript object>"
            ]
          },
          "metadata": {
            "tags": []
          }
        },
        {
          "output_type": "display_data",
          "data": {
            "application/javascript": [
              "\n",
              "    async function download(id, filename, size) {\n",
              "      if (!google.colab.kernel.accessAllowed) {\n",
              "        return;\n",
              "      }\n",
              "      const div = document.createElement('div');\n",
              "      const label = document.createElement('label');\n",
              "      label.textContent = `Downloading \"${filename}\": `;\n",
              "      div.appendChild(label);\n",
              "      const progress = document.createElement('progress');\n",
              "      progress.max = size;\n",
              "      div.appendChild(progress);\n",
              "      document.body.appendChild(div);\n",
              "\n",
              "      const buffers = [];\n",
              "      let downloaded = 0;\n",
              "\n",
              "      const channel = await google.colab.kernel.comms.open(id);\n",
              "      // Send a message to notify the kernel that we're ready.\n",
              "      channel.send({})\n",
              "\n",
              "      for await (const message of channel.messages) {\n",
              "        // Send a message to notify the kernel that we're ready.\n",
              "        channel.send({})\n",
              "        if (message.buffers) {\n",
              "          for (const buffer of message.buffers) {\n",
              "            buffers.push(buffer);\n",
              "            downloaded += buffer.byteLength;\n",
              "            progress.value = downloaded;\n",
              "          }\n",
              "        }\n",
              "      }\n",
              "      const blob = new Blob(buffers, {type: 'application/binary'});\n",
              "      const a = document.createElement('a');\n",
              "      a.href = window.URL.createObjectURL(blob);\n",
              "      a.download = filename;\n",
              "      div.appendChild(a);\n",
              "      a.click();\n",
              "      div.remove();\n",
              "    }\n",
              "  "
            ],
            "text/plain": [
              "<IPython.core.display.Javascript object>"
            ]
          },
          "metadata": {
            "tags": []
          }
        },
        {
          "output_type": "display_data",
          "data": {
            "application/javascript": [
              "download(\"download_d47f97ff-5013-42b1-97b6-e11b8e12092c\", \"model_25.pt\", 41537284)"
            ],
            "text/plain": [
              "<IPython.core.display.Javascript object>"
            ]
          },
          "metadata": {
            "tags": []
          }
        },
        {
          "output_type": "display_data",
          "data": {
            "application/javascript": [
              "\n",
              "    async function download(id, filename, size) {\n",
              "      if (!google.colab.kernel.accessAllowed) {\n",
              "        return;\n",
              "      }\n",
              "      const div = document.createElement('div');\n",
              "      const label = document.createElement('label');\n",
              "      label.textContent = `Downloading \"${filename}\": `;\n",
              "      div.appendChild(label);\n",
              "      const progress = document.createElement('progress');\n",
              "      progress.max = size;\n",
              "      div.appendChild(progress);\n",
              "      document.body.appendChild(div);\n",
              "\n",
              "      const buffers = [];\n",
              "      let downloaded = 0;\n",
              "\n",
              "      const channel = await google.colab.kernel.comms.open(id);\n",
              "      // Send a message to notify the kernel that we're ready.\n",
              "      channel.send({})\n",
              "\n",
              "      for await (const message of channel.messages) {\n",
              "        // Send a message to notify the kernel that we're ready.\n",
              "        channel.send({})\n",
              "        if (message.buffers) {\n",
              "          for (const buffer of message.buffers) {\n",
              "            buffers.push(buffer);\n",
              "            downloaded += buffer.byteLength;\n",
              "            progress.value = downloaded;\n",
              "          }\n",
              "        }\n",
              "      }\n",
              "      const blob = new Blob(buffers, {type: 'application/binary'});\n",
              "      const a = document.createElement('a');\n",
              "      a.href = window.URL.createObjectURL(blob);\n",
              "      a.download = filename;\n",
              "      div.appendChild(a);\n",
              "      a.click();\n",
              "      div.remove();\n",
              "    }\n",
              "  "
            ],
            "text/plain": [
              "<IPython.core.display.Javascript object>"
            ]
          },
          "metadata": {
            "tags": []
          }
        },
        {
          "output_type": "display_data",
          "data": {
            "application/javascript": [
              "download(\"download_f893bdf8-596b-418b-96a4-93eda4a62d37\", \"model_30.pt\", 41537284)"
            ],
            "text/plain": [
              "<IPython.core.display.Javascript object>"
            ]
          },
          "metadata": {
            "tags": []
          }
        },
        {
          "output_type": "display_data",
          "data": {
            "application/javascript": [
              "\n",
              "    async function download(id, filename, size) {\n",
              "      if (!google.colab.kernel.accessAllowed) {\n",
              "        return;\n",
              "      }\n",
              "      const div = document.createElement('div');\n",
              "      const label = document.createElement('label');\n",
              "      label.textContent = `Downloading \"${filename}\": `;\n",
              "      div.appendChild(label);\n",
              "      const progress = document.createElement('progress');\n",
              "      progress.max = size;\n",
              "      div.appendChild(progress);\n",
              "      document.body.appendChild(div);\n",
              "\n",
              "      const buffers = [];\n",
              "      let downloaded = 0;\n",
              "\n",
              "      const channel = await google.colab.kernel.comms.open(id);\n",
              "      // Send a message to notify the kernel that we're ready.\n",
              "      channel.send({})\n",
              "\n",
              "      for await (const message of channel.messages) {\n",
              "        // Send a message to notify the kernel that we're ready.\n",
              "        channel.send({})\n",
              "        if (message.buffers) {\n",
              "          for (const buffer of message.buffers) {\n",
              "            buffers.push(buffer);\n",
              "            downloaded += buffer.byteLength;\n",
              "            progress.value = downloaded;\n",
              "          }\n",
              "        }\n",
              "      }\n",
              "      const blob = new Blob(buffers, {type: 'application/binary'});\n",
              "      const a = document.createElement('a');\n",
              "      a.href = window.URL.createObjectURL(blob);\n",
              "      a.download = filename;\n",
              "      div.appendChild(a);\n",
              "      a.click();\n",
              "      div.remove();\n",
              "    }\n",
              "  "
            ],
            "text/plain": [
              "<IPython.core.display.Javascript object>"
            ]
          },
          "metadata": {
            "tags": []
          }
        },
        {
          "output_type": "display_data",
          "data": {
            "application/javascript": [
              "download(\"download_cebd89f4-2588-45b8-90f9-fec3163b733a\", \"model_best.pt\", 41537284)"
            ],
            "text/plain": [
              "<IPython.core.display.Javascript object>"
            ]
          },
          "metadata": {
            "tags": []
          }
        }
      ]
    },
    {
      "cell_type": "markdown",
      "metadata": {
        "id": "uxN1ecaijc7o"
      },
      "source": [
        "## 其他结果"
      ]
    },
    {
      "cell_type": "code",
      "metadata": {
        "colab": {
          "base_uri": "https://localhost:8080/"
        },
        "id": "dy3CK34fekf5",
        "outputId": "c974faee-f704-440e-cc71-09d6ce9bd3c0"
      },
      "source": [
        "## 开始训练 BATCH_SIZE = 256, HID = 256, MAX_LEN = 256, dropout = 0.1, epoch = 20\n",
        "train(dataloader, model, model_output_path= MODEL_PATH)"
      ],
      "execution_count": null,
      "outputs": [
        {
          "output_type": "stream",
          "text": [
            "\r  0%|          | 0/46 [00:00<?, ?it/s]"
          ],
          "name": "stderr"
        },
        {
          "output_type": "stream",
          "text": [
            "Start training...\n"
          ],
          "name": "stdout"
        },
        {
          "output_type": "stream",
          "text": [
            "100%|██████████| 46/46 [00:22<00:00,  2.08it/s]\n",
            "Building prefix dict from the default dictionary ...\n",
            "Loading model from cache /tmp/jieba.cache\n",
            "Loading model cost 0.704 seconds.\n",
            "Prefix dict has been built successfully.\n"
          ],
          "name": "stderr"
        },
        {
          "output_type": "stream",
          "text": [
            "Best BLEU: 0.005 | Best Loss:2.537 |  Epoch: 0 |  BLeu： 0.005 | Loss:2.5374787747859955\n"
          ],
          "name": "stdout"
        },
        {
          "output_type": "stream",
          "text": [
            "100%|██████████| 46/46 [00:21<00:00,  2.13it/s]\n"
          ],
          "name": "stderr"
        },
        {
          "output_type": "stream",
          "text": [
            "Best BLEU: 0.005 | Best Loss:2.537 |  Epoch: 1 |  BLeu： 0.010 | Loss:2.6764090160528817\n"
          ],
          "name": "stdout"
        },
        {
          "output_type": "stream",
          "text": [
            "100%|██████████| 46/46 [00:21<00:00,  2.09it/s]\n"
          ],
          "name": "stderr"
        },
        {
          "output_type": "stream",
          "text": [
            "Best BLEU: 0.017 | Best Loss:2.299 |  Epoch: 2 |  BLeu： 0.017 | Loss:2.2994505167007446\n"
          ],
          "name": "stdout"
        },
        {
          "output_type": "stream",
          "text": [
            "100%|██████████| 46/46 [00:22<00:00,  2.06it/s]\n"
          ],
          "name": "stderr"
        },
        {
          "output_type": "stream",
          "text": [
            "Best BLEU: 0.019 | Best Loss:2.178 |  Epoch: 3 |  BLeu： 0.019 | Loss:2.177759885787964\n"
          ],
          "name": "stdout"
        },
        {
          "output_type": "stream",
          "text": [
            "100%|██████████| 46/46 [00:22<00:00,  2.09it/s]\n"
          ],
          "name": "stderr"
        },
        {
          "output_type": "stream",
          "text": [
            "Best BLEU: 0.019 | Best Loss:2.178 |  Epoch: 4 |  BLeu： 0.035 | Loss:2.3839192191759744\n"
          ],
          "name": "stdout"
        },
        {
          "output_type": "stream",
          "text": [
            "100%|██████████| 46/46 [00:22<00:00,  2.07it/s]\n"
          ],
          "name": "stderr"
        },
        {
          "output_type": "stream",
          "text": [
            "Best BLEU: 0.038 | Best Loss:2.154 |  Epoch: 5 |  BLeu： 0.038 | Loss:2.1542376279830933\n"
          ],
          "name": "stdout"
        },
        {
          "output_type": "stream",
          "text": [
            "100%|██████████| 46/46 [00:22<00:00,  2.04it/s]\n"
          ],
          "name": "stderr"
        },
        {
          "output_type": "stream",
          "text": [
            "Best BLEU: 0.039 | Best Loss:2.119 |  Epoch: 6 |  BLeu： 0.039 | Loss:2.119241009155909\n"
          ],
          "name": "stdout"
        },
        {
          "output_type": "stream",
          "text": [
            "100%|██████████| 46/46 [00:21<00:00,  2.10it/s]\n"
          ],
          "name": "stderr"
        },
        {
          "output_type": "stream",
          "text": [
            "Best BLEU: 0.041 | Best Loss:1.989 |  Epoch: 7 |  BLeu： 0.041 | Loss:1.988772675395012\n"
          ],
          "name": "stdout"
        },
        {
          "output_type": "stream",
          "text": [
            "100%|██████████| 46/46 [00:22<00:00,  2.07it/s]\n"
          ],
          "name": "stderr"
        },
        {
          "output_type": "stream",
          "text": [
            "Best BLEU: 0.056 | Best Loss:1.962 |  Epoch: 8 |  BLeu： 0.056 | Loss:1.961515059073766\n"
          ],
          "name": "stdout"
        },
        {
          "output_type": "stream",
          "text": [
            "100%|██████████| 46/46 [00:22<00:00,  2.06it/s]\n"
          ],
          "name": "stderr"
        },
        {
          "output_type": "stream",
          "text": [
            "Best BLEU: 0.056 | Best Loss:1.962 |  Epoch: 9 |  BLeu： 0.045 | Loss:2.0014084627230964\n"
          ],
          "name": "stdout"
        },
        {
          "output_type": "stream",
          "text": [
            "100%|██████████| 46/46 [00:22<00:00,  2.06it/s]\n"
          ],
          "name": "stderr"
        },
        {
          "output_type": "stream",
          "text": [
            "Best BLEU: 0.048 | Best Loss:1.926 |  Epoch: 10 |  BLeu： 0.048 | Loss:1.9258283972740173\n"
          ],
          "name": "stdout"
        },
        {
          "output_type": "stream",
          "text": [
            "100%|██████████| 46/46 [00:22<00:00,  2.09it/s]\n"
          ],
          "name": "stderr"
        },
        {
          "output_type": "stream",
          "text": [
            "Best BLEU: 0.056 | Best Loss:1.903 |  Epoch: 11 |  BLeu： 0.056 | Loss:1.9034176866213481\n"
          ],
          "name": "stdout"
        },
        {
          "output_type": "stream",
          "text": [
            "100%|██████████| 46/46 [00:22<00:00,  2.06it/s]\n"
          ],
          "name": "stderr"
        },
        {
          "output_type": "stream",
          "text": [
            "Best BLEU: 0.059 | Best Loss:1.872 |  Epoch: 12 |  BLeu： 0.059 | Loss:1.8715187162160873\n"
          ],
          "name": "stdout"
        },
        {
          "output_type": "stream",
          "text": [
            "100%|██████████| 46/46 [00:22<00:00,  2.03it/s]\n"
          ],
          "name": "stderr"
        },
        {
          "output_type": "stream",
          "text": [
            "Best BLEU: 0.059 | Best Loss:1.872 |  Epoch: 13 |  BLeu： 0.054 | Loss:1.8769640078147252\n"
          ],
          "name": "stdout"
        },
        {
          "output_type": "stream",
          "text": [
            "100%|██████████| 46/46 [00:22<00:00,  2.06it/s]\n"
          ],
          "name": "stderr"
        },
        {
          "output_type": "stream",
          "text": [
            "Best BLEU: 0.059 | Best Loss:1.872 |  Epoch: 14 |  BLeu： 0.050 | Loss:1.9413335621356964\n"
          ],
          "name": "stdout"
        },
        {
          "output_type": "stream",
          "text": [
            "100%|██████████| 46/46 [00:22<00:00,  2.08it/s]\n"
          ],
          "name": "stderr"
        },
        {
          "output_type": "stream",
          "text": [
            "Best BLEU: 0.058 | Best Loss:1.847 |  Epoch: 15 |  BLeu： 0.058 | Loss:1.8471821049849193\n"
          ],
          "name": "stdout"
        },
        {
          "output_type": "stream",
          "text": [
            "100%|██████████| 46/46 [00:22<00:00,  2.05it/s]\n"
          ],
          "name": "stderr"
        },
        {
          "output_type": "stream",
          "text": [
            "Best BLEU: 0.058 | Best Loss:1.847 |  Epoch: 16 |  BLeu： 0.053 | Loss:1.8525814513365428\n"
          ],
          "name": "stdout"
        },
        {
          "output_type": "stream",
          "text": [
            "100%|██████████| 46/46 [00:21<00:00,  2.10it/s]\n"
          ],
          "name": "stderr"
        },
        {
          "output_type": "stream",
          "text": [
            "Best BLEU: 0.059 | Best Loss:1.812 |  Epoch: 17 |  BLeu： 0.059 | Loss:1.81206876039505\n"
          ],
          "name": "stdout"
        },
        {
          "output_type": "stream",
          "text": [
            "100%|██████████| 46/46 [00:22<00:00,  2.08it/s]\n"
          ],
          "name": "stderr"
        },
        {
          "output_type": "stream",
          "text": [
            "Best BLEU: 0.059 | Best Loss:1.812 |  Epoch: 18 |  BLeu： 0.054 | Loss:1.8773861279090245\n"
          ],
          "name": "stdout"
        },
        {
          "output_type": "stream",
          "text": [
            "100%|██████████| 46/46 [00:22<00:00,  2.06it/s]\n"
          ],
          "name": "stderr"
        },
        {
          "output_type": "stream",
          "text": [
            "Best BLEU: 0.057 | Best Loss:1.744 |  Epoch: 19 |  BLeu： 0.057 | Loss:1.7444926649332047\n"
          ],
          "name": "stdout"
        }
      ]
    },
    {
      "cell_type": "code",
      "metadata": {
        "colab": {
          "base_uri": "https://localhost:8080/"
        },
        "id": "ahv2I3RyZutb",
        "outputId": "00648fc8-88b1-49d7-a534-9478e974cbeb"
      },
      "source": [
        "## 开始训练 BATCH_SIZE = 256, HID = 256, MAX_LEN = 256, dropout = 0.2, epoch = 20\n",
        "train(dataloader, model, model_output_path= MODEL_PATH)"
      ],
      "execution_count": null,
      "outputs": [
        {
          "output_type": "stream",
          "text": [
            "\r  0%|          | 0/46 [00:00<?, ?it/s]"
          ],
          "name": "stderr"
        },
        {
          "output_type": "stream",
          "text": [
            "Start training...\n"
          ],
          "name": "stdout"
        },
        {
          "output_type": "stream",
          "text": [
            "100%|██████████| 46/46 [00:21<00:00,  2.10it/s]\n",
            "Building prefix dict from the default dictionary ...\n",
            "Loading model from cache /tmp/jieba.cache\n",
            "Loading model cost 0.707 seconds.\n",
            "Prefix dict has been built successfully.\n"
          ],
          "name": "stderr"
        },
        {
          "output_type": "stream",
          "text": [
            "Best BLEU: 0.014 | Best Loss:2.938 |  Epoch: 0 |  BLeu： 0.014 | Loss:2.9378602604071298\n"
          ],
          "name": "stdout"
        },
        {
          "output_type": "stream",
          "text": [
            "100%|██████████| 46/46 [00:22<00:00,  2.09it/s]\n"
          ],
          "name": "stderr"
        },
        {
          "output_type": "stream",
          "text": [
            "Best BLEU: 0.011 | Best Loss:2.531 |  Epoch: 1 |  BLeu： 0.011 | Loss:2.5309643546740213\n"
          ],
          "name": "stdout"
        },
        {
          "output_type": "stream",
          "text": [
            "100%|██████████| 46/46 [00:22<00:00,  2.09it/s]\n"
          ],
          "name": "stderr"
        },
        {
          "output_type": "stream",
          "text": [
            "Best BLEU: 0.012 | Best Loss:2.233 |  Epoch: 2 |  BLeu： 0.012 | Loss:2.232854058345159\n"
          ],
          "name": "stdout"
        },
        {
          "output_type": "stream",
          "text": [
            "100%|██████████| 46/46 [00:22<00:00,  2.08it/s]\n"
          ],
          "name": "stderr"
        },
        {
          "output_type": "stream",
          "text": [
            "Best BLEU: 0.012 | Best Loss:2.233 |  Epoch: 3 |  BLeu： 0.015 | Loss:2.475700000921885\n"
          ],
          "name": "stdout"
        },
        {
          "output_type": "stream",
          "text": [
            "100%|██████████| 46/46 [00:21<00:00,  2.09it/s]\n"
          ],
          "name": "stderr"
        },
        {
          "output_type": "stream",
          "text": [
            "Best BLEU: 0.012 | Best Loss:2.233 |  Epoch: 4 |  BLeu： 0.026 | Loss:2.611272225777308\n"
          ],
          "name": "stdout"
        },
        {
          "output_type": "stream",
          "text": [
            "100%|██████████| 46/46 [00:22<00:00,  2.08it/s]\n"
          ],
          "name": "stderr"
        },
        {
          "output_type": "stream",
          "text": [
            "Best BLEU: 0.027 | Best Loss:2.124 |  Epoch: 5 |  BLeu： 0.027 | Loss:2.1235190431276956\n"
          ],
          "name": "stdout"
        },
        {
          "output_type": "stream",
          "text": [
            "100%|██████████| 46/46 [00:22<00:00,  2.04it/s]\n"
          ],
          "name": "stderr"
        },
        {
          "output_type": "stream",
          "text": [
            "Best BLEU: 0.043 | Best Loss:2.049 |  Epoch: 6 |  BLeu： 0.043 | Loss:2.049031009276708\n"
          ],
          "name": "stdout"
        },
        {
          "output_type": "stream",
          "text": [
            "100%|██████████| 46/46 [00:21<00:00,  2.10it/s]\n"
          ],
          "name": "stderr"
        },
        {
          "output_type": "stream",
          "text": [
            "Best BLEU: 0.043 | Best Loss:2.049 |  Epoch: 7 |  BLeu： 0.049 | Loss:2.1287727455298104\n"
          ],
          "name": "stdout"
        },
        {
          "output_type": "stream",
          "text": [
            "100%|██████████| 46/46 [00:22<00:00,  2.07it/s]\n"
          ],
          "name": "stderr"
        },
        {
          "output_type": "stream",
          "text": [
            "Best BLEU: 0.040 | Best Loss:1.973 |  Epoch: 8 |  BLeu： 0.040 | Loss:1.9734087586402893\n"
          ],
          "name": "stdout"
        },
        {
          "output_type": "stream",
          "text": [
            "100%|██████████| 46/46 [00:22<00:00,  2.07it/s]\n"
          ],
          "name": "stderr"
        },
        {
          "output_type": "stream",
          "text": [
            "Best BLEU: 0.050 | Best Loss:1.955 |  Epoch: 9 |  BLeu： 0.050 | Loss:1.9553527633349101\n"
          ],
          "name": "stdout"
        },
        {
          "output_type": "stream",
          "text": [
            "100%|██████████| 46/46 [00:22<00:00,  2.04it/s]\n"
          ],
          "name": "stderr"
        },
        {
          "output_type": "stream",
          "text": [
            "Best BLEU: 0.050 | Best Loss:1.955 |  Epoch: 10 |  BLeu： 0.046 | Loss:2.0000447034835815\n"
          ],
          "name": "stdout"
        },
        {
          "output_type": "stream",
          "text": [
            "100%|██████████| 46/46 [00:22<00:00,  2.04it/s]\n"
          ],
          "name": "stderr"
        },
        {
          "output_type": "stream",
          "text": [
            "Best BLEU: 0.045 | Best Loss:1.919 |  Epoch: 11 |  BLeu： 0.045 | Loss:1.9193393687407176\n"
          ],
          "name": "stdout"
        },
        {
          "output_type": "stream",
          "text": [
            "100%|██████████| 46/46 [00:22<00:00,  2.06it/s]\n"
          ],
          "name": "stderr"
        },
        {
          "output_type": "stream",
          "text": [
            "Best BLEU: 0.046 | Best Loss:1.864 |  Epoch: 12 |  BLeu： 0.046 | Loss:1.863968128959338\n"
          ],
          "name": "stdout"
        },
        {
          "output_type": "stream",
          "text": [
            "100%|██████████| 46/46 [00:22<00:00,  2.06it/s]\n"
          ],
          "name": "stderr"
        },
        {
          "output_type": "stream",
          "text": [
            "Best BLEU: 0.046 | Best Loss:1.864 |  Epoch: 13 |  BLeu： 0.049 | Loss:1.8819983502229054\n"
          ],
          "name": "stdout"
        },
        {
          "output_type": "stream",
          "text": [
            "100%|██████████| 46/46 [00:22<00:00,  2.09it/s]\n"
          ],
          "name": "stderr"
        },
        {
          "output_type": "stream",
          "text": [
            "Best BLEU: 0.046 | Best Loss:1.864 |  Epoch: 14 |  BLeu： 0.051 | Loss:1.8837924698988597\n"
          ],
          "name": "stdout"
        },
        {
          "output_type": "stream",
          "text": [
            "100%|██████████| 46/46 [00:21<00:00,  2.11it/s]\n"
          ],
          "name": "stderr"
        },
        {
          "output_type": "stream",
          "text": [
            "Best BLEU: 0.051 | Best Loss:1.797 |  Epoch: 15 |  BLeu： 0.051 | Loss:1.7965218722820282\n"
          ],
          "name": "stdout"
        },
        {
          "output_type": "stream",
          "text": [
            "100%|██████████| 46/46 [00:21<00:00,  2.10it/s]\n"
          ],
          "name": "stderr"
        },
        {
          "output_type": "stream",
          "text": [
            "Best BLEU: 0.051 | Best Loss:1.797 |  Epoch: 16 |  BLeu： 0.054 | Loss:1.876356432835261\n"
          ],
          "name": "stdout"
        },
        {
          "output_type": "stream",
          "text": [
            "100%|██████████| 46/46 [00:22<00:00,  2.05it/s]\n"
          ],
          "name": "stderr"
        },
        {
          "output_type": "stream",
          "text": [
            "Best BLEU: 0.061 | Best Loss:1.783 |  Epoch: 17 |  BLeu： 0.061 | Loss:1.783234715461731\n"
          ],
          "name": "stdout"
        },
        {
          "output_type": "stream",
          "text": [
            "100%|██████████| 46/46 [00:21<00:00,  2.11it/s]\n"
          ],
          "name": "stderr"
        },
        {
          "output_type": "stream",
          "text": [
            "Best BLEU: 0.061 | Best Loss:1.783 |  Epoch: 18 |  BLeu： 0.048 | Loss:2.0414277215798697\n"
          ],
          "name": "stdout"
        },
        {
          "output_type": "stream",
          "text": [
            "100%|██████████| 46/46 [00:22<00:00,  2.06it/s]\n"
          ],
          "name": "stderr"
        },
        {
          "output_type": "stream",
          "text": [
            "Best BLEU: 0.061 | Best Loss:1.783 |  Epoch: 19 |  BLeu： 0.051 | Loss:1.7857594937086105\n"
          ],
          "name": "stdout"
        }
      ]
    },
    {
      "cell_type": "code",
      "metadata": {
        "colab": {
          "base_uri": "https://localhost:8080/"
        },
        "id": "FHXPgUPBrgGD",
        "outputId": "b5c66115-48f6-4232-b4d9-2dd7f387a609"
      },
      "source": [
        "## 开始训练 BATCH_SIZE = 128, HID = 512, MAX_LEN = 256, dropout = 0.2, epoch = 20\n",
        "train(dataloader, model, model_output_path= MODEL_PATH)"
      ],
      "execution_count": null,
      "outputs": [
        {
          "output_type": "stream",
          "text": [
            "  1%|          | 1/92 [00:00<00:13,  6.97it/s]"
          ],
          "name": "stderr"
        },
        {
          "output_type": "stream",
          "text": [
            "Start training...\n"
          ],
          "name": "stdout"
        },
        {
          "output_type": "stream",
          "text": [
            "100%|██████████| 92/92 [00:37<00:00,  2.43it/s]\n",
            "Building prefix dict from the default dictionary ...\n",
            "Loading model from cache /tmp/jieba.cache\n",
            "Loading model cost 0.643 seconds.\n",
            "Prefix dict has been built successfully.\n"
          ],
          "name": "stderr"
        },
        {
          "output_type": "stream",
          "text": [
            "Best BLEU: 0.028 | Best Loss:3.167 |  Epoch: 0 |  BLeu： 0.028 | Loss:3.167074576668117\n"
          ],
          "name": "stdout"
        },
        {
          "output_type": "stream",
          "text": [
            "100%|██████████| 92/92 [00:38<00:00,  2.42it/s]\n"
          ],
          "name": "stderr"
        },
        {
          "output_type": "stream",
          "text": [
            "Best BLEU: 0.053 | Best Loss:2.408 |  Epoch: 1 |  BLeu： 0.053 | Loss:2.4078190689501553\n"
          ],
          "name": "stdout"
        },
        {
          "output_type": "stream",
          "text": [
            "100%|██████████| 92/92 [00:38<00:00,  2.38it/s]\n"
          ],
          "name": "stderr"
        },
        {
          "output_type": "stream",
          "text": [
            "Best BLEU: 0.052 | Best Loss:2.342 |  Epoch: 2 |  BLeu： 0.052 | Loss:2.3416026986163594\n"
          ],
          "name": "stdout"
        },
        {
          "output_type": "stream",
          "text": [
            "100%|██████████| 92/92 [00:39<00:00,  2.34it/s]\n"
          ],
          "name": "stderr"
        },
        {
          "output_type": "stream",
          "text": [
            "Best BLEU: 0.052 | Best Loss:2.342 |  Epoch: 3 |  BLeu： 0.058 | Loss:2.4345824329749397\n"
          ],
          "name": "stdout"
        },
        {
          "output_type": "stream",
          "text": [
            "100%|██████████| 92/92 [00:38<00:00,  2.42it/s]\n"
          ],
          "name": "stderr"
        },
        {
          "output_type": "stream",
          "text": [
            "Best BLEU: 0.052 | Best Loss:2.342 |  Epoch: 4 |  BLeu： 0.044 | Loss:2.80106142292852\n"
          ],
          "name": "stdout"
        },
        {
          "output_type": "stream",
          "text": [
            "100%|██████████| 92/92 [00:38<00:00,  2.41it/s]\n"
          ],
          "name": "stderr"
        },
        {
          "output_type": "stream",
          "text": [
            "Best BLEU: 0.050 | Best Loss:2.130 |  Epoch: 5 |  BLeu： 0.050 | Loss:2.1295799457508586\n"
          ],
          "name": "stdout"
        },
        {
          "output_type": "stream",
          "text": [
            "100%|██████████| 92/92 [00:38<00:00,  2.39it/s]\n"
          ],
          "name": "stderr"
        },
        {
          "output_type": "stream",
          "text": [
            "Best BLEU: 0.065 | Best Loss:1.978 |  Epoch: 6 |  BLeu： 0.065 | Loss:1.9781689514284548\n"
          ],
          "name": "stdout"
        },
        {
          "output_type": "stream",
          "text": [
            "100%|██████████| 92/92 [00:38<00:00,  2.42it/s]\n"
          ],
          "name": "stderr"
        },
        {
          "output_type": "stream",
          "text": [
            "Best BLEU: 0.065 | Best Loss:1.978 |  Epoch: 7 |  BLeu： 0.065 | Loss:2.233002032922662\n"
          ],
          "name": "stdout"
        },
        {
          "output_type": "stream",
          "text": [
            "100%|██████████| 92/92 [00:38<00:00,  2.41it/s]\n"
          ],
          "name": "stderr"
        },
        {
          "output_type": "stream",
          "text": [
            "Best BLEU: 0.065 | Best Loss:1.978 |  Epoch: 8 |  BLeu： 0.062 | Loss:2.0614668415940325\n"
          ],
          "name": "stdout"
        },
        {
          "output_type": "stream",
          "text": [
            "100%|██████████| 92/92 [00:38<00:00,  2.38it/s]\n"
          ],
          "name": "stderr"
        },
        {
          "output_type": "stream",
          "text": [
            "Best BLEU: 0.065 | Best Loss:1.978 |  Epoch: 9 |  BLeu： 0.060 | Loss:2.054632041765296\n"
          ],
          "name": "stdout"
        },
        {
          "output_type": "stream",
          "text": [
            "100%|██████████| 92/92 [00:38<00:00,  2.39it/s]\n"
          ],
          "name": "stderr"
        },
        {
          "output_type": "stream",
          "text": [
            "Best BLEU: 0.065 | Best Loss:1.978 |  Epoch: 10 |  BLeu： 0.055 | Loss:2.0744294731513313\n"
          ],
          "name": "stdout"
        },
        {
          "output_type": "stream",
          "text": [
            "100%|██████████| 92/92 [00:38<00:00,  2.37it/s]\n"
          ],
          "name": "stderr"
        },
        {
          "output_type": "stream",
          "text": [
            "Best BLEU: 0.066 | Best Loss:1.966 |  Epoch: 11 |  BLeu： 0.066 | Loss:1.9657382926215297\n"
          ],
          "name": "stdout"
        },
        {
          "output_type": "stream",
          "text": [
            "100%|██████████| 92/92 [00:38<00:00,  2.38it/s]\n"
          ],
          "name": "stderr"
        },
        {
          "output_type": "stream",
          "text": [
            "Best BLEU: 0.066 | Best Loss:1.966 |  Epoch: 12 |  BLeu： 0.064 | Loss:1.9660250389057656\n"
          ],
          "name": "stdout"
        },
        {
          "output_type": "stream",
          "text": [
            "100%|██████████| 92/92 [00:38<00:00,  2.41it/s]\n"
          ],
          "name": "stderr"
        },
        {
          "output_type": "stream",
          "text": [
            "Best BLEU: 0.063 | Best Loss:1.943 |  Epoch: 13 |  BLeu： 0.063 | Loss:1.9431526038957678\n"
          ],
          "name": "stdout"
        },
        {
          "output_type": "stream",
          "text": [
            "100%|██████████| 92/92 [00:38<00:00,  2.38it/s]\n"
          ],
          "name": "stderr"
        },
        {
          "output_type": "stream",
          "text": [
            "Best BLEU: 0.063 | Best Loss:1.943 |  Epoch: 14 |  BLeu： 0.057 | Loss:2.111995015455329\n"
          ],
          "name": "stdout"
        },
        {
          "output_type": "stream",
          "text": [
            "100%|██████████| 92/92 [00:38<00:00,  2.40it/s]\n"
          ],
          "name": "stderr"
        },
        {
          "output_type": "stream",
          "text": [
            "Best BLEU: 0.063 | Best Loss:1.943 |  Epoch: 15 |  BLeu： 0.061 | Loss:1.9474858589794324\n"
          ],
          "name": "stdout"
        },
        {
          "output_type": "stream",
          "text": [
            "100%|██████████| 92/92 [00:37<00:00,  2.43it/s]\n"
          ],
          "name": "stderr"
        },
        {
          "output_type": "stream",
          "text": [
            "Best BLEU: 0.063 | Best Loss:1.943 |  Epoch: 16 |  BLeu： 0.068 | Loss:1.9926913251047549\n"
          ],
          "name": "stdout"
        },
        {
          "output_type": "stream",
          "text": [
            "100%|██████████| 92/92 [00:38<00:00,  2.40it/s]\n"
          ],
          "name": "stderr"
        },
        {
          "output_type": "stream",
          "text": [
            "Best BLEU: 0.063 | Best Loss:1.943 |  Epoch: 17 |  BLeu： 0.066 | Loss:1.9609429577122564\n"
          ],
          "name": "stdout"
        },
        {
          "output_type": "stream",
          "text": [
            "100%|██████████| 92/92 [00:38<00:00,  2.38it/s]\n"
          ],
          "name": "stderr"
        },
        {
          "output_type": "stream",
          "text": [
            "Best BLEU: 0.063 | Best Loss:1.943 |  Epoch: 18 |  BLeu： 0.071 | Loss:2.0863009328427524\n"
          ],
          "name": "stdout"
        },
        {
          "output_type": "stream",
          "text": [
            "100%|██████████| 92/92 [00:38<00:00,  2.38it/s]\n"
          ],
          "name": "stderr"
        },
        {
          "output_type": "stream",
          "text": [
            "Best BLEU: 0.063 | Best Loss:1.943 |  Epoch: 19 |  BLeu： 0.068 | Loss:2.2208136501519578\n"
          ],
          "name": "stdout"
        }
      ]
    },
    {
      "cell_type": "code",
      "metadata": {
        "colab": {
          "base_uri": "https://localhost:8080/"
        },
        "id": "1EeVmE1Rwlva",
        "outputId": "a666fbcc-9126-4ae4-d17c-e17956fa3c0e"
      },
      "source": [
        "## 开始训练 BATCH_SIZE = 128, HID = 512 , MAX_LEN = 128, dropout = 0.2, epoch = 20\n",
        "train(dataloader, model, model_output_path= MODEL_PATH)"
      ],
      "execution_count": null,
      "outputs": [
        {
          "output_type": "stream",
          "text": [
            "\r  0%|          | 0/88 [00:00<?, ?it/s]"
          ],
          "name": "stderr"
        },
        {
          "output_type": "stream",
          "text": [
            "Start training...\n"
          ],
          "name": "stdout"
        },
        {
          "output_type": "stream",
          "text": [
            "100%|██████████| 88/88 [00:24<00:00,  3.55it/s]\n",
            "Building prefix dict from the default dictionary ...\n",
            "Loading model from cache /tmp/jieba.cache\n",
            "Loading model cost 0.653 seconds.\n",
            "Prefix dict has been built successfully.\n"
          ],
          "name": "stderr"
        },
        {
          "output_type": "stream",
          "text": [
            "Best BLEU: 0.031 | Best Loss:3.134 |  Epoch: 0 |  BLeu： 0.031 | Loss:3.133951409296556\n"
          ],
          "name": "stdout"
        },
        {
          "output_type": "stream",
          "text": [
            "100%|██████████| 88/88 [00:25<00:00,  3.47it/s]\n"
          ],
          "name": "stderr"
        },
        {
          "output_type": "stream",
          "text": [
            "Best BLEU: 0.042 | Best Loss:2.661 |  Epoch: 1 |  BLeu： 0.042 | Loss:2.6612503826618195\n"
          ],
          "name": "stdout"
        },
        {
          "output_type": "stream",
          "text": [
            "100%|██████████| 88/88 [00:25<00:00,  3.50it/s]\n"
          ],
          "name": "stderr"
        },
        {
          "output_type": "stream",
          "text": [
            "Best BLEU: 0.053 | Best Loss:2.565 |  Epoch: 2 |  BLeu： 0.053 | Loss:2.564983457326889\n"
          ],
          "name": "stdout"
        },
        {
          "output_type": "stream",
          "text": [
            "100%|██████████| 88/88 [00:25<00:00,  3.44it/s]\n"
          ],
          "name": "stderr"
        },
        {
          "output_type": "stream",
          "text": [
            "Best BLEU: 0.046 | Best Loss:2.392 |  Epoch: 3 |  BLeu： 0.046 | Loss:2.391543783924796\n"
          ],
          "name": "stdout"
        },
        {
          "output_type": "stream",
          "text": [
            "100%|██████████| 88/88 [00:25<00:00,  3.46it/s]\n"
          ],
          "name": "stderr"
        },
        {
          "output_type": "stream",
          "text": [
            "Best BLEU: 0.068 | Best Loss:2.318 |  Epoch: 4 |  BLeu： 0.068 | Loss:2.3184892372651533\n"
          ],
          "name": "stdout"
        },
        {
          "output_type": "stream",
          "text": [
            "100%|██████████| 88/88 [00:25<00:00,  3.40it/s]\n"
          ],
          "name": "stderr"
        },
        {
          "output_type": "stream",
          "text": [
            "Best BLEU: 0.068 | Best Loss:2.318 |  Epoch: 5 |  BLeu： 0.067 | Loss:2.362742153081027\n"
          ],
          "name": "stdout"
        },
        {
          "output_type": "stream",
          "text": [
            "100%|██████████| 88/88 [00:26<00:00,  3.36it/s]\n"
          ],
          "name": "stderr"
        },
        {
          "output_type": "stream",
          "text": [
            "Best BLEU: 0.061 | Best Loss:2.211 |  Epoch: 6 |  BLeu： 0.061 | Loss:2.2110009599815714\n"
          ],
          "name": "stdout"
        },
        {
          "output_type": "stream",
          "text": [
            "100%|██████████| 88/88 [00:25<00:00,  3.42it/s]\n"
          ],
          "name": "stderr"
        },
        {
          "output_type": "stream",
          "text": [
            "Best BLEU: 0.061 | Best Loss:2.211 |  Epoch: 7 |  BLeu： 0.066 | Loss:2.2154708748514\n"
          ],
          "name": "stdout"
        },
        {
          "output_type": "stream",
          "text": [
            "100%|██████████| 88/88 [00:26<00:00,  3.38it/s]\n"
          ],
          "name": "stderr"
        },
        {
          "output_type": "stream",
          "text": [
            "Best BLEU: 0.061 | Best Loss:2.211 |  Epoch: 8 |  BLeu： 0.071 | Loss:2.2242395281791687\n"
          ],
          "name": "stdout"
        },
        {
          "output_type": "stream",
          "text": [
            "100%|██████████| 88/88 [00:26<00:00,  3.33it/s]\n"
          ],
          "name": "stderr"
        },
        {
          "output_type": "stream",
          "text": [
            "Best BLEU: 0.065 | Best Loss:2.205 |  Epoch: 9 |  BLeu： 0.065 | Loss:2.204565546729348\n"
          ],
          "name": "stdout"
        },
        {
          "output_type": "stream",
          "text": [
            "100%|██████████| 88/88 [00:26<00:00,  3.38it/s]\n"
          ],
          "name": "stderr"
        },
        {
          "output_type": "stream",
          "text": [
            "Best BLEU: 0.065 | Best Loss:2.205 |  Epoch: 10 |  BLeu： 0.066 | Loss:2.2505959164012563\n"
          ],
          "name": "stdout"
        },
        {
          "output_type": "stream",
          "text": [
            "100%|██████████| 88/88 [00:25<00:00,  3.45it/s]\n"
          ],
          "name": "stderr"
        },
        {
          "output_type": "stream",
          "text": [
            "Best BLEU: 0.065 | Best Loss:2.205 |  Epoch: 11 |  BLeu： 0.070 | Loss:2.2175158099694685\n"
          ],
          "name": "stdout"
        },
        {
          "output_type": "stream",
          "text": [
            "100%|██████████| 88/88 [00:25<00:00,  3.39it/s]\n"
          ],
          "name": "stderr"
        },
        {
          "output_type": "stream",
          "text": [
            "Best BLEU: 0.065 | Best Loss:2.205 |  Epoch: 12 |  BLeu： 0.067 | Loss:2.20591785420071\n"
          ],
          "name": "stdout"
        },
        {
          "output_type": "stream",
          "text": [
            "100%|██████████| 88/88 [00:26<00:00,  3.38it/s]\n"
          ],
          "name": "stderr"
        },
        {
          "output_type": "stream",
          "text": [
            "Best BLEU: 0.065 | Best Loss:2.205 |  Epoch: 13 |  BLeu： 0.063 | Loss:2.3319858746095137\n"
          ],
          "name": "stdout"
        },
        {
          "output_type": "stream",
          "text": [
            "100%|██████████| 88/88 [00:25<00:00,  3.42it/s]\n"
          ],
          "name": "stderr"
        },
        {
          "output_type": "stream",
          "text": [
            "Best BLEU: 0.070 | Best Loss:2.192 |  Epoch: 14 |  BLeu： 0.070 | Loss:2.192487955093384\n"
          ],
          "name": "stdout"
        },
        {
          "output_type": "stream",
          "text": [
            "100%|██████████| 88/88 [00:26<00:00,  3.36it/s]\n"
          ],
          "name": "stderr"
        },
        {
          "output_type": "stream",
          "text": [
            "Best BLEU: 0.071 | Best Loss:2.180 |  Epoch: 15 |  BLeu： 0.071 | Loss:2.1795747469771993\n"
          ],
          "name": "stdout"
        },
        {
          "output_type": "stream",
          "text": [
            "100%|██████████| 88/88 [00:26<00:00,  3.38it/s]\n"
          ],
          "name": "stderr"
        },
        {
          "output_type": "stream",
          "text": [
            "Best BLEU: 0.071 | Best Loss:2.180 |  Epoch: 16 |  BLeu： 0.068 | Loss:2.2208103483373467\n"
          ],
          "name": "stdout"
        },
        {
          "output_type": "stream",
          "text": [
            "100%|██████████| 88/88 [00:25<00:00,  3.40it/s]\n"
          ],
          "name": "stderr"
        },
        {
          "output_type": "stream",
          "text": [
            "Best BLEU: 0.071 | Best Loss:2.180 |  Epoch: 17 |  BLeu： 0.070 | Loss:2.2591538537632334\n"
          ],
          "name": "stdout"
        },
        {
          "output_type": "stream",
          "text": [
            "100%|██████████| 88/88 [00:26<00:00,  3.37it/s]\n"
          ],
          "name": "stderr"
        },
        {
          "output_type": "stream",
          "text": [
            "Best BLEU: 0.071 | Best Loss:2.180 |  Epoch: 18 |  BLeu： 0.069 | Loss:2.27418791976842\n"
          ],
          "name": "stdout"
        },
        {
          "output_type": "stream",
          "text": [
            "100%|██████████| 88/88 [00:26<00:00,  3.37it/s]\n"
          ],
          "name": "stderr"
        },
        {
          "output_type": "stream",
          "text": [
            "Best BLEU: 0.071 | Best Loss:2.180 |  Epoch: 19 |  BLeu： 0.069 | Loss:2.234376918185841\n"
          ],
          "name": "stdout"
        }
      ]
    },
    {
      "cell_type": "code",
      "metadata": {
        "colab": {
          "base_uri": "https://localhost:8080/"
        },
        "id": "SqbGy_smfKTM",
        "outputId": "0c31d759-464b-44bf-aa53-6054edcd976c"
      },
      "source": [
        "## 开始训练 BATCH_SIZE = 64, HID = 256, MAX_LEN = 128, dropout = 0.2, epoch = 20 \n",
        "train(dataloader, model, model_output_path= MODEL_PATH)"
      ],
      "execution_count": null,
      "outputs": [
        {
          "output_type": "stream",
          "text": [
            "  1%|          | 1/176 [00:00<00:18,  9.27it/s]"
          ],
          "name": "stderr"
        },
        {
          "output_type": "stream",
          "text": [
            "Start training...\n"
          ],
          "name": "stdout"
        },
        {
          "output_type": "stream",
          "text": [
            "100%|██████████| 176/176 [00:17<00:00, 10.17it/s]\n",
            "Building prefix dict from the default dictionary ...\n",
            "Loading model from cache /tmp/jieba.cache\n",
            "Loading model cost 0.705 seconds.\n",
            "Prefix dict has been built successfully.\n"
          ],
          "name": "stderr"
        },
        {
          "output_type": "stream",
          "text": [
            "Best BLEU: 0.030 | Best Loss:3.063 |  Epoch: 0 |  BLeu： 0.030 | Loss:3.0633846670389175\n"
          ],
          "name": "stdout"
        },
        {
          "output_type": "stream",
          "text": [
            "100%|██████████| 176/176 [00:17<00:00,  9.93it/s]\n"
          ],
          "name": "stderr"
        },
        {
          "output_type": "stream",
          "text": [
            "Best BLEU: 0.049 | Best Loss:2.875 |  Epoch: 1 |  BLeu： 0.049 | Loss:2.87532232159918\n"
          ],
          "name": "stdout"
        },
        {
          "output_type": "stream",
          "text": [
            "100%|██████████| 176/176 [00:17<00:00, 10.17it/s]\n"
          ],
          "name": "stderr"
        },
        {
          "output_type": "stream",
          "text": [
            "Best BLEU: 0.055 | Best Loss:2.674 |  Epoch: 2 |  BLeu： 0.055 | Loss:2.673534072258256\n"
          ],
          "name": "stdout"
        },
        {
          "output_type": "stream",
          "text": [
            "100%|██████████| 176/176 [00:17<00:00, 10.22it/s]\n"
          ],
          "name": "stderr"
        },
        {
          "output_type": "stream",
          "text": [
            "Best BLEU: 0.060 | Best Loss:2.604 |  Epoch: 3 |  BLeu： 0.060 | Loss:2.6039811819791794\n"
          ],
          "name": "stdout"
        },
        {
          "output_type": "stream",
          "text": [
            "100%|██████████| 176/176 [00:17<00:00, 10.07it/s]\n"
          ],
          "name": "stderr"
        },
        {
          "output_type": "stream",
          "text": [
            "Best BLEU: 0.059 | Best Loss:2.555 |  Epoch: 4 |  BLeu： 0.059 | Loss:2.5551971847360786\n"
          ],
          "name": "stdout"
        },
        {
          "output_type": "stream",
          "text": [
            "100%|██████████| 176/176 [00:17<00:00, 10.12it/s]\n"
          ],
          "name": "stderr"
        },
        {
          "output_type": "stream",
          "text": [
            "Best BLEU: 0.064 | Best Loss:2.469 |  Epoch: 5 |  BLeu： 0.064 | Loss:2.4687918587164446\n"
          ],
          "name": "stdout"
        },
        {
          "output_type": "stream",
          "text": [
            "100%|██████████| 176/176 [00:17<00:00, 10.11it/s]\n"
          ],
          "name": "stderr"
        },
        {
          "output_type": "stream",
          "text": [
            "Best BLEU: 0.063 | Best Loss:2.425 |  Epoch: 6 |  BLeu： 0.063 | Loss:2.425109983167865\n"
          ],
          "name": "stdout"
        },
        {
          "output_type": "stream",
          "text": [
            "100%|██████████| 176/176 [00:17<00:00, 10.14it/s]\n"
          ],
          "name": "stderr"
        },
        {
          "output_type": "stream",
          "text": [
            "Best BLEU: 0.063 | Best Loss:2.425 |  Epoch: 7 |  BLeu： 0.065 | Loss:2.483982327309522\n"
          ],
          "name": "stdout"
        },
        {
          "output_type": "stream",
          "text": [
            "100%|██████████| 176/176 [00:17<00:00, 10.09it/s]\n"
          ],
          "name": "stderr"
        },
        {
          "output_type": "stream",
          "text": [
            "Best BLEU: 0.063 | Best Loss:2.425 |  Epoch: 8 |  BLeu： 0.069 | Loss:2.433832956985994\n"
          ],
          "name": "stdout"
        },
        {
          "output_type": "stream",
          "text": [
            "100%|██████████| 176/176 [00:17<00:00, 10.18it/s]\n"
          ],
          "name": "stderr"
        },
        {
          "output_type": "stream",
          "text": [
            "Best BLEU: 0.065 | Best Loss:2.360 |  Epoch: 9 |  BLeu： 0.065 | Loss:2.3600721582770348\n"
          ],
          "name": "stdout"
        },
        {
          "output_type": "stream",
          "text": [
            "100%|██████████| 176/176 [00:17<00:00, 10.16it/s]\n"
          ],
          "name": "stderr"
        },
        {
          "output_type": "stream",
          "text": [
            "Best BLEU: 0.065 | Best Loss:2.360 |  Epoch: 10 |  BLeu： 0.073 | Loss:2.4946724731813776\n"
          ],
          "name": "stdout"
        },
        {
          "output_type": "stream",
          "text": [
            "100%|██████████| 176/176 [00:17<00:00, 10.09it/s]\n"
          ],
          "name": "stderr"
        },
        {
          "output_type": "stream",
          "text": [
            "Best BLEU: 0.065 | Best Loss:2.360 |  Epoch: 11 |  BLeu： 0.067 | Loss:2.3964231230995874\n"
          ],
          "name": "stdout"
        },
        {
          "output_type": "stream",
          "text": [
            "100%|██████████| 176/176 [00:17<00:00, 10.09it/s]\n"
          ],
          "name": "stderr"
        },
        {
          "output_type": "stream",
          "text": [
            "Best BLEU: 0.065 | Best Loss:2.360 |  Epoch: 12 |  BLeu： 0.065 | Loss:2.401585726575418\n"
          ],
          "name": "stdout"
        },
        {
          "output_type": "stream",
          "text": [
            "100%|██████████| 176/176 [00:17<00:00, 10.10it/s]\n"
          ],
          "name": "stderr"
        },
        {
          "output_type": "stream",
          "text": [
            "Best BLEU: 0.065 | Best Loss:2.360 |  Epoch: 13 |  BLeu： 0.068 | Loss:2.4334150037982245\n"
          ],
          "name": "stdout"
        },
        {
          "output_type": "stream",
          "text": [
            "100%|██████████| 176/176 [00:17<00:00,  9.99it/s]\n"
          ],
          "name": "stderr"
        },
        {
          "output_type": "stream",
          "text": [
            "Best BLEU: 0.065 | Best Loss:2.360 |  Epoch: 14 |  BLeu： 0.069 | Loss:2.520377828316255\n"
          ],
          "name": "stdout"
        },
        {
          "output_type": "stream",
          "text": [
            "100%|██████████| 176/176 [00:17<00:00, 10.22it/s]\n"
          ],
          "name": "stderr"
        },
        {
          "output_type": "stream",
          "text": [
            "Best BLEU: 0.065 | Best Loss:2.360 |  Epoch: 15 |  BLeu： 0.067 | Loss:2.50880887020718\n"
          ],
          "name": "stdout"
        },
        {
          "output_type": "stream",
          "text": [
            "100%|██████████| 176/176 [00:17<00:00, 10.15it/s]\n"
          ],
          "name": "stderr"
        },
        {
          "output_type": "stream",
          "text": [
            "Best BLEU: 0.065 | Best Loss:2.360 |  Epoch: 16 |  BLeu： 0.065 | Loss:2.511512811888348\n"
          ],
          "name": "stdout"
        },
        {
          "output_type": "stream",
          "text": [
            "100%|██████████| 176/176 [00:17<00:00, 10.07it/s]\n"
          ],
          "name": "stderr"
        },
        {
          "output_type": "stream",
          "text": [
            "Best BLEU: 0.065 | Best Loss:2.360 |  Epoch: 17 |  BLeu： 0.072 | Loss:2.4347178746353495\n"
          ],
          "name": "stdout"
        },
        {
          "output_type": "stream",
          "text": [
            "100%|██████████| 176/176 [00:17<00:00, 10.16it/s]\n"
          ],
          "name": "stderr"
        },
        {
          "output_type": "stream",
          "text": [
            "Best BLEU: 0.065 | Best Loss:2.360 |  Epoch: 18 |  BLeu： 0.069 | Loss:2.493690462274985\n"
          ],
          "name": "stdout"
        },
        {
          "output_type": "stream",
          "text": [
            "100%|██████████| 176/176 [00:17<00:00, 10.00it/s]\n"
          ],
          "name": "stderr"
        },
        {
          "output_type": "stream",
          "text": [
            "Best BLEU: 0.065 | Best Loss:2.360 |  Epoch: 19 |  BLeu： 0.068 | Loss:2.443952427669005\n"
          ],
          "name": "stdout"
        }
      ]
    },
    {
      "cell_type": "code",
      "metadata": {
        "colab": {
          "base_uri": "https://localhost:8080/"
        },
        "id": "qrZzSJLjOWmj",
        "outputId": "31c8869e-62a7-4fee-d8d4-e5190435afb9"
      },
      "source": [
        "## 开始训练 BATCH_SIZE = 64, HID = 512, MAX_LEN = 128, dropout = 0.2, epoch = 20\n",
        "train(dataloader, model, model_output_path= MODEL_PATH)"
      ],
      "execution_count": null,
      "outputs": [
        {
          "output_type": "stream",
          "text": [
            "\r  0%|          | 0/176 [00:00<?, ?it/s]"
          ],
          "name": "stderr"
        },
        {
          "output_type": "stream",
          "text": [
            "Start training...\n"
          ],
          "name": "stdout"
        },
        {
          "output_type": "stream",
          "text": [
            "100%|██████████| 176/176 [00:28<00:00,  6.10it/s]\n",
            "Building prefix dict from the default dictionary ...\n",
            "Loading model from cache /tmp/jieba.cache\n",
            "Loading model cost 0.663 seconds.\n",
            "Prefix dict has been built successfully.\n"
          ],
          "name": "stderr"
        },
        {
          "output_type": "stream",
          "text": [
            "Best BLEU: 0.045 | Best Loss:3.118 |  Epoch: 0 |  BLeu： 0.045 | Loss:3.1177717352455314\n"
          ],
          "name": "stdout"
        },
        {
          "output_type": "stream",
          "text": [
            "100%|██████████| 176/176 [00:29<00:00,  6.02it/s]\n"
          ],
          "name": "stderr"
        },
        {
          "output_type": "stream",
          "text": [
            "Best BLEU: 0.051 | Best Loss:2.809 |  Epoch: 1 |  BLeu： 0.051 | Loss:2.8090480985966595\n"
          ],
          "name": "stdout"
        },
        {
          "output_type": "stream",
          "text": [
            "100%|██████████| 176/176 [00:29<00:00,  6.03it/s]\n"
          ],
          "name": "stderr"
        },
        {
          "output_type": "stream",
          "text": [
            "Best BLEU: 0.055 | Best Loss:2.602 |  Epoch: 2 |  BLeu： 0.055 | Loss:2.6020196229219437\n"
          ],
          "name": "stdout"
        },
        {
          "output_type": "stream",
          "text": [
            "100%|██████████| 176/176 [00:29<00:00,  5.92it/s]\n"
          ],
          "name": "stderr"
        },
        {
          "output_type": "stream",
          "text": [
            "Best BLEU: 0.071 | Best Loss:2.499 |  Epoch: 3 |  BLeu： 0.071 | Loss:2.4991576116193426\n"
          ],
          "name": "stdout"
        },
        {
          "output_type": "stream",
          "text": [
            "100%|██████████| 176/176 [00:29<00:00,  5.95it/s]\n"
          ],
          "name": "stderr"
        },
        {
          "output_type": "stream",
          "text": [
            "Best BLEU: 0.069 | Best Loss:2.478 |  Epoch: 4 |  BLeu： 0.069 | Loss:2.4779862598939375\n"
          ],
          "name": "stdout"
        },
        {
          "output_type": "stream",
          "text": [
            "100%|██████████| 176/176 [00:29<00:00,  5.92it/s]\n"
          ],
          "name": "stderr"
        },
        {
          "output_type": "stream",
          "text": [
            "Best BLEU: 0.073 | Best Loss:2.387 |  Epoch: 5 |  BLeu： 0.073 | Loss:2.3874780427325857\n"
          ],
          "name": "stdout"
        },
        {
          "output_type": "stream",
          "text": [
            "100%|██████████| 176/176 [00:30<00:00,  5.86it/s]\n"
          ],
          "name": "stderr"
        },
        {
          "output_type": "stream",
          "text": [
            "Best BLEU: 0.073 | Best Loss:2.387 |  Epoch: 6 |  BLeu： 0.067 | Loss:2.4551965330134737\n"
          ],
          "name": "stdout"
        },
        {
          "output_type": "stream",
          "text": [
            "100%|██████████| 176/176 [00:29<00:00,  5.89it/s]\n"
          ],
          "name": "stderr"
        },
        {
          "output_type": "stream",
          "text": [
            "Best BLEU: 0.073 | Best Loss:2.387 |  Epoch: 7 |  BLeu： 0.072 | Loss:2.3980170596729624\n"
          ],
          "name": "stdout"
        },
        {
          "output_type": "stream",
          "text": [
            "100%|██████████| 176/176 [00:29<00:00,  5.89it/s]\n"
          ],
          "name": "stderr"
        },
        {
          "output_type": "stream",
          "text": [
            "Best BLEU: 0.073 | Best Loss:2.387 |  Epoch: 8 |  BLeu： 0.067 | Loss:2.4534764655611734\n"
          ],
          "name": "stdout"
        },
        {
          "output_type": "stream",
          "text": [
            "100%|██████████| 176/176 [00:29<00:00,  5.93it/s]\n"
          ],
          "name": "stderr"
        },
        {
          "output_type": "stream",
          "text": [
            "Best BLEU: 0.073 | Best Loss:2.387 |  Epoch: 9 |  BLeu： 0.073 | Loss:2.4639855934814974\n"
          ],
          "name": "stdout"
        },
        {
          "output_type": "stream",
          "text": [
            "100%|██████████| 176/176 [00:29<00:00,  5.88it/s]\n"
          ],
          "name": "stderr"
        },
        {
          "output_type": "stream",
          "text": [
            "Best BLEU: 0.073 | Best Loss:2.387 |  Epoch: 10 |  BLeu： 0.069 | Loss:2.466751300475814\n"
          ],
          "name": "stdout"
        },
        {
          "output_type": "stream",
          "text": [
            "100%|██████████| 176/176 [00:29<00:00,  5.93it/s]\n"
          ],
          "name": "stderr"
        },
        {
          "output_type": "stream",
          "text": [
            "Best BLEU: 0.073 | Best Loss:2.387 |  Epoch: 11 |  BLeu： 0.071 | Loss:2.4777889983220533\n"
          ],
          "name": "stdout"
        },
        {
          "output_type": "stream",
          "text": [
            "100%|██████████| 176/176 [00:29<00:00,  5.89it/s]\n"
          ],
          "name": "stderr"
        },
        {
          "output_type": "stream",
          "text": [
            "Best BLEU: 0.073 | Best Loss:2.387 |  Epoch: 12 |  BLeu： 0.068 | Loss:2.5359048572453586\n"
          ],
          "name": "stdout"
        },
        {
          "output_type": "stream",
          "text": [
            "100%|██████████| 176/176 [00:30<00:00,  5.82it/s]\n"
          ],
          "name": "stderr"
        },
        {
          "output_type": "stream",
          "text": [
            "Best BLEU: 0.073 | Best Loss:2.387 |  Epoch: 13 |  BLeu： 0.072 | Loss:2.5559854453260247\n"
          ],
          "name": "stdout"
        },
        {
          "output_type": "stream",
          "text": [
            "100%|██████████| 176/176 [00:29<00:00,  5.88it/s]\n"
          ],
          "name": "stderr"
        },
        {
          "output_type": "stream",
          "text": [
            "Best BLEU: 0.073 | Best Loss:2.387 |  Epoch: 14 |  BLeu： 0.076 | Loss:2.512684964320876\n"
          ],
          "name": "stdout"
        },
        {
          "output_type": "stream",
          "text": [
            "100%|██████████| 176/176 [00:30<00:00,  5.84it/s]\n"
          ],
          "name": "stderr"
        },
        {
          "output_type": "stream",
          "text": [
            "Best BLEU: 0.073 | Best Loss:2.387 |  Epoch: 15 |  BLeu： 0.070 | Loss:2.5499500957402317\n"
          ],
          "name": "stdout"
        },
        {
          "output_type": "stream",
          "text": [
            "100%|██████████| 176/176 [00:30<00:00,  5.84it/s]\n"
          ],
          "name": "stderr"
        },
        {
          "output_type": "stream",
          "text": [
            "Best BLEU: 0.073 | Best Loss:2.387 |  Epoch: 16 |  BLeu： 0.073 | Loss:2.54688517071984\n"
          ],
          "name": "stdout"
        },
        {
          "output_type": "stream",
          "text": [
            "100%|██████████| 176/176 [00:29<00:00,  5.87it/s]\n"
          ],
          "name": "stderr"
        },
        {
          "output_type": "stream",
          "text": [
            "Best BLEU: 0.073 | Best Loss:2.387 |  Epoch: 17 |  BLeu： 0.071 | Loss:2.516056165099144\n"
          ],
          "name": "stdout"
        },
        {
          "output_type": "stream",
          "text": [
            "100%|██████████| 176/176 [00:30<00:00,  5.87it/s]\n"
          ],
          "name": "stderr"
        },
        {
          "output_type": "stream",
          "text": [
            "Best BLEU: 0.073 | Best Loss:2.387 |  Epoch: 18 |  BLeu： 0.077 | Loss:2.602894050153819\n"
          ],
          "name": "stdout"
        },
        {
          "output_type": "stream",
          "text": [
            "100%|██████████| 176/176 [00:29<00:00,  5.87it/s]\n"
          ],
          "name": "stderr"
        },
        {
          "output_type": "stream",
          "text": [
            "Best BLEU: 0.073 | Best Loss:2.387 |  Epoch: 19 |  BLeu： 0.074 | Loss:2.612271010875702\n"
          ],
          "name": "stdout"
        }
      ]
    },
    {
      "cell_type": "code",
      "metadata": {
        "id": "vaJPdJBoIjHs"
      },
      "source": [
        ""
      ],
      "execution_count": null,
      "outputs": []
    }
  ]
}
